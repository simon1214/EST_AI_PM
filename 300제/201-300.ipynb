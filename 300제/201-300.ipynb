{
 "cells": [
  {
   "cell_type": "markdown",
   "id": "4c2ce78b",
   "metadata": {},
   "source": [
    "# 📖 초보자를 위한 파이썬 300제\n",
    "---\n",
    "👉 [초보자를 위한 파이썬 300제](https://wikidocs.net/book/922)"
   ]
  },
  {
   "cell_type": "markdown",
   "id": "04662e1e",
   "metadata": {
    "ExecuteTime": {
     "end_time": "2023-12-04T02:11:06.693021Z",
     "start_time": "2023-12-04T02:11:06.676055Z"
    }
   },
   "source": [
    "## 파이썬 함수"
   ]
  },
  {
   "cell_type": "markdown",
   "id": "acde8327",
   "metadata": {},
   "source": [
    "### 201.\n",
    "\"비트코인\" 문자열을 화면에 출력하는 print_coin() 함수를 정의하라."
   ]
  },
  {
   "cell_type": "code",
   "execution_count": 6,
   "id": "9dfd10a1",
   "metadata": {
    "ExecuteTime": {
     "end_time": "2023-11-30T07:33:30.971247Z",
     "start_time": "2023-11-30T07:33:30.964782Z"
    }
   },
   "outputs": [],
   "source": [
    "def print_coin() :\n",
    "    print('비트코인')"
   ]
  },
  {
   "cell_type": "markdown",
   "id": "9083a121",
   "metadata": {},
   "source": [
    "### 202.\n",
    "201번에서 정의한 함수를 호출하라."
   ]
  },
  {
   "cell_type": "code",
   "execution_count": 7,
   "id": "e6e1e96c",
   "metadata": {
    "ExecuteTime": {
     "end_time": "2023-11-30T07:33:45.796619Z",
     "start_time": "2023-11-30T07:33:45.790628Z"
    }
   },
   "outputs": [
    {
     "name": "stdout",
     "output_type": "stream",
     "text": [
      "비트코인\n"
     ]
    }
   ],
   "source": [
    "print_coin()"
   ]
  },
  {
   "cell_type": "markdown",
   "id": "060fcee4",
   "metadata": {},
   "source": [
    "### 203.\n",
    "201번에서 정의한 print_coin 함수를 100번호출하라."
   ]
  },
  {
   "cell_type": "code",
   "execution_count": 12,
   "id": "2ed808a0",
   "metadata": {
    "ExecuteTime": {
     "end_time": "2023-11-30T07:35:19.706867Z",
     "start_time": "2023-11-30T07:35:19.692024Z"
    }
   },
   "outputs": [
    {
     "name": "stdout",
     "output_type": "stream",
     "text": [
      "1\n",
      "비트코인\n",
      "2\n",
      "비트코인\n",
      "3\n",
      "비트코인\n",
      "4\n",
      "비트코인\n",
      "5\n",
      "비트코인\n",
      "6\n",
      "비트코인\n",
      "7\n",
      "비트코인\n",
      "8\n",
      "비트코인\n",
      "9\n",
      "비트코인\n",
      "10\n",
      "비트코인\n",
      "11\n",
      "비트코인\n",
      "12\n",
      "비트코인\n",
      "13\n",
      "비트코인\n",
      "14\n",
      "비트코인\n",
      "15\n",
      "비트코인\n",
      "16\n",
      "비트코인\n",
      "17\n",
      "비트코인\n",
      "18\n",
      "비트코인\n",
      "19\n",
      "비트코인\n",
      "20\n",
      "비트코인\n",
      "21\n",
      "비트코인\n",
      "22\n",
      "비트코인\n",
      "23\n",
      "비트코인\n",
      "24\n",
      "비트코인\n",
      "25\n",
      "비트코인\n",
      "26\n",
      "비트코인\n",
      "27\n",
      "비트코인\n",
      "28\n",
      "비트코인\n",
      "29\n",
      "비트코인\n",
      "30\n",
      "비트코인\n",
      "31\n",
      "비트코인\n",
      "32\n",
      "비트코인\n",
      "33\n",
      "비트코인\n",
      "34\n",
      "비트코인\n",
      "35\n",
      "비트코인\n",
      "36\n",
      "비트코인\n",
      "37\n",
      "비트코인\n",
      "38\n",
      "비트코인\n",
      "39\n",
      "비트코인\n",
      "40\n",
      "비트코인\n",
      "41\n",
      "비트코인\n",
      "42\n",
      "비트코인\n",
      "43\n",
      "비트코인\n",
      "44\n",
      "비트코인\n",
      "45\n",
      "비트코인\n",
      "46\n",
      "비트코인\n",
      "47\n",
      "비트코인\n",
      "48\n",
      "비트코인\n",
      "49\n",
      "비트코인\n",
      "50\n",
      "비트코인\n",
      "51\n",
      "비트코인\n",
      "52\n",
      "비트코인\n",
      "53\n",
      "비트코인\n",
      "54\n",
      "비트코인\n",
      "55\n",
      "비트코인\n",
      "56\n",
      "비트코인\n",
      "57\n",
      "비트코인\n",
      "58\n",
      "비트코인\n",
      "59\n",
      "비트코인\n",
      "60\n",
      "비트코인\n",
      "61\n",
      "비트코인\n",
      "62\n",
      "비트코인\n",
      "63\n",
      "비트코인\n",
      "64\n",
      "비트코인\n",
      "65\n",
      "비트코인\n",
      "66\n",
      "비트코인\n",
      "67\n",
      "비트코인\n",
      "68\n",
      "비트코인\n",
      "69\n",
      "비트코인\n",
      "70\n",
      "비트코인\n",
      "71\n",
      "비트코인\n",
      "72\n",
      "비트코인\n",
      "73\n",
      "비트코인\n",
      "74\n",
      "비트코인\n",
      "75\n",
      "비트코인\n",
      "76\n",
      "비트코인\n",
      "77\n",
      "비트코인\n",
      "78\n",
      "비트코인\n",
      "79\n",
      "비트코인\n",
      "80\n",
      "비트코인\n",
      "81\n",
      "비트코인\n",
      "82\n",
      "비트코인\n",
      "83\n",
      "비트코인\n",
      "84\n",
      "비트코인\n",
      "85\n",
      "비트코인\n",
      "86\n",
      "비트코인\n",
      "87\n",
      "비트코인\n",
      "88\n",
      "비트코인\n",
      "89\n",
      "비트코인\n",
      "90\n",
      "비트코인\n",
      "91\n",
      "비트코인\n",
      "92\n",
      "비트코인\n",
      "93\n",
      "비트코인\n",
      "94\n",
      "비트코인\n",
      "95\n",
      "비트코인\n",
      "96\n",
      "비트코인\n",
      "97\n",
      "비트코인\n",
      "98\n",
      "비트코인\n",
      "99\n",
      "비트코인\n",
      "100\n",
      "비트코인\n"
     ]
    }
   ],
   "source": [
    "for i in range(100):\n",
    "    print(i+1)\n",
    "    print_coin()"
   ]
  },
  {
   "cell_type": "markdown",
   "id": "9a59fe87",
   "metadata": {},
   "source": [
    "### 204.\n",
    "\"비트코인\" 문자열을 100번 화면에 출력하는 print_coins() 함수를 정의하라."
   ]
  },
  {
   "cell_type": "code",
   "execution_count": 14,
   "id": "eec0fdfb",
   "metadata": {
    "ExecuteTime": {
     "end_time": "2023-11-30T07:36:40.769385Z",
     "start_time": "2023-11-30T07:36:40.762533Z"
    }
   },
   "outputs": [],
   "source": [
    "def print_coins() :\n",
    "    for i in range(100):\n",
    "        print('비트코인')"
   ]
  },
  {
   "cell_type": "markdown",
   "id": "990dc15d",
   "metadata": {},
   "source": [
    "### 205.\n",
    "아래의 에러가 발생하는 이유에 대해 설명하라.\n",
    "```\n",
    "hello()\n",
    "def hello():\n",
    "    print(\"Hi\")\n",
    "```"
   ]
  },
  {
   "cell_type": "markdown",
   "id": "5b5ad63f",
   "metadata": {},
   "source": [
    "hello() 라는 함수가 선언되기 전에 사용했기 때문에 에러가 발생한다."
   ]
  },
  {
   "cell_type": "markdown",
   "id": "936f81db",
   "metadata": {},
   "source": [
    "### 206.\n",
    "아래 코드의 실행 결과를 예측하라.\n",
    "```\n",
    "def message() :\n",
    "    print(\"A\")\n",
    "    print(\"B\")\n",
    "\n",
    "message()\n",
    "print(\"C\")\n",
    "message()\n",
    "```"
   ]
  },
  {
   "cell_type": "markdown",
   "id": "6fa907cf",
   "metadata": {},
   "source": [
    "A -> B -> C -> A -> B"
   ]
  },
  {
   "cell_type": "markdown",
   "id": "f44db777",
   "metadata": {
    "ExecuteTime": {
     "end_time": "2023-11-30T07:27:53.419959Z",
     "start_time": "2023-11-30T07:27:53.410998Z"
    }
   },
   "source": [
    "### 207.\n",
    "아래 코드의 실행 결과를 예측하라. (읽기 어려운 코드의 예입니다.)\n",
    "```\n",
    "print(\"A\")\n",
    "\n",
    "def message() :\n",
    "    print(\"B\")\n",
    "\n",
    "print(\"C\")\n",
    "message()\n",
    "```"
   ]
  },
  {
   "cell_type": "markdown",
   "id": "8131f402",
   "metadata": {},
   "source": [
    "A -> C -> B"
   ]
  },
  {
   "cell_type": "markdown",
   "id": "404032f2",
   "metadata": {},
   "source": [
    "### 208.\n",
    "아래 코드의 실행 결과를 예측하라. (읽기 어려운 코드의 예입니다.)\n",
    "```\n",
    "print(\"A\")\n",
    "def message1() :\n",
    "    print(\"B\")\n",
    "print(\"C\")\n",
    "def message2() :\n",
    "    print(\"D\")\n",
    "message1()\n",
    "print(\"E\")\n",
    "message2()\n",
    "```"
   ]
  },
  {
   "cell_type": "markdown",
   "id": "eed98edb",
   "metadata": {
    "ExecuteTime": {
     "end_time": "2023-11-30T07:30:03.233709Z",
     "start_time": "2023-11-30T07:30:03.222748Z"
    }
   },
   "source": [
    "A -> C -> B -> E -> D"
   ]
  },
  {
   "cell_type": "markdown",
   "id": "cf8ae0e8",
   "metadata": {},
   "source": [
    "### 209.\n",
    "아래 코드의 실행 결과를 예측하라.\n",
    "```\n",
    "def message1():\n",
    "    print(\"A\")\n",
    "\n",
    "def message2():\n",
    "    print(\"B\")\n",
    "    message1()\n",
    "\n",
    "message2()\n",
    "```"
   ]
  },
  {
   "cell_type": "markdown",
   "id": "fd91308d",
   "metadata": {},
   "source": [
    "B -> A"
   ]
  },
  {
   "cell_type": "markdown",
   "id": "109286e6",
   "metadata": {},
   "source": [
    "### 210.\n",
    "아래 코드의 실행 결과를 예측하라.\n",
    "```\n",
    "def message1():\n",
    "    print(\"A\")\n",
    "\n",
    "def message2():\n",
    "    print(\"B\")\n",
    "\n",
    "def message3():\n",
    "    for i in range (3) :\n",
    "        message2()\n",
    "        print(\"C\")\n",
    "    message1()\n",
    "\n",
    "message3()\n",
    "```"
   ]
  },
  {
   "cell_type": "markdown",
   "id": "4b2030e7",
   "metadata": {},
   "source": [
    "B -> C -> B -> C -> B -> C -> A"
   ]
  },
  {
   "cell_type": "markdown",
   "id": "7a04982c",
   "metadata": {},
   "source": [
    "### 211.\n",
    "함수의 호출 결과를 예측하라.\n",
    "```\n",
    "def 함수(문자열) :\n",
    "    print(문자열)\n",
    "\n",
    "함수(\"안녕\")\n",
    "함수(\"Hi\")\n",
    "```"
   ]
  },
  {
   "cell_type": "markdown",
   "id": "5f76c7c2",
   "metadata": {},
   "source": [
    "\"안녕\" -> \"Hi\""
   ]
  },
  {
   "cell_type": "markdown",
   "id": "a383f094",
   "metadata": {},
   "source": [
    "### 212.\n",
    "함수의 호출 결과를 예측하라.\n",
    "```\n",
    "def 함수(a, b) :\n",
    "    print(a + b)\n",
    "\n",
    "함수(3, 4)\n",
    "함수(7, 8)\n",
    "```"
   ]
  },
  {
   "cell_type": "markdown",
   "id": "8a4fe15f",
   "metadata": {},
   "source": [
    "7 -> 15"
   ]
  },
  {
   "cell_type": "markdown",
   "id": "169f827e",
   "metadata": {},
   "source": [
    "### 213.\n",
    "아래와 같은 에러가 발생하는 원인을 설명하라.\n",
    "```\n",
    "def 함수(문자열) :\n",
    "    print(문자열)\n",
    "```\n",
    "```\n",
    "함수()\n",
    "TypeError: 함수() missing 1 required positional argument: '문자열'\n",
    "```"
   ]
  },
  {
   "cell_type": "markdown",
   "id": "0c7b1969",
   "metadata": {},
   "source": [
    "함수를 정의할 때, 문자열이라는 파라미터를 설정했으나, 함수를 실행할 때, 인자를 넣어주지 않았기 때문에 오류가 발생한다."
   ]
  },
  {
   "cell_type": "markdown",
   "id": "c8e460ad",
   "metadata": {},
   "source": [
    "### 214.\n",
    "아래와 같은 에러가 발생하는 원인을 설명하라.\n",
    "```\n",
    "def 함수(a, b) :\n",
    "    print(a + b)\n",
    "\n",
    "함수(\"안녕\", 3)\n",
    "```\n",
    "```\n",
    "TypeError: must be str, not int\n",
    "```"
   ]
  },
  {
   "cell_type": "markdown",
   "id": "124b1122",
   "metadata": {},
   "source": [
    "두개의 파라미터의 타입을 정의하지 않았기 때문에 같은 타입의 인자를 넣어줘야 한다. 문자열과 숫자 타입을 입력했기 때문에 에러가 발생한다."
   ]
  },
  {
   "cell_type": "markdown",
   "id": "5baf24d4",
   "metadata": {},
   "source": [
    "### 215.\n",
    "하나의 문자를 입력받아 문자열 끝에 \":D\" 스마일 문자열을 이어 붙여 출력하는 print_with_smile 함수를 정의하라."
   ]
  },
  {
   "cell_type": "code",
   "execution_count": 5,
   "id": "1c3e2dd8",
   "metadata": {
    "ExecuteTime": {
     "end_time": "2023-12-03T22:18:48.550521Z",
     "start_time": "2023-12-03T22:18:48.542587Z"
    }
   },
   "outputs": [],
   "source": [
    "def print_with_smile(txt) :\n",
    "    print(txt, \":D\")"
   ]
  },
  {
   "cell_type": "markdown",
   "id": "100e4f32",
   "metadata": {},
   "source": [
    "### 216.\n",
    "215에서 정의한 함수를 호출하라. 파라미터는 \"안녕하세요\"로 입력하라."
   ]
  },
  {
   "cell_type": "code",
   "execution_count": 6,
   "id": "4b17aa44",
   "metadata": {
    "ExecuteTime": {
     "end_time": "2023-12-03T22:19:36.856997Z",
     "start_time": "2023-12-03T22:19:36.849567Z"
    }
   },
   "outputs": [
    {
     "name": "stdout",
     "output_type": "stream",
     "text": [
      "안녕하세요 :D\n"
     ]
    }
   ],
   "source": [
    "print_with_smile(\"안녕하세요\")"
   ]
  },
  {
   "cell_type": "markdown",
   "id": "f6c94bf7",
   "metadata": {},
   "source": [
    "### 217.\n",
    "현재 가격을 입력 받아 상한가 (30%)를 출력하는 print_upper_price 함수를 정의하라."
   ]
  },
  {
   "cell_type": "code",
   "execution_count": 7,
   "id": "a9af9433",
   "metadata": {
    "ExecuteTime": {
     "end_time": "2023-12-03T22:20:45.695269Z",
     "start_time": "2023-12-03T22:20:45.689539Z"
    }
   },
   "outputs": [],
   "source": [
    "def print_upper_price(price) :\n",
    "    print(price * 1.3)"
   ]
  },
  {
   "cell_type": "markdown",
   "id": "7911ae73",
   "metadata": {},
   "source": [
    "### 218.\n",
    "두 개의 숫자를 입력받아 두 수의 합을 출력하는 print_sum 함수를 정의하라."
   ]
  },
  {
   "cell_type": "code",
   "execution_count": 8,
   "id": "701388a7",
   "metadata": {
    "ExecuteTime": {
     "end_time": "2023-12-03T22:21:17.283462Z",
     "start_time": "2023-12-03T22:21:17.276777Z"
    }
   },
   "outputs": [],
   "source": [
    "def print_sum(a, b) :\n",
    "    print(a + b)"
   ]
  },
  {
   "cell_type": "markdown",
   "id": "3fcd8b3f",
   "metadata": {},
   "source": [
    "### 219.\n",
    "두 개의 숫자를 입력받아 합/차/곱/나눗셈을 출력하는 print_arithmetic_operation 함수를 작성하라.\n",
    "```\n",
    "print_arithmetic_operation(3, 4)\n",
    "```\n",
    "```\n",
    "3 + 4 = 7\n",
    "3 - 4 = -1\n",
    "3 * 4 = 12\n",
    "3 / 4 = 0.75\n",
    "```"
   ]
  },
  {
   "cell_type": "code",
   "execution_count": 10,
   "id": "9fb2d20a",
   "metadata": {
    "ExecuteTime": {
     "end_time": "2023-12-03T22:24:56.084563Z",
     "start_time": "2023-12-03T22:24:56.075449Z"
    }
   },
   "outputs": [],
   "source": [
    "def print_arithmetic_operation(a, b) :\n",
    "    print(a, '+', b, '=', a + b)\n",
    "    print(a, '-', b, '=', a - b)\n",
    "    print(a, '*', b, '=', a * b)\n",
    "    print(a, '/', b, '=', a / b)"
   ]
  },
  {
   "cell_type": "markdown",
   "id": "80da9fd9",
   "metadata": {},
   "source": [
    "### 220.\n",
    "세 개의 숫자를 입력받아 가장 큰수를 출력하는 print_max 함수를 정의하라. 단 if 문을 사용해서 수를 비교하라."
   ]
  },
  {
   "cell_type": "code",
   "execution_count": 13,
   "id": "a4ec728c",
   "metadata": {
    "ExecuteTime": {
     "end_time": "2023-12-04T00:17:23.876967Z",
     "start_time": "2023-12-04T00:17:23.868653Z"
    }
   },
   "outputs": [],
   "source": [
    "def print_mas(a, b, c) :\n",
    "    result = 0\n",
    "    if a > result :\n",
    "        result = a\n",
    "    if b > result :\n",
    "        result = b\n",
    "    if c > result :\n",
    "        result = c\n",
    "    print(result)"
   ]
  },
  {
   "cell_type": "markdown",
   "id": "05e68345",
   "metadata": {},
   "source": [
    "### 221.\n",
    "입력된 문자열을 역순으로 출력하는 print_reverse 함수를 정의하라.\n",
    "```\n",
    "print_reverse(\"python\")\n",
    "```\n",
    "```\n",
    "nohtyp\n",
    "```"
   ]
  },
  {
   "cell_type": "code",
   "execution_count": 15,
   "id": "3eb545df",
   "metadata": {
    "ExecuteTime": {
     "end_time": "2023-12-04T00:20:11.824596Z",
     "start_time": "2023-12-04T00:20:11.817452Z"
    }
   },
   "outputs": [
    {
     "name": "stdout",
     "output_type": "stream",
     "text": [
      "DCBA\n"
     ]
    }
   ],
   "source": [
    "def print_reverse(txt) :\n",
    "    print(txt[::-1])\n",
    "\n",
    "print_reverse('ABCD')"
   ]
  },
  {
   "cell_type": "markdown",
   "id": "1aab7dda",
   "metadata": {},
   "source": [
    "### 222.\n",
    "성적 리스트를 입력 받아 평균을 출력하는 print_score 함수를 정의하라.\n",
    "```\n",
    "print_score ([1, 2, 3])\n",
    "```\n",
    "```\n",
    "2.0\n",
    "```"
   ]
  },
  {
   "cell_type": "code",
   "execution_count": 18,
   "id": "4cd5d6ca",
   "metadata": {
    "ExecuteTime": {
     "end_time": "2023-12-04T00:23:27.184226Z",
     "start_time": "2023-12-04T00:23:27.176153Z"
    }
   },
   "outputs": [
    {
     "name": "stdout",
     "output_type": "stream",
     "text": [
      "3.0\n"
     ]
    }
   ],
   "source": [
    "def print_score(scores) :\n",
    "    print(sum(scores) / len(scores))\n",
    "\n",
    "print_score([1, 3, 5])"
   ]
  },
  {
   "cell_type": "markdown",
   "id": "9b2c174c",
   "metadata": {},
   "source": [
    "### 223.\n",
    "하나의 리스트를 입력받아 짝수만 화면에 출력하는 print_even 함수를 정의하라.\n",
    "```\n",
    "print_even ([1, 3, 2, 10, 12, 11, 15])\n",
    "```\n",
    "```\n",
    "2\n",
    "10\n",
    "12\n",
    "```"
   ]
  },
  {
   "cell_type": "code",
   "execution_count": 19,
   "id": "16f6b218",
   "metadata": {
    "ExecuteTime": {
     "end_time": "2023-12-04T00:25:48.458205Z",
     "start_time": "2023-12-04T00:25:48.449430Z"
    }
   },
   "outputs": [
    {
     "name": "stdout",
     "output_type": "stream",
     "text": [
      "2\n",
      "4\n",
      "6\n",
      "8\n",
      "10\n"
     ]
    }
   ],
   "source": [
    "def print_even(numbers) :\n",
    "    for i in numbers:\n",
    "        if i % 2 == 0:\n",
    "            print(i)\n",
    "\n",
    "print_even([1,2,3,4,5,6,7,8,9,10])"
   ]
  },
  {
   "cell_type": "markdown",
   "id": "dd9daeb9",
   "metadata": {},
   "source": [
    "### 224.\n",
    "하나의 딕셔너리를 입력받아 딕셔너리의 key 값을 화면에 출력하는 print_keys 함수를 정의하라.\n",
    "```\n",
    "print_keys ({\"이름\":\"김말똥\", \"나이\":30, \"성별\":0})\n",
    "```\n",
    "```\n",
    "이름\n",
    "나이\n",
    "성별\n",
    "```"
   ]
  },
  {
   "cell_type": "code",
   "execution_count": 24,
   "id": "6519c1e8",
   "metadata": {
    "ExecuteTime": {
     "end_time": "2023-12-04T00:28:14.860160Z",
     "start_time": "2023-12-04T00:28:14.853361Z"
    }
   },
   "outputs": [
    {
     "name": "stdout",
     "output_type": "stream",
     "text": [
      "이름\n",
      "나이\n",
      "성별\n"
     ]
    }
   ],
   "source": [
    "def print_keys(dic) :\n",
    "    for i in dic.keys():\n",
    "        print(i)\n",
    "\n",
    "print_keys ({\"이름\":\"김말똥\", \"나이\":30, \"성별\":0})"
   ]
  },
  {
   "cell_type": "markdown",
   "id": "145d389d",
   "metadata": {},
   "source": [
    "### 225.\n",
    "my_dict에는 날짜를 키값으로 OHLC가 리스트로 저장돼 있다.\n",
    "```\n",
    "my_dict = {\"10/26\" : [100, 130, 100, 100],\n",
    "           \"10/27\" : [10, 12, 10, 11]}\n",
    "```\n",
    "my_dict와 날짜 키값을 입력받아 OHLC 리스트를 출력하는 print_value_by_key 함수를 정의하라.\n",
    "```\n",
    "print_value_by_key  (my_dict, \"10/26\")\n",
    "```\n",
    "```\n",
    "[100, 130, 100, 100]\n",
    "```"
   ]
  },
  {
   "cell_type": "code",
   "execution_count": 25,
   "id": "f3e97836",
   "metadata": {
    "ExecuteTime": {
     "end_time": "2023-12-04T00:31:23.559485Z",
     "start_time": "2023-12-04T00:31:23.551801Z"
    }
   },
   "outputs": [
    {
     "name": "stdout",
     "output_type": "stream",
     "text": [
      "[100, 130, 100, 100]\n"
     ]
    }
   ],
   "source": [
    "def print_value_by_key(dic, date) :\n",
    "    print(dic[date])\n",
    "    \n",
    "my_dict = {\"10/26\" : [100, 130, 100, 100],\n",
    "           \"10/27\" : [10, 12, 10, 11]}\n",
    "\n",
    "print_value_by_key  (my_dict, \"10/26\")"
   ]
  },
  {
   "cell_type": "markdown",
   "id": "980bd376",
   "metadata": {},
   "source": [
    "### 226.\n",
    "입력 문자열을 한 줄에 다섯글자씩 출력하는 print_5xn(string) 함수를 작성하라.\n",
    "```\n",
    "print_5xn(\"아이엠어보이유알어걸\")\n",
    "```\n",
    "```\n",
    "아이엠어보\n",
    "이유알어걸\n",
    "```"
   ]
  },
  {
   "cell_type": "code",
   "execution_count": 43,
   "id": "710435f2",
   "metadata": {
    "ExecuteTime": {
     "end_time": "2023-12-04T00:48:55.295785Z",
     "start_time": "2023-12-04T00:48:55.287486Z"
    }
   },
   "outputs": [
    {
     "name": "stdout",
     "output_type": "stream",
     "text": [
      "아이엠어보\n",
      "이유알어걸\n",
      "\n"
     ]
    }
   ],
   "source": [
    "def print_5xn(string):\n",
    "    result = []\n",
    "    if len(result) < 5:\n",
    "        for i in string:\n",
    "            result.append(i)\n",
    "            if len(result) == 5:\n",
    "                print(''.join(result))\n",
    "                result = []\n",
    "        print(''.join(result))\n",
    "\n",
    "print_5xn(\"아이엠어보이유알어걸\")"
   ]
  },
  {
   "cell_type": "markdown",
   "id": "a09bd437",
   "metadata": {},
   "source": [
    "### 227.\n",
    "문자열과 한줄에 출력될 글자 수를 입력을 받아 한 줄에 입력된 글자 수만큼 출력하는 print_mxn(string) 함수를 작성하라.\n",
    "```\n",
    "printmxn(\"아이엠어보이유알어걸\", 3)\n",
    "```\n",
    "```\n",
    "아이엠\n",
    "어보이\n",
    "유알어\n",
    "걸\n",
    "```"
   ]
  },
  {
   "cell_type": "code",
   "execution_count": 42,
   "id": "8f81b0b6",
   "metadata": {
    "ExecuteTime": {
     "end_time": "2023-12-04T00:48:46.044929Z",
     "start_time": "2023-12-04T00:48:46.035707Z"
    }
   },
   "outputs": [
    {
     "name": "stdout",
     "output_type": "stream",
     "text": [
      "아이엠\n",
      "어보이\n",
      "유알어\n",
      "걸\n"
     ]
    }
   ],
   "source": [
    "def print_mxn(string, num):\n",
    "    result = []\n",
    "    if len(result) < num:\n",
    "        for i in string:\n",
    "            result.append(i)\n",
    "            if len(result) == num:\n",
    "                print(''.join(result))\n",
    "                result = []\n",
    "        print(''.join(result))\n",
    "        \n",
    "\n",
    "print_mxn(\"아이엠어보이유알어걸\", 3)"
   ]
  },
  {
   "cell_type": "markdown",
   "id": "e12a0cda",
   "metadata": {},
   "source": [
    "### 228.\n",
    "연봉을 입력받아 월급을 계산하는 calc_monthly_salary(annual_salary) 함수를 정의하라. 회사는 연봉을 12개월로 나누어 분할 지급하며, 이 때 1원 미만은 버림한다.\n",
    "```\n",
    "calc_monthly_salary(12000000)\n",
    "```\n",
    "```\n",
    "1000000\n",
    "```"
   ]
  },
  {
   "cell_type": "code",
   "execution_count": 34,
   "id": "e360b62b",
   "metadata": {
    "ExecuteTime": {
     "end_time": "2023-12-04T00:38:54.716559Z",
     "start_time": "2023-12-04T00:38:54.707289Z"
    }
   },
   "outputs": [
    {
     "name": "stdout",
     "output_type": "stream",
     "text": [
      "1027778\n",
      "1027778\n",
      "<class 'NoneType'>\n"
     ]
    }
   ],
   "source": [
    "def calc_monthly_salary(annual_salary) :\n",
    "    print(round(annual_salary/12))\n",
    "    \n",
    "calc_monthly_salary(12333333)"
   ]
  },
  {
   "cell_type": "markdown",
   "id": "94abd6d2",
   "metadata": {},
   "source": [
    "### 229.\n",
    "아래 코드의 실행 결과를 예측하라.\n",
    "```\n",
    "def my_print (a, b) :\n",
    "    print(\"왼쪽:\", a)\n",
    "    print(\"오른쪽:\", b)\n",
    "\n",
    "my_print(a=100, b=200)\n",
    "```"
   ]
  },
  {
   "cell_type": "markdown",
   "id": "7bba4be0",
   "metadata": {},
   "source": [
    "왼쪽: 100   \n",
    "오른쪽: 200"
   ]
  },
  {
   "cell_type": "markdown",
   "id": "a2fe143e",
   "metadata": {},
   "source": [
    "### 230.\n",
    "아래 코드의 실행 결과를 예측하라.\n",
    "```\n",
    "def my_print (a, b) :\n",
    "    print(\"왼쪽:\", a)\n",
    "    print(\"오른쪽:\", b)\n",
    "\n",
    "my_print(b=100, a=200)\n",
    "```"
   ]
  },
  {
   "cell_type": "markdown",
   "id": "f20474f6",
   "metadata": {
    "ExecuteTime": {
     "end_time": "2023-12-04T00:34:48.872056Z",
     "start_time": "2023-12-04T00:34:48.863904Z"
    }
   },
   "source": [
    "왼쪽: 200   \n",
    "오른쪽: 100"
   ]
  },
  {
   "cell_type": "markdown",
   "id": "c245e25d",
   "metadata": {},
   "source": [
    "### 231.\n",
    "아래 코드를 실행한 결과를 예상하라.\n",
    "```\n",
    "def n_plus_1 (n) :\n",
    "    result = n + 1\n",
    "\n",
    "n_plus_1(3)\n",
    "print (result)\n",
    "```"
   ]
  },
  {
   "cell_type": "markdown",
   "id": "03209698",
   "metadata": {
    "ExecuteTime": {
     "end_time": "2023-12-03T22:12:03.217546Z",
     "start_time": "2023-12-03T22:12:03.194380Z"
    }
   },
   "source": [
    "result는 함수 내부의 변수이므로, 함수가 실행되었다고 해도 바깥에서 불러낼 수 없다."
   ]
  },
  {
   "cell_type": "markdown",
   "id": "c09c607d",
   "metadata": {},
   "source": [
    "### 232.\n",
    "문자열 하나를 입력받아 인터넷 주소를 반환하는 make_url 함수를 정의하라.\n",
    "```\n",
    "make_url(\"naver\")\n",
    "```\n",
    "```\n",
    "www.naver.com\n",
    "```"
   ]
  },
  {
   "cell_type": "code",
   "execution_count": 2,
   "id": "89240f1f",
   "metadata": {
    "ExecuteTime": {
     "end_time": "2023-12-03T22:10:11.073891Z",
     "start_time": "2023-12-03T22:10:11.068169Z"
    }
   },
   "outputs": [],
   "source": [
    "def make_url(txt) :\n",
    "    return (\"www.\", txt, \".com\")"
   ]
  },
  {
   "cell_type": "markdown",
   "id": "9fec3150",
   "metadata": {},
   "source": [
    "### 233.\n",
    "문자열을 입력받아 각 문자들로 구성된 리스트로 반환하는 make_list 함수를 정의하라.\n",
    "```\n",
    "make_list(\"abcd\")\n",
    "```\n",
    "```\n",
    "['a', 'b', 'c', 'd']\n",
    "```"
   ]
  },
  {
   "cell_type": "code",
   "execution_count": 1,
   "id": "482146c5",
   "metadata": {
    "ExecuteTime": {
     "end_time": "2023-12-03T22:08:15.996956Z",
     "start_time": "2023-12-03T22:08:15.984239Z"
    }
   },
   "outputs": [
    {
     "data": {
      "text/plain": [
       "['a', 's', 'd', 'f']"
      ]
     },
     "execution_count": 1,
     "metadata": {},
     "output_type": "execute_result"
    }
   ],
   "source": [
    "def make_list(txt) :\n",
    "    result = []\n",
    "    for i in txt:\n",
    "        result.append(i)\n",
    "    return result\n",
    "\n",
    "make_list('asdf')"
   ]
  },
  {
   "cell_type": "markdown",
   "id": "364a4f9a",
   "metadata": {},
   "source": [
    "### 234.\n",
    "숫자로 구성된 하나의 리스트를 입력받아, 짝수들을 추출하여 리스트로 반환하는 pickup_even 함수를 구현하라.\n",
    "```\n",
    "pickup_even([3, 4, 5, 6, 7, 8])\n",
    "```\n",
    "```\n",
    "[4, 6, 8]\n",
    "```"
   ]
  },
  {
   "cell_type": "code",
   "execution_count": 23,
   "id": "d737a7ad",
   "metadata": {
    "ExecuteTime": {
     "end_time": "2023-11-30T08:03:03.036232Z",
     "start_time": "2023-11-30T08:03:03.023710Z"
    }
   },
   "outputs": [
    {
     "data": {
      "text/plain": [
       "[2, 4, 6]"
      ]
     },
     "execution_count": 23,
     "metadata": {},
     "output_type": "execute_result"
    }
   ],
   "source": [
    "def pickup_even(a) :\n",
    "    result = []\n",
    "    for i in a:\n",
    "        if i % 2 == 0:\n",
    "            result.append(i)\n",
    "    return result\n",
    "\n",
    "pickup_even([2, 4, 5, 6, 9, 11])"
   ]
  },
  {
   "cell_type": "markdown",
   "id": "5e929db9",
   "metadata": {},
   "source": [
    "### 235.\n",
    "콤마가 포함된 문자열 숫자를 입력받아 정수로 변환하는 convert_int 함수를 정의하라.\n",
    "```\n",
    "convert_int(\"1,234,567\")\n",
    "1234567\n",
    "```"
   ]
  },
  {
   "cell_type": "code",
   "execution_count": 18,
   "id": "a2528a8e",
   "metadata": {
    "ExecuteTime": {
     "end_time": "2023-11-30T07:53:00.317025Z",
     "start_time": "2023-11-30T07:53:00.298793Z"
    }
   },
   "outputs": [
    {
     "data": {
      "text/plain": [
       "123444556"
      ]
     },
     "execution_count": 18,
     "metadata": {},
     "output_type": "execute_result"
    }
   ],
   "source": [
    "def convert_int(txt) :\n",
    "    splited = txt.split(\",\")\n",
    "    joined = \"\".join(splited)\n",
    "    num = int(joined)\n",
    "    return num\n",
    "    \n",
    "convert_int(\"123,444,556\")"
   ]
  },
  {
   "cell_type": "markdown",
   "id": "9081b837",
   "metadata": {},
   "source": [
    "### 236.\n",
    "아래 코드의 실행 결과를 예측하라.\n",
    "```\n",
    "def 함수(num) :\n",
    "    return num + 4\n",
    "\n",
    "a = 함수(10)\n",
    "b = 함수(a)\n",
    "c = 함수(b)\n",
    "print(c)\n",
    "```"
   ]
  },
  {
   "cell_type": "markdown",
   "id": "6b355d97",
   "metadata": {},
   "source": [
    "print(c) = print(함수(b)) = print(함수(함수(a))) = print(함수(함수(함수(10))))   \n",
    "따라서 22"
   ]
  },
  {
   "cell_type": "markdown",
   "id": "808c606e",
   "metadata": {},
   "source": [
    "### 237.\n",
    "아래 코드의 실행 결과를 예측하라.\n",
    "```\n",
    "def 함수(num) :\n",
    "    return num + 4\n",
    "\n",
    "c = 함수(함수(함수(10)))\n",
    "print(c)\n",
    "```"
   ]
  },
  {
   "cell_type": "markdown",
   "id": "9e64dd95",
   "metadata": {},
   "source": [
    "22"
   ]
  },
  {
   "cell_type": "markdown",
   "id": "d31bd06b",
   "metadata": {},
   "source": [
    "### 238.\n",
    "아래 코드의 실행 결과를 예측하라.\n",
    "```\n",
    "def 함수1(num) :\n",
    "    return num + 4\n",
    "\n",
    "def 함수2(num) :\n",
    "    return num * 10\n",
    "\n",
    "a = 함수1(10)\n",
    "c = 함수2(a)\n",
    "print(c)\n",
    "```"
   ]
  },
  {
   "cell_type": "markdown",
   "id": "101855a7",
   "metadata": {},
   "source": [
    "140"
   ]
  },
  {
   "cell_type": "markdown",
   "id": "c474d07c",
   "metadata": {},
   "source": [
    "### 239.\n",
    "아래 코드의 실행 결과를 예측하라.\n",
    "```\n",
    "def 함수1(num) :\n",
    "    return num + 4\n",
    "\n",
    "def 함수2(num) :\n",
    "    num = num + 2\n",
    "    return 함수1(num)\n",
    "\n",
    "c = 함수2(10)\n",
    "print(c)\n",
    "```"
   ]
  },
  {
   "cell_type": "markdown",
   "id": "4d04f6b0",
   "metadata": {},
   "source": [
    "16"
   ]
  },
  {
   "cell_type": "markdown",
   "id": "6bb53ce9",
   "metadata": {},
   "source": [
    "### 240.\n",
    "아래 코드의 실행 결과를 예측하라.\n",
    "```\n",
    "def 함수0(num) :\n",
    "    return num * 2\n",
    "\n",
    "def 함수1(num) :\n",
    "    return 함수0(num + 2)\n",
    "\n",
    "def 함수2(num) :\n",
    "    num = num + 10\n",
    "    return 함수1(num)\n",
    "\n",
    "c = 함수2(2)\n",
    "print(c)\n",
    "```"
   ]
  },
  {
   "cell_type": "markdown",
   "id": "17d7522d",
   "metadata": {},
   "source": [
    "28"
   ]
  },
  {
   "cell_type": "markdown",
   "id": "5e5057e8",
   "metadata": {},
   "source": [
    "## 파이썬 모듈"
   ]
  },
  {
   "cell_type": "markdown",
   "id": "233e9733",
   "metadata": {},
   "source": [
    "### 241. 현재시간\n",
    "datetime 모듈을 사용해서 현재 시간을 화면에 출력해보세요."
   ]
  },
  {
   "cell_type": "code",
   "execution_count": null,
   "id": "5cf0d3c7",
   "metadata": {},
   "outputs": [],
   "source": []
  }
 ],
 "metadata": {
  "hide_input": false,
  "kernelspec": {
   "display_name": "Python 3 (ipykernel)",
   "language": "python",
   "name": "python3"
  },
  "language_info": {
   "codemirror_mode": {
    "name": "ipython",
    "version": 3
   },
   "file_extension": ".py",
   "mimetype": "text/x-python",
   "name": "python",
   "nbconvert_exporter": "python",
   "pygments_lexer": "ipython3",
   "version": "3.11.5"
  },
  "toc": {
   "base_numbering": 1,
   "nav_menu": {},
   "number_sections": true,
   "sideBar": true,
   "skip_h1_title": false,
   "title_cell": "Table of Contents",
   "title_sidebar": "Contents",
   "toc_cell": false,
   "toc_position": {},
   "toc_section_display": true,
   "toc_window_display": false
  },
  "varInspector": {
   "cols": {
    "lenName": 16,
    "lenType": 16,
    "lenVar": 40
   },
   "kernels_config": {
    "python": {
     "delete_cmd_postfix": "",
     "delete_cmd_prefix": "del ",
     "library": "var_list.py",
     "varRefreshCmd": "print(var_dic_list())"
    },
    "r": {
     "delete_cmd_postfix": ") ",
     "delete_cmd_prefix": "rm(",
     "library": "var_list.r",
     "varRefreshCmd": "cat(var_dic_list()) "
    }
   },
   "types_to_exclude": [
    "module",
    "function",
    "builtin_function_or_method",
    "instance",
    "_Feature"
   ],
   "window_display": false
  }
 },
 "nbformat": 4,
 "nbformat_minor": 5
}
