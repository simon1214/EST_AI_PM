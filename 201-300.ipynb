{
 "cells": [
  {
   "cell_type": "markdown",
   "id": "acde8327",
   "metadata": {},
   "source": [
    "### 201.\n",
    "\"비트코인\" 문자열을 화면에 출력하는 print_coin() 함수를 정의하라."
   ]
  },
  {
   "cell_type": "code",
   "execution_count": 6,
   "id": "9dfd10a1",
   "metadata": {
    "ExecuteTime": {
     "end_time": "2023-11-30T07:33:30.971247Z",
     "start_time": "2023-11-30T07:33:30.964782Z"
    }
   },
   "outputs": [],
   "source": [
    "def print_coin() :\n",
    "    print('비트코인')"
   ]
  },
  {
   "cell_type": "markdown",
   "id": "9083a121",
   "metadata": {},
   "source": [
    "### 202.\n",
    "201번에서 정의한 함수를 호출하라."
   ]
  },
  {
   "cell_type": "code",
   "execution_count": 7,
   "id": "e6e1e96c",
   "metadata": {
    "ExecuteTime": {
     "end_time": "2023-11-30T07:33:45.796619Z",
     "start_time": "2023-11-30T07:33:45.790628Z"
    }
   },
   "outputs": [
    {
     "name": "stdout",
     "output_type": "stream",
     "text": [
      "비트코인\n"
     ]
    }
   ],
   "source": [
    "print_coin()"
   ]
  },
  {
   "cell_type": "markdown",
   "id": "060fcee4",
   "metadata": {},
   "source": [
    "### 203.\n",
    "201번에서 정의한 print_coin 함수를 100번호출하라."
   ]
  },
  {
   "cell_type": "code",
   "execution_count": 12,
   "id": "2ed808a0",
   "metadata": {
    "ExecuteTime": {
     "end_time": "2023-11-30T07:35:19.706867Z",
     "start_time": "2023-11-30T07:35:19.692024Z"
    }
   },
   "outputs": [
    {
     "name": "stdout",
     "output_type": "stream",
     "text": [
      "1\n",
      "비트코인\n",
      "2\n",
      "비트코인\n",
      "3\n",
      "비트코인\n",
      "4\n",
      "비트코인\n",
      "5\n",
      "비트코인\n",
      "6\n",
      "비트코인\n",
      "7\n",
      "비트코인\n",
      "8\n",
      "비트코인\n",
      "9\n",
      "비트코인\n",
      "10\n",
      "비트코인\n",
      "11\n",
      "비트코인\n",
      "12\n",
      "비트코인\n",
      "13\n",
      "비트코인\n",
      "14\n",
      "비트코인\n",
      "15\n",
      "비트코인\n",
      "16\n",
      "비트코인\n",
      "17\n",
      "비트코인\n",
      "18\n",
      "비트코인\n",
      "19\n",
      "비트코인\n",
      "20\n",
      "비트코인\n",
      "21\n",
      "비트코인\n",
      "22\n",
      "비트코인\n",
      "23\n",
      "비트코인\n",
      "24\n",
      "비트코인\n",
      "25\n",
      "비트코인\n",
      "26\n",
      "비트코인\n",
      "27\n",
      "비트코인\n",
      "28\n",
      "비트코인\n",
      "29\n",
      "비트코인\n",
      "30\n",
      "비트코인\n",
      "31\n",
      "비트코인\n",
      "32\n",
      "비트코인\n",
      "33\n",
      "비트코인\n",
      "34\n",
      "비트코인\n",
      "35\n",
      "비트코인\n",
      "36\n",
      "비트코인\n",
      "37\n",
      "비트코인\n",
      "38\n",
      "비트코인\n",
      "39\n",
      "비트코인\n",
      "40\n",
      "비트코인\n",
      "41\n",
      "비트코인\n",
      "42\n",
      "비트코인\n",
      "43\n",
      "비트코인\n",
      "44\n",
      "비트코인\n",
      "45\n",
      "비트코인\n",
      "46\n",
      "비트코인\n",
      "47\n",
      "비트코인\n",
      "48\n",
      "비트코인\n",
      "49\n",
      "비트코인\n",
      "50\n",
      "비트코인\n",
      "51\n",
      "비트코인\n",
      "52\n",
      "비트코인\n",
      "53\n",
      "비트코인\n",
      "54\n",
      "비트코인\n",
      "55\n",
      "비트코인\n",
      "56\n",
      "비트코인\n",
      "57\n",
      "비트코인\n",
      "58\n",
      "비트코인\n",
      "59\n",
      "비트코인\n",
      "60\n",
      "비트코인\n",
      "61\n",
      "비트코인\n",
      "62\n",
      "비트코인\n",
      "63\n",
      "비트코인\n",
      "64\n",
      "비트코인\n",
      "65\n",
      "비트코인\n",
      "66\n",
      "비트코인\n",
      "67\n",
      "비트코인\n",
      "68\n",
      "비트코인\n",
      "69\n",
      "비트코인\n",
      "70\n",
      "비트코인\n",
      "71\n",
      "비트코인\n",
      "72\n",
      "비트코인\n",
      "73\n",
      "비트코인\n",
      "74\n",
      "비트코인\n",
      "75\n",
      "비트코인\n",
      "76\n",
      "비트코인\n",
      "77\n",
      "비트코인\n",
      "78\n",
      "비트코인\n",
      "79\n",
      "비트코인\n",
      "80\n",
      "비트코인\n",
      "81\n",
      "비트코인\n",
      "82\n",
      "비트코인\n",
      "83\n",
      "비트코인\n",
      "84\n",
      "비트코인\n",
      "85\n",
      "비트코인\n",
      "86\n",
      "비트코인\n",
      "87\n",
      "비트코인\n",
      "88\n",
      "비트코인\n",
      "89\n",
      "비트코인\n",
      "90\n",
      "비트코인\n",
      "91\n",
      "비트코인\n",
      "92\n",
      "비트코인\n",
      "93\n",
      "비트코인\n",
      "94\n",
      "비트코인\n",
      "95\n",
      "비트코인\n",
      "96\n",
      "비트코인\n",
      "97\n",
      "비트코인\n",
      "98\n",
      "비트코인\n",
      "99\n",
      "비트코인\n",
      "100\n",
      "비트코인\n"
     ]
    }
   ],
   "source": [
    "for i in range(100):\n",
    "    print(i+1)\n",
    "    print_coin()"
   ]
  },
  {
   "cell_type": "markdown",
   "id": "9a59fe87",
   "metadata": {},
   "source": [
    "### 204.\n",
    "\"비트코인\" 문자열을 100번 화면에 출력하는 print_coins() 함수를 정의하라."
   ]
  },
  {
   "cell_type": "code",
   "execution_count": 14,
   "id": "eec0fdfb",
   "metadata": {
    "ExecuteTime": {
     "end_time": "2023-11-30T07:36:40.769385Z",
     "start_time": "2023-11-30T07:36:40.762533Z"
    }
   },
   "outputs": [],
   "source": [
    "def print_coins() :\n",
    "    for i in range(100):\n",
    "        print('비트코인')"
   ]
  },
  {
   "cell_type": "markdown",
   "id": "990dc15d",
   "metadata": {},
   "source": [
    "### 205.\n",
    "아래의 에러가 발생하는 이유에 대해 설명하라.\n",
    "```\n",
    "hello()\n",
    "def hello():\n",
    "    print(\"Hi\")\n",
    "```"
   ]
  },
  {
   "cell_type": "markdown",
   "id": "5b5ad63f",
   "metadata": {},
   "source": [
    "hello() 라는 함수가 선언되기 전에 사용했기 때문에 에러가 발생한다."
   ]
  },
  {
   "cell_type": "markdown",
   "id": "936f81db",
   "metadata": {},
   "source": [
    "### 206.\n",
    "아래 코드의 실행 결과를 예측하라.\n",
    "```\n",
    "def message() :\n",
    "    print(\"A\")\n",
    "    print(\"B\")\n",
    "\n",
    "message()\n",
    "print(\"C\")\n",
    "message()\n",
    "```"
   ]
  },
  {
   "cell_type": "markdown",
   "id": "6fa907cf",
   "metadata": {},
   "source": [
    "A -> B -> C -> A -> B"
   ]
  },
  {
   "cell_type": "markdown",
   "id": "f44db777",
   "metadata": {
    "ExecuteTime": {
     "end_time": "2023-11-30T07:27:53.419959Z",
     "start_time": "2023-11-30T07:27:53.410998Z"
    }
   },
   "source": [
    "### 207.\n",
    "아래 코드의 실행 결과를 예측하라. (읽기 어려운 코드의 예입니다.)\n",
    "```\n",
    "print(\"A\")\n",
    "\n",
    "def message() :\n",
    "    print(\"B\")\n",
    "\n",
    "print(\"C\")\n",
    "message()\n",
    "```"
   ]
  },
  {
   "cell_type": "markdown",
   "id": "8131f402",
   "metadata": {},
   "source": [
    "A -> C -> B"
   ]
  },
  {
   "cell_type": "markdown",
   "id": "404032f2",
   "metadata": {},
   "source": [
    "### 208.\n",
    "아래 코드의 실행 결과를 예측하라. (읽기 어려운 코드의 예입니다.)\n",
    "```\n",
    "print(\"A\")\n",
    "def message1() :\n",
    "    print(\"B\")\n",
    "print(\"C\")\n",
    "def message2() :\n",
    "    print(\"D\")\n",
    "message1()\n",
    "print(\"E\")\n",
    "message2()\n",
    "```"
   ]
  },
  {
   "cell_type": "markdown",
   "id": "eed98edb",
   "metadata": {
    "ExecuteTime": {
     "end_time": "2023-11-30T07:30:03.233709Z",
     "start_time": "2023-11-30T07:30:03.222748Z"
    }
   },
   "source": [
    "A -> C -> B -> E -> D"
   ]
  },
  {
   "cell_type": "markdown",
   "id": "cf8ae0e8",
   "metadata": {},
   "source": [
    "### 209.\n",
    "아래 코드의 실행 결과를 예측하라.\n",
    "```\n",
    "def message1():\n",
    "    print(\"A\")\n",
    "\n",
    "def message2():\n",
    "    print(\"B\")\n",
    "    message1()\n",
    "\n",
    "message2()\n",
    "```"
   ]
  },
  {
   "cell_type": "markdown",
   "id": "fd91308d",
   "metadata": {},
   "source": [
    "B -> A"
   ]
  },
  {
   "cell_type": "markdown",
   "id": "109286e6",
   "metadata": {},
   "source": [
    "### 210.\n",
    "아래 코드의 실행 결과를 예측하라.\n",
    "```\n",
    "def message1():\n",
    "    print(\"A\")\n",
    "\n",
    "def message2():\n",
    "    print(\"B\")\n",
    "\n",
    "def message3():\n",
    "    for i in range (3) :\n",
    "        message2()\n",
    "        print(\"C\")\n",
    "    message1()\n",
    "\n",
    "message3()\n",
    "```"
   ]
  },
  {
   "cell_type": "markdown",
   "id": "4b2030e7",
   "metadata": {},
   "source": [
    "B -> C -> B -> C -> B -> C -> A"
   ]
  },
  {
   "cell_type": "code",
   "execution_count": null,
   "id": "21425059",
   "metadata": {},
   "outputs": [],
   "source": []
  },
  {
   "cell_type": "code",
   "execution_count": null,
   "id": "2477ca3d",
   "metadata": {},
   "outputs": [],
   "source": []
  },
  {
   "cell_type": "code",
   "execution_count": null,
   "id": "89240f1f",
   "metadata": {},
   "outputs": [],
   "source": []
  },
  {
   "cell_type": "markdown",
   "id": "9fec3150",
   "metadata": {},
   "source": [
    "### 233.\n",
    "문자열을 입력받아 각 문자들로 구성된 리스트로 반환하는 make_list 함수를 정의하라.\n",
    "```\n",
    "make_list(\"abcd\")\n",
    "```\n",
    "```\n",
    "['a', 'b', 'c', 'd']\n",
    "```"
   ]
  },
  {
   "cell_type": "code",
   "execution_count": 25,
   "id": "482146c5",
   "metadata": {
    "ExecuteTime": {
     "end_time": "2023-11-30T08:14:10.420154Z",
     "start_time": "2023-11-30T08:14:10.404377Z"
    }
   },
   "outputs": [
    {
     "data": {
      "text/plain": [
       "['asdf']"
      ]
     },
     "execution_count": 25,
     "metadata": {},
     "output_type": "execute_result"
    }
   ],
   "source": [
    "def make_list(txt) :\n",
    "    return txt.split(' ')\n",
    "\n",
    "make_list('asdf')"
   ]
  },
  {
   "cell_type": "markdown",
   "id": "364a4f9a",
   "metadata": {},
   "source": [
    "### 234.\n",
    "숫자로 구성된 하나의 리스트를 입력받아, 짝수들을 추출하여 리스트로 반환하는 pickup_even 함수를 구현하라.\n",
    "```\n",
    "pickup_even([3, 4, 5, 6, 7, 8])\n",
    "```\n",
    "```\n",
    "[4, 6, 8]\n",
    "```"
   ]
  },
  {
   "cell_type": "code",
   "execution_count": 23,
   "id": "d737a7ad",
   "metadata": {
    "ExecuteTime": {
     "end_time": "2023-11-30T08:03:03.036232Z",
     "start_time": "2023-11-30T08:03:03.023710Z"
    }
   },
   "outputs": [
    {
     "data": {
      "text/plain": [
       "[2, 4, 6]"
      ]
     },
     "execution_count": 23,
     "metadata": {},
     "output_type": "execute_result"
    }
   ],
   "source": [
    "def pickup_even(a) :\n",
    "    result = []\n",
    "    for i in a:\n",
    "        if i % 2 == 0:\n",
    "            result.append(i)\n",
    "    return result\n",
    "\n",
    "pickup_even([2, 4, 5, 6, 9, 11])"
   ]
  },
  {
   "cell_type": "markdown",
   "id": "5e929db9",
   "metadata": {},
   "source": [
    "### 235.\n",
    "콤마가 포함된 문자열 숫자를 입력받아 정수로 변환하는 convert_int 함수를 정의하라.\n",
    "```\n",
    "convert_int(\"1,234,567\")\n",
    "1234567\n",
    "```"
   ]
  },
  {
   "cell_type": "code",
   "execution_count": 18,
   "id": "a2528a8e",
   "metadata": {
    "ExecuteTime": {
     "end_time": "2023-11-30T07:53:00.317025Z",
     "start_time": "2023-11-30T07:53:00.298793Z"
    }
   },
   "outputs": [
    {
     "data": {
      "text/plain": [
       "123444556"
      ]
     },
     "execution_count": 18,
     "metadata": {},
     "output_type": "execute_result"
    }
   ],
   "source": [
    "def convert_int(txt) :\n",
    "    splited = txt.split(\",\")\n",
    "    joined = \"\".join(splited)\n",
    "    num = int(joined)\n",
    "    return num\n",
    "    \n",
    "convert_int(\"123,444,556\")"
   ]
  },
  {
   "cell_type": "markdown",
   "id": "9081b837",
   "metadata": {},
   "source": [
    "### 236.\n",
    "아래 코드의 실행 결과를 예측하라.\n",
    "```\n",
    "def 함수(num) :\n",
    "    return num + 4\n",
    "\n",
    "a = 함수(10)\n",
    "b = 함수(a)\n",
    "c = 함수(b)\n",
    "print(c)\n",
    "```"
   ]
  },
  {
   "cell_type": "markdown",
   "id": "6b355d97",
   "metadata": {},
   "source": [
    "print(c) = print(함수(b)) = print(함수(함수(a))) = print(함수(함수(함수(10))))   \n",
    "따라서 22"
   ]
  },
  {
   "cell_type": "markdown",
   "id": "808c606e",
   "metadata": {},
   "source": [
    "### 237.\n",
    "아래 코드의 실행 결과를 예측하라.\n",
    "```\n",
    "def 함수(num) :\n",
    "    return num + 4\n",
    "\n",
    "c = 함수(함수(함수(10)))\n",
    "print(c)\n",
    "```"
   ]
  },
  {
   "cell_type": "markdown",
   "id": "9e64dd95",
   "metadata": {},
   "source": [
    "22"
   ]
  },
  {
   "cell_type": "markdown",
   "id": "d31bd06b",
   "metadata": {},
   "source": [
    "### 238.\n",
    "아래 코드의 실행 결과를 예측하라.\n",
    "```\n",
    "def 함수1(num) :\n",
    "    return num + 4\n",
    "\n",
    "def 함수2(num) :\n",
    "    return num * 10\n",
    "\n",
    "a = 함수1(10)\n",
    "c = 함수2(a)\n",
    "print(c)\n",
    "```"
   ]
  },
  {
   "cell_type": "markdown",
   "id": "101855a7",
   "metadata": {},
   "source": [
    "140"
   ]
  },
  {
   "cell_type": "markdown",
   "id": "c474d07c",
   "metadata": {},
   "source": [
    "### 239.\n",
    "아래 코드의 실행 결과를 예측하라.\n",
    "```\n",
    "def 함수1(num) :\n",
    "    return num + 4\n",
    "\n",
    "def 함수2(num) :\n",
    "    num = num + 2\n",
    "    return 함수1(num)\n",
    "\n",
    "c = 함수2(10)\n",
    "print(c)\n",
    "```"
   ]
  },
  {
   "cell_type": "markdown",
   "id": "4d04f6b0",
   "metadata": {},
   "source": [
    "16"
   ]
  },
  {
   "cell_type": "markdown",
   "id": "6bb53ce9",
   "metadata": {},
   "source": [
    "### 2.40\n",
    "아래 코드의 실행 결과를 예측하라.\n",
    "```\n",
    "def 함수0(num) :\n",
    "    return num * 2\n",
    "\n",
    "def 함수1(num) :\n",
    "    return 함수0(num + 2)\n",
    "\n",
    "def 함수2(num) :\n",
    "    num = num + 10\n",
    "    return 함수1(num)\n",
    "\n",
    "c = 함수2(2)\n",
    "print(c)\n",
    "```"
   ]
  },
  {
   "cell_type": "markdown",
   "id": "17d7522d",
   "metadata": {},
   "source": [
    "28"
   ]
  },
  {
   "cell_type": "code",
   "execution_count": null,
   "id": "144d0063",
   "metadata": {},
   "outputs": [],
   "source": []
  }
 ],
 "metadata": {
  "hide_input": false,
  "kernelspec": {
   "display_name": "Python 3 (ipykernel)",
   "language": "python",
   "name": "python3"
  },
  "language_info": {
   "codemirror_mode": {
    "name": "ipython",
    "version": 3
   },
   "file_extension": ".py",
   "mimetype": "text/x-python",
   "name": "python",
   "nbconvert_exporter": "python",
   "pygments_lexer": "ipython3",
   "version": "3.11.5"
  },
  "toc": {
   "base_numbering": 1,
   "nav_menu": {},
   "number_sections": true,
   "sideBar": true,
   "skip_h1_title": false,
   "title_cell": "Table of Contents",
   "title_sidebar": "Contents",
   "toc_cell": false,
   "toc_position": {},
   "toc_section_display": true,
   "toc_window_display": false
  },
  "varInspector": {
   "cols": {
    "lenName": 16,
    "lenType": 16,
    "lenVar": 40
   },
   "kernels_config": {
    "python": {
     "delete_cmd_postfix": "",
     "delete_cmd_prefix": "del ",
     "library": "var_list.py",
     "varRefreshCmd": "print(var_dic_list())"
    },
    "r": {
     "delete_cmd_postfix": ") ",
     "delete_cmd_prefix": "rm(",
     "library": "var_list.r",
     "varRefreshCmd": "cat(var_dic_list()) "
    }
   },
   "types_to_exclude": [
    "module",
    "function",
    "builtin_function_or_method",
    "instance",
    "_Feature"
   ],
   "window_display": false
  }
 },
 "nbformat": 4,
 "nbformat_minor": 5
}
