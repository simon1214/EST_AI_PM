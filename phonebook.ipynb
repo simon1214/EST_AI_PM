{
 "cells": [
  {
   "cell_type": "markdown",
   "id": "2c7f21e0",
   "metadata": {},
   "source": [
    "# 전화번호 프로그램 만들기\n",
    "* 홍길동 010-123-4567\n",
    "* 기능1 : 연락처 추가\n",
    "* 기능2 : 연락처 전체 보기\n",
    "* 기능3 : 검색, 이름을 입력받아서 전화번호 조회\n",
    "* 기능4 : 수정, 이름을 입력받아서 전화번호 입력수정\n",
    "* 기능5 : 삭제, 이름 입력받아서 삭제\n",
    "* 기능6 : 프로그램 종료"
   ]
  },
  {
   "cell_type": "code",
   "execution_count": 2,
   "id": "7a4174f5",
   "metadata": {
    "ExecuteTime": {
     "end_time": "2023-11-29T04:34:22.894264Z",
     "start_time": "2023-11-29T04:33:51.584759Z"
    }
   },
   "outputs": [
    {
     "name": "stdout",
     "output_type": "stream",
     "text": [
      "기능 입력: (추가, 검색, 수정, 삭제, 전체 조회, 종료)추가\n",
      "이름을 입력해주세요: 홍길동\n",
      "이미 등록된 연락처입니다. 수정하시겠습니까?\n",
      "네 / 아니오 로 입력해주세요: 아니오\n",
      "초기 메뉴로 돌아갑니다.\n",
      "기능 입력: (추가, 검색, 수정, 삭제, 전체 조회, 종료)수정\n",
      "이름을 입력해주세요: 이현석\n",
      "연락처에 없는 이름입니다.\n",
      "기능 입력: (추가, 검색, 수정, 삭제, 전체 조회, 종료)삭제\n",
      "이름을 입력해주세요: 이현석\n",
      "연락처에 없는 이름입니다.\n",
      "기능 입력: (추가, 검색, 수정, 삭제, 전체 조회, 종료)전체 조회\n",
      "{'홍길동': '010-123-4567'}\n",
      "기능 입력: (추가, 검색, 수정, 삭제, 전체 조회, 종료)종료\n",
      "프로그램을 종료합니다.\n"
     ]
    }
   ],
   "source": [
    "phonebook = {'홍길동': '010-123-4567'}\n",
    "command_list = ['추가', '검색', '수정', '삭제', '전체 조회', '종료']\n",
    "\n",
    "while True:\n",
    "    command = input('기능 입력: (추가, 검색, 수정, 삭제, 전체 조회, 종료)')\n",
    "    \n",
    "    if command == '추가':\n",
    "        name = input('이름을 입력해주세요: ')\n",
    "        \n",
    "        if name in phonebook:\n",
    "            print('이미 등록된 연락처입니다. 수정하시겠습니까?')\n",
    "            second_command = input('네 / 아니오 로 입력해주세요: ')\n",
    "            \n",
    "            if second_command == '네':\n",
    "                phone = input('번호를 입력해주세요: ')\n",
    "                phonebook[name] = phone\n",
    "            else:\n",
    "                print('초기 메뉴로 돌아갑니다.')\n",
    "                \n",
    "    elif command == '검색':\n",
    "        name = input('이름을 입력해주세요: ')\n",
    "        \n",
    "        if name in phonebook:\n",
    "            print(name, phonebook[name])\n",
    "        else:\n",
    "            print('전화번호부에 없는 이름입니다.')\n",
    "            \n",
    "    elif command == '수정':\n",
    "        name = input('이름을 입력해주세요: ')\n",
    "        \n",
    "        if name in phonebook:\n",
    "            phone = input('번호를 입력해주세요: ')\n",
    "            phonebook[name] = phone\n",
    "            print(phonebook[name], '의 연락처가 ', phone, '로 수정되었습니다.')\n",
    "        else:\n",
    "            print('연락처에 없는 이름입니다.')\n",
    "            \n",
    "    elif command == '삭제':\n",
    "        name = input('이름을 입력해주세요: ')\n",
    "        \n",
    "        if name in phonebook:\n",
    "            del(phonebook[name])\n",
    "            print('연락처가 삭제되었습니다.')\n",
    "        else:\n",
    "            print('연락처에 없는 이름입니다.')\n",
    "            \n",
    "    elif command == '전체 조회':\n",
    "        print(phonebook)\n",
    "        \n",
    "    elif command not in command_list:\n",
    "        print('제공되는 기능이 아닙니다.')\n",
    "        \n",
    "    elif command == '종료':\n",
    "        print('프로그램을 종료합니다.')\n",
    "        \n",
    "        break"
   ]
  }
 ],
 "metadata": {
  "hide_input": false,
  "kernelspec": {
   "display_name": "Python 3 (ipykernel)",
   "language": "python",
   "name": "python3"
  },
  "language_info": {
   "codemirror_mode": {
    "name": "ipython",
    "version": 3
   },
   "file_extension": ".py",
   "mimetype": "text/x-python",
   "name": "python",
   "nbconvert_exporter": "python",
   "pygments_lexer": "ipython3",
   "version": "3.11.5"
  },
  "toc": {
   "base_numbering": 1,
   "nav_menu": {},
   "number_sections": true,
   "sideBar": true,
   "skip_h1_title": false,
   "title_cell": "Table of Contents",
   "title_sidebar": "Contents",
   "toc_cell": false,
   "toc_position": {},
   "toc_section_display": true,
   "toc_window_display": false
  },
  "varInspector": {
   "cols": {
    "lenName": 16,
    "lenType": 16,
    "lenVar": 40
   },
   "kernels_config": {
    "python": {
     "delete_cmd_postfix": "",
     "delete_cmd_prefix": "del ",
     "library": "var_list.py",
     "varRefreshCmd": "print(var_dic_list())"
    },
    "r": {
     "delete_cmd_postfix": ") ",
     "delete_cmd_prefix": "rm(",
     "library": "var_list.r",
     "varRefreshCmd": "cat(var_dic_list()) "
    }
   },
   "types_to_exclude": [
    "module",
    "function",
    "builtin_function_or_method",
    "instance",
    "_Feature"
   ],
   "window_display": false
  }
 },
 "nbformat": 4,
 "nbformat_minor": 5
}
