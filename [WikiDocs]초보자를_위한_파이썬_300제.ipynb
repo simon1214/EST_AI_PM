{
 "cells": [
  {
   "cell_type": "markdown",
   "id": "186a1907",
   "metadata": {},
   "source": [
    "# 📖 초보자를 위한 파이썬 300제\n",
    "---\n",
    "👉 [초보자를 위한 파이썬 300제](https://wikidocs.net/book/922)"
   ]
  },
  {
   "cell_type": "markdown",
   "id": "fde60ff6",
   "metadata": {},
   "source": [
    "## 01. 파이썬 시작하기"
   ]
  },
  {
   "cell_type": "markdown",
   "id": "bf21aa8a",
   "metadata": {},
   "source": [
    "### 001. print 기초   \n",
    "화면에 `Hello World` 문자열을 출력하세요."
   ]
  },
  {
   "cell_type": "code",
   "execution_count": 1,
   "id": "1ebc949d",
   "metadata": {
    "ExecuteTime": {
     "end_time": "2023-11-24T07:16:01.953582Z",
     "start_time": "2023-11-24T07:16:01.947615Z"
    },
    "hide_input": false
   },
   "outputs": [
    {
     "name": "stdout",
     "output_type": "stream",
     "text": [
      "Hello World\n"
     ]
    }
   ],
   "source": [
    "print('Hello World')"
   ]
  },
  {
   "cell_type": "markdown",
   "id": "c8276e0c",
   "metadata": {},
   "source": [
    "### 002. print 기초   \n",
    "화면에 `Mary's cosmetics`을 출력하세요. (중간에 '가 있음에 주의하세요)"
   ]
  },
  {
   "cell_type": "code",
   "execution_count": 2,
   "id": "ff4c80f7",
   "metadata": {
    "ExecuteTime": {
     "end_time": "2023-11-24T07:17:35.952769Z",
     "start_time": "2023-11-24T07:17:35.945793Z"
    }
   },
   "outputs": [
    {
     "name": "stdout",
     "output_type": "stream",
     "text": [
      "Mary's cosmetics\n"
     ]
    }
   ],
   "source": [
    "print(\"Mary's cosmetics\")"
   ]
  },
  {
   "cell_type": "markdown",
   "id": "d2ec07a6",
   "metadata": {},
   "source": [
    "### 003. print 기초   \n",
    "화면에 아래 문장을 출력하세요. (중간에 \"가 있음에 주의하세요.)\n",
    "\n",
    "`\n",
    "신씨가 소리질렀다. \"도둑이야\".\n",
    "`"
   ]
  },
  {
   "cell_type": "code",
   "execution_count": 3,
   "id": "fe44ba34",
   "metadata": {
    "ExecuteTime": {
     "end_time": "2023-11-24T07:19:36.465223Z",
     "start_time": "2023-11-24T07:19:36.458656Z"
    }
   },
   "outputs": [
    {
     "name": "stdout",
     "output_type": "stream",
     "text": [
      "신씨가 소리질렀다. \"도둑이야\"\n"
     ]
    }
   ],
   "source": [
    "print('신씨가 소리질렀다. \"도둑이야\"')"
   ]
  },
  {
   "cell_type": "markdown",
   "id": "489b1a98",
   "metadata": {},
   "source": [
    "### 004. print 기초   \n",
    "화면에 `C:\\Windows`를 출력하세요."
   ]
  },
  {
   "cell_type": "code",
   "execution_count": 4,
   "id": "74708581",
   "metadata": {
    "ExecuteTime": {
     "end_time": "2023-11-24T07:22:25.773874Z",
     "start_time": "2023-11-24T07:22:25.767144Z"
    }
   },
   "outputs": [
    {
     "name": "stdout",
     "output_type": "stream",
     "text": [
      "C:\\Windows\n"
     ]
    }
   ],
   "source": [
    "print(\"C:\\Windows\")"
   ]
  },
  {
   "cell_type": "markdown",
   "id": "07e1351d",
   "metadata": {},
   "source": [
    "### 005. print 탭과 줄바꿈   \n",
    "다음 코드를 실행해보고 \\t와 \\n의 역할을 설명해보세요.\n",
    "\n",
    "`print(\"안녕하세요.\\n만나서\\t\\t반갑습니다.\")`"
   ]
  },
  {
   "cell_type": "code",
   "execution_count": 10,
   "id": "d6bc26dd",
   "metadata": {
    "ExecuteTime": {
     "end_time": "2023-11-24T07:44:52.442781Z",
     "start_time": "2023-11-24T07:44:52.434214Z"
    }
   },
   "outputs": [
    {
     "name": "stdout",
     "output_type": "stream",
     "text": [
      "안녕하세요.\n",
      "만나서\t\t반갑습니다.\n"
     ]
    }
   ],
   "source": [
    "print(\"안녕하세요.\\n만나서\\t\\t반갑습니다.\")"
   ]
  },
  {
   "cell_type": "markdown",
   "id": "d6a7190a",
   "metadata": {
    "ExecuteTime": {
     "end_time": "2023-11-24T07:27:18.285310Z",
     "start_time": "2023-11-24T07:27:18.269315Z"
    },
    "hide_input": false
   },
   "source": [
    "\\n : 줄 바꿈   \n",
    "\\t : 탭"
   ]
  },
  {
   "cell_type": "markdown",
   "id": "10fde902",
   "metadata": {},
   "source": [
    "### 006. print 여러 데이터 출력   \n",
    "print 함수에 두 개의 단어를 입력한 예제입니다. 아래 코드의 출력 결과를 예상해봅시다.\n",
    "\n",
    "`print (\"오늘은\", \"일요일\")`"
   ]
  },
  {
   "cell_type": "markdown",
   "id": "4ada0026",
   "metadata": {},
   "source": [
    "오늘은일요일"
   ]
  },
  {
   "cell_type": "code",
   "execution_count": 12,
   "id": "007bb87c",
   "metadata": {
    "ExecuteTime": {
     "end_time": "2023-11-24T07:49:37.934397Z",
     "start_time": "2023-11-24T07:49:37.929116Z"
    }
   },
   "outputs": [
    {
     "name": "stdout",
     "output_type": "stream",
     "text": [
      "정답 : 오늘은 일요일\n"
     ]
    }
   ],
   "source": [
    "print(\"정답 : \"\"오늘은\",\"일요일\")"
   ]
  },
  {
   "cell_type": "markdown",
   "id": "a9a69a73",
   "metadata": {},
   "source": [
    "### 007. print 기초   \n",
    "print() 함수를 사용하여 다음과 같이 출력하세요.\n",
    "\n",
    "`naver;kakao;sk;samsung`"
   ]
  },
  {
   "cell_type": "code",
   "execution_count": 13,
   "id": "413d282b",
   "metadata": {
    "ExecuteTime": {
     "end_time": "2023-11-24T07:50:49.419830Z",
     "start_time": "2023-11-24T07:50:49.412731Z"
    }
   },
   "outputs": [
    {
     "name": "stdout",
     "output_type": "stream",
     "text": [
      "naver;kakao;sk;samsung\n"
     ]
    }
   ],
   "source": [
    "print('naver;kakao;sk;samsung')"
   ]
  },
  {
   "cell_type": "code",
   "execution_count": 14,
   "id": "ff931240",
   "metadata": {
    "ExecuteTime": {
     "end_time": "2023-11-24T07:51:47.766524Z",
     "start_time": "2023-11-24T07:51:47.759237Z"
    }
   },
   "outputs": [
    {
     "name": "stdout",
     "output_type": "stream",
     "text": [
      "naver;kakao;sk;samsung\n"
     ]
    }
   ],
   "source": [
    "print('naver','kakao','sk','samsung',sep=';')"
   ]
  },
  {
   "cell_type": "markdown",
   "id": "cfc0dd3e",
   "metadata": {},
   "source": [
    "### 008. print 기초\n",
    "print() 함수를 사용하여 다음과 같이 출력하세요.\n",
    "\n",
    "`naver/kakao/sk/samsung`"
   ]
  },
  {
   "cell_type": "code",
   "execution_count": 15,
   "id": "f7fda37d",
   "metadata": {
    "ExecuteTime": {
     "end_time": "2023-11-24T07:55:00.937946Z",
     "start_time": "2023-11-24T07:55:00.931386Z"
    },
    "scrolled": true
   },
   "outputs": [
    {
     "name": "stdout",
     "output_type": "stream",
     "text": [
      "naver/kakao/sk/samsung\n"
     ]
    }
   ],
   "source": [
    "print('naver','kakao','sk','samsung',sep='/')"
   ]
  },
  {
   "cell_type": "markdown",
   "id": "bc25fdb0",
   "metadata": {},
   "source": [
    "### 009. print 줄바꿈\n",
    "다음 코드를 수정하여 줄바꿈이 없이 출력하세요. (힌트: end='') print 함수는 두 번 사용합니다. 세미콜론 (;)은 한줄에 여러 개의 명령을 작성하기 위해 사용합니다.\n",
    "\n",
    "```print(\"first\");print(\"second\")```"
   ]
  },
  {
   "cell_type": "code",
   "execution_count": 17,
   "id": "f1c22ab9",
   "metadata": {
    "ExecuteTime": {
     "end_time": "2023-11-24T07:57:28.012897Z",
     "start_time": "2023-11-24T07:57:28.005726Z"
    }
   },
   "outputs": [
    {
     "name": "stdout",
     "output_type": "stream",
     "text": [
      "firstsecond\n"
     ]
    }
   ],
   "source": [
    "print(\"first\", end=\"\");print(\"second\")"
   ]
  },
  {
   "cell_type": "markdown",
   "id": "4c6133ba",
   "metadata": {},
   "source": [
    "### 010. 연산 결과 출력\n",
    "5/3의 결과를 화면에 출력하세요."
   ]
  },
  {
   "cell_type": "code",
   "execution_count": 18,
   "id": "ab9c40a3",
   "metadata": {
    "ExecuteTime": {
     "end_time": "2023-11-24T07:59:13.277957Z",
     "start_time": "2023-11-24T07:59:13.270417Z"
    }
   },
   "outputs": [
    {
     "name": "stdout",
     "output_type": "stream",
     "text": [
      "1.6666666666666667\n"
     ]
    }
   ],
   "source": [
    "print(5/3)"
   ]
  },
  {
   "cell_type": "markdown",
   "id": "ef258682",
   "metadata": {},
   "source": [
    "## 02. 파이썬 변수"
   ]
  },
  {
   "cell_type": "markdown",
   "id": "50de91ef",
   "metadata": {},
   "source": [
    "### 011. 변수 사용하기\n",
    "삼성전자라는 변수로 50,000원을 바인딩해보세요. 삼성전자 주식 10주를 보유하고 있을 때 총 평가금액을 출력하세요."
   ]
  },
  {
   "cell_type": "code",
   "execution_count": 23,
   "id": "e17147b3",
   "metadata": {
    "ExecuteTime": {
     "end_time": "2023-11-24T08:06:57.880565Z",
     "start_time": "2023-11-24T08:06:57.873851Z"
    }
   },
   "outputs": [
    {
     "name": "stdout",
     "output_type": "stream",
     "text": [
      "500000\n"
     ]
    }
   ],
   "source": [
    "삼성전자 = 50000\n",
    "총평가금액 = 삼성전자 * 10\n",
    "print(총평가금액)"
   ]
  },
  {
   "cell_type": "markdown",
   "id": "693d62b1",
   "metadata": {},
   "source": [
    "### 012. 변수 사용하기\n",
    "다음 표는 삼성전자의 일부 투자정보입니다. 변수를 사용해서 시가총액, 현재가, PER 등을 바인딩해보세요.\n",
    "\n",
    "|항목|값|\n",
    "|---|---|\n",
    "|시가총액|298조|\n",
    "|현재가|50,000원|\n",
    "|PER|15.79|"
   ]
  },
  {
   "cell_type": "code",
   "execution_count": 25,
   "id": "2ef4b7de",
   "metadata": {
    "ExecuteTime": {
     "end_time": "2023-11-24T08:10:39.745207Z",
     "start_time": "2023-11-24T08:10:39.736408Z"
    }
   },
   "outputs": [
    {
     "name": "stdout",
     "output_type": "stream",
     "text": [
      "298조 50000 15.79\n"
     ]
    }
   ],
   "source": [
    "시가총액 = '298조'\n",
    "현재가 = 50000\n",
    "PER = 15.79\n",
    "print (시가총액, 현재가, PER)"
   ]
  },
  {
   "cell_type": "markdown",
   "id": "f098bd6f",
   "metadata": {},
   "source": [
    "### 013. 문자열 출력\n",
    "변수 s와 t에는 각각 문자열이 바인딩 되어있습니다.\n",
    "\n",
    "```\n",
    ">> s = \"hello\"\n",
    ">> t = \"python\"\n",
    "```\n",
    "\n",
    "두 변수를 이용하여 아래와 같이 출력해보세요.\n",
    "\n",
    "```\n",
    "실행 예:   \n",
    "hello! python\n",
    "```"
   ]
  },
  {
   "cell_type": "code",
   "execution_count": 31,
   "id": "581bc2f3",
   "metadata": {
    "ExecuteTime": {
     "end_time": "2023-11-24T08:18:44.604101Z",
     "start_time": "2023-11-24T08:18:44.597501Z"
    }
   },
   "outputs": [
    {
     "name": "stdout",
     "output_type": "stream",
     "text": [
      "hello! python\n"
     ]
    }
   ],
   "source": [
    "s = \"hello\"\n",
    "t = \"python\"\n",
    "\n",
    "print(s+'!', t)"
   ]
  },
  {
   "cell_type": "markdown",
   "id": "7ebc7b24",
   "metadata": {},
   "source": [
    "### 014. 파이썬을 이용한 값 계산\n",
    "아래 코드의 실행 결과를 예상해보세요.\n",
    "\n",
    "`>> 2 + 2 * 3` "
   ]
  },
  {
   "cell_type": "markdown",
   "id": "b2deb804",
   "metadata": {},
   "source": [
    "8"
   ]
  },
  {
   "cell_type": "markdown",
   "id": "250dc4b1",
   "metadata": {},
   "source": [
    "### 015. type 함수\n",
    "type() 함수는 데이터 타입을 판별합니다. 변수 a에는 128 숫자가 바인딩돼 있어 type 함수가 int (정수)형임을 알려줍니다.\n",
    "\n",
    "```\n",
    ">> a = 128\n",
    ">> print (type(a))\n",
    "<class 'int'>\n",
    "```\n",
    "\n",
    "아래 변수에 바인딩된 값의 타입을 판별해보세요.\n",
    "\n",
    "```\n",
    ">> a = \"132\"\n",
    "```"
   ]
  },
  {
   "cell_type": "code",
   "execution_count": 33,
   "id": "adb63d46",
   "metadata": {
    "ExecuteTime": {
     "end_time": "2023-11-24T08:23:36.821637Z",
     "start_time": "2023-11-24T08:23:36.815489Z"
    }
   },
   "outputs": [
    {
     "name": "stdout",
     "output_type": "stream",
     "text": [
      "<class 'str'>\n"
     ]
    }
   ],
   "source": [
    "a = \"132\"\n",
    "print(type(a))"
   ]
  },
  {
   "cell_type": "markdown",
   "id": "7a6489ac",
   "metadata": {},
   "source": [
    "### 016. 문자열을 정수로 변환\n",
    "문자열 '720'를 정수형으로 변환해보세요.\n",
    "```\n",
    ">> num_str = \"720\"\n",
    "```"
   ]
  },
  {
   "cell_type": "code",
   "execution_count": 35,
   "id": "98ae60b0",
   "metadata": {
    "ExecuteTime": {
     "end_time": "2023-11-24T08:33:21.062445Z",
     "start_time": "2023-11-24T08:33:21.054307Z"
    }
   },
   "outputs": [
    {
     "name": "stdout",
     "output_type": "stream",
     "text": [
      "720 <class 'int'>\n"
     ]
    }
   ],
   "source": [
    "num_str = \"720\"\n",
    "num_int = int(num_str)\n",
    "print(num_int, type(num_int))"
   ]
  },
  {
   "cell_type": "markdown",
   "id": "ade2108a",
   "metadata": {},
   "source": [
    "### 017. 정수를 문자열 100으로 변환\n",
    "정수 100을 문자열 '100'으로 변환해보세요.\n",
    "\n",
    "`num = 100`"
   ]
  },
  {
   "cell_type": "code",
   "execution_count": 38,
   "id": "86709d2f",
   "metadata": {
    "ExecuteTime": {
     "end_time": "2023-11-24T08:36:47.517076Z",
     "start_time": "2023-11-24T08:36:47.507099Z"
    }
   },
   "outputs": [
    {
     "name": "stdout",
     "output_type": "stream",
     "text": [
      "100 <class 'str'>\n"
     ]
    }
   ],
   "source": [
    "num = 100\n",
    "num_str = str(num)\n",
    "print(num_str, type(num_str))"
   ]
  },
  {
   "cell_type": "markdown",
   "id": "f594d678",
   "metadata": {},
   "source": [
    "### 018. 문자열을 실수로 변환\n",
    "문자열 \"15.79\"를 실수(float) 타입으로 변환해보세요."
   ]
  },
  {
   "cell_type": "code",
   "execution_count": 39,
   "id": "ab48814e",
   "metadata": {
    "ExecuteTime": {
     "end_time": "2023-11-24T08:38:35.057489Z",
     "start_time": "2023-11-24T08:38:35.048063Z"
    }
   },
   "outputs": [
    {
     "name": "stdout",
     "output_type": "stream",
     "text": [
      "15.79 <class 'float'>\n"
     ]
    }
   ],
   "source": [
    "a = \"15.79\"\n",
    "a_float = float(a)\n",
    "print(a_float, type(a_float))"
   ]
  },
  {
   "cell_type": "markdown",
   "id": "ddd1a55a",
   "metadata": {
    "ExecuteTime": {
     "end_time": "2023-11-24T08:43:39.222276Z",
     "start_time": "2023-11-24T08:43:39.198544Z"
    }
   },
   "source": [
    "### 019. 문자열을 정수로 변환\n",
    "year라는 변수가 문자열 타입의 연도를 바인딩하고 있습니다. 이를 정수로 변환한 후 최근 3년의 연도를 화면에 출력해보세요.\n",
    "\n",
    "```\n",
    "year = \"2020\"\n",
    "```"
   ]
  },
  {
   "cell_type": "code",
   "execution_count": 43,
   "id": "61ce859f",
   "metadata": {
    "ExecuteTime": {
     "end_time": "2023-11-24T08:44:53.249374Z",
     "start_time": "2023-11-24T08:44:53.239675Z"
    }
   },
   "outputs": [
    {
     "name": "stdout",
     "output_type": "stream",
     "text": [
      "2018 2019 2020\n"
     ]
    }
   ],
   "source": [
    "year = \"2020\"\n",
    "year = int(year)\n",
    "print(year-2, year-1, year)"
   ]
  },
  {
   "cell_type": "markdown",
   "id": "5902ca5e",
   "metadata": {},
   "source": [
    "### 020. 파이썬 계산\n",
    "에어컨이 월 48,584원에 무이자 36개월의 조건으로 홈쇼핑에서 판매되고 있습니다. 총 금액은 계산한 후 이를 화면에 출력해보세요. (변수사용하기)"
   ]
  },
  {
   "cell_type": "code",
   "execution_count": 44,
   "id": "1f4f10d4",
   "metadata": {
    "ExecuteTime": {
     "end_time": "2023-11-24T08:46:48.234859Z",
     "start_time": "2023-11-24T08:46:48.226542Z"
    }
   },
   "outputs": [
    {
     "name": "stdout",
     "output_type": "stream",
     "text": [
      "총 금액 :  1641024\n"
     ]
    }
   ],
   "source": [
    "월가격 = 45584\n",
    "할부기간 = 36\n",
    "print('총 금액 : ', 월가격 * 할부기간)"
   ]
  },
  {
   "cell_type": "markdown",
   "id": "45251d02",
   "metadata": {},
   "source": [
    "## 파이썬 문자열"
   ]
  },
  {
   "cell_type": "markdown",
   "id": "ea345bde",
   "metadata": {},
   "source": [
    "### 021. 문자열 인덱싱\n",
    "letters가 바인딩하는 문자열에서 첫번째와 세번째 문자를 출력하세요.\n",
    "```\n",
    ">> letters = 'python'\n",
    "```\n",
    "```\n",
    "실행 예   \n",
    "p t\n",
    "```"
   ]
  },
  {
   "cell_type": "code",
   "execution_count": 49,
   "id": "7057abd7",
   "metadata": {
    "ExecuteTime": {
     "end_time": "2023-11-24T12:13:28.133879Z",
     "start_time": "2023-11-24T12:13:28.124721Z"
    }
   },
   "outputs": [
    {
     "name": "stdout",
     "output_type": "stream",
     "text": [
      "p t\n"
     ]
    }
   ],
   "source": [
    "letters = 'python'\n",
    "print(letters[0], letters[2])"
   ]
  },
  {
   "cell_type": "markdown",
   "id": "2d61dcdb",
   "metadata": {},
   "source": [
    "### 022. 문자열 슬라이싱\n",
    "자동차 번호가 다음과 같을 때 뒤에 4자리만 출력하세요.\n",
    "```\n",
    ">> license_plate = \"24가 2210\"\n",
    "실행 예: 2210\n",
    "```"
   ]
  },
  {
   "cell_type": "code",
   "execution_count": 54,
   "id": "fc5f6a53",
   "metadata": {
    "ExecuteTime": {
     "end_time": "2023-11-24T12:15:37.602951Z",
     "start_time": "2023-11-24T12:15:37.595464Z"
    }
   },
   "outputs": [
    {
     "name": "stdout",
     "output_type": "stream",
     "text": [
      "2210\n"
     ]
    }
   ],
   "source": [
    "license_plate = \"24가 2210\"\n",
    "print(license_plate[4:])"
   ]
  },
  {
   "cell_type": "markdown",
   "id": "92cad00c",
   "metadata": {},
   "source": [
    "### 023. 문자열 인덱싱\n",
    "아래의 문자열에서 '홀' 만 출력하세요.\n",
    "```\n",
    ">> string = \"홀짝홀짝홀짝\"\n",
    "```\n",
    "```\n",
    "실행 예:\n",
    "홀홀홀\n",
    "```"
   ]
  },
  {
   "cell_type": "code",
   "execution_count": 56,
   "id": "a49dc66b",
   "metadata": {
    "ExecuteTime": {
     "end_time": "2023-11-24T12:21:17.985136Z",
     "start_time": "2023-11-24T12:21:17.976695Z"
    }
   },
   "outputs": [
    {
     "name": "stdout",
     "output_type": "stream",
     "text": [
      "홀홀홀\n"
     ]
    }
   ],
   "source": [
    "string = \"홀짝홀짝홀짝\"\n",
    "print(string[::2])"
   ]
  },
  {
   "cell_type": "markdown",
   "id": "766fe31d",
   "metadata": {},
   "source": [
    "### 024. 문자열 슬라이싱\n",
    "문자열을 거꾸로 뒤집어 출력하세요.\n",
    "```\n",
    ">> string = \"PYTHON\"\n",
    "```\n",
    "```\n",
    "실행 예:\n",
    "NOHTYP\n",
    "```"
   ]
  },
  {
   "cell_type": "code",
   "execution_count": 58,
   "id": "42ae73ed",
   "metadata": {
    "ExecuteTime": {
     "end_time": "2023-11-24T12:25:22.922714Z",
     "start_time": "2023-11-24T12:25:22.914779Z"
    }
   },
   "outputs": [
    {
     "name": "stdout",
     "output_type": "stream",
     "text": [
      "NOHTYP\n"
     ]
    }
   ],
   "source": [
    "string = \"PYTHON\"\n",
    "print(string[::-1])"
   ]
  },
  {
   "cell_type": "markdown",
   "id": "384171f2",
   "metadata": {},
   "source": [
    "### 025. 문자열 치환\n",
    "아래의 전화번호에서 하이푼 ('-')을 제거하고 출력하세요.\n",
    "```\n",
    ">> phone_number = \"010-1111-2222\"\n",
    "```\n",
    "```\n",
    "실행 예\n",
    "010 1111 2222\n",
    "```"
   ]
  },
  {
   "cell_type": "code",
   "execution_count": 59,
   "id": "56a857b6",
   "metadata": {
    "ExecuteTime": {
     "end_time": "2023-11-24T12:26:45.599801Z",
     "start_time": "2023-11-24T12:26:45.590768Z"
    }
   },
   "outputs": [
    {
     "name": "stdout",
     "output_type": "stream",
     "text": [
      "010 1111 2222\n"
     ]
    }
   ],
   "source": [
    "phone_number = \"010-1111-2222\"\n",
    "print(phone_number.replace(\"-\", \" \"))"
   ]
  },
  {
   "cell_type": "markdown",
   "id": "7807abb6",
   "metadata": {},
   "source": [
    "### 026. 문자열 다루기\n",
    "25번 문제의 전화번호를 아래와 같이 모두 붙여 출력하세요.\n",
    "```\n",
    "실행 예\n",
    "01011112222\n",
    "```"
   ]
  },
  {
   "cell_type": "code",
   "execution_count": 60,
   "id": "2e581469",
   "metadata": {
    "ExecuteTime": {
     "end_time": "2023-11-24T12:27:55.078246Z",
     "start_time": "2023-11-24T12:27:55.070172Z"
    }
   },
   "outputs": [
    {
     "name": "stdout",
     "output_type": "stream",
     "text": [
      "01011112222\n"
     ]
    }
   ],
   "source": [
    "print(phone_number.replace(\"-\",\"\"))"
   ]
  },
  {
   "cell_type": "markdown",
   "id": "1749d988",
   "metadata": {},
   "source": [
    "### 027. 문자열 다루기\n",
    "url 에 저장된 웹 페이지 주소에서 도메인을 출력하세요.\n",
    "```\n",
    ">> url = \"http://sharebook.kr\"\n",
    "```\n",
    "```\n",
    "실행 예:\n",
    "kr\n",
    "```"
   ]
  },
  {
   "cell_type": "code",
   "execution_count": 62,
   "id": "f25a343f",
   "metadata": {
    "ExecuteTime": {
     "end_time": "2023-11-24T12:29:10.720302Z",
     "start_time": "2023-11-24T12:29:10.701585Z"
    }
   },
   "outputs": [
    {
     "data": {
      "text/plain": [
       "'kr'"
      ]
     },
     "execution_count": 62,
     "metadata": {},
     "output_type": "execute_result"
    }
   ],
   "source": [
    "url = \"http://sharebook.kr\"\n",
    "url[-2:]"
   ]
  },
  {
   "cell_type": "markdown",
   "id": "6c3089e1",
   "metadata": {},
   "source": [
    "### 028. 문자열은 immutable\n",
    "아래 코드의 실행 결과를 예상해보세요.\n",
    "```\n",
    ">> lang = 'python'\n",
    ">> lang[0] = 'P'\n",
    ">> print(lang)\n",
    "```"
   ]
  },
  {
   "cell_type": "markdown",
   "id": "67768308",
   "metadata": {
    "ExecuteTime": {
     "end_time": "2023-11-24T12:34:15.738723Z",
     "start_time": "2023-11-24T12:34:15.727420Z"
    }
   },
   "source": [
    "python"
   ]
  },
  {
   "cell_type": "markdown",
   "id": "c48578a4",
   "metadata": {},
   "source": [
    "### 029. replace 메서드\n",
    "아래 문자열에서 소문자 'a'를 대문자 'A'로 변경하세요.\n",
    "\n",
    "```\n",
    ">> string = 'abcdfe2a354a32a'\n",
    "```\n",
    "```\n",
    "실행 예:\n",
    "Abcdfe2A354A32A\n",
    "```"
   ]
  },
  {
   "cell_type": "code",
   "execution_count": 66,
   "id": "9205e20b",
   "metadata": {
    "ExecuteTime": {
     "end_time": "2023-11-24T12:37:38.593271Z",
     "start_time": "2023-11-24T12:37:38.584878Z"
    }
   },
   "outputs": [
    {
     "name": "stdout",
     "output_type": "stream",
     "text": [
      "Abcdfe2A354A32A\n"
     ]
    }
   ],
   "source": [
    "string = 'abcdfe2a354a32a'\n",
    "a = string.replace(\"a\", \"A\")\n",
    "print(a)"
   ]
  },
  {
   "cell_type": "markdown",
   "id": "0815df0c",
   "metadata": {},
   "source": [
    "### 030. replace 메서드\n",
    "아래 코드의 실행 결과를 예상해보세요.\n",
    "```\n",
    ">> string = 'abcd'\n",
    ">> string.replace('b', 'B')\n",
    ">> print(string)\n",
    "```"
   ]
  },
  {
   "cell_type": "markdown",
   "id": "cef3b513",
   "metadata": {},
   "source": [
    "abcd    \n",
    "aBcd가 되려면 replace를 사용한 구문을 다른 변수에 넣어줘야 함"
   ]
  },
  {
   "cell_type": "markdown",
   "id": "42054818",
   "metadata": {},
   "source": [
    "### 031. 문자열 합치기\n",
    "아래 코드의 실행 결과를 예상해보세요.\n",
    "```\n",
    ">> a = \"3\"\n",
    ">> b = \"4\"\n",
    ">> print(a + b)\n",
    "```"
   ]
  },
  {
   "cell_type": "markdown",
   "id": "40482175",
   "metadata": {},
   "source": [
    "34"
   ]
  },
  {
   "cell_type": "markdown",
   "id": "1cdd7b6c",
   "metadata": {},
   "source": [
    "### 032. 문자열 곱하기\n",
    "아래 코드의 실행 결과를 예상해보세요.\n",
    "```\n",
    ">> print(\"Hi\" * 3)\n",
    "```"
   ]
  },
  {
   "cell_type": "markdown",
   "id": "1e661cbf",
   "metadata": {},
   "source": [
    "HiHiHi"
   ]
  },
  {
   "cell_type": "markdown",
   "id": "9f863865",
   "metadata": {},
   "source": [
    "### 033. 문자열 곱하기\n",
    "화면에 '-'를 80개 출력하세요.\n",
    "```\n",
    "실행 예:\n",
    "--------------------------------------------------------------------------------\n",
    "```"
   ]
  },
  {
   "cell_type": "code",
   "execution_count": 69,
   "id": "0e57186e",
   "metadata": {
    "ExecuteTime": {
     "end_time": "2023-11-24T17:34:13.553420Z",
     "start_time": "2023-11-24T17:34:13.535650Z"
    }
   },
   "outputs": [
    {
     "name": "stdout",
     "output_type": "stream",
     "text": [
      "--------------------------------------------------------------------------------\n"
     ]
    }
   ],
   "source": [
    "print('-' * 80)"
   ]
  },
  {
   "cell_type": "markdown",
   "id": "703f1db7",
   "metadata": {},
   "source": [
    "### 034. 문자열 곱하기\n",
    "변수에 다음과 같은 문자열이 바인딩되어 있습니다.\n",
    "```\n",
    ">>> t1 = 'python'\n",
    ">>> t2 = 'java'\n",
    "```\n",
    "변수에 문자열 더하기와 문자열 곱하기를 사용해서 아래와 같이 출력해보세요.\n",
    "```\n",
    "실행 예:\n",
    "python java python java python java python java\n",
    "```"
   ]
  },
  {
   "cell_type": "code",
   "execution_count": 73,
   "id": "fbdaa5fc",
   "metadata": {
    "ExecuteTime": {
     "end_time": "2023-11-24T17:36:35.651422Z",
     "start_time": "2023-11-24T17:36:35.644929Z"
    }
   },
   "outputs": [
    {
     "name": "stdout",
     "output_type": "stream",
     "text": [
      "python java python java python java python java \n"
     ]
    }
   ],
   "source": [
    "t1 = 'python'\n",
    "t2 = 'java'\n",
    "print((t1 + ' ' + t2 + ' ') * 4)"
   ]
  },
  {
   "cell_type": "markdown",
   "id": "b4a57e67",
   "metadata": {},
   "source": [
    "### 035. 문자열 출력\n",
    "변수에 다음과 같이 문자열과 정수가 바인딩되어 있을 때 % formatting을 사용해서 다음과 같이 출력해보세요.\n",
    "```\n",
    "name1 = \"김민수\" \n",
    "age1 = 10\n",
    "name2 = \"이철희\"\n",
    "age2 = 13\n",
    "```\n",
    "```\n",
    "이름: 김민수 나이: 10\n",
    "이름: 이철희 나이: 13\n",
    "```"
   ]
  },
  {
   "cell_type": "code",
   "execution_count": 4,
   "id": "4cde1f5c",
   "metadata": {
    "ExecuteTime": {
     "end_time": "2023-11-25T02:21:22.837159Z",
     "start_time": "2023-11-25T02:21:22.827886Z"
    }
   },
   "outputs": [
    {
     "name": "stdout",
     "output_type": "stream",
     "text": [
      "이름 : 김민수 나이 : 10\n",
      "이름 : 이철희 나이 : 13\n"
     ]
    }
   ],
   "source": [
    "name1 = \"김민수\" \n",
    "age1 = 10\n",
    "name2 = \"이철희\"\n",
    "age2 = 13\n",
    "print(\"이름 : %s 나이 : %d\" % (name1, age1))\n",
    "print(\"이름 : %s 나이 : %d\" % (name2, age2))"
   ]
  },
  {
   "cell_type": "markdown",
   "id": "7301dc4e",
   "metadata": {},
   "source": [
    "### 036. 문자열 출력\n",
    "문자열의 format( ) 메서드를 사용해서 035번 문제를 다시 풀어보세요."
   ]
  },
  {
   "cell_type": "code",
   "execution_count": 5,
   "id": "f2104bee",
   "metadata": {
    "ExecuteTime": {
     "end_time": "2023-11-25T02:21:24.389388Z",
     "start_time": "2023-11-25T02:21:24.379888Z"
    }
   },
   "outputs": [
    {
     "name": "stdout",
     "output_type": "stream",
     "text": [
      "이름 : 김민수 나이 : 10\n",
      "이름 : 이철희 나이 : 13\n"
     ]
    }
   ],
   "source": [
    "print(\"이름 : {} 나이 : {}\".format(name1, age1))\n",
    "print(\"이름 : {0} 나이 : {1}\".format(\"이철희\", 13))"
   ]
  },
  {
   "cell_type": "markdown",
   "id": "f27f47db",
   "metadata": {},
   "source": [
    "### 037. 문자열 출력\n",
    "파이썬 3.6부터 지원하는 f-string을 사용해서 035번 문제를 다시 풀어보세요."
   ]
  },
  {
   "cell_type": "code",
   "execution_count": 8,
   "id": "da561dc1",
   "metadata": {
    "ExecuteTime": {
     "end_time": "2023-11-25T02:23:11.195290Z",
     "start_time": "2023-11-25T02:23:11.186831Z"
    }
   },
   "outputs": [
    {
     "name": "stdout",
     "output_type": "stream",
     "text": [
      "이름 : 김민수 나이 : 10\n",
      "이름 : 이철희 나이 : 13\n"
     ]
    }
   ],
   "source": [
    "print(f\"이름 : {name1} 나이 : {age1}\")\n",
    "print(f\"이름 : {name2} 나이 : {age2}\")"
   ]
  },
  {
   "cell_type": "markdown",
   "id": "9b3356cb",
   "metadata": {},
   "source": [
    "### 038. 컴마 제거하기\n",
    "삼성전자의 상장주식수가 다음과 같습니다. 컴마를 제거한 후 이를 정수 타입으로 변환해보세요.\n",
    "```\n",
    "상장주식수 = \"5,969,782,550\"\n",
    "```"
   ]
  },
  {
   "cell_type": "code",
   "execution_count": 15,
   "id": "f65c691f",
   "metadata": {
    "ExecuteTime": {
     "end_time": "2023-11-25T09:15:20.743440Z",
     "start_time": "2023-11-25T09:15:20.730451Z"
    }
   },
   "outputs": [
    {
     "name": "stdout",
     "output_type": "stream",
     "text": [
      "5969782550 <class 'int'>\n"
     ]
    }
   ],
   "source": [
    "상장주식수 = \"5,969,782,550\"\n",
    "리스트 = 상장주식수.split(',')\n",
    "문자열 = ''.join(리스트)\n",
    "숫자 = int(문자열)\n",
    "print(숫자, type(숫자))"
   ]
  },
  {
   "cell_type": "code",
   "execution_count": 16,
   "id": "12de3047",
   "metadata": {
    "ExecuteTime": {
     "end_time": "2023-11-25T09:18:28.932076Z",
     "start_time": "2023-11-25T09:18:28.922792Z"
    }
   },
   "outputs": [
    {
     "name": "stdout",
     "output_type": "stream",
     "text": [
      "5969782550 <class 'int'>\n"
     ]
    }
   ],
   "source": [
    "# 정답 코드\n",
    "\n",
    "상장주식수 = \"5,969,782,550\"\n",
    "컴마제거 = 상장주식수.replace(\",\", \"\")\n",
    "타입변환 = int(컴마제거)\n",
    "print(타입변환, type(타입변환))"
   ]
  },
  {
   "cell_type": "markdown",
   "id": "c04f2531",
   "metadata": {},
   "source": [
    "### 039. 문자열 슬라이싱\n",
    "다음과 같은 문자열에서 '2020/03'만 출력하세요.\n",
    "```\n",
    "분기 = \"2020/03(E) (IFRS연결)\"\n",
    "```"
   ]
  },
  {
   "cell_type": "code",
   "execution_count": 24,
   "id": "108eaca4",
   "metadata": {
    "ExecuteTime": {
     "end_time": "2023-11-25T09:20:56.353471Z",
     "start_time": "2023-11-25T09:20:56.343311Z"
    }
   },
   "outputs": [
    {
     "name": "stdout",
     "output_type": "stream",
     "text": [
      "2020/03\n"
     ]
    }
   ],
   "source": [
    "분기 = \"2020/03(E) (IFRS연결)\"\n",
    "print(분기[:7])"
   ]
  },
  {
   "cell_type": "markdown",
   "id": "5c8f2469",
   "metadata": {},
   "source": [
    "### 040. strip 메서드\n",
    "문자열의 좌우의 공백이 있을 때 이를 제거해보세요.\n",
    "```\n",
    "data = \"   삼성전자    \"\n",
    "```"
   ]
  },
  {
   "cell_type": "code",
   "execution_count": 25,
   "id": "936aa6be",
   "metadata": {
    "ExecuteTime": {
     "end_time": "2023-11-25T09:22:06.852106Z",
     "start_time": "2023-11-25T09:22:06.840056Z"
    }
   },
   "outputs": [
    {
     "name": "stdout",
     "output_type": "stream",
     "text": [
      "삼성전자\n"
     ]
    }
   ],
   "source": [
    "data = \"   삼성전자    \"\n",
    "print(data.strip())"
   ]
  },
  {
   "cell_type": "markdown",
   "id": "7200118b",
   "metadata": {},
   "source": [
    "### 041. upper 메서드\n",
    "다음과 같은 문자열이 있을 때 이를 대문자 BTC_KRW로 변경하세요.\n",
    "```\n",
    "ticker = \"btc_krw\"\n",
    "```"
   ]
  },
  {
   "cell_type": "code",
   "execution_count": 26,
   "id": "fa8ded9a",
   "metadata": {
    "ExecuteTime": {
     "end_time": "2023-11-25T09:23:32.377849Z",
     "start_time": "2023-11-25T09:23:32.367914Z"
    }
   },
   "outputs": [
    {
     "name": "stdout",
     "output_type": "stream",
     "text": [
      "BTC_KRW\n"
     ]
    }
   ],
   "source": [
    "ticker = \"btc_krw\"\n",
    "print(ticker.upper())"
   ]
  },
  {
   "cell_type": "markdown",
   "id": "c283b703",
   "metadata": {},
   "source": [
    "### 042. lower 메서드\n",
    "다음과 같은 문자열이 있을 때 이를 소문자 btc_krw로 변경하세요.\n",
    "```\n",
    "ticker = \"BTC_KRW\"\n",
    "```"
   ]
  },
  {
   "cell_type": "code",
   "execution_count": 27,
   "id": "14867d91",
   "metadata": {
    "ExecuteTime": {
     "end_time": "2023-11-25T09:25:38.170207Z",
     "start_time": "2023-11-25T09:25:38.160566Z"
    }
   },
   "outputs": [
    {
     "name": "stdout",
     "output_type": "stream",
     "text": [
      "btc_krw\n"
     ]
    }
   ],
   "source": [
    "ticker = \"BTC_KRW\"\n",
    "print(ticker.lower())"
   ]
  },
  {
   "cell_type": "markdown",
   "id": "7ebb66fa",
   "metadata": {},
   "source": [
    "### 043. capitalize 메서드\n",
    "문자열 'hello'가 있을 때 이를 'Hello'로 변경해보세요."
   ]
  },
  {
   "cell_type": "code",
   "execution_count": 29,
   "id": "b6191e2a",
   "metadata": {
    "ExecuteTime": {
     "end_time": "2023-11-25T09:26:37.873980Z",
     "start_time": "2023-11-25T09:26:37.866443Z"
    }
   },
   "outputs": [
    {
     "name": "stdout",
     "output_type": "stream",
     "text": [
      "Hello\n"
     ]
    }
   ],
   "source": [
    "text = \"hello\"\n",
    "print(text.capitalize())"
   ]
  },
  {
   "cell_type": "markdown",
   "id": "8c9a398d",
   "metadata": {},
   "source": [
    "### 044. endswith 메서드\n",
    "파일 이름이 문자열로 저장되어 있을 때 endswith 메서드를 사용해서 파일 이름이 'xlsx'로 끝나는지 확인해보세요.\n",
    "```\n",
    "file_name = \"보고서.xlsx\"\n",
    "```"
   ]
  },
  {
   "cell_type": "code",
   "execution_count": 30,
   "id": "406e450e",
   "metadata": {
    "ExecuteTime": {
     "end_time": "2023-11-25T09:27:36.742485Z",
     "start_time": "2023-11-25T09:27:36.735088Z"
    }
   },
   "outputs": [
    {
     "name": "stdout",
     "output_type": "stream",
     "text": [
      "True\n"
     ]
    }
   ],
   "source": [
    "file_name = \"보고서.xlsx\"\n",
    "print(file_name.endswith('xlsx'))"
   ]
  },
  {
   "cell_type": "markdown",
   "id": "ae2e66d3",
   "metadata": {},
   "source": [
    "### 045. endswith 메서드\n",
    "파일 이름이 문자열로 저장되어 있을 때 endswith 메서드를 사용해서 파일 이름이 'xlsx' 또는 'xls'로 끝나는지 확인해보세요.\n",
    "```\n",
    "file_name = \"보고서.xlsx\"\n",
    "```"
   ]
  },
  {
   "cell_type": "code",
   "execution_count": 35,
   "id": "f1a97b0d",
   "metadata": {
    "ExecuteTime": {
     "end_time": "2023-11-25T09:42:26.716045Z",
     "start_time": "2023-11-25T09:42:26.707191Z"
    }
   },
   "outputs": [
    {
     "name": "stdout",
     "output_type": "stream",
     "text": [
      "True\n"
     ]
    }
   ],
   "source": [
    "file_name = \"보고서.xlsx\"\n",
    "print(file_name.endswith((\"xlsx\",\"xls\")))"
   ]
  },
  {
   "cell_type": "markdown",
   "id": "b1ac71f8",
   "metadata": {},
   "source": [
    "### 046. startswith 메서드\n",
    "파일 이름이 문자열로 저장되어 있을 때 startswith 메서드를 사용해서 파일 이름이 '2020'로 시작하는지 확인해보세요.\n",
    "```\n",
    "file_name = \"2020_보고서.xlsx\"\n",
    "```"
   ]
  },
  {
   "cell_type": "code",
   "execution_count": 36,
   "id": "d2e8b75c",
   "metadata": {
    "ExecuteTime": {
     "end_time": "2023-11-25T09:43:16.122245Z",
     "start_time": "2023-11-25T09:43:16.112552Z"
    }
   },
   "outputs": [
    {
     "name": "stdout",
     "output_type": "stream",
     "text": [
      "True\n"
     ]
    }
   ],
   "source": [
    "file_name = \"2020_보고서.xlsx\"\n",
    "print(file_name.startswith('2020'))"
   ]
  },
  {
   "cell_type": "markdown",
   "id": "040fa288",
   "metadata": {},
   "source": [
    "### 047. split 메서드\n",
    "다음과 같은 문자열이 있을 때 공백을 기준으로 문자열을 나눠보세요.\n",
    "```\n",
    "a = \"hello world\"\n",
    "```"
   ]
  },
  {
   "cell_type": "code",
   "execution_count": 37,
   "id": "cc9de737",
   "metadata": {
    "ExecuteTime": {
     "end_time": "2023-11-25T09:44:16.590270Z",
     "start_time": "2023-11-25T09:44:16.579891Z"
    }
   },
   "outputs": [
    {
     "name": "stdout",
     "output_type": "stream",
     "text": [
      "['hello', 'world']\n"
     ]
    }
   ],
   "source": [
    "a = \"hello world\"\n",
    "print(a.split(' '))"
   ]
  },
  {
   "cell_type": "markdown",
   "id": "1c648b7a",
   "metadata": {},
   "source": [
    "### 048. split 메서드\n",
    "다음과 같이 문자열이 있을 때 btc와 krw로 나눠보세요.\n",
    "```\n",
    "ticker = \"btc_krw\"\n",
    "```"
   ]
  },
  {
   "cell_type": "code",
   "execution_count": 38,
   "id": "c1a6b619",
   "metadata": {
    "ExecuteTime": {
     "end_time": "2023-11-25T09:45:47.000856Z",
     "start_time": "2023-11-25T09:45:46.992454Z"
    }
   },
   "outputs": [
    {
     "name": "stdout",
     "output_type": "stream",
     "text": [
      "['btc', 'krw']\n"
     ]
    }
   ],
   "source": [
    "ticker = \"btc_krw\"\n",
    "print(ticker.split('_'))"
   ]
  },
  {
   "cell_type": "markdown",
   "id": "4ac64d26",
   "metadata": {},
   "source": [
    "### 049. split 메서드\n",
    "다음과 같이 날짜를 표현하는 문자열이 있을 때 연도, 월, 일로 나눠보세요.\n",
    "```\n",
    "date = \"2020-05-01\"\n",
    "```"
   ]
  },
  {
   "cell_type": "code",
   "execution_count": 39,
   "id": "3d36f28a",
   "metadata": {
    "ExecuteTime": {
     "end_time": "2023-11-25T09:46:24.095970Z",
     "start_time": "2023-11-25T09:46:24.087730Z"
    }
   },
   "outputs": [
    {
     "name": "stdout",
     "output_type": "stream",
     "text": [
      "['2020', '05', '01']\n"
     ]
    }
   ],
   "source": [
    "date = \"2020-05-01\"\n",
    "print(date.split('-'))"
   ]
  },
  {
   "cell_type": "markdown",
   "id": "d12830e6",
   "metadata": {},
   "source": [
    "### 050. rstrip 메서드\n",
    "문자열의 오른쪽에 공백이 있을 때 이를 제거해보세요.\n",
    "```\n",
    "data = \"039490     \"\n",
    "```"
   ]
  },
  {
   "cell_type": "code",
   "execution_count": 40,
   "id": "716f7044",
   "metadata": {
    "ExecuteTime": {
     "end_time": "2023-11-25T09:47:03.956834Z",
     "start_time": "2023-11-25T09:47:03.949696Z"
    }
   },
   "outputs": [
    {
     "name": "stdout",
     "output_type": "stream",
     "text": [
      "039490\n"
     ]
    }
   ],
   "source": [
    "data = \"039490     \"\n",
    "print(data.rstrip())"
   ]
  },
  {
   "cell_type": "markdown",
   "id": "6add4519",
   "metadata": {},
   "source": [
    "## 파이썬 리스트"
   ]
  },
  {
   "cell_type": "markdown",
   "id": "efc6f52f",
   "metadata": {},
   "source": [
    "### 051. 리스트 생성\n",
    "2016년 11월 영화 예매 순위 기준 top3는 다음과 같습니다. 영화 제목을 movie_rank 이름의 리스트에 저장해보세요. (순위 정보는 저장하지 않습니다.)\n",
    "\n",
    "|순위|영화|\n",
    "|---|---|\n",
    "|1|닥터 스트레인지|\n",
    "|2|스플릿|\n",
    "|3|럭키|"
   ]
  },
  {
   "cell_type": "code",
   "execution_count": 43,
   "id": "acc76c84",
   "metadata": {
    "ExecuteTime": {
     "end_time": "2023-11-25T09:51:46.014160Z",
     "start_time": "2023-11-25T09:51:46.004011Z"
    }
   },
   "outputs": [
    {
     "name": "stdout",
     "output_type": "stream",
     "text": [
      "['닥터 스트레인지', '스플릿', '럭키'] <class 'list'>\n"
     ]
    }
   ],
   "source": [
    "movie_rank = ['닥터 스트레인지', '스플릿', '럭키']\n",
    "print(movie_rank, type(movie_rank))"
   ]
  },
  {
   "cell_type": "markdown",
   "id": "2688ee20",
   "metadata": {},
   "source": [
    "### 052. 리스트에 원소 추가\n",
    "051의 movie_rank 리스트에 \"배트맨\"을 추가하라."
   ]
  },
  {
   "cell_type": "code",
   "execution_count": 48,
   "id": "0548aa3c",
   "metadata": {
    "ExecuteTime": {
     "end_time": "2023-11-25T09:54:42.948460Z",
     "start_time": "2023-11-25T09:54:42.939732Z"
    }
   },
   "outputs": [
    {
     "name": "stdout",
     "output_type": "stream",
     "text": [
      "['닥터 스트레인지', '스플릿', '럭키', '배트맨']\n"
     ]
    }
   ],
   "source": [
    "movie_rank.append('배트맨')\n",
    "print(movie_rank)"
   ]
  },
  {
   "cell_type": "markdown",
   "id": "d33f6ef7",
   "metadata": {},
   "source": [
    "### 053. 리스트에 원소 추가\n",
    "movie_rank 리스트에는 아래와 같이 네 개의 영화 제목이 바인딩되어 있다. \"슈퍼맨\"을 \"닥터 스트레인지\"와 \"스플릿\" 사이에 추가하라.\n",
    "```\n",
    "movie_rank = ['닥터 스트레인지', '스플릿', '럭키', '배트맨']\n",
    "```"
   ]
  },
  {
   "cell_type": "code",
   "execution_count": 51,
   "id": "c59ff974",
   "metadata": {
    "ExecuteTime": {
     "end_time": "2023-11-25T09:56:53.653775Z",
     "start_time": "2023-11-25T09:56:53.646232Z"
    }
   },
   "outputs": [
    {
     "name": "stdout",
     "output_type": "stream",
     "text": [
      "['닥터 스트레인지', '슈퍼맨', '스플릿', '럭키', '배트맨']\n"
     ]
    }
   ],
   "source": [
    "movie_rank.insert(1, '슈퍼맨')\n",
    "print(movie_rank)"
   ]
  },
  {
   "cell_type": "markdown",
   "id": "8143974a",
   "metadata": {},
   "source": [
    "### 054. 리스트에서 원소 제거\n",
    "movie_rank 리스트에서 '럭키'를 삭제하라.\n",
    "```\n",
    "movie_rank = ['닥터 스트레인지', '슈퍼맨', '스플릿', '럭키', '배트맨']\n",
    "```"
   ]
  },
  {
   "cell_type": "code",
   "execution_count": 54,
   "id": "4f5737d6",
   "metadata": {
    "ExecuteTime": {
     "end_time": "2023-11-25T09:59:50.320811Z",
     "start_time": "2023-11-25T09:59:50.312481Z"
    }
   },
   "outputs": [
    {
     "name": "stdout",
     "output_type": "stream",
     "text": [
      "['닥터 스트레인지', '슈퍼맨', '스플릿', '배트맨']\n"
     ]
    }
   ],
   "source": [
    "movie_rank = ['닥터 스트레인지', '슈퍼맨', '스플릿', '럭키', '배트맨']\n",
    "movie_rank.remove('럭키')\n",
    "print(movie_rank)"
   ]
  },
  {
   "cell_type": "markdown",
   "id": "916df4e2",
   "metadata": {},
   "source": [
    "### 055. 리스트에서 원소 제거\n",
    "movie_rank 리스트에서 '스플릿' 과 '배트맨'을 를 삭제하라.\n",
    "```\n",
    "movie_rank = ['닥터 스트레인지', '슈퍼맨', '스플릿', '배트맨']\n",
    "```"
   ]
  },
  {
   "cell_type": "code",
   "execution_count": 56,
   "id": "af02d1ff",
   "metadata": {
    "ExecuteTime": {
     "end_time": "2023-11-25T10:01:53.637247Z",
     "start_time": "2023-11-25T10:01:53.628812Z"
    }
   },
   "outputs": [
    {
     "name": "stdout",
     "output_type": "stream",
     "text": [
      "['닥터 스트레인지', '슈퍼맨']\n"
     ]
    }
   ],
   "source": [
    "movie_rank = ['닥터 스트레인지', '슈퍼맨', '스플릿', '배트맨']\n",
    "del movie_rank[3]\n",
    "del movie_rank[2]\n",
    "print(movie_rank)"
   ]
  },
  {
   "cell_type": "markdown",
   "id": "fcd7f17a",
   "metadata": {},
   "source": [
    "### 056. 두 개의 리스트 합집합 만들기\n",
    "lang1과 lang2 리스트가 있을 때 lang1과 lang2의 원소를 모두 갖고 있는 langs 리스트를 만들어라.\n",
    "```\n",
    ">> lang1 = [\"C\", \"C++\", \"JAVA\"]\n",
    ">> lang2 = [\"Python\", \"Go\", \"C#\"]\n",
    "```\n",
    "```\n",
    "실행 예:\n",
    ">> langs\n",
    "['C', 'C++', 'JAVA', 'Python', 'Go', 'C#']\n",
    "```"
   ]
  },
  {
   "cell_type": "code",
   "execution_count": 57,
   "id": "a3d96fd8",
   "metadata": {
    "ExecuteTime": {
     "end_time": "2023-11-25T10:03:19.650233Z",
     "start_time": "2023-11-25T10:03:19.639312Z"
    }
   },
   "outputs": [
    {
     "name": "stdout",
     "output_type": "stream",
     "text": [
      "['C', 'C++', 'JAVA', 'Python', 'Go', 'C#']\n"
     ]
    }
   ],
   "source": [
    "lang1 = [\"C\", \"C++\", \"JAVA\"]\n",
    "lang2 = [\"Python\", \"Go\", \"C#\"]\n",
    "langs = lang1 + lang2\n",
    "print(langs)"
   ]
  },
  {
   "cell_type": "markdown",
   "id": "960c2a7e",
   "metadata": {},
   "source": [
    "### 057. 최댓값, 최솟값 구하기\n",
    "다음 리스트에서 최댓값과 최솟값을 출력하라. (힌트: min(), max() 함수 사용)\n",
    "```\n",
    "nums = [1, 2, 3, 4, 5, 6, 7]\n",
    "```\n",
    "```\n",
    "실행 예:\n",
    "max:  7\n",
    "min:  1\n",
    "```"
   ]
  },
  {
   "cell_type": "code",
   "execution_count": 59,
   "id": "347a5674",
   "metadata": {
    "ExecuteTime": {
     "end_time": "2023-11-25T10:07:47.839486Z",
     "start_time": "2023-11-25T10:07:47.830769Z"
    }
   },
   "outputs": [
    {
     "name": "stdout",
     "output_type": "stream",
     "text": [
      "max:  7\n",
      "min:  1\n"
     ]
    }
   ],
   "source": [
    "nums = [1, 2, 3, 4, 5, 6, 7]\n",
    "print('max: ', max(nums))\n",
    "print('min: ', min(nums))"
   ]
  },
  {
   "cell_type": "markdown",
   "id": "251761da",
   "metadata": {},
   "source": [
    "### 058. 리스트의 합 구하기\n",
    "다음 리스트의 합을 출력하라.\n",
    "```\n",
    "nums = [1, 2, 3, 4, 5]\n",
    "```\n",
    "```\n",
    "실행 예:\n",
    "15\n",
    "```"
   ]
  },
  {
   "cell_type": "code",
   "execution_count": 60,
   "id": "71c3b3df",
   "metadata": {
    "ExecuteTime": {
     "end_time": "2023-11-25T10:08:53.252170Z",
     "start_time": "2023-11-25T10:08:53.242062Z"
    }
   },
   "outputs": [
    {
     "name": "stdout",
     "output_type": "stream",
     "text": [
      "15\n"
     ]
    }
   ],
   "source": [
    "nums = [1, 2, 3, 4, 5]\n",
    "print(sum(nums))"
   ]
  },
  {
   "cell_type": "markdown",
   "id": "d7513afc",
   "metadata": {},
   "source": [
    "### 059. 리스트의 개수 구하기\n",
    "다음 리스트에 저장된 데이터의 개수를 화면에 구하하라.\n",
    "```\n",
    "cook = [\"피자\", \"김밥\", \"만두\", \"양념치킨\", \"족발\", \"피자\", \"김치만두\", \"쫄면\", \"소시지\", \"라면\", \"팥빙수\", \"김치전\"]\n",
    "```"
   ]
  },
  {
   "cell_type": "code",
   "execution_count": 62,
   "id": "ba15a77d",
   "metadata": {
    "ExecuteTime": {
     "end_time": "2023-11-25T10:10:16.160899Z",
     "start_time": "2023-11-25T10:10:16.149770Z"
    }
   },
   "outputs": [
    {
     "name": "stdout",
     "output_type": "stream",
     "text": [
      "12\n"
     ]
    }
   ],
   "source": [
    "cook = [\"피자\", \"김밥\", \"만두\", \"양념치킨\", \"족발\", \"피자\", \"김치만두\", \"쫄면\", \"소시지\", \"라면\", \"팥빙수\", \"김치전\"]\n",
    "print(len(cook))"
   ]
  },
  {
   "cell_type": "markdown",
   "id": "eb336ec2",
   "metadata": {},
   "source": [
    "### 060. 리스트의 평균 구하기\n",
    "다음 리스트의 평균을 출력하라.\n",
    "```\n",
    "nums = [1, 2, 3, 4, 5]\n",
    "```\n",
    "```\n",
    "실행 예:\n",
    "3.0\n",
    "```"
   ]
  },
  {
   "cell_type": "code",
   "execution_count": 64,
   "id": "6b10dc6f",
   "metadata": {
    "ExecuteTime": {
     "end_time": "2023-11-25T10:11:33.865489Z",
     "start_time": "2023-11-25T10:11:33.857941Z"
    }
   },
   "outputs": [
    {
     "name": "stdout",
     "output_type": "stream",
     "text": [
      "3.0\n"
     ]
    }
   ],
   "source": [
    "nums = [1, 2, 3, 4, 5]\n",
    "print(sum(nums) / len(nums))"
   ]
  },
  {
   "cell_type": "markdown",
   "id": "2ccdf068",
   "metadata": {},
   "source": [
    "### 061. 리스트 슬라이싱\n",
    "price 변수에는 날짜와 종가 정보가 저장돼 있다. 날짜 정보를 제외하고 가격 정보만을 출력하라. (힌트 : 슬라이싱)\n",
    "```\n",
    "price = ['20180728', 100, 130, 140, 150, 160, 170]\n",
    "```\n",
    "```\n",
    "출력 예시:\n",
    "[100, 130, 140, 150, 160, 170]\n",
    "```"
   ]
  },
  {
   "cell_type": "code",
   "execution_count": 66,
   "id": "71998ff1",
   "metadata": {
    "ExecuteTime": {
     "end_time": "2023-11-25T11:43:45.932557Z",
     "start_time": "2023-11-25T11:43:45.921429Z"
    }
   },
   "outputs": [
    {
     "name": "stdout",
     "output_type": "stream",
     "text": [
      "[100, 130, 140, 150, 160, 170]\n"
     ]
    }
   ],
   "source": [
    "price = ['20180728', 100, 130, 140, 150, 160, 170]\n",
    "print(price[1:])"
   ]
  },
  {
   "cell_type": "markdown",
   "id": "d4971543",
   "metadata": {},
   "source": [
    "### 062. 리스트 슬라이싱\n",
    "슬라이싱을 사용해서 홀수만 출력하라.\n",
    "```\n",
    "nums = [1, 2, 3, 4, 5, 6, 7, 8, 9, 10]\n",
    "```\n",
    "```\n",
    "실행 예:\n",
    "[1, 3, 5, 7, 9]\n",
    "```"
   ]
  },
  {
   "cell_type": "code",
   "execution_count": 68,
   "id": "41e6e1b0",
   "metadata": {
    "ExecuteTime": {
     "end_time": "2023-11-25T11:45:50.972522Z",
     "start_time": "2023-11-25T11:45:50.960880Z"
    }
   },
   "outputs": [
    {
     "name": "stdout",
     "output_type": "stream",
     "text": [
      "[1, 3, 5, 7, 9]\n"
     ]
    }
   ],
   "source": [
    "nums = [1, 2, 3, 4, 5, 6, 7, 8, 9, 10]\n",
    "print(nums[::2])"
   ]
  },
  {
   "cell_type": "markdown",
   "id": "fa0b4f48",
   "metadata": {},
   "source": [
    "### 063. 리스트 슬라이싱\n",
    "슬라이싱을 사용해서 짝수만 출력하라.\n",
    "```\n",
    "nums = [1, 2, 3, 4, 5, 6, 7, 8, 9, 10]\n",
    "```\n",
    "```\n",
    "실행 예:\n",
    "[2, 4, 6, 8, 10]\n",
    "```"
   ]
  },
  {
   "cell_type": "code",
   "execution_count": 70,
   "id": "5bd421f3",
   "metadata": {
    "ExecuteTime": {
     "end_time": "2023-11-25T11:47:23.070889Z",
     "start_time": "2023-11-25T11:47:23.061680Z"
    }
   },
   "outputs": [
    {
     "name": "stdout",
     "output_type": "stream",
     "text": [
      "[2, 4, 6, 8, 10]\n"
     ]
    }
   ],
   "source": [
    "nums = [1, 2, 3, 4, 5, 6, 7, 8, 9, 10]\n",
    "print(nums[1::2])"
   ]
  },
  {
   "cell_type": "markdown",
   "id": "4e89a6d2",
   "metadata": {},
   "source": [
    "### 064. 리스트 역 방향으로 출력하기\n",
    "슬라이싱을 사용해서 리스트의 숫자를 역 방향으로 출력하라.\n",
    "```\n",
    "nums = [1, 2, 3, 4, 5]\n",
    "```\n",
    "```\n",
    "실행 예:\n",
    "[5, 4, 3, 2, 1]\n",
    "```"
   ]
  },
  {
   "cell_type": "code",
   "execution_count": 73,
   "id": "de936323",
   "metadata": {
    "ExecuteTime": {
     "end_time": "2023-11-25T11:48:55.540285Z",
     "start_time": "2023-11-25T11:48:55.532213Z"
    }
   },
   "outputs": [
    {
     "name": "stdout",
     "output_type": "stream",
     "text": [
      "[5, 4, 3, 2, 1]\n"
     ]
    }
   ],
   "source": [
    "nums = [1, 2, 3, 4, 5]\n",
    "print(nums[::-1])"
   ]
  },
  {
   "cell_type": "markdown",
   "id": "484e0279",
   "metadata": {},
   "source": [
    "### 065. 원하는 값 출력하기\n",
    "interest 리스트에는 아래의 데이터가 바인딩되어 있다.\n",
    "```\n",
    "interest = ['삼성전자', 'LG전자', 'Naver']\n",
    "```\n",
    "interest 리스트를 사용하여 아래와 같이 화면에 출력하라.\n",
    "```\n",
    "출력 예시:\n",
    "삼성전자 Naver\n",
    "```"
   ]
  },
  {
   "cell_type": "code",
   "execution_count": 75,
   "id": "144c1c2b",
   "metadata": {
    "ExecuteTime": {
     "end_time": "2023-11-25T11:51:09.846529Z",
     "start_time": "2023-11-25T11:51:09.838146Z"
    }
   },
   "outputs": [
    {
     "name": "stdout",
     "output_type": "stream",
     "text": [
      "삼성전자 Naver\n"
     ]
    }
   ],
   "source": [
    "interest = ['삼성전자', 'LG전자', 'Naver']\n",
    "print(interest[0], interest[2])"
   ]
  },
  {
   "cell_type": "markdown",
   "id": "59fc13da",
   "metadata": {},
   "source": [
    "### 066. join 메서드\n",
    "interest 리스트에는 아래의 데이터가 바인딩되어 있다.\n",
    "```\n",
    "interest = ['삼성전자', 'LG전자', 'Naver', 'SK하이닉스', '미래에셋대우']\n",
    "```\n",
    "interest 리스트를 사용하여 아래와 같이 화면에 출력하라.\n",
    "```\n",
    "출력 예시:\n",
    "삼성전자 LG전자 Naver SK하이닉스 미래에셋대우\n",
    "```"
   ]
  },
  {
   "cell_type": "code",
   "execution_count": 76,
   "id": "aef96e21",
   "metadata": {
    "ExecuteTime": {
     "end_time": "2023-11-25T11:53:56.457471Z",
     "start_time": "2023-11-25T11:53:56.444956Z"
    }
   },
   "outputs": [
    {
     "name": "stdout",
     "output_type": "stream",
     "text": [
      "삼성전자 LG전자 Naver SK하이닉스 미래에셋대우\n"
     ]
    }
   ],
   "source": [
    "interest = ['삼성전자', 'LG전자', 'Naver', 'SK하이닉스', '미래에셋대우']\n",
    "print(interest[0], interest[1], interest[2], interest[3], interest[4])"
   ]
  },
  {
   "cell_type": "code",
   "execution_count": 78,
   "id": "be4a139d",
   "metadata": {
    "ExecuteTime": {
     "end_time": "2023-11-25T11:54:36.836323Z",
     "start_time": "2023-11-25T11:54:36.829282Z"
    }
   },
   "outputs": [
    {
     "name": "stdout",
     "output_type": "stream",
     "text": [
      "삼성전자 LG전자 Naver SK하이닉스 미래에셋대우\n"
     ]
    }
   ],
   "source": [
    "# 정답\n",
    "print(\" \".join(interest))"
   ]
  },
  {
   "cell_type": "markdown",
   "id": "907ca7d2",
   "metadata": {},
   "source": [
    "### 067. join 메서드\n",
    "interest 리스트에는 아래의 데이터가 바인딩되어 있다.\n",
    "```\n",
    "interest = ['삼성전자', 'LG전자', 'Naver', 'SK하이닉스', '미래에셋대우']\n",
    "```\n",
    "interest 리스트를 사용하여 아래와 같이 화면에 출력하라.\n",
    "```\n",
    "출력 예시:\n",
    "삼성전자/LG전자/Naver/SK하이닉스/미래에셋대우\n",
    "```"
   ]
  },
  {
   "cell_type": "code",
   "execution_count": 79,
   "id": "690ec10c",
   "metadata": {
    "ExecuteTime": {
     "end_time": "2023-11-25T11:55:28.679724Z",
     "start_time": "2023-11-25T11:55:28.672180Z"
    }
   },
   "outputs": [
    {
     "name": "stdout",
     "output_type": "stream",
     "text": [
      "삼성전자/LG전자/Naver/SK하이닉스/미래에셋대우\n"
     ]
    }
   ],
   "source": [
    "interest = ['삼성전자', 'LG전자', 'Naver', 'SK하이닉스', '미래에셋대우']\n",
    "print(\"/\".join(interest))"
   ]
  },
  {
   "cell_type": "markdown",
   "id": "62600b29",
   "metadata": {},
   "source": [
    "### 068. join 메서드\n",
    "interest 리스트에는 아래의 데이터가 바인딩되어 있다.\n",
    "```\n",
    "interest = ['삼성전자', 'LG전자', 'Naver', 'SK하이닉스', '미래에셋대우']\n",
    "```\n",
    "join() 메서드를 사용해서 interest 리스트를 아래와 같이 화면에 출력하라.\n",
    "```\n",
    "출력 예시:\n",
    "삼성전자\n",
    "LG전자\n",
    "Naver\n",
    "SK하이닉스\n",
    "미래에셋대우\n",
    "```"
   ]
  },
  {
   "cell_type": "code",
   "execution_count": 80,
   "id": "7420b90e",
   "metadata": {
    "ExecuteTime": {
     "end_time": "2023-11-25T11:56:36.641802Z",
     "start_time": "2023-11-25T11:56:36.634338Z"
    }
   },
   "outputs": [
    {
     "name": "stdout",
     "output_type": "stream",
     "text": [
      "삼성전자\n",
      "LG전자\n",
      "Naver\n",
      "SK하이닉스\n",
      "미래에셋대우\n"
     ]
    }
   ],
   "source": [
    "interest = ['삼성전자', 'LG전자', 'Naver', 'SK하이닉스', '미래에셋대우']\n",
    "print(\"\\n\".join(interest))"
   ]
  },
  {
   "cell_type": "markdown",
   "id": "34910ead",
   "metadata": {},
   "source": [
    "### 069. 문자열 split 메서드\n",
    "회사 이름이 슬래시 ('/')로 구분되어 하나의 문자열로 저장되어 있다.\n",
    "```\n",
    "string = \"삼성전자/LG전자/Naver\"\n",
    "```\n",
    "이를 interest 이름의 리스트로 분리 저장하라.\n",
    "```\n",
    "실행 예시\n",
    ">> print(interest)\n",
    "['삼성전자', 'LG전자', 'Naver']\n",
    "```"
   ]
  },
  {
   "cell_type": "code",
   "execution_count": 81,
   "id": "8d2083bc",
   "metadata": {
    "ExecuteTime": {
     "end_time": "2023-11-25T11:57:55.388750Z",
     "start_time": "2023-11-25T11:57:55.377755Z"
    }
   },
   "outputs": [
    {
     "name": "stdout",
     "output_type": "stream",
     "text": [
      "['삼성전자', 'LG전자', 'Naver']\n"
     ]
    }
   ],
   "source": [
    "string = \"삼성전자/LG전자/Naver\"\n",
    "interest = string.split(\"/\")\n",
    "print(interest)"
   ]
  },
  {
   "cell_type": "markdown",
   "id": "df4103b3",
   "metadata": {},
   "source": [
    "### 070. 리스트 정렬\n",
    "리스트에 있는 값을 오름차순으로 정렬하세요.\n",
    "```\n",
    "data = [2, 4, 3, 1, 5, 10, 9]\n",
    "```"
   ]
  },
  {
   "cell_type": "code",
   "execution_count": 86,
   "id": "776752d5",
   "metadata": {
    "ExecuteTime": {
     "end_time": "2023-11-25T11:59:39.882912Z",
     "start_time": "2023-11-25T11:59:39.874154Z"
    }
   },
   "outputs": [
    {
     "name": "stdout",
     "output_type": "stream",
     "text": [
      "[1, 2, 3, 4, 5, 9, 10]\n"
     ]
    }
   ],
   "source": [
    "data = [2, 4, 3, 1, 5, 10, 9]\n",
    "data.sort()\n",
    "print(data)"
   ]
  },
  {
   "cell_type": "code",
   "execution_count": 87,
   "id": "276691e6",
   "metadata": {
    "ExecuteTime": {
     "end_time": "2023-11-25T12:00:10.066541Z",
     "start_time": "2023-11-25T12:00:10.058640Z"
    }
   },
   "outputs": [
    {
     "name": "stdout",
     "output_type": "stream",
     "text": [
      "[1, 2, 3, 4, 5, 9, 10]\n"
     ]
    }
   ],
   "source": [
    "# 추가 답안\n",
    "data = [2, 4, 3, 1, 5, 10, 9]\n",
    "data2 = sorted(data)\n",
    "print(data2)"
   ]
  },
  {
   "cell_type": "markdown",
   "id": "6383c4fb",
   "metadata": {
    "ExecuteTime": {
     "end_time": "2023-11-25T12:00:34.525581Z",
     "start_time": "2023-11-25T12:00:34.519618Z"
    }
   },
   "source": [
    "## 파이썬 튜플"
   ]
  },
  {
   "cell_type": "markdown",
   "id": "47f205bd",
   "metadata": {},
   "source": [
    "### 071. 튜플 만들기\n",
    "my_variable 이름의 비어있는 튜플을 만들라."
   ]
  },
  {
   "cell_type": "code",
   "execution_count": 90,
   "id": "d9bf5e77",
   "metadata": {
    "ExecuteTime": {
     "end_time": "2023-11-25T12:01:29.020114Z",
     "start_time": "2023-11-25T12:01:29.012539Z"
    }
   },
   "outputs": [
    {
     "name": "stdout",
     "output_type": "stream",
     "text": [
      "() <class 'tuple'>\n"
     ]
    }
   ],
   "source": [
    "my_variable = ()\n",
    "print(my_variable, type(my_variable))"
   ]
  },
  {
   "cell_type": "markdown",
   "id": "3b686195",
   "metadata": {},
   "source": [
    "### 072. 튜플 만들기\n",
    "2016년 11월 영화 예매 순위 기준 top3는 다음과 같다. 영화 제목을 movie_rank 이름의 튜플에 저장하라. (순위 정보는 저장하지 않는다.)\n",
    "\n",
    "|순위|영화|\n",
    "|---|---|\n",
    "|1|닥터 스트레인지|\n",
    "|2|스플릿|\n",
    "|3|럭키|"
   ]
  },
  {
   "cell_type": "code",
   "execution_count": 92,
   "id": "167cbe29",
   "metadata": {
    "ExecuteTime": {
     "end_time": "2023-11-25T12:03:34.294315Z",
     "start_time": "2023-11-25T12:03:34.287061Z"
    }
   },
   "outputs": [
    {
     "name": "stdout",
     "output_type": "stream",
     "text": [
      "('닥터 스트레인지', '스플릿', '럭키')\n"
     ]
    }
   ],
   "source": [
    "movie_rank = (\"닥터 스트레인지\", \"스플릿\", \"럭키\")\n",
    "print(movie_rank)"
   ]
  },
  {
   "cell_type": "markdown",
   "id": "dd5ca1fc",
   "metadata": {},
   "source": [
    "### 073. 튜플 만들기\n",
    "숫자 1 이 저장된 튜플을 생성하라."
   ]
  },
  {
   "cell_type": "code",
   "execution_count": 94,
   "id": "f4935046",
   "metadata": {
    "ExecuteTime": {
     "end_time": "2023-11-25T12:04:37.723157Z",
     "start_time": "2023-11-25T12:04:37.714540Z"
    }
   },
   "outputs": [
    {
     "name": "stdout",
     "output_type": "stream",
     "text": [
      "(1,) <class 'tuple'>\n"
     ]
    }
   ],
   "source": [
    "a = (1, )\n",
    "print(a, type(a))"
   ]
  },
  {
   "cell_type": "markdown",
   "id": "aecade9a",
   "metadata": {},
   "source": [
    "### 074. immutable\n",
    "다음 코드를 실행해보고 오류가 발생하는 원인을 설명하라.\n",
    "```\n",
    ">> t = (1, 2, 3)\n",
    ">> t[0] = 'a'\n",
    "Traceback (most recent call last):\n",
    "  File \"<pyshell#46>\", line 1, in <module>\n",
    "    t[0] = 'a'\n",
    "TypeError: 'tuple' object does not support item assignment\n",
    "```"
   ]
  },
  {
   "cell_type": "code",
   "execution_count": 97,
   "id": "a6fc50e1",
   "metadata": {
    "ExecuteTime": {
     "end_time": "2023-11-25T12:06:23.674644Z",
     "start_time": "2023-11-25T12:06:23.630784Z"
    }
   },
   "outputs": [
    {
     "ename": "TypeError",
     "evalue": "'tuple' object does not support item assignment",
     "output_type": "error",
     "traceback": [
      "\u001b[1;31m---------------------------------------------------------------------------\u001b[0m",
      "\u001b[1;31mTypeError\u001b[0m                                 Traceback (most recent call last)",
      "Cell \u001b[1;32mIn[97], line 2\u001b[0m\n\u001b[0;32m      1\u001b[0m t \u001b[38;5;241m=\u001b[39m (\u001b[38;5;241m1\u001b[39m, \u001b[38;5;241m2\u001b[39m, \u001b[38;5;241m3\u001b[39m)\n\u001b[1;32m----> 2\u001b[0m t[\u001b[38;5;241m0\u001b[39m] \u001b[38;5;241m=\u001b[39m \u001b[38;5;124m'\u001b[39m\u001b[38;5;124ma\u001b[39m\u001b[38;5;124m'\u001b[39m\n",
      "\u001b[1;31mTypeError\u001b[0m: 'tuple' object does not support item assignment"
     ]
    }
   ],
   "source": [
    "t = (1, 2, 3)\n",
    "t[0] = 'a'\n",
    "\n",
    "# 튜플은 원소 값을 변경할 수 없기 때문에 오류가 발생함"
   ]
  },
  {
   "cell_type": "markdown",
   "id": "c0489bc1",
   "metadata": {},
   "source": [
    "### 075. 데이터 타입 확인하기\n",
    "아래와 같이 t에는 1, 2, 3, 4 데이터가 바인딩되어 있다. t가 바인딩하는 데이터 타입은 무엇인가?\n",
    "```\n",
    "t = 1, 2, 3, 4\n",
    "```"
   ]
  },
  {
   "cell_type": "code",
   "execution_count": 99,
   "id": "153a6719",
   "metadata": {
    "ExecuteTime": {
     "end_time": "2023-11-25T12:07:39.905562Z",
     "start_time": "2023-11-25T12:07:39.896975Z"
    }
   },
   "outputs": [
    {
     "name": "stdout",
     "output_type": "stream",
     "text": [
      "<class 'tuple'>\n"
     ]
    }
   ],
   "source": [
    "t = 1, 2, 3, 4\n",
    "print(type(t))\n",
    "\n",
    "# 튜플은 괄호가 없어도 동작함"
   ]
  },
  {
   "cell_type": "markdown",
   "id": "337de702",
   "metadata": {},
   "source": [
    "### 076. 튜플 원소 값 수정하기\n",
    "변수 t에는 아래와 같은 값이 저장되어 있다. 변수 t가 ('A', 'b', 'c') 튜플을 가리키도록 수정 하라.\n",
    "```\n",
    "t = ('a', 'b', 'c')\n",
    "```"
   ]
  },
  {
   "cell_type": "code",
   "execution_count": 100,
   "id": "457883d7",
   "metadata": {
    "ExecuteTime": {
     "end_time": "2023-11-25T12:10:03.097223Z",
     "start_time": "2023-11-25T12:10:03.086337Z"
    }
   },
   "outputs": [
    {
     "name": "stdout",
     "output_type": "stream",
     "text": [
      "('A', 'b', 'c')\n"
     ]
    }
   ],
   "source": [
    "t = ('a', 'b', 'c')\n",
    "t = ('A', 'b', 'c')\n",
    "print(t)"
   ]
  },
  {
   "cell_type": "markdown",
   "id": "17d4e1f7",
   "metadata": {},
   "source": [
    "### 077. 튜플을 리스트로 변환하기\n",
    "다음 튜플을 리스트로 변환하라.\n",
    "```\n",
    "interest = ('삼성전자', 'LG전자', 'SK Hynix')\n",
    "```"
   ]
  },
  {
   "cell_type": "code",
   "execution_count": 103,
   "id": "37d31d62",
   "metadata": {
    "ExecuteTime": {
     "end_time": "2023-11-25T12:12:51.858864Z",
     "start_time": "2023-11-25T12:12:51.849502Z"
    }
   },
   "outputs": [
    {
     "name": "stdout",
     "output_type": "stream",
     "text": [
      "['삼성전자', 'LG전자', 'SK Hynix'] <class 'list'>\n"
     ]
    }
   ],
   "source": [
    "interest = ('삼성전자', 'LG전자', 'SK Hynix')\n",
    "data = list(interest)\n",
    "print(data, type(data))"
   ]
  },
  {
   "cell_type": "markdown",
   "id": "b96a6a30",
   "metadata": {},
   "source": [
    "### 078. 리스트를 튜플로 변환하기\n",
    "다음 리스트를 튜플로 변경하라.\n",
    "```\n",
    "interest = ['삼성전자', 'LG전자', 'SK Hynix']\n",
    "```"
   ]
  },
  {
   "cell_type": "code",
   "execution_count": 104,
   "id": "e5a8a591",
   "metadata": {
    "ExecuteTime": {
     "end_time": "2023-11-25T12:13:31.614858Z",
     "start_time": "2023-11-25T12:13:31.604643Z"
    }
   },
   "outputs": [
    {
     "name": "stdout",
     "output_type": "stream",
     "text": [
      "('삼성전자', 'LG전자', 'SK Hynix') <class 'tuple'>\n"
     ]
    }
   ],
   "source": [
    "interest = ['삼성전자', 'LG전자', 'SK Hynix']\n",
    "data = tuple(interest)\n",
    "print(data, type(data))"
   ]
  },
  {
   "cell_type": "markdown",
   "id": "c8ebba36",
   "metadata": {},
   "source": [
    "### 079. 튜플 언팩킹\n",
    "다음 코드의 실행 결과를 예상하라.\n",
    "```\n",
    "temp = ('apple', 'banana', 'cake')\n",
    "a, b, c = temp\n",
    "print(a, b, c)\n",
    "```"
   ]
  },
  {
   "cell_type": "code",
   "execution_count": 107,
   "id": "d27f6715",
   "metadata": {
    "ExecuteTime": {
     "end_time": "2023-11-25T12:15:13.639486Z",
     "start_time": "2023-11-25T12:15:13.631257Z"
    }
   },
   "outputs": [
    {
     "name": "stdout",
     "output_type": "stream",
     "text": [
      "apple banana cake\n"
     ]
    }
   ],
   "source": [
    "# 모르겠어서 답 봄\n",
    "\n",
    "temp = ('apple', 'banana', 'cake')\n",
    "a, b, c = temp\n",
    "print(a, b, c)\n",
    "\n",
    "# apple, banana, cake"
   ]
  },
  {
   "cell_type": "markdown",
   "id": "1f01a65a",
   "metadata": {},
   "source": [
    "### 080. range 함수\n",
    "1 부터 99까지의 정수 중 짝수만 저장된 튜플을 생성하라.\n",
    "```\n",
    "(2, 4, 6, 8 ... 98)\n",
    "```"
   ]
  },
  {
   "cell_type": "code",
   "execution_count": 108,
   "id": "fb39266f",
   "metadata": {
    "ExecuteTime": {
     "end_time": "2023-11-25T12:17:59.646355Z",
     "start_time": "2023-11-25T12:17:59.636634Z"
    }
   },
   "outputs": [
    {
     "name": "stdout",
     "output_type": "stream",
     "text": [
      "(2, 4, 6, 8, 10, 12, 14, 16, 18, 20, 22, 24, 26, 28, 30, 32, 34, 36, 38, 40, 42, 44, 46, 48, 50, 52, 54, 56, 58, 60, 62, 64, 66, 68, 70, 72, 74, 76, 78, 80, 82, 84, 86, 88, 90, 92, 94, 96, 98) <class 'tuple'>\n"
     ]
    }
   ],
   "source": [
    "# range(값)\n",
    "# range(시작 값, 끝 값 + 1)\n",
    "# range(시작 값, 끝 값 + 1, 간격)\n",
    "\n",
    "a = tuple(range(2,100,2))\n",
    "print(a, type(a))"
   ]
  },
  {
   "cell_type": "markdown",
   "id": "b7644e27",
   "metadata": {},
   "source": [
    "## 파이썬 딕셔너리"
   ]
  },
  {
   "cell_type": "markdown",
   "id": "601b8769",
   "metadata": {},
   "source": [
    "### 081. 별 표현식\n",
    "기본적으로 데이터 언패킹은 좌변의 변수와 우변 데이터 개수가 같아야 합니다. 하지만 star expression을 사용하면 변수의 개수가 달라도 데이터 언패킹을 할 수 있습니다. 튜플에 저장된 데이터 중에서 앞에 있는 두 개의 데이터만 필요할 경우 나머지 데이터의 언패킹 코드를 작성할 필요가 없습니다.\n",
    "```\n",
    ">> a, b, *c = (0, 1, 2, 3, 4, 5)\n",
    ">> a\n",
    "0\n",
    ">> b\n",
    "1\n",
    ">> c\n",
    "[2, 3, 4, 5]\n",
    "```\n",
    "다음과 같이 10개의 값이 저장된 scores 리스트가 있을 때, star expression을 사용하여 좌측 8개의 값을 valid_score 변수에 바인딩하여라.\n",
    "```\n",
    "scores = [8.8, 8.9, 8.7, 9.2, 9.3, 9.7, 9.9, 9.5, 7.8, 9.4]\n",
    "```"
   ]
  },
  {
   "cell_type": "code",
   "execution_count": 7,
   "id": "6b1a4a04",
   "metadata": {
    "ExecuteTime": {
     "end_time": "2023-11-27T12:41:13.553757Z",
     "start_time": "2023-11-27T12:41:13.547093Z"
    }
   },
   "outputs": [
    {
     "name": "stdout",
     "output_type": "stream",
     "text": [
      "[8.8, 8.9, 8.7, 9.2, 9.3, 9.7, 9.9, 9.5]\n"
     ]
    }
   ],
   "source": [
    "scores = [8.8, 8.9, 8.7, 9.2, 9.3, 9.7, 9.9, 9.5, 7.8, 9.4]\n",
    "*valid_score, b, c = scores\n",
    "print(valid_score)"
   ]
  },
  {
   "cell_type": "markdown",
   "id": "41df5f70",
   "metadata": {},
   "source": [
    "### 082. 별 표현식\n",
    "다음과 같이 10개의 값이 저장된 scores 리스트가 있을 때, star expression을 사용하여 우측 8개의 값을 valid_score 변수에 바인딩하여라.\n",
    "```\n",
    "scores = [8.8, 8.9, 8.7, 9.2, 9.3, 9.7, 9.9, 9.5, 7.8, 9.4]\n",
    "```"
   ]
  },
  {
   "cell_type": "code",
   "execution_count": 10,
   "id": "a88ec8bd",
   "metadata": {
    "ExecuteTime": {
     "end_time": "2023-11-27T12:47:59.264728Z",
     "start_time": "2023-11-27T12:47:59.257831Z"
    }
   },
   "outputs": [
    {
     "name": "stdout",
     "output_type": "stream",
     "text": [
      "[8.7, 9.2, 9.3, 9.7, 9.9, 9.5, 7.8, 9.4]\n"
     ]
    }
   ],
   "source": [
    "scores = [8.8, 8.9, 8.7, 9.2, 9.3, 9.7, 9.9, 9.5, 7.8, 9.4]\n",
    "a, b, *valid_score = scores\n",
    "print(valid_score)"
   ]
  },
  {
   "cell_type": "markdown",
   "id": "bc0d0384",
   "metadata": {},
   "source": [
    "### 083. 별 표현식\n",
    "다음과 같이 10개의 값이 저장된 scores 리스트가 있을 때, start expression을 사용하여 가운데 있는 8개의 값을 valid_score 변수에 바인딩하여라.\n",
    "```\n",
    "scores = [8.8, 8.9, 8.7, 9.2, 9.3, 9.7, 9.9, 9.5, 7.8, 9.4]\n",
    "```"
   ]
  },
  {
   "cell_type": "code",
   "execution_count": 11,
   "id": "5e70a17c",
   "metadata": {
    "ExecuteTime": {
     "end_time": "2023-11-27T12:48:14.926159Z",
     "start_time": "2023-11-27T12:48:14.918055Z"
    }
   },
   "outputs": [
    {
     "name": "stdout",
     "output_type": "stream",
     "text": [
      "[8.9, 8.7, 9.2, 9.3, 9.7, 9.9, 9.5, 7.8]\n"
     ]
    }
   ],
   "source": [
    "scores = [8.8, 8.9, 8.7, 9.2, 9.3, 9.7, 9.9, 9.5, 7.8, 9.4]\n",
    "a, *valid_score, b = scores\n",
    "print(valid_score)"
   ]
  },
  {
   "cell_type": "markdown",
   "id": "65cda97b",
   "metadata": {},
   "source": [
    "### 084. 비어있는 딕셔너리\n",
    "temp 이름의 비어있는 딕셔너리를 만들라."
   ]
  },
  {
   "cell_type": "code",
   "execution_count": 13,
   "id": "5aa9f7c7",
   "metadata": {
    "ExecuteTime": {
     "end_time": "2023-11-27T12:50:29.122958Z",
     "start_time": "2023-11-27T12:50:29.115420Z"
    }
   },
   "outputs": [
    {
     "name": "stdout",
     "output_type": "stream",
     "text": [
      "{} <class 'dict'>\n"
     ]
    }
   ],
   "source": [
    "temp = {}\n",
    "print(temp, type(temp))"
   ]
  },
  {
   "cell_type": "markdown",
   "id": "f23b63a0",
   "metadata": {},
   "source": [
    "### 085. 딕셔너리 활용\n",
    "다음 아이스크림 이름과 희망 가격을 딕셔너리로 구성하라.\n",
    "\n",
    "|이름|희망 가격|\n",
    "|---|---|\n",
    "|메로나|1000|\n",
    "|폴라포|1200|\n",
    "|빵빠레|1800|"
   ]
  },
  {
   "cell_type": "code",
   "execution_count": 17,
   "id": "e700ab57",
   "metadata": {
    "ExecuteTime": {
     "end_time": "2023-11-27T12:56:15.045829Z",
     "start_time": "2023-11-27T12:56:15.037154Z"
    }
   },
   "outputs": [
    {
     "name": "stdout",
     "output_type": "stream",
     "text": [
      "{'메로나': 1000, '폴라포': 1200, '빵빠레': 1800} <class 'dict'>\n"
     ]
    }
   ],
   "source": [
    "icecream = {\"메로나\": 1000, \"폴라포\": 1200, \"빵빠레\": 1800}\n",
    "print(icecream, type(icecream))"
   ]
  },
  {
   "cell_type": "markdown",
   "id": "87983d06",
   "metadata": {},
   "source": [
    "### 086. 딕셔너리에 값 추가하기\n",
    "085 번의 딕셔너리에 아래 아이스크림 가격정보를 추가하라.\n",
    "\n",
    "|이름|희망 가격|\n",
    "|---|---|\n",
    "|죠스바|1200|\n",
    "|월드콘|1500|"
   ]
  },
  {
   "cell_type": "code",
   "execution_count": 20,
   "id": "b20315e2",
   "metadata": {
    "ExecuteTime": {
     "end_time": "2023-11-27T13:01:53.966906Z",
     "start_time": "2023-11-27T13:01:53.959121Z"
    }
   },
   "outputs": [
    {
     "name": "stdout",
     "output_type": "stream",
     "text": [
      "{'메로나': 1000, '폴라포': 1200, '빵빠레': 1800, '죠스바': 1200, '월드콘': 1500} <class 'dict'>\n"
     ]
    }
   ],
   "source": [
    "icecream[\"죠스바\"] = 1200\n",
    "icecream[\"월드콘\"] = 1500\n",
    "print(icecream, type(icecream))"
   ]
  },
  {
   "cell_type": "markdown",
   "id": "4ed51d9b",
   "metadata": {},
   "source": [
    "### 087. 딕셔너리 값 추출하기\n",
    "다음 딕셔너리를 사용하여 메로나 가격을 출력하라.\n",
    "```\n",
    "ice = {'메로나': 1000,\n",
    "       '폴로포': 1200,\n",
    "       '빵빠레': 1800,\n",
    "       '죠스바': 1200,\n",
    "       '월드콘': 1500}\n",
    "```\n",
    "```\n",
    "실행 예:\n",
    "메로나 가격: 1000\n",
    "```"
   ]
  },
  {
   "cell_type": "code",
   "execution_count": 27,
   "id": "3b688a29",
   "metadata": {
    "ExecuteTime": {
     "end_time": "2023-11-27T13:08:02.183180Z",
     "start_time": "2023-11-27T13:08:02.175089Z"
    }
   },
   "outputs": [
    {
     "name": "stdout",
     "output_type": "stream",
     "text": [
      "메로나 가격:  1000\n"
     ]
    }
   ],
   "source": [
    "ice = {'메로나': 1000,\n",
    "       '폴로포': 1200,\n",
    "       '빵빠레': 1800,\n",
    "       '죠스바': 1200,\n",
    "       '월드콘': 1500}\n",
    "print(\"메로나 가격: \", ice['메로나'])"
   ]
  },
  {
   "cell_type": "markdown",
   "id": "6e0a93bc",
   "metadata": {},
   "source": [
    "### 088. 딕셔너리 값 수정하기\n",
    "다음 딕셔너리에서 메로나의 가격을 1300으로 수정하라.\n",
    "```\n",
    "ice = {'메로나': 1000,\n",
    "       '폴로포': 1200,\n",
    "       '빵빠레': 1800,\n",
    "       '죠스바': 1200,\n",
    "       '월드콘': 1500}\n",
    "```"
   ]
  },
  {
   "cell_type": "code",
   "execution_count": 30,
   "id": "608884a4",
   "metadata": {
    "ExecuteTime": {
     "end_time": "2023-11-27T13:10:16.503129Z",
     "start_time": "2023-11-27T13:10:16.495052Z"
    }
   },
   "outputs": [
    {
     "name": "stdout",
     "output_type": "stream",
     "text": [
      "{'메로나': 1300, '폴로포': 1200, '빵빠레': 1800, '죠스바': 1200, '월드콘': 1500}\n"
     ]
    }
   ],
   "source": [
    "ice = {'메로나': 1000,\n",
    "       '폴로포': 1200,\n",
    "       '빵빠레': 1800,\n",
    "       '죠스바': 1200,\n",
    "       '월드콘': 1500}\n",
    "ice['메로나'] = 1300\n",
    "print(ice)"
   ]
  },
  {
   "cell_type": "markdown",
   "id": "2e7a2936",
   "metadata": {},
   "source": [
    "### 089. 딕셔너리 값 삭제하기\n",
    "다음 딕셔너리에서 메로나를 삭제하라.\n",
    "```\n",
    "ice = {'메로나': 1000,\n",
    "       '폴로포': 1200,\n",
    "       '빵빠레': 1800,\n",
    "       '죠스바': 1200,\n",
    "       '월드콘': 1500}\n",
    "```"
   ]
  },
  {
   "cell_type": "code",
   "execution_count": 31,
   "id": "1528481c",
   "metadata": {
    "ExecuteTime": {
     "end_time": "2023-11-27T13:10:45.092363Z",
     "start_time": "2023-11-27T13:10:45.084174Z"
    }
   },
   "outputs": [
    {
     "name": "stdout",
     "output_type": "stream",
     "text": [
      "{'폴로포': 1200, '빵빠레': 1800, '죠스바': 1200, '월드콘': 1500}\n"
     ]
    }
   ],
   "source": [
    "ice = {'메로나': 1000,\n",
    "       '폴로포': 1200,\n",
    "       '빵빠레': 1800,\n",
    "       '죠스바': 1200,\n",
    "       '월드콘': 1500}\n",
    "del ice['메로나']\n",
    "print(ice)"
   ]
  },
  {
   "cell_type": "markdown",
   "id": "b5b17909",
   "metadata": {},
   "source": [
    "### 090\n",
    "다음 코드에서 에러가 발생한 원인을 설명하라.\n",
    "```\n",
    ">> icecream = {'폴라포': 1200, '빵빠레': 1800, '월드콘': 1500, '메로나': 1000}\n",
    ">> icecream['누가바']\n",
    "Traceback (most recent call last):\n",
    "  File \"<pyshell#69>\", line 1, in <module>\n",
    "    icecream['누가바']\n",
    "KeyError: '누가바'\n",
    "```"
   ]
  },
  {
   "cell_type": "markdown",
   "id": "f224bf92",
   "metadata": {},
   "source": [
    "icecream 이라는 딕셔너리에 '누가바'라는 key가 존재하지 않기 때문에 에러가 발생함"
   ]
  },
  {
   "cell_type": "markdown",
   "id": "72202952",
   "metadata": {},
   "source": [
    "### 091. 딕셔너리 생성\n",
    "아래의 표에서, 아이스크림 이름을 키값으로, (가격, 재고) 리스트를 딕셔너리의 값으로 저장하라. 딕셔너리의 이름은 inventory로 한다.\n",
    "\n",
    "|이름|가격|재고|\n",
    "|---|---|---|\n",
    "|메로나|300|20|\n",
    "|비비빅|400|3|\n",
    "|죠스바|250|100|"
   ]
  },
  {
   "cell_type": "code",
   "execution_count": 32,
   "id": "2d66f705",
   "metadata": {
    "ExecuteTime": {
     "end_time": "2023-11-27T13:15:14.783624Z",
     "start_time": "2023-11-27T13:15:14.774939Z"
    }
   },
   "outputs": [
    {
     "name": "stdout",
     "output_type": "stream",
     "text": [
      "{'메로나': [300, 20], '비비빅': [400, 3], '죠스바': [250, 100]} <class 'dict'>\n"
     ]
    }
   ],
   "source": [
    "inventory = {'메로나': [300, 20], '비비빅': [400, 3], '죠스바': [250, 100]}\n",
    "print(inventory, type(inventory))"
   ]
  },
  {
   "cell_type": "markdown",
   "id": "3a6c9f03",
   "metadata": {},
   "source": [
    "### 092. 딕셔너리 인덱싱\n",
    "inventory 딕셔너리에서 메로나의 가격을 화면에 출력하라.\n",
    "```\n",
    "inventory = {\"메로나\": [300, 20],\n",
    "              \"비비빅\": [400, 3],\n",
    "              \"죠스바\": [250, 100]}\n",
    "```\n",
    "```\n",
    "실행 예시:\n",
    "300 원\n",
    "```"
   ]
  },
  {
   "cell_type": "code",
   "execution_count": 33,
   "id": "c9991fbd",
   "metadata": {
    "ExecuteTime": {
     "end_time": "2023-11-27T13:16:32.903576Z",
     "start_time": "2023-11-27T13:16:32.895068Z"
    }
   },
   "outputs": [
    {
     "name": "stdout",
     "output_type": "stream",
     "text": [
      "300 원\n"
     ]
    }
   ],
   "source": [
    "inventory = {\"메로나\": [300, 20],\n",
    "              \"비비빅\": [400, 3],\n",
    "              \"죠스바\": [250, 100]}\n",
    "print(inventory['메로나'][0], \"원\")"
   ]
  },
  {
   "cell_type": "markdown",
   "id": "6352b4b3",
   "metadata": {},
   "source": [
    "### 093. 딕셔너리 인덱싱\n",
    "inventory 딕셔너리에서 메로나의 재고를 화면에 출력하라.\n",
    "```\n",
    "inventory = {\"메로나\": [300, 20],\n",
    "              \"비비빅\": [400, 3],\n",
    "              \"죠스바\": [250, 100]}\n",
    "```\n",
    "```\n",
    "실행 예시:\n",
    "20 개\n",
    "```"
   ]
  },
  {
   "cell_type": "code",
   "execution_count": 35,
   "id": "9e4d1740",
   "metadata": {
    "ExecuteTime": {
     "end_time": "2023-11-27T13:17:19.365735Z",
     "start_time": "2023-11-27T13:17:19.357494Z"
    }
   },
   "outputs": [
    {
     "name": "stdout",
     "output_type": "stream",
     "text": [
      "20 개\n"
     ]
    }
   ],
   "source": [
    "inventory = {\"메로나\": [300, 20],\n",
    "              \"비비빅\": [400, 3],\n",
    "              \"죠스바\": [250, 100]}\n",
    "print(inventory['메로나'][1], \"개\")"
   ]
  },
  {
   "cell_type": "markdown",
   "id": "34793db9",
   "metadata": {},
   "source": [
    "### 094. 딕셔너리 추가\n",
    "inventory 딕셔너리에 아래 데이터를 추가하라.\n",
    "```\n",
    "inventory = {\"메로나\": [300, 20],\n",
    "              \"비비빅\": [400, 3],\n",
    "              \"죠스바\": [250, 100]}\n",
    "```\n",
    "|이름|가격|재고|\n",
    "|---|---|---|\n",
    "|월드콘|500|7|"
   ]
  },
  {
   "cell_type": "code",
   "execution_count": 36,
   "id": "55932f00",
   "metadata": {
    "ExecuteTime": {
     "end_time": "2023-11-27T13:18:55.007825Z",
     "start_time": "2023-11-27T13:18:55.001583Z"
    }
   },
   "outputs": [
    {
     "name": "stdout",
     "output_type": "stream",
     "text": [
      "{'메로나': [300, 20], '비비빅': [400, 3], '죠스바': [250, 100], '월드콘': [500, 7]} <class 'dict'>\n"
     ]
    }
   ],
   "source": [
    "inventory = {\"메로나\": [300, 20],\n",
    "              \"비비빅\": [400, 3],\n",
    "              \"죠스바\": [250, 100]}\n",
    "inventory['월드콘'] = [500, 7]\n",
    "print(inventory, type(inventory))"
   ]
  },
  {
   "cell_type": "markdown",
   "id": "1a4c2b8b",
   "metadata": {},
   "source": [
    "### 095. 딕셔너리 keys() 메서드\n",
    "다음의 딕셔너리로부터 key 값으로만 구성된 리스트를 생성하라.\n",
    "```\n",
    "icecream = {'탱크보이': 1200, '폴라포': 1200, '빵빠레': 1800, '월드콘': 1500, '메로나': 1000}\n",
    "```"
   ]
  },
  {
   "cell_type": "code",
   "execution_count": 41,
   "id": "256b5db2",
   "metadata": {
    "ExecuteTime": {
     "end_time": "2023-11-27T13:20:58.397413Z",
     "start_time": "2023-11-27T13:20:58.388825Z"
    }
   },
   "outputs": [
    {
     "name": "stdout",
     "output_type": "stream",
     "text": [
      "['탱크보이', '폴라포', '빵빠레', '월드콘', '메로나'] <class 'list'>\n"
     ]
    }
   ],
   "source": [
    "icecream = {'탱크보이': 1200, '폴라포': 1200, '빵빠레': 1800, '월드콘': 1500, '메로나': 1000}\n",
    "keys = icecream.keys()\n",
    "print(list(keys), type(list(keys)))"
   ]
  },
  {
   "cell_type": "markdown",
   "id": "8abc63b1",
   "metadata": {},
   "source": [
    "### 096. 딕셔너리 values() 메서드\n",
    "다음의 딕셔너리에서 values 값으로만 구성된 리스트를 생성하라.\n",
    "```\n",
    "icecream = {'탱크보이': 1200, '폴라포': 1200, '빵빠레': 1800, '월드콘': 1500, '메로나': 1000}\n",
    "```"
   ]
  },
  {
   "cell_type": "code",
   "execution_count": 42,
   "id": "778c1d9c",
   "metadata": {
    "ExecuteTime": {
     "end_time": "2023-11-27T13:21:53.752848Z",
     "start_time": "2023-11-27T13:21:53.743035Z"
    }
   },
   "outputs": [
    {
     "name": "stdout",
     "output_type": "stream",
     "text": [
      "[1200, 1200, 1800, 1500, 1000] <class 'list'>\n"
     ]
    }
   ],
   "source": [
    "icecream = {'탱크보이': 1200, '폴라포': 1200, '빵빠레': 1800, '월드콘': 1500, '메로나': 1000}\n",
    "values = icecream.values()\n",
    "print(list(values), type(list(values)))"
   ]
  },
  {
   "cell_type": "markdown",
   "id": "8a965979",
   "metadata": {},
   "source": [
    "### 097. 딕셔너리 values() 메서드\n",
    "icecream 딕셔너리에서 아이스크림 판매 금액의 총합을 출력하라.\n",
    "```\n",
    "icecream = {'탱크보이': 1200, '폴라포': 1200, '빵빠레': 1800, '월드콘': 1500, '메로나': 1000}\n",
    "```\n",
    "```\n",
    "출력 예시:\n",
    "6700\n",
    "```"
   ]
  },
  {
   "cell_type": "code",
   "execution_count": 44,
   "id": "ae7645ef",
   "metadata": {
    "ExecuteTime": {
     "end_time": "2023-11-27T13:23:21.296917Z",
     "start_time": "2023-11-27T13:23:21.291093Z"
    }
   },
   "outputs": [
    {
     "name": "stdout",
     "output_type": "stream",
     "text": [
      "6700\n"
     ]
    }
   ],
   "source": [
    "icecream = {'탱크보이': 1200, '폴라포': 1200, '빵빠레': 1800, '월드콘': 1500, '메로나': 1000}\n",
    "price = list(icecream.values())\n",
    "print(sum(price))"
   ]
  },
  {
   "cell_type": "markdown",
   "id": "b176c5ad",
   "metadata": {},
   "source": [
    "### 098. 딕셔너리 update 메서드\n",
    "아래의 new_product 딕셔너리를 다음 icecream 딕셔너리에 추가하라.\n",
    "```\n",
    "icecream = {'탱크보이': 1200, '폴라포': 1200, '빵빠레': 1800, '월드콘': 1500, '메로나': 1000}\n",
    "new_product = {'팥빙수':2700, '아맛나':1000}\n",
    "```\n",
    "```\n",
    "실행 예시:\n",
    ">> print(icecream)\n",
    "{'탱크보이': 1200,  '폴라포': 1200,  '빵빠레': 1800,  '월드콘': 1500,  '메로나': 1000,  '팥빙수':2700, '아맛나':1000}\n",
    "```"
   ]
  },
  {
   "cell_type": "code",
   "execution_count": 45,
   "id": "668d3d5a",
   "metadata": {
    "ExecuteTime": {
     "end_time": "2023-11-27T13:24:39.574933Z",
     "start_time": "2023-11-27T13:24:39.566085Z"
    }
   },
   "outputs": [
    {
     "name": "stdout",
     "output_type": "stream",
     "text": [
      "{'탱크보이': 1200, '폴라포': 1200, '빵빠레': 1800, '월드콘': 1500, '메로나': 1000, '팥빙수': 2700, '아맛나': 1000}\n"
     ]
    }
   ],
   "source": [
    "icecream = {'탱크보이': 1200, '폴라포': 1200, '빵빠레': 1800, '월드콘': 1500, '메로나': 1000}\n",
    "new_product = {'팥빙수':2700, '아맛나':1000}\n",
    "icecream.update(new_product)\n",
    "print(icecream)"
   ]
  },
  {
   "cell_type": "markdown",
   "id": "45ae1132",
   "metadata": {},
   "source": [
    "### 099. zip과 dict\n",
    "아래 두 개의 튜플을 하나의 딕셔너리로 변환하라. keys를 키로, vals를 값으로 result 이름의 딕셔너리로 저장한다.\n",
    "```\n",
    "keys = (\"apple\", \"pear\", \"peach\")\n",
    "vals = (300, 250, 400)\n",
    "```\n",
    "```\n",
    "실행 예시:\n",
    ">> print(result)\n",
    "{'apple': 300, 'pear': 250, 'peach': 400}\n",
    "```"
   ]
  },
  {
   "cell_type": "code",
   "execution_count": 51,
   "id": "bfced6d0",
   "metadata": {
    "ExecuteTime": {
     "end_time": "2023-11-27T13:29:16.974571Z",
     "start_time": "2023-11-27T13:29:16.967764Z"
    }
   },
   "outputs": [
    {
     "name": "stdout",
     "output_type": "stream",
     "text": [
      "{'apple': 300, 'pear': 250, 'peach': 400} <class 'dict'>\n"
     ]
    }
   ],
   "source": [
    "keys = (\"apple\", \"pear\", \"peach\")\n",
    "vals = (300, 250, 400)\n",
    "result = dict(zip(keys, vals))\n",
    "print(result, type(result))"
   ]
  },
  {
   "cell_type": "markdown",
   "id": "0d2a9216",
   "metadata": {},
   "source": [
    "### 100. zip과 dict\n",
    "date와 close_price 두 개의 리스트를 close_table 이름의 딕셔너리로 생성하라.\n",
    "```\n",
    "date = ['09/05', '09/06', '09/07', '09/08', '09/09']\n",
    "close_price = [10500, 10300, 10100, 10800, 11000]\n",
    "```\n",
    "```\n",
    "실행 예시:\n",
    ">> print(close_table)\n",
    "{'09/05': 10500, '09/06': 10300, '09/07': 10100, '09/08': 10800, '09/09': 11000}\n",
    "```"
   ]
  },
  {
   "cell_type": "code",
   "execution_count": 52,
   "id": "022ef76b",
   "metadata": {
    "ExecuteTime": {
     "end_time": "2023-11-27T13:30:58.691072Z",
     "start_time": "2023-11-27T13:30:58.682604Z"
    }
   },
   "outputs": [
    {
     "name": "stdout",
     "output_type": "stream",
     "text": [
      "{'09/05': 10500, '09/06': 10300, '09/07': 10100, '09/08': 10800, '09/09': 11000} <class 'dict'>\n"
     ]
    }
   ],
   "source": [
    "date = ['09/05', '09/06', '09/07', '09/08', '09/09']\n",
    "close_price = [10500, 10300, 10100, 10800, 11000]\n",
    "close_table = dict(zip(date, close_price))\n",
    "print(close_table, type(close_table))"
   ]
  },
  {
   "cell_type": "code",
   "execution_count": null,
   "id": "b2e80a8f",
   "metadata": {},
   "outputs": [],
   "source": []
  }
 ],
 "metadata": {
  "hide_input": false,
  "kernelspec": {
   "display_name": "Python 3 (ipykernel)",
   "language": "python",
   "name": "python3"
  },
  "language_info": {
   "codemirror_mode": {
    "name": "ipython",
    "version": 3
   },
   "file_extension": ".py",
   "mimetype": "text/x-python",
   "name": "python",
   "nbconvert_exporter": "python",
   "pygments_lexer": "ipython3",
   "version": "3.11.5"
  },
  "toc": {
   "base_numbering": 1,
   "nav_menu": {},
   "number_sections": true,
   "sideBar": true,
   "skip_h1_title": false,
   "title_cell": "Table of Contents",
   "title_sidebar": "Contents",
   "toc_cell": false,
   "toc_position": {},
   "toc_section_display": true,
   "toc_window_display": false
  },
  "varInspector": {
   "cols": {
    "lenName": 16,
    "lenType": 16,
    "lenVar": 40
   },
   "kernels_config": {
    "python": {
     "delete_cmd_postfix": "",
     "delete_cmd_prefix": "del ",
     "library": "var_list.py",
     "varRefreshCmd": "print(var_dic_list())"
    },
    "r": {
     "delete_cmd_postfix": ") ",
     "delete_cmd_prefix": "rm(",
     "library": "var_list.r",
     "varRefreshCmd": "cat(var_dic_list()) "
    }
   },
   "types_to_exclude": [
    "module",
    "function",
    "builtin_function_or_method",
    "instance",
    "_Feature"
   ],
   "window_display": false
  }
 },
 "nbformat": 4,
 "nbformat_minor": 5
}
