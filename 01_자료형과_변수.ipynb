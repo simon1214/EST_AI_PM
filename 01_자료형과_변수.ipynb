{
 "cells": [
  {
   "cell_type": "markdown",
   "id": "bf14b2b8",
   "metadata": {},
   "source": [
    "# 숫자형"
   ]
  },
  {
   "cell_type": "markdown",
   "id": "1158379a",
   "metadata": {
    "ExecuteTime": {
     "end_time": "2023-11-23T02:18:45.341536Z",
     "start_time": "2023-11-23T02:18:45.337405Z"
    }
   },
   "source": [
    "## 정수형"
   ]
  },
  {
   "cell_type": "code",
   "execution_count": 1,
   "id": "5283f92c",
   "metadata": {
    "ExecuteTime": {
     "end_time": "2023-11-23T02:19:55.272315Z",
     "start_time": "2023-11-23T02:19:55.268316Z"
    }
   },
   "outputs": [],
   "source": [
    "a = 123"
   ]
  },
  {
   "cell_type": "code",
   "execution_count": 2,
   "id": "1e394b22",
   "metadata": {
    "ExecuteTime": {
     "end_time": "2023-11-23T02:19:55.283186Z",
     "start_time": "2023-11-23T02:19:55.273332Z"
    }
   },
   "outputs": [
    {
     "data": {
      "text/plain": [
       "123"
      ]
     },
     "execution_count": 2,
     "metadata": {},
     "output_type": "execute_result"
    }
   ],
   "source": [
    "a"
   ]
  },
  {
   "cell_type": "code",
   "execution_count": 3,
   "id": "96b1a329",
   "metadata": {
    "ExecuteTime": {
     "end_time": "2023-11-23T02:20:57.239087Z",
     "start_time": "2023-11-23T02:20:57.228296Z"
    }
   },
   "outputs": [
    {
     "data": {
      "text/plain": [
       "-178"
      ]
     },
     "execution_count": 3,
     "metadata": {},
     "output_type": "execute_result"
    }
   ],
   "source": [
    "a = -178\n",
    "a"
   ]
  },
  {
   "cell_type": "code",
   "execution_count": 4,
   "id": "76447a7f",
   "metadata": {
    "ExecuteTime": {
     "end_time": "2023-11-23T02:21:03.276293Z",
     "start_time": "2023-11-23T02:21:03.265445Z"
    }
   },
   "outputs": [
    {
     "data": {
      "text/plain": [
       "0"
      ]
     },
     "execution_count": 4,
     "metadata": {},
     "output_type": "execute_result"
    }
   ],
   "source": [
    "a = 0\n",
    "a"
   ]
  },
  {
   "cell_type": "markdown",
   "id": "39f742d9",
   "metadata": {},
   "source": [
    "## 실수형"
   ]
  },
  {
   "cell_type": "code",
   "execution_count": 5,
   "id": "1acfb895",
   "metadata": {
    "ExecuteTime": {
     "end_time": "2023-11-23T02:21:52.373716Z",
     "start_time": "2023-11-23T02:21:52.365216Z"
    }
   },
   "outputs": [
    {
     "data": {
      "text/plain": [
       "1.2"
      ]
     },
     "execution_count": 5,
     "metadata": {},
     "output_type": "execute_result"
    }
   ],
   "source": [
    "a = 1.2\n",
    "a"
   ]
  },
  {
   "cell_type": "code",
   "execution_count": 6,
   "id": "3ecda36d",
   "metadata": {
    "ExecuteTime": {
     "end_time": "2023-11-23T02:22:00.152616Z",
     "start_time": "2023-11-23T02:22:00.145307Z"
    }
   },
   "outputs": [
    {
     "data": {
      "text/plain": [
       "-3.45"
      ]
     },
     "execution_count": 6,
     "metadata": {},
     "output_type": "execute_result"
    }
   ],
   "source": [
    "a = -3.45\n",
    "a"
   ]
  },
  {
   "cell_type": "code",
   "execution_count": 7,
   "id": "7740d1cd",
   "metadata": {
    "ExecuteTime": {
     "end_time": "2023-11-23T02:22:32.395375Z",
     "start_time": "2023-11-23T02:22:32.387896Z"
    }
   },
   "outputs": [
    {
     "data": {
      "text/plain": [
       "42400000000.0"
      ]
     },
     "execution_count": 7,
     "metadata": {},
     "output_type": "execute_result"
    }
   ],
   "source": [
    "a = 4.24E10 # 4.24 * 10&^10\n",
    "a"
   ]
  },
  {
   "cell_type": "code",
   "execution_count": 8,
   "id": "9b47772b",
   "metadata": {
    "ExecuteTime": {
     "end_time": "2023-11-23T02:22:49.861823Z",
     "start_time": "2023-11-23T02:22:49.855186Z"
    }
   },
   "outputs": [
    {
     "data": {
      "text/plain": [
       "4.24e-10"
      ]
     },
     "execution_count": 8,
     "metadata": {},
     "output_type": "execute_result"
    }
   ],
   "source": [
    "a = 4.24E-10 # 4.24 * 10&^10\n",
    "a"
   ]
  },
  {
   "cell_type": "code",
   "execution_count": 22,
   "id": "57a3ed25",
   "metadata": {
    "ExecuteTime": {
     "end_time": "2023-11-23T02:29:32.570513Z",
     "start_time": "2023-11-23T02:29:32.560761Z"
    }
   },
   "outputs": [
    {
     "data": {
      "text/plain": [
       "127"
      ]
     },
     "execution_count": 22,
     "metadata": {},
     "output_type": "execute_result"
    }
   ],
   "source": [
    "# 8진수와 16진수\n",
    "a = 0o177\n",
    "a"
   ]
  },
  {
   "cell_type": "code",
   "execution_count": 23,
   "id": "69606cf5",
   "metadata": {
    "ExecuteTime": {
     "end_time": "2023-11-23T02:30:13.830910Z",
     "start_time": "2023-11-23T02:30:13.823097Z"
    }
   },
   "outputs": [
    {
     "data": {
      "text/plain": [
       "int"
      ]
     },
     "execution_count": 23,
     "metadata": {},
     "output_type": "execute_result"
    }
   ],
   "source": [
    "type(a)"
   ]
  },
  {
   "cell_type": "code",
   "execution_count": 24,
   "id": "c782b581",
   "metadata": {
    "ExecuteTime": {
     "end_time": "2023-11-23T02:30:15.448154Z",
     "start_time": "2023-11-23T02:30:15.441321Z"
    }
   },
   "outputs": [],
   "source": [
    "a = 0x8ff"
   ]
  },
  {
   "cell_type": "markdown",
   "id": "970bcd94",
   "metadata": {},
   "source": [
    "## 사칙연산"
   ]
  },
  {
   "cell_type": "code",
   "execution_count": 11,
   "id": "bff4e219",
   "metadata": {
    "ExecuteTime": {
     "end_time": "2023-11-23T02:25:14.215784Z",
     "start_time": "2023-11-23T02:25:14.205255Z"
    }
   },
   "outputs": [
    {
     "data": {
      "text/plain": [
       "7"
      ]
     },
     "execution_count": 11,
     "metadata": {},
     "output_type": "execute_result"
    }
   ],
   "source": [
    "a = 3\n",
    "b = 4\n",
    "a + b"
   ]
  },
  {
   "cell_type": "code",
   "execution_count": 12,
   "id": "6dc26c5d",
   "metadata": {
    "ExecuteTime": {
     "end_time": "2023-11-23T02:25:22.343443Z",
     "start_time": "2023-11-23T02:25:22.335533Z"
    }
   },
   "outputs": [
    {
     "data": {
      "text/plain": [
       "12"
      ]
     },
     "execution_count": 12,
     "metadata": {},
     "output_type": "execute_result"
    }
   ],
   "source": [
    "a * b"
   ]
  },
  {
   "cell_type": "code",
   "execution_count": 13,
   "id": "367e43be",
   "metadata": {
    "ExecuteTime": {
     "end_time": "2023-11-23T02:25:26.680909Z",
     "start_time": "2023-11-23T02:25:26.671833Z"
    }
   },
   "outputs": [
    {
     "data": {
      "text/plain": [
       "0.75"
      ]
     },
     "execution_count": 13,
     "metadata": {},
     "output_type": "execute_result"
    }
   ],
   "source": [
    "a / b"
   ]
  },
  {
   "cell_type": "code",
   "execution_count": 14,
   "id": "35f02c9e",
   "metadata": {
    "ExecuteTime": {
     "end_time": "2023-11-23T02:26:15.140814Z",
     "start_time": "2023-11-23T02:26:15.135734Z"
    }
   },
   "outputs": [
    {
     "data": {
      "text/plain": [
       "81"
      ]
     },
     "execution_count": 14,
     "metadata": {},
     "output_type": "execute_result"
    }
   ],
   "source": [
    "# x의 y제곱\n",
    "a ** b"
   ]
  },
  {
   "cell_type": "code",
   "execution_count": 15,
   "id": "6a380466",
   "metadata": {
    "ExecuteTime": {
     "end_time": "2023-11-23T02:27:24.482943Z",
     "start_time": "2023-11-23T02:27:24.470531Z"
    }
   },
   "outputs": [
    {
     "data": {
      "text/plain": [
       "1"
      ]
     },
     "execution_count": 15,
     "metadata": {},
     "output_type": "execute_result"
    }
   ],
   "source": [
    "7 % 3"
   ]
  },
  {
   "cell_type": "code",
   "execution_count": 16,
   "id": "450ff3df",
   "metadata": {
    "ExecuteTime": {
     "end_time": "2023-11-23T02:27:32.757632Z",
     "start_time": "2023-11-23T02:27:32.747631Z"
    }
   },
   "outputs": [
    {
     "data": {
      "text/plain": [
       "3"
      ]
     },
     "execution_count": 16,
     "metadata": {},
     "output_type": "execute_result"
    }
   ],
   "source": [
    "3 % 7"
   ]
  },
  {
   "cell_type": "code",
   "execution_count": 21,
   "id": "10a8dd91",
   "metadata": {
    "ExecuteTime": {
     "end_time": "2023-11-23T02:28:19.522487Z",
     "start_time": "2023-11-23T02:28:19.516030Z"
    }
   },
   "outputs": [
    {
     "data": {
      "text/plain": [
       "1.75"
      ]
     },
     "execution_count": 21,
     "metadata": {},
     "output_type": "execute_result"
    }
   ],
   "source": [
    "# 나눗셈의 몫 반환\n",
    "7 / 4"
   ]
  },
  {
   "cell_type": "code",
   "execution_count": 19,
   "id": "f0342b46",
   "metadata": {
    "ExecuteTime": {
     "end_time": "2023-11-23T02:28:11.024839Z",
     "start_time": "2023-11-23T02:28:11.017825Z"
    }
   },
   "outputs": [
    {
     "data": {
      "text/plain": [
       "1.75"
      ]
     },
     "execution_count": 19,
     "metadata": {},
     "output_type": "execute_result"
    }
   ],
   "source": [
    "7 / 4"
   ]
  },
  {
   "cell_type": "code",
   "execution_count": 20,
   "id": "80e14db4",
   "metadata": {
    "ExecuteTime": {
     "end_time": "2023-11-23T02:28:15.445815Z",
     "start_time": "2023-11-23T02:28:15.436379Z"
    }
   },
   "outputs": [
    {
     "data": {
      "text/plain": [
       "3"
      ]
     },
     "execution_count": 20,
     "metadata": {},
     "output_type": "execute_result"
    }
   ],
   "source": [
    "7 % 4"
   ]
  },
  {
   "cell_type": "markdown",
   "id": "d6e33919",
   "metadata": {},
   "source": [
    "# 문자열"
   ]
  },
  {
   "cell_type": "code",
   "execution_count": 25,
   "id": "3217e2d3",
   "metadata": {
    "ExecuteTime": {
     "end_time": "2023-11-23T02:32:47.508925Z",
     "start_time": "2023-11-23T02:32:47.500005Z"
    }
   },
   "outputs": [
    {
     "data": {
      "text/plain": [
       "'Hello World!'"
      ]
     },
     "execution_count": 25,
     "metadata": {},
     "output_type": "execute_result"
    }
   ],
   "source": [
    "'Hello World!'"
   ]
  },
  {
   "cell_type": "code",
   "execution_count": 27,
   "id": "830354f0",
   "metadata": {
    "ExecuteTime": {
     "end_time": "2023-11-23T02:34:01.823971Z",
     "start_time": "2023-11-23T02:34:01.815838Z"
    }
   },
   "outputs": [
    {
     "data": {
      "text/plain": [
       "'Life is too short, You need python'"
      ]
     },
     "execution_count": 27,
     "metadata": {},
     "output_type": "execute_result"
    }
   ],
   "source": [
    "\"\"\"Life is too short, You need python\"\"\""
   ]
  },
  {
   "cell_type": "code",
   "execution_count": 28,
   "id": "917d12bd",
   "metadata": {
    "ExecuteTime": {
     "end_time": "2023-11-23T02:35:11.545064Z",
     "start_time": "2023-11-23T02:35:11.536687Z"
    }
   },
   "outputs": [
    {
     "data": {
      "text/plain": [
       "\"Python's faborite food is perl\""
      ]
     },
     "execution_count": 28,
     "metadata": {},
     "output_type": "execute_result"
    }
   ],
   "source": [
    "\"Python's faborite food is perl\""
   ]
  },
  {
   "cell_type": "code",
   "execution_count": 29,
   "id": "b2b4de67",
   "metadata": {
    "ExecuteTime": {
     "end_time": "2023-11-23T02:36:46.065485Z",
     "start_time": "2023-11-23T02:36:46.056556Z"
    }
   },
   "outputs": [
    {
     "data": {
      "text/plain": [
       "\"Python's faborite food is perl\""
      ]
     },
     "execution_count": 29,
     "metadata": {},
     "output_type": "execute_result"
    }
   ],
   "source": [
    "food = \"Python's faborite food is perl\"\n",
    "food"
   ]
  },
  {
   "cell_type": "code",
   "execution_count": 30,
   "id": "941cee1f",
   "metadata": {
    "ExecuteTime": {
     "end_time": "2023-11-23T02:37:31.162831Z",
     "start_time": "2023-11-23T02:37:31.153721Z"
    }
   },
   "outputs": [
    {
     "data": {
      "text/plain": [
       "'\"Python is very easy.\" he says.'"
      ]
     },
     "execution_count": 30,
     "metadata": {},
     "output_type": "execute_result"
    }
   ],
   "source": [
    "'\"Python is very easy.\" he says.'"
   ]
  },
  {
   "cell_type": "code",
   "execution_count": 33,
   "id": "ebd6b36f",
   "metadata": {
    "ExecuteTime": {
     "end_time": "2023-11-23T02:42:22.813688Z",
     "start_time": "2023-11-23T02:42:22.802781Z"
    }
   },
   "outputs": [
    {
     "data": {
      "text/plain": [
       "(\"Python's faborite food is perl\", '\"Python is very easy.\" he says.')"
      ]
     },
     "execution_count": 33,
     "metadata": {},
     "output_type": "execute_result"
    }
   ],
   "source": [
    "# 백슬래시(\\)를 사용해서 따옴표를 문자열에 포함 가능\n",
    "# 이스케이프 문자 -> 인식되지 않음\n",
    "\n",
    "food = 'Python\\'s faborite food is perl'\n",
    "say = \"\\\"Python is very easy.\\\" he says.\"\n",
    "\n",
    "food, say"
   ]
  },
  {
   "cell_type": "markdown",
   "id": "29a36623",
   "metadata": {},
   "source": [
    "## 여러 줄인 문자열을 변수에 대입하고 싶을 때"
   ]
  },
  {
   "cell_type": "code",
   "execution_count": 35,
   "id": "b603b8e2",
   "metadata": {
    "ExecuteTime": {
     "end_time": "2023-11-23T02:44:02.829778Z",
     "start_time": "2023-11-23T02:44:02.822168Z"
    }
   },
   "outputs": [
    {
     "data": {
      "text/plain": [
       "'Life is too short\\nYou need python'"
      ]
     },
     "execution_count": 35,
     "metadata": {},
     "output_type": "execute_result"
    }
   ],
   "source": [
    "# 줄을 바꾸는 이스케이프 코드 \\n\n",
    "\n",
    "multiline = \"Life is too short\\nYou need python\"\n",
    "multiline"
   ]
  },
  {
   "cell_type": "code",
   "execution_count": 37,
   "id": "bdafe88e",
   "metadata": {
    "ExecuteTime": {
     "end_time": "2023-11-23T02:44:24.539516Z",
     "start_time": "2023-11-23T02:44:24.532171Z"
    }
   },
   "outputs": [
    {
     "name": "stdout",
     "output_type": "stream",
     "text": [
      "Life is too short\n",
      "You need python\n"
     ]
    }
   ],
   "source": [
    "print(multiline)"
   ]
  },
  {
   "cell_type": "markdown",
   "id": "3eb6544f",
   "metadata": {},
   "source": [
    "## 연속된 따옴표 사용하기"
   ]
  },
  {
   "cell_type": "code",
   "execution_count": 39,
   "id": "3a501b47",
   "metadata": {
    "ExecuteTime": {
     "end_time": "2023-11-23T02:49:23.076224Z",
     "start_time": "2023-11-23T02:49:23.067051Z"
    }
   },
   "outputs": [
    {
     "data": {
      "text/plain": [
       "'Life is too short,\\nYou need python'"
      ]
     },
     "execution_count": 39,
     "metadata": {},
     "output_type": "execute_result"
    }
   ],
   "source": [
    "multiline = \"\"\"Life is too short,\n",
    "You need python\"\"\"\n",
    "multiline"
   ]
  },
  {
   "cell_type": "code",
   "execution_count": 41,
   "id": "8e47293c",
   "metadata": {
    "ExecuteTime": {
     "end_time": "2023-11-23T02:49:33.308997Z",
     "start_time": "2023-11-23T02:49:33.300293Z"
    }
   },
   "outputs": [
    {
     "name": "stdout",
     "output_type": "stream",
     "text": [
      "Life is too short,\n",
      "You need python\n"
     ]
    }
   ],
   "source": [
    "print(multiline)"
   ]
  },
  {
   "cell_type": "markdown",
   "id": "8a5721bd",
   "metadata": {},
   "source": [
    "## 문자열 연산하기"
   ]
  },
  {
   "cell_type": "code",
   "execution_count": null,
   "id": "fc72602e",
   "metadata": {},
   "outputs": [],
   "source": []
  }
 ],
 "metadata": {
  "kernelspec": {
   "display_name": "Python 3 (ipykernel)",
   "language": "python",
   "name": "python3"
  },
  "language_info": {
   "codemirror_mode": {
    "name": "ipython",
    "version": 3
   },
   "file_extension": ".py",
   "mimetype": "text/x-python",
   "name": "python",
   "nbconvert_exporter": "python",
   "pygments_lexer": "ipython3",
   "version": "3.11.5"
  },
  "toc": {
   "base_numbering": 1,
   "nav_menu": {},
   "number_sections": true,
   "sideBar": true,
   "skip_h1_title": false,
   "title_cell": "Table of Contents",
   "title_sidebar": "Contents",
   "toc_cell": false,
   "toc_position": {},
   "toc_section_display": true,
   "toc_window_display": false
  },
  "varInspector": {
   "cols": {
    "lenName": 16,
    "lenType": 16,
    "lenVar": 40
   },
   "kernels_config": {
    "python": {
     "delete_cmd_postfix": "",
     "delete_cmd_prefix": "del ",
     "library": "var_list.py",
     "varRefreshCmd": "print(var_dic_list())"
    },
    "r": {
     "delete_cmd_postfix": ") ",
     "delete_cmd_prefix": "rm(",
     "library": "var_list.r",
     "varRefreshCmd": "cat(var_dic_list()) "
    }
   },
   "types_to_exclude": [
    "module",
    "function",
    "builtin_function_or_method",
    "instance",
    "_Feature"
   ],
   "window_display": false
  }
 },
 "nbformat": 4,
 "nbformat_minor": 5
}
