{
 "cells": [
  {
   "cell_type": "markdown",
   "id": "e89eed35",
   "metadata": {},
   "source": [
    "# 제어문"
   ]
  },
  {
   "cell_type": "markdown",
   "id": "59e22075",
   "metadata": {},
   "source": [
    "## if문"
   ]
  },
  {
   "cell_type": "code",
   "execution_count": 1,
   "id": "aacc1ee7",
   "metadata": {
    "ExecuteTime": {
     "end_time": "2023-11-28T02:01:42.796780Z",
     "start_time": "2023-11-28T02:01:42.791226Z"
    }
   },
   "outputs": [
    {
     "name": "stdout",
     "output_type": "stream",
     "text": [
      "택시를 타고 가라\n"
     ]
    }
   ],
   "source": [
    "money = True\n",
    "if money:\n",
    "    print(\"택시를 타고 가라\")\n",
    "else:\n",
    "    print(\"걸어 가라\")"
   ]
  },
  {
   "cell_type": "markdown",
   "id": "888fddce",
   "metadata": {},
   "source": [
    "### if문의 기본 구조"
   ]
  },
  {
   "cell_type": "markdown",
   "id": "68f30d44",
   "metadata": {},
   "source": [
    "```\n",
    "if 조건문:\n",
    "    수행할_문장1\n",
    "    수행할_문장2\n",
    "    ...\n",
    "else:\n",
    "    수행할_문장A\n",
    "    수행할_문장B\n",
    "    ...\n",
    "```"
   ]
  },
  {
   "cell_type": "markdown",
   "id": "7e13d50c",
   "metadata": {},
   "source": [
    "**들여쓰기 안하면 오류 남**"
   ]
  },
  {
   "cell_type": "markdown",
   "id": "34520a6b",
   "metadata": {},
   "source": [
    "**들여쓰기를 다르게 해도 오류 남**"
   ]
  },
  {
   "cell_type": "markdown",
   "id": "b2b420ed",
   "metadata": {},
   "source": [
    "### 비교 연산자"
   ]
  },
  {
   "cell_type": "markdown",
   "id": "254166d5",
   "metadata": {},
   "source": [
    "|비교연산자|설명|\n",
    "|---|---|\n",
    "|x < y|x가 y보다 작다.|\n",
    "|x > y|x가 y보다 크다.|\n",
    "|x == y|x와 y가 같다.|\n",
    "|x != y|x와 y가 같지 않다.|\n",
    "|x >= y|x가 y보다 크거나 같다.|\n",
    "|x <= y|x가 y보다 작거나 같다.|"
   ]
  },
  {
   "cell_type": "code",
   "execution_count": 2,
   "id": "763511ce",
   "metadata": {
    "ExecuteTime": {
     "end_time": "2023-11-28T02:01:42.804972Z",
     "start_time": "2023-11-28T02:01:42.800788Z"
    }
   },
   "outputs": [
    {
     "name": "stdout",
     "output_type": "stream",
     "text": [
      "True\n"
     ]
    }
   ],
   "source": [
    "x = 3\n",
    "y = 2\n",
    "print(x > y)"
   ]
  },
  {
   "cell_type": "code",
   "execution_count": 3,
   "id": "f27bdf49",
   "metadata": {
    "ExecuteTime": {
     "end_time": "2023-11-28T02:01:42.811330Z",
     "start_time": "2023-11-28T02:01:42.806979Z"
    }
   },
   "outputs": [
    {
     "name": "stdout",
     "output_type": "stream",
     "text": [
      "False\n"
     ]
    }
   ],
   "source": [
    "print(x < y)"
   ]
  },
  {
   "cell_type": "code",
   "execution_count": 4,
   "id": "53f527f8",
   "metadata": {
    "ExecuteTime": {
     "end_time": "2023-11-28T02:01:42.819755Z",
     "start_time": "2023-11-28T02:01:42.812338Z"
    }
   },
   "outputs": [
    {
     "name": "stdout",
     "output_type": "stream",
     "text": [
      "False\n"
     ]
    }
   ],
   "source": [
    "print(x == y)"
   ]
  },
  {
   "cell_type": "code",
   "execution_count": 5,
   "id": "5219c05e",
   "metadata": {
    "ExecuteTime": {
     "end_time": "2023-11-28T02:01:42.826981Z",
     "start_time": "2023-11-28T02:01:42.821765Z"
    }
   },
   "outputs": [
    {
     "name": "stdout",
     "output_type": "stream",
     "text": [
      "True\n"
     ]
    }
   ],
   "source": [
    "print(x != y)"
   ]
  },
  {
   "cell_type": "code",
   "execution_count": 6,
   "id": "f7d2e3b0",
   "metadata": {
    "ExecuteTime": {
     "end_time": "2023-11-28T02:01:42.834565Z",
     "start_time": "2023-11-28T02:01:42.829498Z"
    }
   },
   "outputs": [
    {
     "name": "stdout",
     "output_type": "stream",
     "text": [
      "걸어가라\n"
     ]
    }
   ],
   "source": [
    "# 만약 3000원 이상의 돈을 가지고 있으면 택시를 타고 가고, 그렇지 않으면 걸어가라.\n",
    "\n",
    "money = 2000\n",
    "if money >= 3000:\n",
    "    print(\"택시를 타고 가라\")\n",
    "else:\n",
    "    print(\"걸어가라\")"
   ]
  },
  {
   "cell_type": "markdown",
   "id": "84f0a854",
   "metadata": {},
   "source": [
    "### and, or, not"
   ]
  },
  {
   "cell_type": "markdown",
   "id": "090a31d6",
   "metadata": {},
   "source": [
    "|연산자|설명|\n",
    "|---|---|\n",
    "x or y|x와 y 둘 중 하나만 참이어도 참이다.\n",
    "x and y|x와 y 모두 참이어야 참이다.\n",
    "not x|x가 거짓이면 참이다."
   ]
  },
  {
   "cell_type": "code",
   "execution_count": 7,
   "id": "b3774905",
   "metadata": {
    "ExecuteTime": {
     "end_time": "2023-11-28T02:01:42.841742Z",
     "start_time": "2023-11-28T02:01:42.837585Z"
    }
   },
   "outputs": [
    {
     "name": "stdout",
     "output_type": "stream",
     "text": [
      "택시를 타고 가라\n"
     ]
    }
   ],
   "source": [
    "# 돈이 3000원 이상 있거나 카드가 있다면 택시를 타고 가고, 그렇지 않으면 걸어가라.\n",
    "\n",
    "money = 2000\n",
    "card = True\n",
    "if money >= 3000 or card:\n",
    "    print(\"택시를 타고 가라\")\n",
    "else:\n",
    "    print(\"걸어가라\")"
   ]
  },
  {
   "cell_type": "markdown",
   "id": "4d5480bd",
   "metadata": {},
   "source": [
    "### in, not in"
   ]
  },
  {
   "cell_type": "markdown",
   "id": "a26962c6",
   "metadata": {},
   "source": [
    "in|not in\n",
    "---|---\n",
    "x in 리스트|x not in 리스트\n",
    "x in 튜플|x not in 튜플\n",
    "x in 문자열|x not in 문자열"
   ]
  },
  {
   "cell_type": "code",
   "execution_count": 8,
   "id": "577f848f",
   "metadata": {
    "ExecuteTime": {
     "end_time": "2023-11-28T02:01:42.860326Z",
     "start_time": "2023-11-28T02:01:42.845751Z"
    }
   },
   "outputs": [
    {
     "name": "stdout",
     "output_type": "stream",
     "text": [
      "True\n",
      "False\n"
     ]
    }
   ],
   "source": [
    "print(1 in [1, 2, 3])\n",
    "print(1 not in [1, 2, 3])"
   ]
  },
  {
   "cell_type": "code",
   "execution_count": 9,
   "id": "77e904c0",
   "metadata": {
    "ExecuteTime": {
     "end_time": "2023-11-28T02:01:42.877058Z",
     "start_time": "2023-11-28T02:01:42.871332Z"
    }
   },
   "outputs": [
    {
     "name": "stdout",
     "output_type": "stream",
     "text": [
      "택시를 타고 가라\n"
     ]
    }
   ],
   "source": [
    "# 만약 주머니에 돈이 있으면 택시를 타고 가고, 없으면 걸어가라.\n",
    "\n",
    "pocket = ['paper', 'cellphone', 'money']\n",
    "if 'money' in pocket:\n",
    "    print(\"택시를 타고 가라\")\n",
    "else:\n",
    "    print(\"걸어가라\")"
   ]
  },
  {
   "cell_type": "markdown",
   "id": "1dda267a",
   "metadata": {},
   "source": [
    "### pass"
   ]
  },
  {
   "cell_type": "code",
   "execution_count": 10,
   "id": "72be76e1",
   "metadata": {
    "ExecuteTime": {
     "end_time": "2023-11-28T02:01:42.884799Z",
     "start_time": "2023-11-28T02:01:42.879065Z"
    }
   },
   "outputs": [],
   "source": [
    "#주머니에 돈이 있으면 가만히 있고, 주머니에 돈이 없으면 카드를 꺼내라.\n",
    "\n",
    "pocket = ['paper', 'money', 'cellphone']\n",
    "if 'money' in pocket:\n",
    "    pass \n",
    "else:\n",
    "    print(\"카드를 꺼내라\")"
   ]
  },
  {
   "cell_type": "markdown",
   "id": "cb774f20",
   "metadata": {},
   "source": [
    "pass 가 수행되어 결과값이 나오지 않음   \n",
    "else를 생략할 수 있으나, pass를 써 주는게 직관적임"
   ]
  },
  {
   "cell_type": "markdown",
   "id": "3c0bfdd2",
   "metadata": {},
   "source": [
    "### elif (복수 if문)"
   ]
  },
  {
   "cell_type": "code",
   "execution_count": 11,
   "id": "4ebc4d1f",
   "metadata": {
    "ExecuteTime": {
     "end_time": "2023-11-28T02:01:42.896945Z",
     "start_time": "2023-11-28T02:01:42.891804Z"
    }
   },
   "outputs": [
    {
     "name": "stdout",
     "output_type": "stream",
     "text": [
      "택시를 타고가라\n"
     ]
    }
   ],
   "source": [
    "# 주머니에 돈이 있으면 택시를 타고 가고, 주머니에 돈은 없지만 카드가 있으면 택시를 타고 가고, 돈도 없고 카드도 없으면 걸어가라.\n",
    "\n",
    "pocket = ['paper', 'cellphone']\n",
    "card = True\n",
    "if 'money' in pocket:\n",
    "    print(\"택시를 타고가라\")\n",
    "else:\n",
    "    if card:\n",
    "        print(\"택시를 타고가라\")\n",
    "    else:\n",
    "        print(\"걸어가라\")"
   ]
  },
  {
   "cell_type": "markdown",
   "id": "95d9ad38",
   "metadata": {},
   "source": [
    "=> if문을 중첩한 형태로 사용함"
   ]
  },
  {
   "cell_type": "code",
   "execution_count": 12,
   "id": "5c043c1e",
   "metadata": {
    "ExecuteTime": {
     "end_time": "2023-11-28T02:01:42.906457Z",
     "start_time": "2023-11-28T02:01:42.899954Z"
    }
   },
   "outputs": [
    {
     "name": "stdout",
     "output_type": "stream",
     "text": [
      "택시를 타고가라\n"
     ]
    }
   ],
   "source": [
    "pocket = ['paper', 'cellphone']\n",
    "card = True\n",
    "if 'money' in pocket:\n",
    "    print(\"택시를 타고가라\")\n",
    "elif card: \n",
    "    print(\"택시를 타고가라\")\n",
    "else:\n",
    "    print(\"걸어가라\")"
   ]
  },
  {
   "cell_type": "markdown",
   "id": "3a39a89f",
   "metadata": {},
   "source": [
    "=> elif를 통해 단층화된 구조로 코드를 작성할 수 있음"
   ]
  },
  {
   "cell_type": "markdown",
   "id": "13ce2880",
   "metadata": {},
   "source": [
    "### 조건부 표현식"
   ]
  },
  {
   "cell_type": "code",
   "execution_count": 13,
   "id": "8c1ce8a0",
   "metadata": {
    "ExecuteTime": {
     "end_time": "2023-11-28T02:01:42.914057Z",
     "start_time": "2023-11-28T02:01:42.908466Z"
    }
   },
   "outputs": [
    {
     "name": "stdout",
     "output_type": "stream",
     "text": [
      "success\n"
     ]
    }
   ],
   "source": [
    "score = 77\n",
    "if score >= 60:\n",
    "    message = \"success\"\n",
    "else:\n",
    "    message = \"failure\"\n",
    "\n",
    "print(message)"
   ]
  },
  {
   "cell_type": "code",
   "execution_count": 14,
   "id": "8bd0fd71",
   "metadata": {
    "ExecuteTime": {
     "end_time": "2023-11-28T02:01:42.921357Z",
     "start_time": "2023-11-28T02:01:42.916065Z"
    }
   },
   "outputs": [
    {
     "name": "stdout",
     "output_type": "stream",
     "text": [
      "failure\n"
     ]
    }
   ],
   "source": [
    "score = 55\n",
    "message = \"success\" if score >= 60 else \"failure\"\n",
    "print(message)"
   ]
  },
  {
   "cell_type": "markdown",
   "id": "ef685e0b",
   "metadata": {},
   "source": [
    "**변수** = *조건문이_참인_경우의_값* **if** *조건문* **else** *조건문이_거짓인_경우의_값*"
   ]
  },
  {
   "cell_type": "markdown",
   "id": "fd9e7c8f",
   "metadata": {},
   "source": [
    "## while문"
   ]
  },
  {
   "cell_type": "markdown",
   "id": "fef78e0d",
   "metadata": {},
   "source": [
    "### while문의 기본 구조"
   ]
  },
  {
   "cell_type": "markdown",
   "id": "727a20ae",
   "metadata": {},
   "source": [
    "```\n",
    "while 조건문:\n",
    "    수행할_문장1\n",
    "    수행할_문장2\n",
    "    수행할_문장3\n",
    "    ...\n",
    "```"
   ]
  },
  {
   "cell_type": "code",
   "execution_count": 15,
   "id": "441600dc",
   "metadata": {
    "ExecuteTime": {
     "end_time": "2023-11-28T02:01:42.930522Z",
     "start_time": "2023-11-28T02:01:42.923364Z"
    }
   },
   "outputs": [
    {
     "name": "stdout",
     "output_type": "stream",
     "text": [
      "나무를 1번 찍었습니다.\n",
      "나무를 2번 찍었습니다.\n",
      "나무를 3번 찍었습니다.\n",
      "나무를 4번 찍었습니다.\n",
      "나무를 5번 찍었습니다.\n",
      "나무를 6번 찍었습니다.\n",
      "나무를 7번 찍었습니다.\n",
      "나무를 8번 찍었습니다.\n",
      "나무를 9번 찍었습니다.\n",
      "나무를 10번 찍었습니다.\n",
      "나무 넘어갑니다.\n"
     ]
    }
   ],
   "source": [
    "treeHit = 0\n",
    "while treeHit < 10:\n",
    "    treeHit = treeHit +1\n",
    "    print(\"나무를 %d번 찍었습니다.\" % treeHit)\n",
    "    if treeHit == 10:\n",
    "        print(\"나무 넘어갑니다.\")"
   ]
  },
  {
   "cell_type": "markdown",
   "id": "21fca1aa",
   "metadata": {},
   "source": [
    "`treeHit < 10` 이라는 조건으로 인해 while문이 종료됨   \n",
    "while문은 무한히 반복하기 때문에, 탈출 조건을 잘 작성해줘야 함"
   ]
  },
  {
   "cell_type": "code",
   "execution_count": 17,
   "id": "39563bbd",
   "metadata": {
    "ExecuteTime": {
     "end_time": "2023-11-28T02:04:25.047250Z",
     "start_time": "2023-11-28T02:04:22.019555Z"
    }
   },
   "outputs": [
    {
     "name": "stdout",
     "output_type": "stream",
     "text": [
      "\n",
      "1. Add\n",
      "2. Del\n",
      "3. List\n",
      "4. Quit\n",
      "\n",
      "Enter number: \n",
      "4\n"
     ]
    }
   ],
   "source": [
    "prompt = \"\"\"\n",
    "... 1. Add\n",
    "... 2. Del\n",
    "... 3. List\n",
    "... 4. Quit\n",
    "...\n",
    "... Enter number: \"\"\"\n",
    "\n",
    "number = 0\n",
    "while number != 4:\n",
    "    print(prompt)\n",
    "    number = int(input())"
   ]
  },
  {
   "cell_type": "markdown",
   "id": "7054205f",
   "metadata": {},
   "source": [
    "### while문 강제로 빠져나가기"
   ]
  },
  {
   "cell_type": "code",
   "execution_count": null,
   "id": "46c56a60",
   "metadata": {
    "ExecuteTime": {
     "end_time": "2023-11-28T02:15:22.255261Z",
     "start_time": "2023-11-28T02:15:22.255261Z"
    }
   },
   "outputs": [],
   "source": [
    "coffee = 5\n",
    "money = 100\n",
    "while money:\n",
    "    print(\"돈을 받았으니 커피를 줍니다.\")\n",
    "    coffee = coffee -1\n",
    "    print(\"남은 커피의 양은 %d개입니다.\" % coffee)\n",
    "    if coffee == 0:\n",
    "        print(\"커피가 다 떨어졌습니다. 판매를 중지합니다.\")\n",
    "        break"
   ]
  },
  {
   "cell_type": "code",
   "execution_count": 21,
   "id": "e5081e6c",
   "metadata": {
    "ExecuteTime": {
     "end_time": "2023-11-28T02:07:30.275330Z",
     "start_time": "2023-11-28T02:05:04.146931Z"
    }
   },
   "outputs": [
    {
     "name": "stdout",
     "output_type": "stream",
     "text": [
      "돈을 넣어 주세요: 500\n",
      "거스름돈 200를 주고 커피를 줍니다.\n",
      "돈을 넣어 주세요: 0\n",
      "돈을 다시 돌려주고 커피를 주지 않습니다.\n",
      "남은 커피의 양은 9개 입니다.\n",
      "돈을 넣어 주세요: 500\n",
      "거스름돈 200를 주고 커피를 줍니다.\n",
      "돈을 넣어 주세요: 500\n",
      "거스름돈 200를 주고 커피를 줍니다.\n",
      "돈을 넣어 주세요: 01100\n",
      "거스름돈 800를 주고 커피를 줍니다.\n",
      "돈을 넣어 주세요: 1000\n",
      "거스름돈 700를 주고 커피를 줍니다.\n",
      "돈을 넣어 주세요: 10001\n",
      "거스름돈 9701를 주고 커피를 줍니다.\n",
      "돈을 넣어 주세요: 1000\n",
      "거스름돈 700를 주고 커피를 줍니다.\n",
      "돈을 넣어 주세요: 1000\n",
      "거스름돈 700를 주고 커피를 줍니다.\n",
      "돈을 넣어 주세요: 1001\n",
      "거스름돈 701를 주고 커피를 줍니다.\n",
      "돈을 넣어 주세요: 0001\n",
      "돈을 다시 돌려주고 커피를 주지 않습니다.\n",
      "남은 커피의 양은 1개 입니다.\n",
      "돈을 넣어 주세요: 000\n",
      "돈을 다시 돌려주고 커피를 주지 않습니다.\n",
      "남은 커피의 양은 1개 입니다.\n",
      "돈을 넣어 주세요: 1000\n",
      "거스름돈 700를 주고 커피를 줍니다.\n",
      "커피가 다 떨어졌습니다. 판매를 중지 합니다.\n"
     ]
    }
   ],
   "source": [
    "# coffee.py\n",
    "coffee = 10\n",
    "while True:\n",
    "    money = int(input(\"돈을 넣어 주세요: \"))\n",
    "    if money == 300:\n",
    "        print(\"커피를 줍니다.\")\n",
    "        coffee = coffee -1\n",
    "    elif money > 300:\n",
    "        print(\"거스름돈 %d를 주고 커피를 줍니다.\" % (money -300))\n",
    "        coffee = coffee -1\n",
    "    else:\n",
    "        print(\"돈을 다시 돌려주고 커피를 주지 않습니다.\")\n",
    "        print(\"남은 커피의 양은 %d개 입니다.\" % coffee)\n",
    "    if coffee == 0:\n",
    "        print(\"커피가 다 떨어졌습니다. 판매를 중지 합니다.\")\n",
    "        break"
   ]
  },
  {
   "cell_type": "markdown",
   "id": "c8fa01fb",
   "metadata": {},
   "source": [
    "### while문의 맨 처음으로 돌아가기"
   ]
  },
  {
   "cell_type": "code",
   "execution_count": 26,
   "id": "9d6f700a",
   "metadata": {
    "ExecuteTime": {
     "end_time": "2023-11-28T02:15:29.939378Z",
     "start_time": "2023-11-28T02:15:29.930788Z"
    }
   },
   "outputs": [
    {
     "name": "stdout",
     "output_type": "stream",
     "text": [
      "1\n",
      "3\n",
      "5\n",
      "7\n",
      "9\n"
     ]
    }
   ],
   "source": [
    "a = 0\n",
    "while a < 10:\n",
    "    a = a + 1\n",
    "    if a % 2 == 0: continue\n",
    "    print(a)"
   ]
  },
  {
   "cell_type": "code",
   "execution_count": 25,
   "id": "7a4739a0",
   "metadata": {
    "ExecuteTime": {
     "end_time": "2023-11-28T02:15:27.242052Z",
     "start_time": "2023-11-28T02:15:27.234634Z"
    }
   },
   "outputs": [
    {
     "name": "stdout",
     "output_type": "stream",
     "text": [
      "1\n",
      "3\n",
      "5\n",
      "7\n",
      "9\n"
     ]
    }
   ],
   "source": [
    "a = 0\n",
    "while a < 10:\n",
    "    if a % 2 == 0:\n",
    "        a = a + 1\n",
    "        continue\n",
    "    print(a)\n",
    "    a = a + 1"
   ]
  },
  {
   "cell_type": "markdown",
   "id": "d1fc4189",
   "metadata": {},
   "source": [
    "### 무한 루프"
   ]
  },
  {
   "cell_type": "markdown",
   "id": "d6026c7a",
   "metadata": {},
   "source": [
    "```\n",
    "while True: \n",
    "    수행할_문장1 \n",
    "    수행할_문장2\n",
    "    ...\n",
    "```"
   ]
  },
  {
   "cell_type": "markdown",
   "id": "4a3e76fd",
   "metadata": {},
   "source": [
    "예시 따라서 치지 말자ㅋㅋ"
   ]
  },
  {
   "cell_type": "markdown",
   "id": "4fcadef0",
   "metadata": {},
   "source": [
    "## for문"
   ]
  },
  {
   "cell_type": "markdown",
   "id": "c648877a",
   "metadata": {},
   "source": [
    "### for문의 기본 구조"
   ]
  },
  {
   "cell_type": "markdown",
   "id": "495a78df",
   "metadata": {},
   "source": [
    "```\n",
    "for 변수 in 리스트(또는 튜플, 문자열):\n",
    "    수행할_문장1\n",
    "    수행할_문장2\n",
    "    ...\n",
    "```"
   ]
  },
  {
   "cell_type": "code",
   "execution_count": 27,
   "id": "29bf3bb0",
   "metadata": {
    "ExecuteTime": {
     "end_time": "2023-11-28T02:23:05.148014Z",
     "start_time": "2023-11-28T02:23:05.141212Z"
    }
   },
   "outputs": [
    {
     "name": "stdout",
     "output_type": "stream",
     "text": [
      "one\n",
      "two\n",
      "three\n"
     ]
    }
   ],
   "source": [
    "test_list = ['one', 'two', 'three'] \n",
    "for i in test_list: \n",
    "    print(i)"
   ]
  },
  {
   "cell_type": "code",
   "execution_count": 28,
   "id": "22a43bae",
   "metadata": {
    "ExecuteTime": {
     "end_time": "2023-11-28T02:23:29.054817Z",
     "start_time": "2023-11-28T02:23:29.046424Z"
    }
   },
   "outputs": [
    {
     "name": "stdout",
     "output_type": "stream",
     "text": [
      "3\n",
      "7\n",
      "11\n"
     ]
    }
   ],
   "source": [
    "a = [(1,2), (3,4), (5,6)]\n",
    "for (first, last) in a:\n",
    "    print(first + last)"
   ]
  },
  {
   "cell_type": "markdown",
   "id": "dff1875b",
   "metadata": {
    "ExecuteTime": {
     "end_time": "2023-11-28T02:23:44.589678Z",
     "start_time": "2023-11-28T02:23:44.583061Z"
    }
   },
   "source": [
    "### for문의 응용"
   ]
  },
  {
   "cell_type": "code",
   "execution_count": 33,
   "id": "06e6d4ae",
   "metadata": {
    "ExecuteTime": {
     "end_time": "2023-11-28T02:35:53.594398Z",
     "start_time": "2023-11-28T02:35:53.588959Z"
    }
   },
   "outputs": [
    {
     "name": "stdout",
     "output_type": "stream",
     "text": [
      "1번 학생은 합격입니다.\n",
      "2번 학생은 불합격입니다.\n",
      "3번 학생은 합격입니다.\n",
      "4번 학생은 불합격입니다.\n",
      "5번 학생은 합격입니다.\n"
     ]
    }
   ],
   "source": [
    "# 총 5명의 학생이 시험을 보았는데 시험 점수가 60점 이상이면 합격이고 그렇지 않으면 불합격이다. 합격인지, 불합격인지 결과를 보여 주시오.\n",
    "\n",
    "marks = [90, 25, 67, 45, 80]   # 학생들의 시험 점수 리스트\n",
    "\n",
    "number = 0   # 학생에게 붙여 줄 번호\n",
    "for score in marks:   # 90, 25, 67, 45, 80을 순서대로 mark에 대입\n",
    "    number = number +1 \n",
    "    if score >= 60: \n",
    "        print(\"%d번 학생은 합격입니다.\" % number)\n",
    "    else: \n",
    "        print(\"%d번 학생은 불합격입니다.\" % number)"
   ]
  },
  {
   "cell_type": "markdown",
   "id": "7d2176b5",
   "metadata": {},
   "source": [
    "### for문과 continue문"
   ]
  },
  {
   "cell_type": "code",
   "execution_count": 39,
   "id": "84106b75",
   "metadata": {
    "ExecuteTime": {
     "end_time": "2023-11-28T02:41:12.242814Z",
     "start_time": "2023-11-28T02:41:12.234123Z"
    }
   },
   "outputs": [
    {
     "name": "stdout",
     "output_type": "stream",
     "text": [
      "1번, 합격 축하합니다.\n",
      "3번, 합격 축하합니다.\n",
      "5번, 합격 축하합니다.\n"
     ]
    }
   ],
   "source": [
    "marks = [90, 25, 67, 45, 80]\n",
    "\n",
    "number = 0\n",
    "for score in marks:\n",
    "    number = number + 1\n",
    "    if score >= 60:\n",
    "        print(\"%d번, 합격 축하합니다.\" %number)\n",
    "    else:\n",
    "        continue"
   ]
  },
  {
   "cell_type": "markdown",
   "id": "f7e029f0",
   "metadata": {},
   "source": [
    "### for문과 함께 자주 사용하는 range 함수"
   ]
  },
  {
   "cell_type": "code",
   "execution_count": 41,
   "id": "c11051d9",
   "metadata": {
    "ExecuteTime": {
     "end_time": "2023-11-28T02:45:03.213683Z",
     "start_time": "2023-11-28T02:45:03.205400Z"
    }
   },
   "outputs": [
    {
     "name": "stdout",
     "output_type": "stream",
     "text": [
      "55\n"
     ]
    }
   ],
   "source": [
    "add = 0 \n",
    "for i in range(1, 11):\n",
    "    add = add + i \n",
    "\n",
    "print(add)"
   ]
  },
  {
   "cell_type": "code",
   "execution_count": 42,
   "id": "9c0a54c9",
   "metadata": {
    "ExecuteTime": {
     "end_time": "2023-11-28T02:45:15.148586Z",
     "start_time": "2023-11-28T02:45:15.141198Z"
    }
   },
   "outputs": [
    {
     "name": "stdout",
     "output_type": "stream",
     "text": [
      "1번 학생 축하합니다. 합격입니다.\n",
      "3번 학생 축하합니다. 합격입니다.\n",
      "5번 학생 축하합니다. 합격입니다.\n"
     ]
    }
   ],
   "source": [
    "marks = [90, 25, 67, 45, 80]\n",
    "for number in range(len(marks)):\n",
    "    if marks[number] < 60: \n",
    "        continue\n",
    "    print(\"%d번 학생 축하합니다. 합격입니다.\" % (number+1))"
   ]
  },
  {
   "cell_type": "code",
   "execution_count": null,
   "id": "229d263b",
   "metadata": {},
   "outputs": [],
   "source": []
  }
 ],
 "metadata": {
  "hide_input": false,
  "kernelspec": {
   "display_name": "Python 3 (ipykernel)",
   "language": "python",
   "name": "python3"
  },
  "language_info": {
   "codemirror_mode": {
    "name": "ipython",
    "version": 3
   },
   "file_extension": ".py",
   "mimetype": "text/x-python",
   "name": "python",
   "nbconvert_exporter": "python",
   "pygments_lexer": "ipython3",
   "version": "3.11.5"
  },
  "toc": {
   "base_numbering": 1,
   "nav_menu": {},
   "number_sections": true,
   "sideBar": true,
   "skip_h1_title": false,
   "title_cell": "Table of Contents",
   "title_sidebar": "Contents",
   "toc_cell": false,
   "toc_position": {},
   "toc_section_display": true,
   "toc_window_display": false
  },
  "varInspector": {
   "cols": {
    "lenName": 16,
    "lenType": 16,
    "lenVar": 40
   },
   "kernels_config": {
    "python": {
     "delete_cmd_postfix": "",
     "delete_cmd_prefix": "del ",
     "library": "var_list.py",
     "varRefreshCmd": "print(var_dic_list())"
    },
    "r": {
     "delete_cmd_postfix": ") ",
     "delete_cmd_prefix": "rm(",
     "library": "var_list.r",
     "varRefreshCmd": "cat(var_dic_list()) "
    }
   },
   "types_to_exclude": [
    "module",
    "function",
    "builtin_function_or_method",
    "instance",
    "_Feature"
   ],
   "window_display": false
  }
 },
 "nbformat": 4,
 "nbformat_minor": 5
}
