{
 "cells": [
  {
   "cell_type": "markdown",
   "id": "bf14b2b8",
   "metadata": {},
   "source": [
    "# 숫자형"
   ]
  },
  {
   "cell_type": "markdown",
   "id": "1158379a",
   "metadata": {
    "ExecuteTime": {
     "end_time": "2023-11-23T02:18:45.341536Z",
     "start_time": "2023-11-23T02:18:45.337405Z"
    }
   },
   "source": [
    "## 정수형"
   ]
  },
  {
   "cell_type": "code",
   "execution_count": 1,
   "id": "5283f92c",
   "metadata": {
    "ExecuteTime": {
     "end_time": "2023-11-23T02:19:55.272315Z",
     "start_time": "2023-11-23T02:19:55.268316Z"
    }
   },
   "outputs": [],
   "source": [
    "a = 123"
   ]
  },
  {
   "cell_type": "code",
   "execution_count": 2,
   "id": "1e394b22",
   "metadata": {
    "ExecuteTime": {
     "end_time": "2023-11-23T02:19:55.283186Z",
     "start_time": "2023-11-23T02:19:55.273332Z"
    }
   },
   "outputs": [
    {
     "data": {
      "text/plain": [
       "123"
      ]
     },
     "execution_count": 2,
     "metadata": {},
     "output_type": "execute_result"
    }
   ],
   "source": [
    "a"
   ]
  },
  {
   "cell_type": "code",
   "execution_count": 3,
   "id": "96b1a329",
   "metadata": {
    "ExecuteTime": {
     "end_time": "2023-11-23T02:20:57.239087Z",
     "start_time": "2023-11-23T02:20:57.228296Z"
    }
   },
   "outputs": [
    {
     "data": {
      "text/plain": [
       "-178"
      ]
     },
     "execution_count": 3,
     "metadata": {},
     "output_type": "execute_result"
    }
   ],
   "source": [
    "a = -178\n",
    "a"
   ]
  },
  {
   "cell_type": "code",
   "execution_count": 4,
   "id": "76447a7f",
   "metadata": {
    "ExecuteTime": {
     "end_time": "2023-11-23T02:21:03.276293Z",
     "start_time": "2023-11-23T02:21:03.265445Z"
    }
   },
   "outputs": [
    {
     "data": {
      "text/plain": [
       "0"
      ]
     },
     "execution_count": 4,
     "metadata": {},
     "output_type": "execute_result"
    }
   ],
   "source": [
    "a = 0\n",
    "a"
   ]
  },
  {
   "cell_type": "markdown",
   "id": "39f742d9",
   "metadata": {},
   "source": [
    "## 실수형"
   ]
  },
  {
   "cell_type": "code",
   "execution_count": 5,
   "id": "1acfb895",
   "metadata": {
    "ExecuteTime": {
     "end_time": "2023-11-23T02:21:52.373716Z",
     "start_time": "2023-11-23T02:21:52.365216Z"
    }
   },
   "outputs": [
    {
     "data": {
      "text/plain": [
       "1.2"
      ]
     },
     "execution_count": 5,
     "metadata": {},
     "output_type": "execute_result"
    }
   ],
   "source": [
    "a = 1.2\n",
    "a"
   ]
  },
  {
   "cell_type": "code",
   "execution_count": 6,
   "id": "3ecda36d",
   "metadata": {
    "ExecuteTime": {
     "end_time": "2023-11-23T02:22:00.152616Z",
     "start_time": "2023-11-23T02:22:00.145307Z"
    }
   },
   "outputs": [
    {
     "data": {
      "text/plain": [
       "-3.45"
      ]
     },
     "execution_count": 6,
     "metadata": {},
     "output_type": "execute_result"
    }
   ],
   "source": [
    "a = -3.45\n",
    "a"
   ]
  },
  {
   "cell_type": "code",
   "execution_count": 7,
   "id": "7740d1cd",
   "metadata": {
    "ExecuteTime": {
     "end_time": "2023-11-23T02:22:32.395375Z",
     "start_time": "2023-11-23T02:22:32.387896Z"
    }
   },
   "outputs": [
    {
     "data": {
      "text/plain": [
       "42400000000.0"
      ]
     },
     "execution_count": 7,
     "metadata": {},
     "output_type": "execute_result"
    }
   ],
   "source": [
    "a = 4.24E10 # 4.24 * 10&^10\n",
    "a"
   ]
  },
  {
   "cell_type": "code",
   "execution_count": 8,
   "id": "9b47772b",
   "metadata": {
    "ExecuteTime": {
     "end_time": "2023-11-23T02:22:49.861823Z",
     "start_time": "2023-11-23T02:22:49.855186Z"
    }
   },
   "outputs": [
    {
     "data": {
      "text/plain": [
       "4.24e-10"
      ]
     },
     "execution_count": 8,
     "metadata": {},
     "output_type": "execute_result"
    }
   ],
   "source": [
    "a = 4.24E-10 # 4.24 * 10&^10\n",
    "a"
   ]
  },
  {
   "cell_type": "code",
   "execution_count": 22,
   "id": "57a3ed25",
   "metadata": {
    "ExecuteTime": {
     "end_time": "2023-11-23T02:29:32.570513Z",
     "start_time": "2023-11-23T02:29:32.560761Z"
    }
   },
   "outputs": [
    {
     "data": {
      "text/plain": [
       "127"
      ]
     },
     "execution_count": 22,
     "metadata": {},
     "output_type": "execute_result"
    }
   ],
   "source": [
    "# 8진수와 16진수\n",
    "a = 0o177\n",
    "a"
   ]
  },
  {
   "cell_type": "code",
   "execution_count": 23,
   "id": "69606cf5",
   "metadata": {
    "ExecuteTime": {
     "end_time": "2023-11-23T02:30:13.830910Z",
     "start_time": "2023-11-23T02:30:13.823097Z"
    }
   },
   "outputs": [
    {
     "data": {
      "text/plain": [
       "int"
      ]
     },
     "execution_count": 23,
     "metadata": {},
     "output_type": "execute_result"
    }
   ],
   "source": [
    "type(a)"
   ]
  },
  {
   "cell_type": "code",
   "execution_count": 24,
   "id": "c782b581",
   "metadata": {
    "ExecuteTime": {
     "end_time": "2023-11-23T02:30:15.448154Z",
     "start_time": "2023-11-23T02:30:15.441321Z"
    }
   },
   "outputs": [],
   "source": [
    "a = 0x8ff"
   ]
  },
  {
   "cell_type": "markdown",
   "id": "970bcd94",
   "metadata": {},
   "source": [
    "## 사칙연산"
   ]
  },
  {
   "cell_type": "code",
   "execution_count": 11,
   "id": "bff4e219",
   "metadata": {
    "ExecuteTime": {
     "end_time": "2023-11-23T02:25:14.215784Z",
     "start_time": "2023-11-23T02:25:14.205255Z"
    }
   },
   "outputs": [
    {
     "data": {
      "text/plain": [
       "7"
      ]
     },
     "execution_count": 11,
     "metadata": {},
     "output_type": "execute_result"
    }
   ],
   "source": [
    "a = 3\n",
    "b = 4\n",
    "a + b"
   ]
  },
  {
   "cell_type": "code",
   "execution_count": 12,
   "id": "6dc26c5d",
   "metadata": {
    "ExecuteTime": {
     "end_time": "2023-11-23T02:25:22.343443Z",
     "start_time": "2023-11-23T02:25:22.335533Z"
    }
   },
   "outputs": [
    {
     "data": {
      "text/plain": [
       "12"
      ]
     },
     "execution_count": 12,
     "metadata": {},
     "output_type": "execute_result"
    }
   ],
   "source": [
    "a * b"
   ]
  },
  {
   "cell_type": "code",
   "execution_count": 13,
   "id": "367e43be",
   "metadata": {
    "ExecuteTime": {
     "end_time": "2023-11-23T02:25:26.680909Z",
     "start_time": "2023-11-23T02:25:26.671833Z"
    }
   },
   "outputs": [
    {
     "data": {
      "text/plain": [
       "0.75"
      ]
     },
     "execution_count": 13,
     "metadata": {},
     "output_type": "execute_result"
    }
   ],
   "source": [
    "a / b"
   ]
  },
  {
   "cell_type": "code",
   "execution_count": 14,
   "id": "35f02c9e",
   "metadata": {
    "ExecuteTime": {
     "end_time": "2023-11-23T02:26:15.140814Z",
     "start_time": "2023-11-23T02:26:15.135734Z"
    }
   },
   "outputs": [
    {
     "data": {
      "text/plain": [
       "81"
      ]
     },
     "execution_count": 14,
     "metadata": {},
     "output_type": "execute_result"
    }
   ],
   "source": [
    "# x의 y제곱\n",
    "a ** b"
   ]
  },
  {
   "cell_type": "code",
   "execution_count": 15,
   "id": "6a380466",
   "metadata": {
    "ExecuteTime": {
     "end_time": "2023-11-23T02:27:24.482943Z",
     "start_time": "2023-11-23T02:27:24.470531Z"
    }
   },
   "outputs": [
    {
     "data": {
      "text/plain": [
       "1"
      ]
     },
     "execution_count": 15,
     "metadata": {},
     "output_type": "execute_result"
    }
   ],
   "source": [
    "7 % 3"
   ]
  },
  {
   "cell_type": "code",
   "execution_count": 16,
   "id": "450ff3df",
   "metadata": {
    "ExecuteTime": {
     "end_time": "2023-11-23T02:27:32.757632Z",
     "start_time": "2023-11-23T02:27:32.747631Z"
    }
   },
   "outputs": [
    {
     "data": {
      "text/plain": [
       "3"
      ]
     },
     "execution_count": 16,
     "metadata": {},
     "output_type": "execute_result"
    }
   ],
   "source": [
    "3 % 7"
   ]
  },
  {
   "cell_type": "code",
   "execution_count": 21,
   "id": "10a8dd91",
   "metadata": {
    "ExecuteTime": {
     "end_time": "2023-11-23T02:28:19.522487Z",
     "start_time": "2023-11-23T02:28:19.516030Z"
    }
   },
   "outputs": [
    {
     "data": {
      "text/plain": [
       "1.75"
      ]
     },
     "execution_count": 21,
     "metadata": {},
     "output_type": "execute_result"
    }
   ],
   "source": [
    "# 나눗셈의 몫 반환\n",
    "7 / 4"
   ]
  },
  {
   "cell_type": "code",
   "execution_count": 19,
   "id": "f0342b46",
   "metadata": {
    "ExecuteTime": {
     "end_time": "2023-11-23T02:28:11.024839Z",
     "start_time": "2023-11-23T02:28:11.017825Z"
    }
   },
   "outputs": [
    {
     "data": {
      "text/plain": [
       "1.75"
      ]
     },
     "execution_count": 19,
     "metadata": {},
     "output_type": "execute_result"
    }
   ],
   "source": [
    "7 / 4"
   ]
  },
  {
   "cell_type": "code",
   "execution_count": 20,
   "id": "80e14db4",
   "metadata": {
    "ExecuteTime": {
     "end_time": "2023-11-23T02:28:15.445815Z",
     "start_time": "2023-11-23T02:28:15.436379Z"
    }
   },
   "outputs": [
    {
     "data": {
      "text/plain": [
       "3"
      ]
     },
     "execution_count": 20,
     "metadata": {},
     "output_type": "execute_result"
    }
   ],
   "source": [
    "7 % 4"
   ]
  },
  {
   "cell_type": "markdown",
   "id": "d6e33919",
   "metadata": {},
   "source": [
    "# 문자열"
   ]
  },
  {
   "cell_type": "code",
   "execution_count": 25,
   "id": "3217e2d3",
   "metadata": {
    "ExecuteTime": {
     "end_time": "2023-11-23T02:32:47.508925Z",
     "start_time": "2023-11-23T02:32:47.500005Z"
    }
   },
   "outputs": [
    {
     "data": {
      "text/plain": [
       "'Hello World!'"
      ]
     },
     "execution_count": 25,
     "metadata": {},
     "output_type": "execute_result"
    }
   ],
   "source": [
    "'Hello World!'"
   ]
  },
  {
   "cell_type": "code",
   "execution_count": 27,
   "id": "830354f0",
   "metadata": {
    "ExecuteTime": {
     "end_time": "2023-11-23T02:34:01.823971Z",
     "start_time": "2023-11-23T02:34:01.815838Z"
    }
   },
   "outputs": [
    {
     "data": {
      "text/plain": [
       "'Life is too short, You need python'"
      ]
     },
     "execution_count": 27,
     "metadata": {},
     "output_type": "execute_result"
    }
   ],
   "source": [
    "\"\"\"Life is too short, You need python\"\"\""
   ]
  },
  {
   "cell_type": "code",
   "execution_count": 28,
   "id": "917d12bd",
   "metadata": {
    "ExecuteTime": {
     "end_time": "2023-11-23T02:35:11.545064Z",
     "start_time": "2023-11-23T02:35:11.536687Z"
    }
   },
   "outputs": [
    {
     "data": {
      "text/plain": [
       "\"Python's faborite food is perl\""
      ]
     },
     "execution_count": 28,
     "metadata": {},
     "output_type": "execute_result"
    }
   ],
   "source": [
    "\"Python's faborite food is perl\""
   ]
  },
  {
   "cell_type": "code",
   "execution_count": 29,
   "id": "b2b4de67",
   "metadata": {
    "ExecuteTime": {
     "end_time": "2023-11-23T02:36:46.065485Z",
     "start_time": "2023-11-23T02:36:46.056556Z"
    }
   },
   "outputs": [
    {
     "data": {
      "text/plain": [
       "\"Python's faborite food is perl\""
      ]
     },
     "execution_count": 29,
     "metadata": {},
     "output_type": "execute_result"
    }
   ],
   "source": [
    "food = \"Python's faborite food is perl\"\n",
    "food"
   ]
  },
  {
   "cell_type": "code",
   "execution_count": 30,
   "id": "941cee1f",
   "metadata": {
    "ExecuteTime": {
     "end_time": "2023-11-23T02:37:31.162831Z",
     "start_time": "2023-11-23T02:37:31.153721Z"
    }
   },
   "outputs": [
    {
     "data": {
      "text/plain": [
       "'\"Python is very easy.\" he says.'"
      ]
     },
     "execution_count": 30,
     "metadata": {},
     "output_type": "execute_result"
    }
   ],
   "source": [
    "'\"Python is very easy.\" he says.'"
   ]
  },
  {
   "cell_type": "code",
   "execution_count": 33,
   "id": "ebd6b36f",
   "metadata": {
    "ExecuteTime": {
     "end_time": "2023-11-23T02:42:22.813688Z",
     "start_time": "2023-11-23T02:42:22.802781Z"
    }
   },
   "outputs": [
    {
     "data": {
      "text/plain": [
       "(\"Python's faborite food is perl\", '\"Python is very easy.\" he says.')"
      ]
     },
     "execution_count": 33,
     "metadata": {},
     "output_type": "execute_result"
    }
   ],
   "source": [
    "# 백슬래시(\\)를 사용해서 따옴표를 문자열에 포함 가능\n",
    "# 이스케이프 문자 -> 인식되지 않음\n",
    "\n",
    "food = 'Python\\'s faborite food is perl'\n",
    "say = \"\\\"Python is very easy.\\\" he says.\"\n",
    "\n",
    "food, say"
   ]
  },
  {
   "cell_type": "markdown",
   "id": "29a36623",
   "metadata": {},
   "source": [
    "## 여러 줄인 문자열을 변수에 대입하고 싶을 때"
   ]
  },
  {
   "cell_type": "code",
   "execution_count": 35,
   "id": "b603b8e2",
   "metadata": {
    "ExecuteTime": {
     "end_time": "2023-11-23T02:44:02.829778Z",
     "start_time": "2023-11-23T02:44:02.822168Z"
    }
   },
   "outputs": [
    {
     "data": {
      "text/plain": [
       "'Life is too short\\nYou need python'"
      ]
     },
     "execution_count": 35,
     "metadata": {},
     "output_type": "execute_result"
    }
   ],
   "source": [
    "# 줄을 바꾸는 이스케이프 코드 \\n\n",
    "\n",
    "multiline = \"Life is too short\\nYou need python\"\n",
    "multiline"
   ]
  },
  {
   "cell_type": "code",
   "execution_count": 37,
   "id": "bdafe88e",
   "metadata": {
    "ExecuteTime": {
     "end_time": "2023-11-23T02:44:24.539516Z",
     "start_time": "2023-11-23T02:44:24.532171Z"
    }
   },
   "outputs": [
    {
     "name": "stdout",
     "output_type": "stream",
     "text": [
      "Life is too short\n",
      "You need python\n"
     ]
    }
   ],
   "source": [
    "print(multiline)"
   ]
  },
  {
   "cell_type": "markdown",
   "id": "3eb6544f",
   "metadata": {},
   "source": [
    "## 연속된 따옴표 사용하기"
   ]
  },
  {
   "cell_type": "code",
   "execution_count": 39,
   "id": "3a501b47",
   "metadata": {
    "ExecuteTime": {
     "end_time": "2023-11-23T02:49:23.076224Z",
     "start_time": "2023-11-23T02:49:23.067051Z"
    }
   },
   "outputs": [
    {
     "data": {
      "text/plain": [
       "'Life is too short,\\nYou need python'"
      ]
     },
     "execution_count": 39,
     "metadata": {},
     "output_type": "execute_result"
    }
   ],
   "source": [
    "multiline = \"\"\"Life is too short,\n",
    "You need python\"\"\"\n",
    "multiline"
   ]
  },
  {
   "cell_type": "code",
   "execution_count": 41,
   "id": "8e47293c",
   "metadata": {
    "ExecuteTime": {
     "end_time": "2023-11-23T02:49:33.308997Z",
     "start_time": "2023-11-23T02:49:33.300293Z"
    }
   },
   "outputs": [
    {
     "name": "stdout",
     "output_type": "stream",
     "text": [
      "Life is too short,\n",
      "You need python\n"
     ]
    }
   ],
   "source": [
    "print(multiline)"
   ]
  },
  {
   "cell_type": "markdown",
   "id": "8a5721bd",
   "metadata": {},
   "source": [
    "## 문자열 연산하기"
   ]
  },
  {
   "cell_type": "code",
   "execution_count": 1,
   "id": "fc72602e",
   "metadata": {
    "ExecuteTime": {
     "end_time": "2023-11-24T00:35:12.387300Z",
     "start_time": "2023-11-24T00:35:12.371363Z"
    }
   },
   "outputs": [
    {
     "data": {
      "text/plain": [
       "'Python is fun'"
      ]
     },
     "execution_count": 1,
     "metadata": {},
     "output_type": "execute_result"
    }
   ],
   "source": [
    "head = \"Python\"\n",
    "tail = \" is fun\"\n",
    "head + tail"
   ]
  },
  {
   "cell_type": "code",
   "execution_count": 2,
   "id": "d5b536b4",
   "metadata": {
    "ExecuteTime": {
     "end_time": "2023-11-24T00:35:32.848041Z",
     "start_time": "2023-11-24T00:35:32.836550Z"
    }
   },
   "outputs": [
    {
     "data": {
      "text/plain": [
       "'PythonPython'"
      ]
     },
     "execution_count": 2,
     "metadata": {},
     "output_type": "execute_result"
    }
   ],
   "source": [
    "a = \"Python\"\n",
    "a * 2"
   ]
  },
  {
   "cell_type": "code",
   "execution_count": 3,
   "id": "99f119e0",
   "metadata": {
    "ExecuteTime": {
     "end_time": "2023-11-24T00:35:56.877988Z",
     "start_time": "2023-11-24T00:35:56.868631Z"
    }
   },
   "outputs": [
    {
     "name": "stdout",
     "output_type": "stream",
     "text": [
      "==================================================\n"
     ]
    }
   ],
   "source": [
    "print('='*50) #코드 구분할 떄 사용하기 좋음"
   ]
  },
  {
   "cell_type": "code",
   "execution_count": 5,
   "id": "8d96f8d9",
   "metadata": {
    "ExecuteTime": {
     "end_time": "2023-11-24T00:36:29.297579Z",
     "start_time": "2023-11-24T00:36:29.286173Z"
    }
   },
   "outputs": [
    {
     "data": {
      "text/plain": [
       "17"
      ]
     },
     "execution_count": 5,
     "metadata": {},
     "output_type": "execute_result"
    }
   ],
   "source": [
    "a = \"Life is too short\"\n",
    "len(a) #공백 포함 글자수 반환"
   ]
  },
  {
   "cell_type": "markdown",
   "id": "8163399c",
   "metadata": {},
   "source": [
    "## 문자열 인덱싱과 슬라이싱"
   ]
  },
  {
   "cell_type": "markdown",
   "id": "d2c426c7",
   "metadata": {},
   "source": [
    "### 인덱싱"
   ]
  },
  {
   "cell_type": "code",
   "execution_count": 7,
   "id": "f57eb688",
   "metadata": {
    "ExecuteTime": {
     "end_time": "2023-11-24T00:37:42.788563Z",
     "start_time": "2023-11-24T00:37:42.778260Z"
    }
   },
   "outputs": [
    {
     "data": {
      "text/plain": [
       "'Life is too short, You need python'"
      ]
     },
     "execution_count": 7,
     "metadata": {},
     "output_type": "execute_result"
    }
   ],
   "source": [
    "a = \"Life is too short, You need python\"\n",
    "a"
   ]
  },
  {
   "cell_type": "code",
   "execution_count": 8,
   "id": "8b0b63ed",
   "metadata": {
    "ExecuteTime": {
     "end_time": "2023-11-24T00:38:12.682818Z",
     "start_time": "2023-11-24T00:38:12.670321Z"
    }
   },
   "outputs": [
    {
     "data": {
      "text/plain": [
       "'e'"
      ]
     },
     "execution_count": 8,
     "metadata": {},
     "output_type": "execute_result"
    }
   ],
   "source": [
    "a[3]"
   ]
  },
  {
   "cell_type": "code",
   "execution_count": 9,
   "id": "359a067c",
   "metadata": {
    "ExecuteTime": {
     "end_time": "2023-11-24T00:38:35.824571Z",
     "start_time": "2023-11-24T00:38:35.815917Z"
    }
   },
   "outputs": [
    {
     "data": {
      "text/plain": [
       "'L'"
      ]
     },
     "execution_count": 9,
     "metadata": {},
     "output_type": "execute_result"
    }
   ],
   "source": [
    "a[0]"
   ]
  },
  {
   "cell_type": "code",
   "execution_count": 10,
   "id": "f8849651",
   "metadata": {
    "ExecuteTime": {
     "end_time": "2023-11-24T00:38:54.811564Z",
     "start_time": "2023-11-24T00:38:54.802124Z"
    }
   },
   "outputs": [
    {
     "data": {
      "text/plain": [
       "'s'"
      ]
     },
     "execution_count": 10,
     "metadata": {},
     "output_type": "execute_result"
    }
   ],
   "source": [
    "a[12]"
   ]
  },
  {
   "cell_type": "code",
   "execution_count": 11,
   "id": "83e4cd75",
   "metadata": {
    "ExecuteTime": {
     "end_time": "2023-11-24T00:39:11.084306Z",
     "start_time": "2023-11-24T00:39:11.073226Z"
    }
   },
   "outputs": [
    {
     "data": {
      "text/plain": [
       "'o'"
      ]
     },
     "execution_count": 11,
     "metadata": {},
     "output_type": "execute_result"
    }
   ],
   "source": [
    "a[-2]"
   ]
  },
  {
   "cell_type": "markdown",
   "id": "de09d6df",
   "metadata": {},
   "source": [
    "### 슬라이싱"
   ]
  },
  {
   "cell_type": "markdown",
   "id": "20f5b893",
   "metadata": {
    "ExecuteTime": {
     "end_time": "2023-11-24T00:40:56.505153Z",
     "start_time": "2023-11-24T00:40:56.482190Z"
    }
   },
   "source": [
    "- 범위 [start index : endindex+1]"
   ]
  },
  {
   "cell_type": "code",
   "execution_count": 14,
   "id": "0fc654e6",
   "metadata": {
    "ExecuteTime": {
     "end_time": "2023-11-24T00:41:37.509453Z",
     "start_time": "2023-11-24T00:41:37.498087Z"
    }
   },
   "outputs": [
    {
     "data": {
      "text/plain": [
       "'Life'"
      ]
     },
     "execution_count": 14,
     "metadata": {},
     "output_type": "execute_result"
    }
   ],
   "source": [
    "b = a[0:4]\n",
    "b"
   ]
  },
  {
   "cell_type": "code",
   "execution_count": 16,
   "id": "db1cc9e6",
   "metadata": {
    "ExecuteTime": {
     "end_time": "2023-11-24T00:42:19.516618Z",
     "start_time": "2023-11-24T00:42:19.507299Z"
    }
   },
   "outputs": [
    {
     "data": {
      "text/plain": [
       "'Life'"
      ]
     },
     "execution_count": 16,
     "metadata": {},
     "output_type": "execute_result"
    }
   ],
   "source": [
    "b = a[0] + a[1] + a[2] + a[3]\n",
    "b"
   ]
  },
  {
   "cell_type": "code",
   "execution_count": 17,
   "id": "781f807e",
   "metadata": {
    "ExecuteTime": {
     "end_time": "2023-11-24T00:43:18.017683Z",
     "start_time": "2023-11-24T00:43:18.007325Z"
    }
   },
   "outputs": [
    {
     "data": {
      "text/plain": [
       "'Life'"
      ]
     },
     "execution_count": 17,
     "metadata": {},
     "output_type": "execute_result"
    }
   ],
   "source": [
    "a[:4]"
   ]
  },
  {
   "cell_type": "code",
   "execution_count": 18,
   "id": "2eb91426",
   "metadata": {
    "ExecuteTime": {
     "end_time": "2023-11-24T00:43:25.357478Z",
     "start_time": "2023-11-24T00:43:25.347727Z"
    }
   },
   "outputs": [
    {
     "data": {
      "text/plain": [
       "'Life '"
      ]
     },
     "execution_count": 18,
     "metadata": {},
     "output_type": "execute_result"
    }
   ],
   "source": [
    "a[:5]"
   ]
  },
  {
   "cell_type": "code",
   "execution_count": 19,
   "id": "b820e0f7",
   "metadata": {
    "ExecuteTime": {
     "end_time": "2023-11-24T00:43:37.666383Z",
     "start_time": "2023-11-24T00:43:37.655078Z"
    }
   },
   "outputs": [
    {
     "data": {
      "text/plain": [
       "'is'"
      ]
     },
     "execution_count": 19,
     "metadata": {},
     "output_type": "execute_result"
    }
   ],
   "source": [
    "a[5:7]"
   ]
  },
  {
   "cell_type": "code",
   "execution_count": 20,
   "id": "525c836b",
   "metadata": {
    "ExecuteTime": {
     "end_time": "2023-11-24T00:44:28.680128Z",
     "start_time": "2023-11-24T00:44:28.667880Z"
    }
   },
   "outputs": [
    {
     "data": {
      "text/plain": [
       "'Life is too short, You need python'"
      ]
     },
     "execution_count": 20,
     "metadata": {},
     "output_type": "execute_result"
    }
   ],
   "source": [
    "a[:]"
   ]
  },
  {
   "cell_type": "code",
   "execution_count": 22,
   "id": "d8c760f5",
   "metadata": {
    "ExecuteTime": {
     "end_time": "2023-11-24T00:44:53.054957Z",
     "start_time": "2023-11-24T00:44:53.044216Z"
    }
   },
   "outputs": [
    {
     "data": {
      "text/plain": [
       "'You need'"
      ]
     },
     "execution_count": 22,
     "metadata": {},
     "output_type": "execute_result"
    }
   ],
   "source": [
    "a[19:-7]"
   ]
  },
  {
   "cell_type": "code",
   "execution_count": 23,
   "id": "385efcfc",
   "metadata": {
    "ExecuteTime": {
     "end_time": "2023-11-24T00:45:29.055523Z",
     "start_time": "2023-11-24T00:45:29.041893Z"
    }
   },
   "outputs": [
    {
     "data": {
      "text/plain": [
       "''"
      ]
     },
     "execution_count": 23,
     "metadata": {},
     "output_type": "execute_result"
    }
   ],
   "source": [
    "a[-10:17]"
   ]
  },
  {
   "cell_type": "markdown",
   "id": "7afa0c8f",
   "metadata": {},
   "source": [
    "### 슬라이싱으로 문자열 나누기"
   ]
  },
  {
   "cell_type": "code",
   "execution_count": 25,
   "id": "165780c2",
   "metadata": {
    "ExecuteTime": {
     "end_time": "2023-11-24T00:47:52.597340Z",
     "start_time": "2023-11-24T00:47:52.588213Z"
    }
   },
   "outputs": [
    {
     "name": "stdout",
     "output_type": "stream",
     "text": [
      "20231124\n",
      "Sunny\n"
     ]
    }
   ],
   "source": [
    "a = \"20231124Sunny\"\n",
    "date = a[:8]\n",
    "weather = a[8:]\n",
    "print(date)\n",
    "print(weather)"
   ]
  },
  {
   "cell_type": "code",
   "execution_count": 28,
   "id": "f3c305b6",
   "metadata": {
    "ExecuteTime": {
     "end_time": "2023-11-24T00:50:04.228879Z",
     "start_time": "2023-11-24T00:50:04.220892Z"
    }
   },
   "outputs": [
    {
     "name": "stdout",
     "output_type": "stream",
     "text": [
      "2023\n",
      "1124\n"
     ]
    }
   ],
   "source": [
    "year = a[0:4]\n",
    "day = a[4:8]\n",
    "print(year)\n",
    "print(day)"
   ]
  },
  {
   "cell_type": "markdown",
   "id": "377a9302",
   "metadata": {},
   "source": [
    "## 문자열 요소 바꾸기"
   ]
  },
  {
   "cell_type": "code",
   "execution_count": 30,
   "id": "151a135f",
   "metadata": {
    "ExecuteTime": {
     "end_time": "2023-11-24T01:01:40.490370Z",
     "start_time": "2023-11-24T01:01:40.478371Z"
    }
   },
   "outputs": [
    {
     "data": {
      "text/plain": [
       "'i'"
      ]
     },
     "execution_count": 30,
     "metadata": {},
     "output_type": "execute_result"
    }
   ],
   "source": [
    "a = \"Pithon\"\n",
    "a[1]"
   ]
  },
  {
   "cell_type": "code",
   "execution_count": 31,
   "id": "5e7abaef",
   "metadata": {
    "ExecuteTime": {
     "end_time": "2023-11-24T01:01:52.355525Z",
     "start_time": "2023-11-24T01:01:52.312932Z"
    }
   },
   "outputs": [
    {
     "ename": "NameError",
     "evalue": "name 'y' is not defined",
     "output_type": "error",
     "traceback": [
      "\u001b[1;31m---------------------------------------------------------------------------\u001b[0m",
      "\u001b[1;31mNameError\u001b[0m                                 Traceback (most recent call last)",
      "Cell \u001b[1;32mIn[31], line 1\u001b[0m\n\u001b[1;32m----> 1\u001b[0m a[\u001b[38;5;241m1\u001b[39m]\u001b[38;5;241m=\u001b[39my\n",
      "\u001b[1;31mNameError\u001b[0m: name 'y' is not defined"
     ]
    }
   ],
   "source": [
    "a[1]=y"
   ]
  },
  {
   "cell_type": "code",
   "execution_count": 32,
   "id": "4a1513a9",
   "metadata": {
    "ExecuteTime": {
     "end_time": "2023-11-24T01:02:08.315813Z",
     "start_time": "2023-11-24T01:02:08.303586Z"
    }
   },
   "outputs": [
    {
     "data": {
      "text/plain": [
       "'Python'"
      ]
     },
     "execution_count": 32,
     "metadata": {},
     "output_type": "execute_result"
    }
   ],
   "source": [
    "a[0]+'y'+a[2:]"
   ]
  },
  {
   "cell_type": "markdown",
   "id": "3e3b38ab",
   "metadata": {},
   "source": [
    "## 문자열 포매팅\n",
    "- 현재 온도는 20도 입니다.\n",
    "- 현재 온도는 -3도 입니다."
   ]
  },
  {
   "cell_type": "code",
   "execution_count": 33,
   "id": "e25bd148",
   "metadata": {
    "ExecuteTime": {
     "end_time": "2023-11-24T01:10:41.473394Z",
     "start_time": "2023-11-24T01:10:41.463440Z"
    }
   },
   "outputs": [
    {
     "data": {
      "text/plain": [
       "'i eat five apples'"
      ]
     },
     "execution_count": 33,
     "metadata": {},
     "output_type": "execute_result"
    }
   ],
   "source": [
    "\"i eat %s apples\" % \"five\""
   ]
  },
  {
   "cell_type": "code",
   "execution_count": 34,
   "id": "2769cfa7",
   "metadata": {
    "ExecuteTime": {
     "end_time": "2023-11-24T01:11:12.511054Z",
     "start_time": "2023-11-24T01:11:12.501102Z"
    }
   },
   "outputs": [
    {
     "data": {
      "text/plain": [
       "'i eat 3 apples'"
      ]
     },
     "execution_count": 34,
     "metadata": {},
     "output_type": "execute_result"
    }
   ],
   "source": [
    "number = 3\n",
    "\"i eat %d apples\"%number"
   ]
  },
  {
   "cell_type": "code",
   "execution_count": 36,
   "id": "3a465b1a",
   "metadata": {
    "ExecuteTime": {
     "end_time": "2023-11-24T01:12:11.827253Z",
     "start_time": "2023-11-24T01:12:11.814962Z"
    }
   },
   "outputs": [
    {
     "data": {
      "text/plain": [
       "'i eat 3 apples, so i was sick for three days'"
      ]
     },
     "execution_count": 36,
     "metadata": {},
     "output_type": "execute_result"
    }
   ],
   "source": [
    "number = 3\n",
    "day = \"three\"\n",
    "\"i eat %d apples, so i was sick for %s days\"%(number, day)"
   ]
  },
  {
   "cell_type": "markdown",
   "id": "abb596a2",
   "metadata": {},
   "source": [
    "## 정렬과 공백\n",
    "- 양수 : 우정렬\n",
    "- 음수 : 좌정렬"
   ]
  },
  {
   "cell_type": "code",
   "execution_count": 37,
   "id": "a17c1bb1",
   "metadata": {
    "ExecuteTime": {
     "end_time": "2023-11-24T01:13:54.167934Z",
     "start_time": "2023-11-24T01:13:54.156071Z"
    }
   },
   "outputs": [
    {
     "data": {
      "text/plain": [
       "'        hi'"
      ]
     },
     "execution_count": 37,
     "metadata": {},
     "output_type": "execute_result"
    }
   ],
   "source": [
    "# 10개의 문자열 공간을 만들되, 치환되는 문자열을 우측 정렬하고 빈 곳은 공백으로 채우는 것\n",
    "\"%10s\"%\"hi\""
   ]
  },
  {
   "cell_type": "code",
   "execution_count": 38,
   "id": "eacf415c",
   "metadata": {
    "ExecuteTime": {
     "end_time": "2023-11-24T01:14:13.713117Z",
     "start_time": "2023-11-24T01:14:13.703583Z"
    }
   },
   "outputs": [
    {
     "data": {
      "text/plain": [
       "'hi        '"
      ]
     },
     "execution_count": 38,
     "metadata": {},
     "output_type": "execute_result"
    }
   ],
   "source": [
    "\"%-10s\"%\"hi\""
   ]
  },
  {
   "cell_type": "markdown",
   "id": "b18ca727",
   "metadata": {},
   "source": [
    "## 소수점 표현하기"
   ]
  },
  {
   "cell_type": "code",
   "execution_count": 39,
   "id": "c63ce45a",
   "metadata": {
    "ExecuteTime": {
     "end_time": "2023-11-24T01:14:56.321169Z",
     "start_time": "2023-11-24T01:14:56.310268Z"
    }
   },
   "outputs": [
    {
     "data": {
      "text/plain": [
       "'3.1416'"
      ]
     },
     "execution_count": 39,
     "metadata": {},
     "output_type": "execute_result"
    }
   ],
   "source": [
    "\"%0.4f\"%3.141592"
   ]
  },
  {
   "cell_type": "markdown",
   "id": "e78b1991",
   "metadata": {},
   "source": [
    "## 포맷함수로를 사용한 포매팅"
   ]
  },
  {
   "cell_type": "code",
   "execution_count": 41,
   "id": "27705995",
   "metadata": {
    "ExecuteTime": {
     "end_time": "2023-11-24T01:17:18.195315Z",
     "start_time": "2023-11-24T01:17:18.184875Z"
    }
   },
   "outputs": [
    {
     "data": {
      "text/plain": [
       "'i eat 3 apples'"
      ]
     },
     "execution_count": 41,
     "metadata": {},
     "output_type": "execute_result"
    }
   ],
   "source": [
    "\"i eat {} apples\".format(3)"
   ]
  },
  {
   "cell_type": "code",
   "execution_count": 42,
   "id": "02a77d07",
   "metadata": {
    "ExecuteTime": {
     "end_time": "2023-11-24T01:18:07.285688Z",
     "start_time": "2023-11-24T01:18:07.273773Z"
    }
   },
   "outputs": [
    {
     "data": {
      "text/plain": [
       "'i eat five apples'"
      ]
     },
     "execution_count": 42,
     "metadata": {},
     "output_type": "execute_result"
    }
   ],
   "source": [
    "\"i eat {} apples\".format(\"five\")"
   ]
  },
  {
   "cell_type": "code",
   "execution_count": 43,
   "id": "46bed68a",
   "metadata": {
    "ExecuteTime": {
     "end_time": "2023-11-24T01:18:28.297748Z",
     "start_time": "2023-11-24T01:18:28.288681Z"
    }
   },
   "outputs": [
    {
     "data": {
      "text/plain": [
       "'i eat 3 apples'"
      ]
     },
     "execution_count": 43,
     "metadata": {},
     "output_type": "execute_result"
    }
   ],
   "source": [
    "number = 3\n",
    "\"i eat {} apples\".format(number)"
   ]
  },
  {
   "cell_type": "code",
   "execution_count": 44,
   "id": "57fb9412",
   "metadata": {
    "ExecuteTime": {
     "end_time": "2023-11-24T01:19:37.661850Z",
     "start_time": "2023-11-24T01:19:37.651377Z"
    }
   },
   "outputs": [
    {
     "data": {
      "text/plain": [
       "'i eat 3 apples. so i was sick for three days'"
      ]
     },
     "execution_count": 44,
     "metadata": {},
     "output_type": "execute_result"
    }
   ],
   "source": [
    "number = 3\n",
    "day = \"three\"\n",
    "'i eat {} apples. so i was sick for {} days'.format(number, day)"
   ]
  },
  {
   "cell_type": "code",
   "execution_count": 45,
   "id": "35f58e0e",
   "metadata": {
    "ExecuteTime": {
     "end_time": "2023-11-24T01:20:33.879899Z",
     "start_time": "2023-11-24T01:20:33.869867Z"
    }
   },
   "outputs": [
    {
     "data": {
      "text/plain": [
       "'i eat 10 apples. so i was sick for five days'"
      ]
     },
     "execution_count": 45,
     "metadata": {},
     "output_type": "execute_result"
    }
   ],
   "source": [
    "\"i eat {number} apples. so i was sick for {day} days\".format(number=10, day=\"five\")"
   ]
  },
  {
   "cell_type": "markdown",
   "id": "1c803a2e",
   "metadata": {},
   "source": [
    "## f문자열 포매팅"
   ]
  },
  {
   "cell_type": "code",
   "execution_count": 46,
   "id": "72eed4b3",
   "metadata": {
    "ExecuteTime": {
     "end_time": "2023-11-24T01:23:35.027939Z",
     "start_time": "2023-11-24T01:23:35.017608Z"
    }
   },
   "outputs": [
    {
     "data": {
      "text/plain": [
       "'나의 이름은 이현석입니다. 나이는 30 입니다.'"
      ]
     },
     "execution_count": 46,
     "metadata": {},
     "output_type": "execute_result"
    }
   ],
   "source": [
    "# python 3.6\n",
    "name = '이현석'\n",
    "age = 30\n",
    "f\"나의 이름은 {name}입니다. 나이는 {age} 입니다.\""
   ]
  },
  {
   "cell_type": "code",
   "execution_count": 47,
   "id": "32b5f244",
   "metadata": {
    "ExecuteTime": {
     "end_time": "2023-11-24T01:23:59.875585Z",
     "start_time": "2023-11-24T01:23:59.863555Z"
    }
   },
   "outputs": [
    {
     "data": {
      "text/plain": [
       "'나는 내년이면 31살이 됩니다.'"
      ]
     },
     "execution_count": 47,
     "metadata": {},
     "output_type": "execute_result"
    }
   ],
   "source": [
    "f\"나는 내년이면 {age+1}살이 됩니다.\""
   ]
  },
  {
   "cell_type": "code",
   "execution_count": 49,
   "id": "55defc32",
   "metadata": {
    "ExecuteTime": {
     "end_time": "2023-11-24T01:26:59.813294Z",
     "start_time": "2023-11-24T01:26:59.802703Z"
    }
   },
   "outputs": [
    {
     "data": {
      "text/plain": [
       "'나의 이름은 이현석입니다. 나이는 30입니다.'"
      ]
     },
     "execution_count": 49,
     "metadata": {},
     "output_type": "execute_result"
    }
   ],
   "source": [
    "d = {'name':'이현석', 'age':30}\n",
    "f\"나의 이름은 {d['name']}입니다. 나이는 {d['age']}입니다.\""
   ]
  },
  {
   "cell_type": "code",
   "execution_count": 50,
   "id": "626af255",
   "metadata": {
    "ExecuteTime": {
     "end_time": "2023-11-24T01:29:12.122733Z",
     "start_time": "2023-11-24T01:29:12.112317Z"
    }
   },
   "outputs": [
    {
     "data": {
      "text/plain": [
       "'3.1426'"
      ]
     },
     "execution_count": 50,
     "metadata": {},
     "output_type": "execute_result"
    }
   ],
   "source": [
    "y=3.142592\n",
    "f\"{y:0.4f}\""
   ]
  },
  {
   "cell_type": "markdown",
   "id": "30a84c7d",
   "metadata": {},
   "source": [
    "## 문자열 관련 함수"
   ]
  },
  {
   "cell_type": "code",
   "execution_count": 51,
   "id": "b34c25a7",
   "metadata": {
    "ExecuteTime": {
     "end_time": "2023-11-24T01:29:55.924682Z",
     "start_time": "2023-11-24T01:29:55.915990Z"
    }
   },
   "outputs": [],
   "source": [
    "# 문자열 갯수 세기 (count)\n",
    "a = 'hobby'"
   ]
  },
  {
   "cell_type": "code",
   "execution_count": 52,
   "id": "f6c4726f",
   "metadata": {
    "ExecuteTime": {
     "end_time": "2023-11-24T01:30:06.439606Z",
     "start_time": "2023-11-24T01:30:06.426778Z"
    }
   },
   "outputs": [
    {
     "data": {
      "text/plain": [
       "2"
      ]
     },
     "execution_count": 52,
     "metadata": {},
     "output_type": "execute_result"
    }
   ],
   "source": [
    "a.count('b')"
   ]
  },
  {
   "cell_type": "code",
   "execution_count": 53,
   "id": "396fdfa4",
   "metadata": {
    "ExecuteTime": {
     "end_time": "2023-11-24T01:32:23.880186Z",
     "start_time": "2023-11-24T01:32:23.870279Z"
    }
   },
   "outputs": [],
   "source": [
    "a.count?"
   ]
  },
  {
   "cell_type": "code",
   "execution_count": 54,
   "id": "5f990ecb",
   "metadata": {
    "ExecuteTime": {
     "end_time": "2023-11-24T01:32:56.101654Z",
     "start_time": "2023-11-24T01:32:56.092985Z"
    }
   },
   "outputs": [
    {
     "name": "stdout",
     "output_type": "stream",
     "text": [
      "Help on built-in function count:\n",
      "\n",
      "count(...) method of builtins.str instance\n",
      "    S.count(sub[, start[, end]]) -> int\n",
      "    \n",
      "    Return the number of non-overlapping occurrences of substring sub in\n",
      "    string S[start:end].  Optional arguments start and end are\n",
      "    interpreted as in slice notation.\n",
      "\n"
     ]
    }
   ],
   "source": [
    "help(a.count)"
   ]
  },
  {
   "cell_type": "code",
   "execution_count": 55,
   "id": "0d61baec",
   "metadata": {
    "ExecuteTime": {
     "end_time": "2023-11-24T01:35:41.917691Z",
     "start_time": "2023-11-24T01:35:41.906588Z"
    }
   },
   "outputs": [
    {
     "data": {
      "text/plain": [
       "14"
      ]
     },
     "execution_count": 55,
     "metadata": {},
     "output_type": "execute_result"
    }
   ],
   "source": [
    "a = \"python is the best choice\"\n",
    "a.find('b')"
   ]
  },
  {
   "cell_type": "code",
   "execution_count": 56,
   "id": "9f85cd36",
   "metadata": {
    "ExecuteTime": {
     "end_time": "2023-11-24T01:36:02.921789Z",
     "start_time": "2023-11-24T01:36:02.911169Z"
    }
   },
   "outputs": [
    {
     "data": {
      "text/plain": [
       "-1"
      ]
     },
     "execution_count": 56,
     "metadata": {},
     "output_type": "execute_result"
    }
   ],
   "source": [
    "a.find('k') # 없는 정보는 -1이 나옴"
   ]
  },
  {
   "cell_type": "code",
   "execution_count": 59,
   "id": "2d35c363",
   "metadata": {
    "ExecuteTime": {
     "end_time": "2023-11-24T01:37:53.130266Z",
     "start_time": "2023-11-24T01:37:53.117874Z"
    }
   },
   "outputs": [
    {
     "data": {
      "text/plain": [
       "0"
      ]
     },
     "execution_count": 59,
     "metadata": {},
     "output_type": "execute_result"
    }
   ],
   "source": [
    "a.index('p')"
   ]
  },
  {
   "cell_type": "markdown",
   "id": "c025f914",
   "metadata": {},
   "source": [
    "## 문자열 삽입(join)"
   ]
  },
  {
   "cell_type": "code",
   "execution_count": 60,
   "id": "ac6bbc36",
   "metadata": {
    "ExecuteTime": {
     "end_time": "2023-11-24T01:39:35.270835Z",
     "start_time": "2023-11-24T01:39:35.259555Z"
    }
   },
   "outputs": [
    {
     "data": {
      "text/plain": [
       "'a,b,c,d'"
      ]
     },
     "execution_count": 60,
     "metadata": {},
     "output_type": "execute_result"
    }
   ],
   "source": [
    "\",\".join('abcd')"
   ]
  },
  {
   "cell_type": "code",
   "execution_count": 63,
   "id": "3b259485",
   "metadata": {
    "ExecuteTime": {
     "end_time": "2023-11-24T01:40:27.311116Z",
     "start_time": "2023-11-24T01:40:27.274809Z"
    }
   },
   "outputs": [
    {
     "ename": "TypeError",
     "evalue": "str.join() takes exactly one argument (4 given)",
     "output_type": "error",
     "traceback": [
      "\u001b[1;31m---------------------------------------------------------------------------\u001b[0m",
      "\u001b[1;31mTypeError\u001b[0m                                 Traceback (most recent call last)",
      "Cell \u001b[1;32mIn[63], line 1\u001b[0m\n\u001b[1;32m----> 1\u001b[0m \u001b[38;5;124m'\u001b[39m\u001b[38;5;124m,\u001b[39m\u001b[38;5;124m'\u001b[39m\u001b[38;5;241m.\u001b[39mjoin(\u001b[38;5;124m'\u001b[39m\u001b[38;5;124ma\u001b[39m\u001b[38;5;124m'\u001b[39m,\u001b[38;5;124m'\u001b[39m\u001b[38;5;124mb\u001b[39m\u001b[38;5;124m'\u001b[39m,\u001b[38;5;124m'\u001b[39m\u001b[38;5;124mc\u001b[39m\u001b[38;5;124m'\u001b[39m,\u001b[38;5;124m'\u001b[39m\u001b[38;5;124md\u001b[39m\u001b[38;5;124m'\u001b[39m)\n",
      "\u001b[1;31mTypeError\u001b[0m: str.join() takes exactly one argument (4 given)"
     ]
    }
   ],
   "source": [
    "','.join('a','b','c','d')"
   ]
  },
  {
   "cell_type": "markdown",
   "id": "4b87a979",
   "metadata": {},
   "source": [
    "## 대소문자 변환(upper, lower)"
   ]
  },
  {
   "cell_type": "code",
   "execution_count": 64,
   "id": "86904d80",
   "metadata": {
    "ExecuteTime": {
     "end_time": "2023-11-24T01:41:32.026616Z",
     "start_time": "2023-11-24T01:41:32.014881Z"
    }
   },
   "outputs": [
    {
     "data": {
      "text/plain": [
       "'HI'"
      ]
     },
     "execution_count": 64,
     "metadata": {},
     "output_type": "execute_result"
    }
   ],
   "source": [
    "a = 'hi'\n",
    "a.upper()"
   ]
  },
  {
   "cell_type": "markdown",
   "id": "eb34c79e",
   "metadata": {},
   "source": [
    "## 공백 지우기(strip)"
   ]
  },
  {
   "cell_type": "code",
   "execution_count": 65,
   "id": "dd899ead",
   "metadata": {
    "ExecuteTime": {
     "end_time": "2023-11-24T01:42:16.806933Z",
     "start_time": "2023-11-24T01:42:16.792647Z"
    }
   },
   "outputs": [
    {
     "data": {
      "text/plain": [
       "'hi      '"
      ]
     },
     "execution_count": 65,
     "metadata": {},
     "output_type": "execute_result"
    }
   ],
   "source": [
    "# 왼쪽 공백 지우기\n",
    "a = \"      hi      \"\n",
    "a.lstrip()"
   ]
  },
  {
   "cell_type": "code",
   "execution_count": 66,
   "id": "b2bfbec3",
   "metadata": {
    "ExecuteTime": {
     "end_time": "2023-11-24T01:42:25.885162Z",
     "start_time": "2023-11-24T01:42:25.872169Z"
    }
   },
   "outputs": [
    {
     "data": {
      "text/plain": [
       "'      hi'"
      ]
     },
     "execution_count": 66,
     "metadata": {},
     "output_type": "execute_result"
    }
   ],
   "source": [
    "a.rstrip()"
   ]
  },
  {
   "cell_type": "code",
   "execution_count": 67,
   "id": "0e305438",
   "metadata": {
    "ExecuteTime": {
     "end_time": "2023-11-24T01:42:32.617881Z",
     "start_time": "2023-11-24T01:42:32.607589Z"
    }
   },
   "outputs": [
    {
     "data": {
      "text/plain": [
       "'hi'"
      ]
     },
     "execution_count": 67,
     "metadata": {},
     "output_type": "execute_result"
    }
   ],
   "source": [
    "a.strip()"
   ]
  },
  {
   "cell_type": "markdown",
   "id": "2075c930",
   "metadata": {},
   "source": [
    "## 문자열 바꾸기(replace)"
   ]
  },
  {
   "cell_type": "code",
   "execution_count": 68,
   "id": "ffc2071f",
   "metadata": {
    "ExecuteTime": {
     "end_time": "2023-11-24T01:45:35.713861Z",
     "start_time": "2023-11-24T01:45:35.702297Z"
    }
   },
   "outputs": [
    {
     "data": {
      "text/plain": [
       "'Your leg is too short'"
      ]
     },
     "execution_count": 68,
     "metadata": {},
     "output_type": "execute_result"
    }
   ],
   "source": [
    "a = \"Life is too short\"\n",
    "a.replace(\"Life\", \"Your leg\")"
   ]
  },
  {
   "cell_type": "markdown",
   "id": "bfbc0a32",
   "metadata": {},
   "source": [
    "## 문자열 나누기(split)"
   ]
  },
  {
   "cell_type": "code",
   "execution_count": 69,
   "id": "0701d17b",
   "metadata": {
    "ExecuteTime": {
     "end_time": "2023-11-24T01:46:25.696388Z",
     "start_time": "2023-11-24T01:46:25.684969Z"
    }
   },
   "outputs": [
    {
     "data": {
      "text/plain": [
       "['Life', 'is', 'too', 'short']"
      ]
     },
     "execution_count": 69,
     "metadata": {},
     "output_type": "execute_result"
    }
   ],
   "source": [
    "a.split()"
   ]
  },
  {
   "cell_type": "code",
   "execution_count": 70,
   "id": "e57230d4",
   "metadata": {
    "ExecuteTime": {
     "end_time": "2023-11-24T01:46:46.628284Z",
     "start_time": "2023-11-24T01:46:46.619157Z"
    }
   },
   "outputs": [],
   "source": [
    "b = 'a:b:c:d'"
   ]
  },
  {
   "cell_type": "code",
   "execution_count": 71,
   "id": "bd234b54",
   "metadata": {
    "ExecuteTime": {
     "end_time": "2023-11-24T01:46:57.667052Z",
     "start_time": "2023-11-24T01:46:57.654087Z"
    }
   },
   "outputs": [
    {
     "data": {
      "text/plain": [
       "['a', 'b', 'c', 'd']"
      ]
     },
     "execution_count": 71,
     "metadata": {},
     "output_type": "execute_result"
    }
   ],
   "source": [
    "b.split(':')"
   ]
  },
  {
   "cell_type": "code",
   "execution_count": 72,
   "id": "48d1a0c3",
   "metadata": {
    "ExecuteTime": {
     "end_time": "2023-11-24T01:48:07.244975Z",
     "start_time": "2023-11-24T01:48:07.235758Z"
    }
   },
   "outputs": [
    {
     "data": {
      "text/plain": [
       "['Life', 'is', 'too', 'short']"
      ]
     },
     "execution_count": 72,
     "metadata": {},
     "output_type": "execute_result"
    }
   ],
   "source": [
    "a1 = a.split()\n",
    "a1"
   ]
  },
  {
   "cell_type": "code",
   "execution_count": 74,
   "id": "0d61b7fc",
   "metadata": {
    "ExecuteTime": {
     "end_time": "2023-11-24T01:49:15.808348Z",
     "start_time": "2023-11-24T01:49:15.798153Z"
    }
   },
   "outputs": [
    {
     "data": {
      "text/plain": [
       "'Life is too short'"
      ]
     },
     "execution_count": 74,
     "metadata": {},
     "output_type": "execute_result"
    }
   ],
   "source": [
    "' '.join(a1)"
   ]
  },
  {
   "cell_type": "markdown",
   "id": "909bcba0",
   "metadata": {},
   "source": [
    "# 리스트"
   ]
  },
  {
   "cell_type": "code",
   "execution_count": 77,
   "id": "aff3c7b7",
   "metadata": {
    "ExecuteTime": {
     "end_time": "2023-11-24T02:03:23.097899Z",
     "start_time": "2023-11-24T02:03:23.087164Z"
    }
   },
   "outputs": [
    {
     "data": {
      "text/plain": [
       "([1, 3, 5, 7, 9], list)"
      ]
     },
     "execution_count": 77,
     "metadata": {},
     "output_type": "execute_result"
    }
   ],
   "source": [
    "odd = [1,3,5,7,9]\n",
    "odd, type(odd)"
   ]
  },
  {
   "cell_type": "code",
   "execution_count": 79,
   "id": "d2e7e4a7",
   "metadata": {
    "ExecuteTime": {
     "end_time": "2023-11-24T02:06:04.452079Z",
     "start_time": "2023-11-24T02:06:04.442330Z"
    }
   },
   "outputs": [
    {
     "name": "stdout",
     "output_type": "stream",
     "text": [
      "[] [1, 2, 3] ['Life', 'is', 'too', 'short'] [1, 2, 'Life', 'is'] [1, 2, ['Life', 'is']]\n",
      "<class 'list'> <class 'list'> <class 'list'> <class 'list'> <class 'list'>\n"
     ]
    }
   ],
   "source": [
    "a = []\n",
    "b = [1, 2, 3]\n",
    "c = ['Life', 'is', 'too', 'short']\n",
    "d = [1, 2, 'Life', 'is']\n",
    "e = [1, 2, ['Life', 'is']]\n",
    "print(a, b, c, d, e)\n",
    "print(type(a), type(b), type(c), type(d), type(e))"
   ]
  },
  {
   "cell_type": "code",
   "execution_count": 80,
   "id": "8ff55b6f",
   "metadata": {
    "ExecuteTime": {
     "end_time": "2023-11-24T02:06:14.597657Z",
     "start_time": "2023-11-24T02:06:14.587152Z"
    }
   },
   "outputs": [
    {
     "data": {
      "text/plain": [
       "(4, 3)"
      ]
     },
     "execution_count": 80,
     "metadata": {},
     "output_type": "execute_result"
    }
   ],
   "source": [
    "len(d), len(e)"
   ]
  },
  {
   "cell_type": "code",
   "execution_count": 81,
   "id": "479197f7",
   "metadata": {
    "ExecuteTime": {
     "end_time": "2023-11-24T02:06:20.743228Z",
     "start_time": "2023-11-24T02:06:20.733939Z"
    }
   },
   "outputs": [
    {
     "data": {
      "text/plain": [
       "['Life', 'is']"
      ]
     },
     "execution_count": 81,
     "metadata": {},
     "output_type": "execute_result"
    }
   ],
   "source": [
    "e[2]"
   ]
  },
  {
   "cell_type": "markdown",
   "id": "7deb7a2a",
   "metadata": {},
   "source": [
    "## 인덱싱과 슬라이싱"
   ]
  },
  {
   "cell_type": "code",
   "execution_count": 83,
   "id": "f015fbc5",
   "metadata": {
    "ExecuteTime": {
     "end_time": "2023-11-24T02:07:39.823615Z",
     "start_time": "2023-11-24T02:07:39.814754Z"
    }
   },
   "outputs": [
    {
     "data": {
      "text/plain": [
       "[1, 2, 3]"
      ]
     },
     "execution_count": 83,
     "metadata": {},
     "output_type": "execute_result"
    }
   ],
   "source": [
    "a = [1, 2, 3]\n",
    "a"
   ]
  },
  {
   "cell_type": "code",
   "execution_count": 85,
   "id": "222a0aad",
   "metadata": {
    "ExecuteTime": {
     "end_time": "2023-11-24T02:07:45.941257Z",
     "start_time": "2023-11-24T02:07:45.929867Z"
    }
   },
   "outputs": [
    {
     "data": {
      "text/plain": [
       "1"
      ]
     },
     "execution_count": 85,
     "metadata": {},
     "output_type": "execute_result"
    }
   ],
   "source": [
    "a[0]"
   ]
  },
  {
   "cell_type": "code",
   "execution_count": 86,
   "id": "da3975c4",
   "metadata": {
    "ExecuteTime": {
     "end_time": "2023-11-24T02:07:54.828491Z",
     "start_time": "2023-11-24T02:07:54.818558Z"
    }
   },
   "outputs": [
    {
     "data": {
      "text/plain": [
       "int"
      ]
     },
     "execution_count": 86,
     "metadata": {},
     "output_type": "execute_result"
    }
   ],
   "source": [
    "type(a[0])"
   ]
  },
  {
   "cell_type": "code",
   "execution_count": 87,
   "id": "0b5eac8a",
   "metadata": {
    "ExecuteTime": {
     "end_time": "2023-11-24T02:08:03.623520Z",
     "start_time": "2023-11-24T02:08:03.613736Z"
    }
   },
   "outputs": [
    {
     "data": {
      "text/plain": [
       "3"
      ]
     },
     "execution_count": 87,
     "metadata": {},
     "output_type": "execute_result"
    }
   ],
   "source": [
    "a[0] * a[2]"
   ]
  },
  {
   "cell_type": "code",
   "execution_count": 88,
   "id": "3d9dd9b2",
   "metadata": {
    "ExecuteTime": {
     "end_time": "2023-11-24T02:08:12.165437Z",
     "start_time": "2023-11-24T02:08:12.154659Z"
    }
   },
   "outputs": [
    {
     "data": {
      "text/plain": [
       "3"
      ]
     },
     "execution_count": 88,
     "metadata": {},
     "output_type": "execute_result"
    }
   ],
   "source": [
    "a[-1]"
   ]
  },
  {
   "cell_type": "code",
   "execution_count": 89,
   "id": "53f4a2aa",
   "metadata": {
    "ExecuteTime": {
     "end_time": "2023-11-24T02:08:39.783282Z",
     "start_time": "2023-11-24T02:08:39.772492Z"
    }
   },
   "outputs": [
    {
     "data": {
      "text/plain": [
       "1"
      ]
     },
     "execution_count": 89,
     "metadata": {},
     "output_type": "execute_result"
    }
   ],
   "source": [
    "b = [1, 2, 3, ['a', 'b', 'c']]\n",
    "b[0]"
   ]
  },
  {
   "cell_type": "code",
   "execution_count": 90,
   "id": "922a9a9d",
   "metadata": {
    "ExecuteTime": {
     "end_time": "2023-11-24T02:08:50.968019Z",
     "start_time": "2023-11-24T02:08:50.957022Z"
    }
   },
   "outputs": [
    {
     "data": {
      "text/plain": [
       "['a', 'b', 'c']"
      ]
     },
     "execution_count": 90,
     "metadata": {},
     "output_type": "execute_result"
    }
   ],
   "source": [
    "b[-1]"
   ]
  },
  {
   "cell_type": "code",
   "execution_count": 91,
   "id": "df97d9fe",
   "metadata": {
    "ExecuteTime": {
     "end_time": "2023-11-24T02:08:56.229537Z",
     "start_time": "2023-11-24T02:08:56.219180Z"
    }
   },
   "outputs": [
    {
     "data": {
      "text/plain": [
       "['a', 'b', 'c']"
      ]
     },
     "execution_count": 91,
     "metadata": {},
     "output_type": "execute_result"
    }
   ],
   "source": [
    "b[3]"
   ]
  },
  {
   "cell_type": "code",
   "execution_count": 92,
   "id": "55d1960d",
   "metadata": {
    "ExecuteTime": {
     "end_time": "2023-11-24T02:09:03.709573Z",
     "start_time": "2023-11-24T02:09:03.699998Z"
    }
   },
   "outputs": [
    {
     "data": {
      "text/plain": [
       "'a'"
      ]
     },
     "execution_count": 92,
     "metadata": {},
     "output_type": "execute_result"
    }
   ],
   "source": [
    "b[3][0]"
   ]
  },
  {
   "cell_type": "code",
   "execution_count": 93,
   "id": "831d98ad",
   "metadata": {
    "ExecuteTime": {
     "end_time": "2023-11-24T02:09:25.233702Z",
     "start_time": "2023-11-24T02:09:25.223787Z"
    }
   },
   "outputs": [
    {
     "data": {
      "text/plain": [
       "'b'"
      ]
     },
     "execution_count": 93,
     "metadata": {},
     "output_type": "execute_result"
    }
   ],
   "source": [
    "b[-1][1]"
   ]
  },
  {
   "cell_type": "code",
   "execution_count": 94,
   "id": "2f5f1935",
   "metadata": {
    "ExecuteTime": {
     "end_time": "2023-11-24T02:10:36.382863Z",
     "start_time": "2023-11-24T02:10:36.376493Z"
    }
   },
   "outputs": [],
   "source": [
    "c = [1, 2, ['a,', 'b', ['Life', 'is']]]"
   ]
  },
  {
   "cell_type": "code",
   "execution_count": 95,
   "id": "cb9da3b4",
   "metadata": {
    "ExecuteTime": {
     "end_time": "2023-11-24T02:10:45.048820Z",
     "start_time": "2023-11-24T02:10:45.036414Z"
    }
   },
   "outputs": [
    {
     "data": {
      "text/plain": [
       "'Life'"
      ]
     },
     "execution_count": 95,
     "metadata": {},
     "output_type": "execute_result"
    }
   ],
   "source": [
    "c[2][2][0]"
   ]
  },
  {
   "cell_type": "code",
   "execution_count": 97,
   "id": "6269138b",
   "metadata": {
    "ExecuteTime": {
     "end_time": "2023-11-24T02:22:29.120296Z",
     "start_time": "2023-11-24T02:22:29.108940Z"
    }
   },
   "outputs": [
    {
     "data": {
      "text/plain": [
       "'Life'"
      ]
     },
     "execution_count": 97,
     "metadata": {},
     "output_type": "execute_result"
    }
   ],
   "source": [
    "c[-1][-1][0]"
   ]
  },
  {
   "cell_type": "code",
   "execution_count": 98,
   "id": "e3ee4eb6",
   "metadata": {
    "ExecuteTime": {
     "end_time": "2023-11-24T02:23:09.073451Z",
     "start_time": "2023-11-24T02:23:09.063850Z"
    }
   },
   "outputs": [
    {
     "name": "stdout",
     "output_type": "stream",
     "text": [
      "[1, 2] [3, 4, 5]\n"
     ]
    }
   ],
   "source": [
    "a = [1,2,3,4,5]\n",
    "b = a[:2]\n",
    "c = a[2:]\n",
    "print(b,c)"
   ]
  },
  {
   "cell_type": "code",
   "execution_count": 99,
   "id": "2d13f35f",
   "metadata": {
    "ExecuteTime": {
     "end_time": "2023-11-24T02:23:51.114596Z",
     "start_time": "2023-11-24T02:23:51.103208Z"
    }
   },
   "outputs": [
    {
     "data": {
      "text/plain": [
       "[1, 2, 3, ['a', 'b', 'c'], 4, 5]"
      ]
     },
     "execution_count": 99,
     "metadata": {},
     "output_type": "execute_result"
    }
   ],
   "source": [
    "a = [1, 2, 3, ['a', 'b', 'c'], 4, 5]\n",
    "a"
   ]
  },
  {
   "cell_type": "code",
   "execution_count": 100,
   "id": "d5fc6ddc",
   "metadata": {
    "ExecuteTime": {
     "end_time": "2023-11-24T02:23:56.269883Z",
     "start_time": "2023-11-24T02:23:56.260806Z"
    }
   },
   "outputs": [
    {
     "data": {
      "text/plain": [
       "[3, ['a', 'b', 'c'], 4]"
      ]
     },
     "execution_count": 100,
     "metadata": {},
     "output_type": "execute_result"
    }
   ],
   "source": [
    "a[2:5]"
   ]
  },
  {
   "cell_type": "code",
   "execution_count": 102,
   "id": "318ed0a2",
   "metadata": {
    "ExecuteTime": {
     "end_time": "2023-11-24T02:24:07.920782Z",
     "start_time": "2023-11-24T02:24:07.911594Z"
    }
   },
   "outputs": [
    {
     "data": {
      "text/plain": [
       "['a', 'b']"
      ]
     },
     "execution_count": 102,
     "metadata": {},
     "output_type": "execute_result"
    }
   ],
   "source": [
    "a[3][:2]"
   ]
  },
  {
   "cell_type": "code",
   "execution_count": 103,
   "id": "f9a82a79",
   "metadata": {
    "ExecuteTime": {
     "end_time": "2023-11-24T02:24:35.367138Z",
     "start_time": "2023-11-24T02:24:35.357290Z"
    }
   },
   "outputs": [
    {
     "data": {
      "text/plain": [
       "[1, 2, 3, 4, 5, 6]"
      ]
     },
     "execution_count": 103,
     "metadata": {},
     "output_type": "execute_result"
    }
   ],
   "source": [
    "# 리스트 연산하기\n",
    "a = [1,2,3]\n",
    "b = [4,5,6]\n",
    "a + b"
   ]
  },
  {
   "cell_type": "code",
   "execution_count": 104,
   "id": "91140df1",
   "metadata": {
    "ExecuteTime": {
     "end_time": "2023-11-24T02:25:21.687090Z",
     "start_time": "2023-11-24T02:25:21.676692Z"
    }
   },
   "outputs": [
    {
     "data": {
      "text/plain": [
       "[1, 2, 3, 1, 2, 3, 1, 2, 3]"
      ]
     },
     "execution_count": 104,
     "metadata": {},
     "output_type": "execute_result"
    }
   ],
   "source": [
    "# 리스트 반복하기\n",
    "a * 3"
   ]
  },
  {
   "cell_type": "code",
   "execution_count": 105,
   "id": "b5cfd777",
   "metadata": {
    "ExecuteTime": {
     "end_time": "2023-11-24T02:25:31.902341Z",
     "start_time": "2023-11-24T02:25:31.894097Z"
    }
   },
   "outputs": [
    {
     "data": {
      "text/plain": [
       "3"
      ]
     },
     "execution_count": 105,
     "metadata": {},
     "output_type": "execute_result"
    }
   ],
   "source": [
    "len(a)"
   ]
  },
  {
   "cell_type": "markdown",
   "id": "ff0dc323",
   "metadata": {},
   "source": [
    "## 리스트 수정과 삭제"
   ]
  },
  {
   "cell_type": "code",
   "execution_count": 107,
   "id": "654d995c",
   "metadata": {
    "ExecuteTime": {
     "end_time": "2023-11-24T02:26:30.275680Z",
     "start_time": "2023-11-24T02:26:30.265306Z"
    }
   },
   "outputs": [
    {
     "data": {
      "text/plain": [
       "[1, 2, 4]"
      ]
     },
     "execution_count": 107,
     "metadata": {},
     "output_type": "execute_result"
    }
   ],
   "source": [
    "a = [1, 2, 3]\n",
    "a[2] = 4\n",
    "a"
   ]
  },
  {
   "cell_type": "code",
   "execution_count": 109,
   "id": "38643c2c",
   "metadata": {
    "ExecuteTime": {
     "end_time": "2023-11-24T02:26:48.305093Z",
     "start_time": "2023-11-24T02:26:48.295643Z"
    }
   },
   "outputs": [
    {
     "data": {
      "text/plain": [
       "[1, 3]"
      ]
     },
     "execution_count": 109,
     "metadata": {},
     "output_type": "execute_result"
    }
   ],
   "source": [
    "a = [1, 2, 3]\n",
    "del a[1]\n",
    "a"
   ]
  },
  {
   "cell_type": "code",
   "execution_count": 111,
   "id": "aa62abe7",
   "metadata": {
    "ExecuteTime": {
     "end_time": "2023-11-24T02:27:09.685579Z",
     "start_time": "2023-11-24T02:27:09.675243Z"
    }
   },
   "outputs": [
    {
     "data": {
      "text/plain": [
       "[1, 2]"
      ]
     },
     "execution_count": 111,
     "metadata": {},
     "output_type": "execute_result"
    }
   ],
   "source": [
    "a = [1, 2, 3, 4, 5]\n",
    "del a[2:]\n",
    "a"
   ]
  },
  {
   "cell_type": "markdown",
   "id": "b9684bbf",
   "metadata": {},
   "source": [
    "## 리스트 관련 함수\n",
    "- 요소 추가(append)"
   ]
  },
  {
   "cell_type": "code",
   "execution_count": 113,
   "id": "ec98997a",
   "metadata": {
    "ExecuteTime": {
     "end_time": "2023-11-24T02:29:06.559076Z",
     "start_time": "2023-11-24T02:29:06.548327Z"
    }
   },
   "outputs": [
    {
     "data": {
      "text/plain": [
       "[1, 2, 3, [4, 5, 6]]"
      ]
     },
     "execution_count": 113,
     "metadata": {},
     "output_type": "execute_result"
    }
   ],
   "source": [
    "a = [1, 2, 3]\n",
    "a.append([4, 5, 6])\n",
    "a"
   ]
  },
  {
   "cell_type": "markdown",
   "id": "a0574ec1",
   "metadata": {
    "ExecuteTime": {
     "end_time": "2023-11-24T02:29:32.537041Z",
     "start_time": "2023-11-24T02:29:32.498191Z"
    }
   },
   "source": [
    "### 정렬(sort)"
   ]
  },
  {
   "cell_type": "code",
   "execution_count": 116,
   "id": "6dbda5dd",
   "metadata": {
    "ExecuteTime": {
     "end_time": "2023-11-24T02:30:32.057912Z",
     "start_time": "2023-11-24T02:30:32.047015Z"
    }
   },
   "outputs": [
    {
     "data": {
      "text/plain": [
       "[1, 2, 3, 4]"
      ]
     },
     "execution_count": 116,
     "metadata": {},
     "output_type": "execute_result"
    }
   ],
   "source": [
    "a = [1, 4, 3, 2]\n",
    "a. sort()\n",
    "a"
   ]
  },
  {
   "cell_type": "markdown",
   "id": "d81d0fdc",
   "metadata": {},
   "source": [
    "### 리스트 뒤집기(reverse)"
   ]
  },
  {
   "cell_type": "code",
   "execution_count": 117,
   "id": "246e1990",
   "metadata": {
    "ExecuteTime": {
     "end_time": "2023-11-24T02:31:44.630645Z",
     "start_time": "2023-11-24T02:31:44.620286Z"
    }
   },
   "outputs": [
    {
     "data": {
      "text/plain": [
       "['c', 'b', 'a']"
      ]
     },
     "execution_count": 117,
     "metadata": {},
     "output_type": "execute_result"
    }
   ],
   "source": [
    "a = ['a', 'b', 'c']\n",
    "a.reverse()\n",
    "a"
   ]
  },
  {
   "cell_type": "markdown",
   "id": "d368e786",
   "metadata": {},
   "source": [
    "### 위치 반환(index)"
   ]
  },
  {
   "cell_type": "code",
   "execution_count": 123,
   "id": "a6ce7743",
   "metadata": {
    "ExecuteTime": {
     "end_time": "2023-11-24T02:33:54.090651Z",
     "start_time": "2023-11-24T02:33:54.078087Z"
    }
   },
   "outputs": [
    {
     "data": {
      "text/plain": [
       "[1, 2, 3]"
      ]
     },
     "execution_count": 123,
     "metadata": {},
     "output_type": "execute_result"
    }
   ],
   "source": [
    "a = [1, 2, 3]\n",
    "a"
   ]
  },
  {
   "cell_type": "code",
   "execution_count": 124,
   "id": "ab15fd9d",
   "metadata": {
    "ExecuteTime": {
     "end_time": "2023-11-24T02:34:04.792521Z",
     "start_time": "2023-11-24T02:34:04.778764Z"
    }
   },
   "outputs": [
    {
     "data": {
      "text/plain": [
       "0"
      ]
     },
     "execution_count": 124,
     "metadata": {},
     "output_type": "execute_result"
    }
   ],
   "source": [
    "a.index(1)"
   ]
  },
  {
   "cell_type": "markdown",
   "id": "dbf3623e",
   "metadata": {},
   "source": [
    "### 요소 삽입(insert)"
   ]
  },
  {
   "cell_type": "code",
   "execution_count": 125,
   "id": "91cfbf04",
   "metadata": {
    "ExecuteTime": {
     "end_time": "2023-11-24T02:35:57.926586Z",
     "start_time": "2023-11-24T02:35:57.916756Z"
    }
   },
   "outputs": [
    {
     "data": {
      "text/plain": [
       "[4, 1, 2, 3]"
      ]
     },
     "execution_count": 125,
     "metadata": {},
     "output_type": "execute_result"
    }
   ],
   "source": [
    "a = [1, 2, 3]\n",
    "a.insert(0, 4)\n",
    "a"
   ]
  },
  {
   "cell_type": "code",
   "execution_count": 128,
   "id": "cb9446e4",
   "metadata": {
    "ExecuteTime": {
     "end_time": "2023-11-24T02:36:37.189704Z",
     "start_time": "2023-11-24T02:36:37.180420Z"
    }
   },
   "outputs": [
    {
     "data": {
      "text/plain": [
       "[4, 1, 2, 5, 5, 3]"
      ]
     },
     "execution_count": 128,
     "metadata": {},
     "output_type": "execute_result"
    }
   ],
   "source": [
    "a.insert(3, 5)\n",
    "a"
   ]
  },
  {
   "cell_type": "markdown",
   "id": "dc2dcb21",
   "metadata": {},
   "source": [
    "### 요소 제거(remove)"
   ]
  },
  {
   "cell_type": "code",
   "execution_count": 129,
   "id": "edb2ef57",
   "metadata": {
    "ExecuteTime": {
     "end_time": "2023-11-24T02:37:50.203642Z",
     "start_time": "2023-11-24T02:37:50.192787Z"
    }
   },
   "outputs": [
    {
     "data": {
      "text/plain": [
       "[1, 2, 3, 1, 2, 3]"
      ]
     },
     "execution_count": 129,
     "metadata": {},
     "output_type": "execute_result"
    }
   ],
   "source": [
    "a = [1, 2, 3, 1, 2, 3]\n",
    "a"
   ]
  },
  {
   "cell_type": "code",
   "execution_count": 130,
   "id": "e2c405c3",
   "metadata": {
    "ExecuteTime": {
     "end_time": "2023-11-24T02:37:56.018385Z",
     "start_time": "2023-11-24T02:37:56.009014Z"
    }
   },
   "outputs": [],
   "source": [
    "a.remove(3)"
   ]
  },
  {
   "cell_type": "code",
   "execution_count": 131,
   "id": "01460143",
   "metadata": {
    "ExecuteTime": {
     "end_time": "2023-11-24T02:37:59.846019Z",
     "start_time": "2023-11-24T02:37:59.834200Z"
    }
   },
   "outputs": [
    {
     "data": {
      "text/plain": [
       "[1, 2, 1, 2, 3]"
      ]
     },
     "execution_count": 131,
     "metadata": {},
     "output_type": "execute_result"
    }
   ],
   "source": [
    "a"
   ]
  },
  {
   "cell_type": "markdown",
   "id": "99646c0d",
   "metadata": {},
   "source": [
    "### 요소 추출(pop)"
   ]
  },
  {
   "cell_type": "code",
   "execution_count": 132,
   "id": "f3fad82f",
   "metadata": {
    "ExecuteTime": {
     "end_time": "2023-11-24T02:38:37.496190Z",
     "start_time": "2023-11-24T02:38:37.487082Z"
    }
   },
   "outputs": [
    {
     "data": {
      "text/plain": [
       "3"
      ]
     },
     "execution_count": 132,
     "metadata": {},
     "output_type": "execute_result"
    }
   ],
   "source": [
    "a = [1, 2, 3]\n",
    "a.pop()"
   ]
  },
  {
   "cell_type": "code",
   "execution_count": 133,
   "id": "ac18d1f0",
   "metadata": {
    "ExecuteTime": {
     "end_time": "2023-11-24T02:38:40.228986Z",
     "start_time": "2023-11-24T02:38:40.216567Z"
    }
   },
   "outputs": [
    {
     "data": {
      "text/plain": [
       "[1, 2]"
      ]
     },
     "execution_count": 133,
     "metadata": {},
     "output_type": "execute_result"
    }
   ],
   "source": [
    "a"
   ]
  },
  {
   "cell_type": "markdown",
   "id": "e7645a2c",
   "metadata": {},
   "source": [
    "### 요소 확장(extend)"
   ]
  },
  {
   "cell_type": "code",
   "execution_count": 134,
   "id": "12206c63",
   "metadata": {
    "ExecuteTime": {
     "end_time": "2023-11-24T02:42:53.293688Z",
     "start_time": "2023-11-24T02:42:53.285667Z"
    }
   },
   "outputs": [],
   "source": [
    "a = [1, 2, 3, 4]\n",
    "a.extend([6, 7])"
   ]
  },
  {
   "cell_type": "code",
   "execution_count": 135,
   "id": "04072cdb",
   "metadata": {
    "ExecuteTime": {
     "end_time": "2023-11-24T02:42:54.799756Z",
     "start_time": "2023-11-24T02:42:54.788227Z"
    }
   },
   "outputs": [
    {
     "data": {
      "text/plain": [
       "[1, 2, 3, 4, 6, 7]"
      ]
     },
     "execution_count": 135,
     "metadata": {},
     "output_type": "execute_result"
    }
   ],
   "source": [
    "a"
   ]
  },
  {
   "cell_type": "code",
   "execution_count": 136,
   "id": "3aefc2e8",
   "metadata": {
    "ExecuteTime": {
     "end_time": "2023-11-24T02:43:09.056986Z",
     "start_time": "2023-11-24T02:43:09.046290Z"
    }
   },
   "outputs": [
    {
     "data": {
      "text/plain": [
       "[1, 2, 3, 4, 6, 7, 4, 5]"
      ]
     },
     "execution_count": 136,
     "metadata": {},
     "output_type": "execute_result"
    }
   ],
   "source": [
    "a += [4,5]\n",
    "a"
   ]
  },
  {
   "cell_type": "markdown",
   "id": "0ba45187",
   "metadata": {},
   "source": [
    "## 튜플"
   ]
  },
  {
   "cell_type": "code",
   "execution_count": 1,
   "id": "ab71a538",
   "metadata": {
    "ExecuteTime": {
     "end_time": "2023-11-25T12:20:18.906228Z",
     "start_time": "2023-11-25T12:20:18.897266Z"
    }
   },
   "outputs": [
    {
     "name": "stdout",
     "output_type": "stream",
     "text": [
      "() (1,) (1, 2, 3) (1, 2, 3) ('a', 'b', ('ab', 'cd'))\n",
      "<class 'tuple'> <class 'tuple'> <class 'tuple'> <class 'tuple'> <class 'tuple'>\n"
     ]
    }
   ],
   "source": [
    "t1 = ()\n",
    "t2 = (1, )\n",
    "t3 = (1, 2, 3)\n",
    "t4 = 1, 2, 3\n",
    "t5 = ('a', 'b', ('ab', 'cd'))\n",
    "print(t1, t2, t3, t4, t5)\n",
    "print(type(t1), type(t2), type(t3), type(t4), type(t5))"
   ]
  },
  {
   "cell_type": "code",
   "execution_count": 2,
   "id": "b409928e",
   "metadata": {
    "ExecuteTime": {
     "end_time": "2023-11-25T12:20:25.357826Z",
     "start_time": "2023-11-25T12:20:25.316299Z"
    }
   },
   "outputs": [
    {
     "ename": "TypeError",
     "evalue": "'tuple' object doesn't support item deletion",
     "output_type": "error",
     "traceback": [
      "\u001b[1;31m---------------------------------------------------------------------------\u001b[0m",
      "\u001b[1;31mTypeError\u001b[0m                                 Traceback (most recent call last)",
      "Cell \u001b[1;32mIn[2], line 2\u001b[0m\n\u001b[0;32m      1\u001b[0m t1 \u001b[38;5;241m=\u001b[39m (\u001b[38;5;241m1\u001b[39m, \u001b[38;5;241m2\u001b[39m, \u001b[38;5;124m'\u001b[39m\u001b[38;5;124ma\u001b[39m\u001b[38;5;124m'\u001b[39m, \u001b[38;5;124m'\u001b[39m\u001b[38;5;124mb\u001b[39m\u001b[38;5;124m'\u001b[39m)\n\u001b[1;32m----> 2\u001b[0m \u001b[38;5;28;01mdel\u001b[39;00m t1[\u001b[38;5;241m0\u001b[39m]\n",
      "\u001b[1;31mTypeError\u001b[0m: 'tuple' object doesn't support item deletion"
     ]
    }
   ],
   "source": [
    "t1 = (1, 2, 'a', 'b')\n",
    "del t1[0]"
   ]
  },
  {
   "cell_type": "code",
   "execution_count": 3,
   "id": "515ecd31",
   "metadata": {
    "ExecuteTime": {
     "end_time": "2023-11-25T12:20:33.091927Z",
     "start_time": "2023-11-25T12:20:33.053137Z"
    }
   },
   "outputs": [
    {
     "ename": "TypeError",
     "evalue": "'tuple' object does not support item assignment",
     "output_type": "error",
     "traceback": [
      "\u001b[1;31m---------------------------------------------------------------------------\u001b[0m",
      "\u001b[1;31mTypeError\u001b[0m                                 Traceback (most recent call last)",
      "Cell \u001b[1;32mIn[3], line 2\u001b[0m\n\u001b[0;32m      1\u001b[0m t1 \u001b[38;5;241m=\u001b[39m (\u001b[38;5;241m1\u001b[39m, \u001b[38;5;241m2\u001b[39m, \u001b[38;5;124m'\u001b[39m\u001b[38;5;124ma\u001b[39m\u001b[38;5;124m'\u001b[39m, \u001b[38;5;124m'\u001b[39m\u001b[38;5;124mb\u001b[39m\u001b[38;5;124m'\u001b[39m)\n\u001b[1;32m----> 2\u001b[0m t1[\u001b[38;5;241m0\u001b[39m] \u001b[38;5;241m=\u001b[39m \u001b[38;5;124m'\u001b[39m\u001b[38;5;124mc\u001b[39m\u001b[38;5;124m'\u001b[39m\n",
      "\u001b[1;31mTypeError\u001b[0m: 'tuple' object does not support item assignment"
     ]
    }
   ],
   "source": [
    "t1 = (1, 2, 'a', 'b')\n",
    "t1[0] = 'c'"
   ]
  },
  {
   "cell_type": "markdown",
   "id": "c55a59d1",
   "metadata": {},
   "source": [
    "## 딕셔너리"
   ]
  },
  {
   "cell_type": "markdown",
   "id": "c37be625",
   "metadata": {},
   "source": [
    "### 딕셔너리 만들기"
   ]
  },
  {
   "cell_type": "code",
   "execution_count": 5,
   "id": "44358179",
   "metadata": {
    "ExecuteTime": {
     "end_time": "2023-11-27T01:31:25.996172Z",
     "start_time": "2023-11-27T01:31:25.989452Z"
    }
   },
   "outputs": [
    {
     "name": "stdout",
     "output_type": "stream",
     "text": [
      "{'name': 'pey', 'phone': '010-9999-1234', 'birth': '1118'} <class 'dict'>\n"
     ]
    }
   ],
   "source": [
    "dic = {'name': 'pey', 'phone': '010-9999-1234', 'birth': '1118'}\n",
    "print(dic, type(dic))"
   ]
  },
  {
   "cell_type": "code",
   "execution_count": 8,
   "id": "c8b318c7",
   "metadata": {
    "ExecuteTime": {
     "end_time": "2023-11-27T01:34:12.860595Z",
     "start_time": "2023-11-27T01:34:12.852771Z"
    }
   },
   "outputs": [
    {
     "name": "stdout",
     "output_type": "stream",
     "text": [
      "hi\n"
     ]
    }
   ],
   "source": [
    "a = {1: 'hi'}\n",
    "print(a[1])"
   ]
  },
  {
   "cell_type": "code",
   "execution_count": 9,
   "id": "8479172c",
   "metadata": {
    "ExecuteTime": {
     "end_time": "2023-11-27T01:35:08.045136Z",
     "start_time": "2023-11-27T01:35:08.037841Z"
    }
   },
   "outputs": [
    {
     "name": "stdout",
     "output_type": "stream",
     "text": [
      "[1, 2, 3]\n"
     ]
    }
   ],
   "source": [
    "a = {'a': [1, 2, 3]}\n",
    "print(a['a'])"
   ]
  },
  {
   "cell_type": "markdown",
   "id": "cf34804d",
   "metadata": {},
   "source": [
    "### 딕셔너리 쌍 추가하기"
   ]
  },
  {
   "cell_type": "code",
   "execution_count": 10,
   "id": "ef414f0f",
   "metadata": {
    "ExecuteTime": {
     "end_time": "2023-11-27T01:36:42.185969Z",
     "start_time": "2023-11-27T01:36:42.179105Z"
    }
   },
   "outputs": [
    {
     "name": "stdout",
     "output_type": "stream",
     "text": [
      "{1: 'a', 2: 'b'}\n"
     ]
    }
   ],
   "source": [
    "a = {1: 'a'}\n",
    "a[2] = 'b'\n",
    "print(a)"
   ]
  },
  {
   "cell_type": "code",
   "execution_count": 12,
   "id": "125049a5",
   "metadata": {
    "ExecuteTime": {
     "end_time": "2023-11-27T01:37:36.461762Z",
     "start_time": "2023-11-27T01:37:36.455823Z"
    }
   },
   "outputs": [
    {
     "name": "stdout",
     "output_type": "stream",
     "text": [
      "{1: 'a', 2: 'b', 'name': 'pey'}\n"
     ]
    }
   ],
   "source": [
    "a['name']='pey'\n",
    "print(a)"
   ]
  },
  {
   "cell_type": "markdown",
   "id": "1c764824",
   "metadata": {},
   "source": [
    "### 딕셔너리에서 Key를 사용해 Value 얻기"
   ]
  },
  {
   "cell_type": "code",
   "execution_count": 13,
   "id": "fdbe082b",
   "metadata": {
    "ExecuteTime": {
     "end_time": "2023-11-27T01:41:50.182496Z",
     "start_time": "2023-11-27T01:41:50.174952Z"
    }
   },
   "outputs": [
    {
     "name": "stdout",
     "output_type": "stream",
     "text": [
      "10\n",
      "99\n"
     ]
    }
   ],
   "source": [
    "grade = {'pey': 10, 'julliet': 99}\n",
    "print(grade['pey'])\n",
    "print(grade['julliet'])"
   ]
  },
  {
   "cell_type": "markdown",
   "id": "4bb9ce13",
   "metadata": {},
   "source": [
    "### 딕셔너리 만들 때 주의할 사항"
   ]
  },
  {
   "cell_type": "code",
   "execution_count": 15,
   "id": "ca998330",
   "metadata": {
    "ExecuteTime": {
     "end_time": "2023-11-27T01:43:25.189591Z",
     "start_time": "2023-11-27T01:43:25.182092Z"
    }
   },
   "outputs": [
    {
     "name": "stdout",
     "output_type": "stream",
     "text": [
      "{1: 'b'}\n"
     ]
    }
   ],
   "source": [
    "a = {1:'a', 1:'b'}\n",
    "print(a)"
   ]
  },
  {
   "cell_type": "markdown",
   "id": "19e84348",
   "metadata": {
    "ExecuteTime": {
     "end_time": "2023-11-27T01:44:54.908477Z",
     "start_time": "2023-11-27T01:44:54.900640Z"
    }
   },
   "source": [
    "### 딕셔너리 관련 함수"
   ]
  },
  {
   "cell_type": "code",
   "execution_count": 17,
   "id": "e991e1b0",
   "metadata": {
    "ExecuteTime": {
     "end_time": "2023-11-27T01:47:26.716220Z",
     "start_time": "2023-11-27T01:47:26.709724Z"
    }
   },
   "outputs": [
    {
     "name": "stdout",
     "output_type": "stream",
     "text": [
      "dict_keys(['name', 'phone', 'birth'])\n"
     ]
    }
   ],
   "source": [
    "a = {'name': 'pey', 'phone': '010-9999-1234', 'birth': '1118'}\n",
    "print(a.keys())"
   ]
  },
  {
   "cell_type": "code",
   "execution_count": 18,
   "id": "9872c8a5",
   "metadata": {
    "ExecuteTime": {
     "end_time": "2023-11-27T01:56:40.459933Z",
     "start_time": "2023-11-27T01:56:40.452970Z"
    }
   },
   "outputs": [
    {
     "name": "stdout",
     "output_type": "stream",
     "text": [
      "dict_values(['pey', '010-9999-1234', '1118'])\n"
     ]
    }
   ],
   "source": [
    "print(a.values())"
   ]
  },
  {
   "cell_type": "code",
   "execution_count": 19,
   "id": "df5d847b",
   "metadata": {
    "ExecuteTime": {
     "end_time": "2023-11-27T01:56:54.695470Z",
     "start_time": "2023-11-27T01:56:54.689179Z"
    }
   },
   "outputs": [
    {
     "name": "stdout",
     "output_type": "stream",
     "text": [
      "dict_items([('name', 'pey'), ('phone', '010-9999-1234'), ('birth', '1118')])\n"
     ]
    }
   ],
   "source": [
    "print(a.items())"
   ]
  },
  {
   "cell_type": "code",
   "execution_count": 20,
   "id": "f5d1da5a",
   "metadata": {
    "ExecuteTime": {
     "end_time": "2023-11-27T01:57:07.128417Z",
     "start_time": "2023-11-27T01:57:07.121186Z"
    }
   },
   "outputs": [
    {
     "name": "stdout",
     "output_type": "stream",
     "text": [
      "{'name': 'pey', 'phone': '010-9999-1234', 'birth': '1118'}\n"
     ]
    }
   ],
   "source": [
    "a.clear\n",
    "print(a)"
   ]
  },
  {
   "cell_type": "code",
   "execution_count": 21,
   "id": "9c1d2e91",
   "metadata": {
    "ExecuteTime": {
     "end_time": "2023-11-27T01:57:34.420635Z",
     "start_time": "2023-11-27T01:57:34.413886Z"
    }
   },
   "outputs": [
    {
     "name": "stdout",
     "output_type": "stream",
     "text": [
      "pey\n",
      "010-9999-1234\n"
     ]
    }
   ],
   "source": [
    "a = {'name': 'pey', 'phone': '010-9999-1234', 'birth': '1118'}\n",
    "print(a.get('name'))\n",
    "print(a.get('phone'))"
   ]
  },
  {
   "cell_type": "code",
   "execution_count": 22,
   "id": "0e0ed044",
   "metadata": {
    "ExecuteTime": {
     "end_time": "2023-11-27T01:58:09.174657Z",
     "start_time": "2023-11-27T01:58:09.167467Z"
    }
   },
   "outputs": [
    {
     "name": "stdout",
     "output_type": "stream",
     "text": [
      "nope!\n"
     ]
    }
   ],
   "source": [
    "print(a.get('address', 'nope!'))"
   ]
  },
  {
   "cell_type": "code",
   "execution_count": 23,
   "id": "3548a04e",
   "metadata": {
    "ExecuteTime": {
     "end_time": "2023-11-27T01:58:46.057878Z",
     "start_time": "2023-11-27T01:58:46.049609Z"
    }
   },
   "outputs": [
    {
     "name": "stdout",
     "output_type": "stream",
     "text": [
      "True\n",
      "False\n"
     ]
    }
   ],
   "source": [
    "print('name' in a)\n",
    "print('adress' in a)"
   ]
  },
  {
   "cell_type": "markdown",
   "id": "0342941f",
   "metadata": {},
   "source": [
    "## 집합 자료형"
   ]
  },
  {
   "cell_type": "markdown",
   "id": "d20fedb2",
   "metadata": {},
   "source": [
    "### 집합 만들기"
   ]
  },
  {
   "cell_type": "code",
   "execution_count": 25,
   "id": "1da1dbee",
   "metadata": {
    "ExecuteTime": {
     "end_time": "2023-11-27T01:59:29.783936Z",
     "start_time": "2023-11-27T01:59:29.776783Z"
    }
   },
   "outputs": [
    {
     "name": "stdout",
     "output_type": "stream",
     "text": [
      "{1, 2, 3} <class 'set'>\n"
     ]
    }
   ],
   "source": [
    "s1 = set([1, 2, 3])\n",
    "print(s1, type(s1))"
   ]
  },
  {
   "cell_type": "code",
   "execution_count": 26,
   "id": "377761a6",
   "metadata": {
    "ExecuteTime": {
     "end_time": "2023-11-27T02:00:37.347473Z",
     "start_time": "2023-11-27T02:00:37.341055Z"
    }
   },
   "outputs": [
    {
     "name": "stdout",
     "output_type": "stream",
     "text": [
      "{'o', 'H', 'l', 'e'}\n"
     ]
    }
   ],
   "source": [
    "s2 = set(\"Hello\")\n",
    "print(s2)"
   ]
  },
  {
   "cell_type": "code",
   "execution_count": 28,
   "id": "f1fac756",
   "metadata": {
    "ExecuteTime": {
     "end_time": "2023-11-27T02:01:00.507524Z",
     "start_time": "2023-11-27T02:01:00.501003Z"
    }
   },
   "outputs": [
    {
     "name": "stdout",
     "output_type": "stream",
     "text": [
      "set()\n"
     ]
    }
   ],
   "source": [
    "s = set()\n",
    "print(s)"
   ]
  },
  {
   "cell_type": "markdown",
   "id": "12613826",
   "metadata": {},
   "source": [
    "### 집합 자료형의 특징\n",
    "- 중복을 허용하지 않는다.\n",
    "- 순서가 없다(Unordered)."
   ]
  },
  {
   "cell_type": "code",
   "execution_count": 38,
   "id": "8720df7c",
   "metadata": {
    "ExecuteTime": {
     "end_time": "2023-11-27T02:15:02.857103Z",
     "start_time": "2023-11-27T02:15:02.822643Z"
    }
   },
   "outputs": [
    {
     "ename": "TypeError",
     "evalue": "'set' object is not subscriptable",
     "output_type": "error",
     "traceback": [
      "\u001b[1;31m---------------------------------------------------------------------------\u001b[0m",
      "\u001b[1;31mTypeError\u001b[0m                                 Traceback (most recent call last)",
      "Cell \u001b[1;32mIn[38], line 2\u001b[0m\n\u001b[0;32m      1\u001b[0m s1 \u001b[38;5;241m=\u001b[39m \u001b[38;5;28mset\u001b[39m([\u001b[38;5;241m1\u001b[39m, \u001b[38;5;241m2\u001b[39m, \u001b[38;5;241m3\u001b[39m])\n\u001b[1;32m----> 2\u001b[0m \u001b[38;5;28mprint\u001b[39m(s1[\u001b[38;5;241m0\u001b[39m])\n",
      "\u001b[1;31mTypeError\u001b[0m: 'set' object is not subscriptable"
     ]
    }
   ],
   "source": [
    "s1 = set([1, 2, 3])\n",
    "print(s1[0])"
   ]
  },
  {
   "cell_type": "code",
   "execution_count": 39,
   "id": "4c487b9c",
   "metadata": {
    "ExecuteTime": {
     "end_time": "2023-11-27T02:15:05.176423Z",
     "start_time": "2023-11-27T02:15:05.169224Z"
    }
   },
   "outputs": [
    {
     "name": "stdout",
     "output_type": "stream",
     "text": [
      "[1, 2, 3]\n",
      "1\n"
     ]
    }
   ],
   "source": [
    "l1 = list(s1)\n",
    "print(l1)\n",
    "print(l1[0])"
   ]
  },
  {
   "cell_type": "code",
   "execution_count": 40,
   "id": "1bfd91d3",
   "metadata": {
    "ExecuteTime": {
     "end_time": "2023-11-27T02:15:07.550536Z",
     "start_time": "2023-11-27T02:15:07.542938Z"
    }
   },
   "outputs": [
    {
     "name": "stdout",
     "output_type": "stream",
     "text": [
      "(1, 2, 3)\n",
      "1\n"
     ]
    }
   ],
   "source": [
    "t1 = tuple(s1)\n",
    "print(t1)\n",
    "print(t1[0])"
   ]
  },
  {
   "cell_type": "markdown",
   "id": "b8e40431",
   "metadata": {},
   "source": [
    "### 교집합, 합집합, 차집합 구하기"
   ]
  },
  {
   "cell_type": "code",
   "execution_count": 42,
   "id": "726baf19",
   "metadata": {
    "ExecuteTime": {
     "end_time": "2023-11-27T02:15:57.426754Z",
     "start_time": "2023-11-27T02:15:57.420116Z"
    }
   },
   "outputs": [],
   "source": [
    "s1 = set([1, 2, 3, 4, 5, 6])\n",
    "s2 = set([4, 5, 6, 7, 8, 9])"
   ]
  },
  {
   "cell_type": "markdown",
   "id": "16952fa1",
   "metadata": {},
   "source": [
    "교집합 구하기"
   ]
  },
  {
   "cell_type": "code",
   "execution_count": 44,
   "id": "500aab02",
   "metadata": {
    "ExecuteTime": {
     "end_time": "2023-11-27T02:16:14.318225Z",
     "start_time": "2023-11-27T02:16:14.311841Z"
    }
   },
   "outputs": [
    {
     "name": "stdout",
     "output_type": "stream",
     "text": [
      "{4, 5, 6}\n"
     ]
    }
   ],
   "source": [
    "print(s1 & s2)"
   ]
  },
  {
   "cell_type": "code",
   "execution_count": 45,
   "id": "da32f1e3",
   "metadata": {
    "ExecuteTime": {
     "end_time": "2023-11-27T02:16:30.635215Z",
     "start_time": "2023-11-27T02:16:30.627846Z"
    }
   },
   "outputs": [
    {
     "name": "stdout",
     "output_type": "stream",
     "text": [
      "{4, 5, 6}\n"
     ]
    }
   ],
   "source": [
    "print(s1.intersection(s2))"
   ]
  },
  {
   "cell_type": "markdown",
   "id": "ef057f0e",
   "metadata": {},
   "source": [
    "합집합 구하기"
   ]
  },
  {
   "cell_type": "code",
   "execution_count": 47,
   "id": "426d0e3c",
   "metadata": {
    "ExecuteTime": {
     "end_time": "2023-11-27T02:17:33.682039Z",
     "start_time": "2023-11-27T02:17:33.675526Z"
    }
   },
   "outputs": [
    {
     "name": "stdout",
     "output_type": "stream",
     "text": [
      "{1, 2, 3, 4, 5, 6, 7, 8, 9}\n"
     ]
    }
   ],
   "source": [
    "print(s1 | s2)"
   ]
  },
  {
   "cell_type": "code",
   "execution_count": 49,
   "id": "0d9cb6a5",
   "metadata": {
    "ExecuteTime": {
     "end_time": "2023-11-27T02:17:59.298338Z",
     "start_time": "2023-11-27T02:17:59.293760Z"
    }
   },
   "outputs": [
    {
     "name": "stdout",
     "output_type": "stream",
     "text": [
      "{1, 2, 3, 4, 5, 6, 7, 8, 9}\n"
     ]
    }
   ],
   "source": [
    "print(s1.union(s2))"
   ]
  },
  {
   "cell_type": "markdown",
   "id": "1d75d059",
   "metadata": {},
   "source": [
    "차집합 구하기"
   ]
  },
  {
   "cell_type": "code",
   "execution_count": 51,
   "id": "b9352cbc",
   "metadata": {
    "ExecuteTime": {
     "end_time": "2023-11-27T02:18:39.053183Z",
     "start_time": "2023-11-27T02:18:39.046658Z"
    }
   },
   "outputs": [
    {
     "name": "stdout",
     "output_type": "stream",
     "text": [
      "{1, 2, 3}\n",
      "{8, 9, 7}\n"
     ]
    }
   ],
   "source": [
    "print(s1 - s2)\n",
    "print(s2 - s1)"
   ]
  },
  {
   "cell_type": "code",
   "execution_count": 53,
   "id": "d7571609",
   "metadata": {
    "ExecuteTime": {
     "end_time": "2023-11-27T02:19:22.323762Z",
     "start_time": "2023-11-27T02:19:22.317362Z"
    }
   },
   "outputs": [
    {
     "name": "stdout",
     "output_type": "stream",
     "text": [
      "{1, 2, 3}\n",
      "{8, 9, 7}\n"
     ]
    }
   ],
   "source": [
    "s1 = set([1, 2, 3, 4, 5, 6])\n",
    "s2 = set([4, 5, 6, 7, 8, 9])\n",
    "print(s1.difference(s2))\n",
    "print(s2.difference(s1))"
   ]
  },
  {
   "cell_type": "markdown",
   "id": "9ed436b9",
   "metadata": {},
   "source": [
    "### 집합 자료형 관련 함수"
   ]
  },
  {
   "cell_type": "markdown",
   "id": "45e608f5",
   "metadata": {},
   "source": [
    "값 1개 추가하기 - add"
   ]
  },
  {
   "cell_type": "code",
   "execution_count": 55,
   "id": "d0ead766",
   "metadata": {
    "ExecuteTime": {
     "end_time": "2023-11-27T02:20:03.896612Z",
     "start_time": "2023-11-27T02:20:03.890467Z"
    }
   },
   "outputs": [
    {
     "name": "stdout",
     "output_type": "stream",
     "text": [
      "{1, 2, 3, 4}\n"
     ]
    }
   ],
   "source": [
    "s1 = set([1, 2, 3])\n",
    "s1.add(4)\n",
    "print(s1)"
   ]
  },
  {
   "cell_type": "markdown",
   "id": "f119b37a",
   "metadata": {},
   "source": [
    "값 여러 개 추가하기 - update"
   ]
  },
  {
   "cell_type": "code",
   "execution_count": 57,
   "id": "42b7e7bf",
   "metadata": {
    "ExecuteTime": {
     "end_time": "2023-11-27T02:20:43.126043Z",
     "start_time": "2023-11-27T02:20:43.118895Z"
    }
   },
   "outputs": [
    {
     "name": "stdout",
     "output_type": "stream",
     "text": [
      "{1, 2, 3, 4, 5, 6}\n"
     ]
    }
   ],
   "source": [
    "s1 = set([1, 2, 3])\n",
    "s1.update([4, 5, 6])\n",
    "print(s1)"
   ]
  },
  {
   "cell_type": "markdown",
   "id": "cd46c86a",
   "metadata": {},
   "source": [
    "특정 값 제거하기 - remove"
   ]
  },
  {
   "cell_type": "code",
   "execution_count": 58,
   "id": "bf7118eb",
   "metadata": {
    "ExecuteTime": {
     "end_time": "2023-11-27T02:21:21.307530Z",
     "start_time": "2023-11-27T02:21:21.302642Z"
    }
   },
   "outputs": [
    {
     "name": "stdout",
     "output_type": "stream",
     "text": [
      "{1, 3}\n"
     ]
    }
   ],
   "source": [
    "s1 = set([1, 2, 3])\n",
    "s1.remove(2)\n",
    "print(s1)"
   ]
  },
  {
   "cell_type": "markdown",
   "id": "c2c51c85",
   "metadata": {},
   "source": [
    "## 불 자료형"
   ]
  },
  {
   "cell_type": "code",
   "execution_count": 29,
   "id": "c4b474a0",
   "metadata": {
    "ExecuteTime": {
     "end_time": "2023-11-27T02:02:28.794971Z",
     "start_time": "2023-11-27T02:02:28.788381Z"
    }
   },
   "outputs": [
    {
     "name": "stdout",
     "output_type": "stream",
     "text": [
      "True <class 'bool'>\n",
      "False <class 'bool'>\n"
     ]
    }
   ],
   "source": [
    "a = True\n",
    "b = False\n",
    "print(a, type(a))\n",
    "print(b, type(b))"
   ]
  },
  {
   "cell_type": "code",
   "execution_count": 31,
   "id": "e16c7d16",
   "metadata": {
    "ExecuteTime": {
     "end_time": "2023-11-27T02:03:09.012507Z",
     "start_time": "2023-11-27T02:03:09.004543Z"
    }
   },
   "outputs": [
    {
     "name": "stdout",
     "output_type": "stream",
     "text": [
      "True\n",
      "True\n",
      "False\n"
     ]
    }
   ],
   "source": [
    "print(1 == 1)\n",
    "print(2 > 1)\n",
    "print(2 < 1)"
   ]
  },
  {
   "cell_type": "markdown",
   "id": "ff2398b4",
   "metadata": {},
   "source": [
    "### 자료형의 참과 거짓\n",
    "문자열, 리스트, 튜플, 딕셔너리 등의 값이 비어 있으면(\"\", [], (), {}) 거짓,   \n",
    "비어 있지 않으면 참"
   ]
  },
  {
   "cell_type": "markdown",
   "id": "b47294a3",
   "metadata": {},
   "source": [
    "### 불 연산"
   ]
  },
  {
   "cell_type": "code",
   "execution_count": 35,
   "id": "f3d6401a",
   "metadata": {
    "ExecuteTime": {
     "end_time": "2023-11-27T02:11:30.849543Z",
     "start_time": "2023-11-27T02:11:30.843299Z"
    }
   },
   "outputs": [
    {
     "name": "stdout",
     "output_type": "stream",
     "text": [
      "True\n"
     ]
    }
   ],
   "source": [
    "print(bool('python'))"
   ]
  },
  {
   "cell_type": "code",
   "execution_count": 34,
   "id": "443a75ea",
   "metadata": {
    "ExecuteTime": {
     "end_time": "2023-11-27T02:11:29.011556Z",
     "start_time": "2023-11-27T02:11:29.004628Z"
    }
   },
   "outputs": [
    {
     "name": "stdout",
     "output_type": "stream",
     "text": [
      "False\n"
     ]
    }
   ],
   "source": [
    "print(bool(''))"
   ]
  },
  {
   "cell_type": "code",
   "execution_count": 37,
   "id": "470a2ab0",
   "metadata": {
    "ExecuteTime": {
     "end_time": "2023-11-27T02:12:00.431022Z",
     "start_time": "2023-11-27T02:12:00.423696Z"
    }
   },
   "outputs": [
    {
     "name": "stdout",
     "output_type": "stream",
     "text": [
      "False\n"
     ]
    }
   ],
   "source": [
    "print(bool(0))"
   ]
  },
  {
   "cell_type": "markdown",
   "id": "10a417f9",
   "metadata": {},
   "source": [
    "## 변수(자료형의 값을 저장하는 공간)"
   ]
  },
  {
   "cell_type": "markdown",
   "id": "58e4d678",
   "metadata": {},
   "source": [
    "### 변수 만들기"
   ]
  },
  {
   "cell_type": "code",
   "execution_count": 59,
   "id": "fafa3514",
   "metadata": {
    "ExecuteTime": {
     "end_time": "2023-11-27T02:27:11.079335Z",
     "start_time": "2023-11-27T02:27:11.073675Z"
    }
   },
   "outputs": [],
   "source": [
    "a = [1, 2, 3]"
   ]
  },
  {
   "cell_type": "code",
   "execution_count": 60,
   "id": "b83ea5bb",
   "metadata": {
    "ExecuteTime": {
     "end_time": "2023-11-27T02:27:28.814977Z",
     "start_time": "2023-11-27T02:27:28.808399Z"
    }
   },
   "outputs": [
    {
     "name": "stdout",
     "output_type": "stream",
     "text": [
      "1754638768064\n"
     ]
    }
   ],
   "source": [
    "print(id(a))"
   ]
  },
  {
   "cell_type": "markdown",
   "id": "2b1f573d",
   "metadata": {},
   "source": [
    "### 리스트를 복사할 때(얕은 복사)"
   ]
  },
  {
   "cell_type": "code",
   "execution_count": 63,
   "id": "e66990be",
   "metadata": {
    "ExecuteTime": {
     "end_time": "2023-11-27T02:28:44.650199Z",
     "start_time": "2023-11-27T02:28:44.642904Z"
    }
   },
   "outputs": [
    {
     "name": "stdout",
     "output_type": "stream",
     "text": [
      "1754638768064\n"
     ]
    }
   ],
   "source": [
    "b = a\n",
    "print(id(b))"
   ]
  },
  {
   "cell_type": "code",
   "execution_count": 62,
   "id": "37b77fc2",
   "metadata": {
    "ExecuteTime": {
     "end_time": "2023-11-27T02:28:37.481976Z",
     "start_time": "2023-11-27T02:28:37.475367Z"
    }
   },
   "outputs": [
    {
     "name": "stdout",
     "output_type": "stream",
     "text": [
      "True\n"
     ]
    }
   ],
   "source": [
    "print(a is b)"
   ]
  },
  {
   "cell_type": "code",
   "execution_count": 64,
   "id": "a8d7fb06",
   "metadata": {
    "ExecuteTime": {
     "end_time": "2023-11-27T02:29:27.641860Z",
     "start_time": "2023-11-27T02:29:27.635561Z"
    }
   },
   "outputs": [
    {
     "name": "stdout",
     "output_type": "stream",
     "text": [
      "[1, 100, 3]\n",
      "[1, 100, 3]\n"
     ]
    }
   ],
   "source": [
    "a[1] = 100\n",
    "print(a)\n",
    "print(b)"
   ]
  },
  {
   "cell_type": "markdown",
   "id": "889c4726",
   "metadata": {},
   "source": [
    "### 리스트를 복사할 때(깊은 복사)"
   ]
  },
  {
   "cell_type": "markdown",
   "id": "c388632d",
   "metadata": {},
   "source": [
    "[:] 이용하기"
   ]
  },
  {
   "cell_type": "code",
   "execution_count": 66,
   "id": "23ca3224",
   "metadata": {
    "ExecuteTime": {
     "end_time": "2023-11-27T02:32:58.682747Z",
     "start_time": "2023-11-27T02:32:58.672842Z"
    }
   },
   "outputs": [
    {
     "name": "stdout",
     "output_type": "stream",
     "text": [
      "[1, 4, 3]\n",
      "[1, 2, 3]\n"
     ]
    }
   ],
   "source": [
    "a = [1, 2, 3]\n",
    "b = a[:]\n",
    "a[1] = 4\n",
    "print(a)\n",
    "print(b)"
   ]
  },
  {
   "cell_type": "markdown",
   "id": "11a45eab",
   "metadata": {},
   "source": [
    "copy 모듈 이용하기"
   ]
  },
  {
   "cell_type": "code",
   "execution_count": 67,
   "id": "6d99d359",
   "metadata": {
    "ExecuteTime": {
     "end_time": "2023-11-27T02:34:20.352802Z",
     "start_time": "2023-11-27T02:34:20.343710Z"
    }
   },
   "outputs": [
    {
     "name": "stdout",
     "output_type": "stream",
     "text": [
      "1754645924288\n",
      "1754644839104\n",
      "False\n"
     ]
    }
   ],
   "source": [
    "from copy import copy\n",
    "a = [1, 2, 3]\n",
    "b = copy(a)\n",
    "print(id(a))\n",
    "print(id(b))\n",
    "print(a is b)"
   ]
  },
  {
   "cell_type": "markdown",
   "id": "facf6167",
   "metadata": {},
   "source": [
    "### 변수 만드는 방법"
   ]
  },
  {
   "cell_type": "code",
   "execution_count": 68,
   "id": "94da0d81",
   "metadata": {
    "ExecuteTime": {
     "end_time": "2023-11-27T02:40:18.811956Z",
     "start_time": "2023-11-27T02:40:18.806154Z"
    }
   },
   "outputs": [],
   "source": [
    "a, b = ('python', 'life')"
   ]
  },
  {
   "cell_type": "code",
   "execution_count": 69,
   "id": "1626b9bd",
   "metadata": {
    "ExecuteTime": {
     "end_time": "2023-11-27T02:40:29.775677Z",
     "start_time": "2023-11-27T02:40:29.769905Z"
    }
   },
   "outputs": [],
   "source": [
    "(a, b) = 'python', 'life'"
   ]
  },
  {
   "cell_type": "code",
   "execution_count": 70,
   "id": "3c10161b",
   "metadata": {
    "ExecuteTime": {
     "end_time": "2023-11-27T02:40:39.497090Z",
     "start_time": "2023-11-27T02:40:39.491171Z"
    }
   },
   "outputs": [],
   "source": [
    "[a, b] = ['python', 'life']"
   ]
  },
  {
   "cell_type": "code",
   "execution_count": 71,
   "id": "ccc7c062",
   "metadata": {
    "ExecuteTime": {
     "end_time": "2023-11-27T02:40:46.051050Z",
     "start_time": "2023-11-27T02:40:46.045307Z"
    }
   },
   "outputs": [],
   "source": [
    "a = b = 'python'"
   ]
  },
  {
   "cell_type": "code",
   "execution_count": 73,
   "id": "52c28a2f",
   "metadata": {
    "ExecuteTime": {
     "end_time": "2023-11-27T04:34:49.643452Z",
     "start_time": "2023-11-27T04:34:49.634715Z"
    }
   },
   "outputs": [
    {
     "name": "stdout",
     "output_type": "stream",
     "text": [
      "5\n",
      "3\n"
     ]
    }
   ],
   "source": [
    "a = 3\n",
    "b = 5\n",
    "a, b = b, a\n",
    "print(a)\n",
    "print(b)"
   ]
  },
  {
   "cell_type": "code",
   "execution_count": null,
   "id": "2067cd80",
   "metadata": {},
   "outputs": [],
   "source": []
  }
 ],
 "metadata": {
  "hide_input": false,
  "kernelspec": {
   "display_name": "Python 3 (ipykernel)",
   "language": "python",
   "name": "python3"
  },
  "language_info": {
   "codemirror_mode": {
    "name": "ipython",
    "version": 3
   },
   "file_extension": ".py",
   "mimetype": "text/x-python",
   "name": "python",
   "nbconvert_exporter": "python",
   "pygments_lexer": "ipython3",
   "version": "3.11.5"
  },
  "toc": {
   "base_numbering": 1,
   "nav_menu": {},
   "number_sections": true,
   "sideBar": true,
   "skip_h1_title": false,
   "title_cell": "Table of Contents",
   "title_sidebar": "Contents",
   "toc_cell": false,
   "toc_position": {},
   "toc_section_display": true,
   "toc_window_display": false
  },
  "varInspector": {
   "cols": {
    "lenName": 16,
    "lenType": 16,
    "lenVar": 40
   },
   "kernels_config": {
    "python": {
     "delete_cmd_postfix": "",
     "delete_cmd_prefix": "del ",
     "library": "var_list.py",
     "varRefreshCmd": "print(var_dic_list())"
    },
    "r": {
     "delete_cmd_postfix": ") ",
     "delete_cmd_prefix": "rm(",
     "library": "var_list.r",
     "varRefreshCmd": "cat(var_dic_list()) "
    }
   },
   "types_to_exclude": [
    "module",
    "function",
    "builtin_function_or_method",
    "instance",
    "_Feature"
   ],
   "window_display": false
  }
 },
 "nbformat": 4,
 "nbformat_minor": 5
}
