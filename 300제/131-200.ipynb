{
 "cells": [
  {
   "cell_type": "markdown",
   "id": "d71e9eb1",
   "metadata": {},
   "source": [
    "# 📖 초보자를 위한 파이썬 300제\n",
    "---\n",
    "👉 [초보자를 위한 파이썬 300제](https://wikidocs.net/book/922)"
   ]
  },
  {
   "cell_type": "markdown",
   "id": "300785f0",
   "metadata": {},
   "source": [
    "## 파이썬 반복문"
   ]
  },
  {
   "cell_type": "markdown",
   "id": "aef55d6c",
   "metadata": {},
   "source": [
    "### 131.\n",
    "for문의 실행결과를 예측하라.\n",
    "```\n",
    "과일 = [\"사과\", \"귤\", \"수박\"]\n",
    "for 변수 in 과일:\n",
    "    print(변수)\n",
    "```"
   ]
  },
  {
   "cell_type": "markdown",
   "id": "14ae1bfe",
   "metadata": {},
   "source": [
    "사과, 귤, 수박이 순서대로 출력된다."
   ]
  },
  {
   "cell_type": "markdown",
   "id": "cfdb5777",
   "metadata": {},
   "source": [
    "### 132.\n",
    "for문의 실행결과를 예측하라.\n",
    "```\n",
    "과일 = [\"사과\", \"귤\", \"수박\"]\n",
    "for 변수 in 과일:\n",
    "  print(\"#####\")\n",
    "```"
   ]
  },
  {
   "cell_type": "markdown",
   "id": "61e515ca",
   "metadata": {},
   "source": [
    "print 안의 #####가 세번 출력된다."
   ]
  },
  {
   "cell_type": "markdown",
   "id": "28974002",
   "metadata": {},
   "source": [
    "### 133.\n",
    "다음 for 문과 동일한 기능을 수행하는 코드를 작성하세요.\n",
    "```\n",
    "for 변수 in [\"A\", \"B\", \"C\"]:\n",
    "  print(변수)\n",
    "```"
   ]
  },
  {
   "cell_type": "markdown",
   "id": "5b42a15f",
   "metadata": {
    "ExecuteTime": {
     "end_time": "2023-12-04T02:10:14.939028Z",
     "start_time": "2023-12-04T02:10:14.930042Z"
    }
   },
   "source": [
    "```\n",
    "print('A')\n",
    "print('B')\n",
    "print('C')\n",
    "```"
   ]
  },
  {
   "cell_type": "markdown",
   "id": "f33d49b6",
   "metadata": {},
   "source": [
    "### 134.\n",
    "for문을 풀어서 동일한 동작을 하는 코드를 작성하라.\n",
    "```\n",
    "for 변수 in [\"A\", \"B\", \"C\"]:\n",
    "  print(\"출력:\", 변수)\n",
    "```"
   ]
  },
  {
   "cell_type": "code",
   "execution_count": 2,
   "id": "0a34c46c",
   "metadata": {
    "ExecuteTime": {
     "end_time": "2023-12-04T02:13:22.201585Z",
     "start_time": "2023-12-04T02:13:22.193192Z"
    }
   },
   "outputs": [
    {
     "name": "stdout",
     "output_type": "stream",
     "text": [
      "출력: A\n",
      "출력: B\n",
      "출력: C\n"
     ]
    }
   ],
   "source": [
    "print(\"출력:\", \"A\")\n",
    "print(\"출력:\", \"B\")\n",
    "print(\"출력:\", \"C\")"
   ]
  },
  {
   "cell_type": "markdown",
   "id": "9907e5ad",
   "metadata": {},
   "source": [
    "### 135.\n",
    "for문을 풀어서 동일한 동작을 하는 코드를 작성하라.\n",
    "```\n",
    "for 변수 in [\"A\", \"B\", \"C\"]:\n",
    "  b = 변수.lower()\n",
    "  print(\"변환:\", b)\n",
    "```"
   ]
  },
  {
   "cell_type": "code",
   "execution_count": 3,
   "id": "6f9f82f6",
   "metadata": {
    "ExecuteTime": {
     "end_time": "2023-12-04T02:14:09.880985Z",
     "start_time": "2023-12-04T02:14:09.871614Z"
    }
   },
   "outputs": [
    {
     "name": "stdout",
     "output_type": "stream",
     "text": [
      "변환: a\n",
      "변환: b\n",
      "변환: c\n"
     ]
    }
   ],
   "source": [
    "변수 = \"A\"\n",
    "b = 변수.lower()\n",
    "print(\"변환:\", b)\n",
    "변수 = \"B\"\n",
    "b = 변수.lower()\n",
    "print(\"변환:\", b)\n",
    "변수 = \"C\"\n",
    "b = 변수.lower()\n",
    "print(\"변환:\", b)"
   ]
  },
  {
   "cell_type": "markdown",
   "id": "399fd258",
   "metadata": {},
   "source": [
    "### 136.\n",
    "다음 코드를 for문으로 작성하라.\n",
    "```\n",
    "변수 = 10\n",
    "print(변수)\n",
    "변수 = 20\n",
    "print(변수)\n",
    "변수 = 30\n",
    "print(변수)\n",
    "```"
   ]
  },
  {
   "cell_type": "code",
   "execution_count": 5,
   "id": "0c4a8299",
   "metadata": {
    "ExecuteTime": {
     "end_time": "2023-12-04T02:15:21.415149Z",
     "start_time": "2023-12-04T02:15:21.407420Z"
    }
   },
   "outputs": [
    {
     "name": "stdout",
     "output_type": "stream",
     "text": [
      "변수 = 10\n",
      "변수 = 20\n",
      "변수 = 30\n"
     ]
    }
   ],
   "source": [
    "for 변수 in [10, 20, 30]:\n",
    "    print(\"변수 =\", 변수)"
   ]
  },
  {
   "cell_type": "markdown",
   "id": "779c2baa",
   "metadata": {},
   "source": [
    "### 137.\n",
    "다음 코드를 for문으로 작성하라.\n",
    "```\n",
    "print(10)\n",
    "print(20)\n",
    "print(30)\n",
    "```"
   ]
  },
  {
   "cell_type": "code",
   "execution_count": 6,
   "id": "d87d49de",
   "metadata": {
    "ExecuteTime": {
     "end_time": "2023-12-04T02:16:18.298039Z",
     "start_time": "2023-12-04T02:16:18.291974Z"
    }
   },
   "outputs": [
    {
     "name": "stdout",
     "output_type": "stream",
     "text": [
      "10\n",
      "20\n",
      "30\n"
     ]
    }
   ],
   "source": [
    "for i in [10, 20, 30]:\n",
    "    print(i)"
   ]
  },
  {
   "cell_type": "markdown",
   "id": "bbca02d2",
   "metadata": {},
   "source": [
    "### 138.\n",
    "다음 코드를 for문으로 작성하라.\n",
    "```\n",
    "print(10)\n",
    "print(\"-------\")\n",
    "print(20)\n",
    "print(\"-------\")\n",
    "print(30)\n",
    "print(\"-------\")\n",
    "```"
   ]
  },
  {
   "cell_type": "code",
   "execution_count": 7,
   "id": "328efd86",
   "metadata": {
    "ExecuteTime": {
     "end_time": "2023-12-04T02:17:30.686242Z",
     "start_time": "2023-12-04T02:17:30.678202Z"
    }
   },
   "outputs": [
    {
     "name": "stdout",
     "output_type": "stream",
     "text": [
      "10\n",
      "-------\n",
      "20\n",
      "-------\n",
      "30\n",
      "-------\n"
     ]
    }
   ],
   "source": [
    "for i in [10, 20, 30]:\n",
    "    print(i)\n",
    "    print(\"-------\")"
   ]
  },
  {
   "cell_type": "markdown",
   "id": "56a05a44",
   "metadata": {},
   "source": [
    "### 139.\n",
    "다음 코드를 for문으로 작성하라.\n",
    "```\n",
    "print(\"++++\")\n",
    "print(10)\n",
    "print(20)\n",
    "print(30)\n",
    "```"
   ]
  },
  {
   "cell_type": "code",
   "execution_count": 8,
   "id": "f1a7906f",
   "metadata": {
    "ExecuteTime": {
     "end_time": "2023-12-04T02:18:14.203676Z",
     "start_time": "2023-12-04T02:18:14.195377Z"
    }
   },
   "outputs": [
    {
     "name": "stdout",
     "output_type": "stream",
     "text": [
      "++++\n",
      "10\n",
      "20\n",
      "30\n"
     ]
    }
   ],
   "source": [
    "print(\"++++\")\n",
    "for i in [10, 20, 30]:\n",
    "    print(i)"
   ]
  },
  {
   "cell_type": "markdown",
   "id": "abe6c2d4",
   "metadata": {},
   "source": [
    "### 140.\n",
    "다음 코드를 for문으로 작성하라.\n",
    "```\n",
    "print(\"-------\")\n",
    "print(\"-------\")\n",
    "print(\"-------\")\n",
    "print(\"-------\")\n",
    "```"
   ]
  },
  {
   "cell_type": "code",
   "execution_count": 9,
   "id": "f96aadb9",
   "metadata": {
    "ExecuteTime": {
     "end_time": "2023-12-04T02:19:21.341374Z",
     "start_time": "2023-12-04T02:19:21.333822Z"
    }
   },
   "outputs": [
    {
     "name": "stdout",
     "output_type": "stream",
     "text": [
      "-------\n",
      "-------\n",
      "-------\n",
      "-------\n"
     ]
    }
   ],
   "source": [
    "for i in [1, 2, 3, 4]:\n",
    "    print(\"-------\")"
   ]
  },
  {
   "cell_type": "markdown",
   "id": "eac86231",
   "metadata": {},
   "source": [
    "### 141.\n",
    "다음과 같이 판매가가 저장된 리스트가 있을 때 부가세가 포함된 가격을 for 문을 사용해서 화면에 출력하라. 단 부가세는 10원으로 가정한다.\n",
    "```\n",
    "리스트 = [100, 200, 300]\n",
    "```\n",
    "```\n",
    "110\n",
    "210\n",
    "310\n",
    "```"
   ]
  },
  {
   "cell_type": "code",
   "execution_count": 10,
   "id": "94edc060",
   "metadata": {
    "ExecuteTime": {
     "end_time": "2023-12-04T02:21:35.483048Z",
     "start_time": "2023-12-04T02:21:35.477722Z"
    }
   },
   "outputs": [
    {
     "name": "stdout",
     "output_type": "stream",
     "text": [
      "110\n",
      "210\n",
      "310\n"
     ]
    }
   ],
   "source": [
    "리스트 = [100, 200, 300]\n",
    "\n",
    "for i in 리스트:\n",
    "    print(i + 10)"
   ]
  },
  {
   "cell_type": "markdown",
   "id": "395859c4",
   "metadata": {},
   "source": [
    "### 142.\n",
    "for 문을 사용해서 리스트에 저장된 값을 다음과 같이 출력하라.\n",
    "```\n",
    "리스트 = [\"김밥\", \"라면\", \"튀김\"]\n",
    "```\n",
    "```\n",
    "오늘의 메뉴: 김밥\n",
    "오늘의 메뉴: 라면\n",
    "오늘의 메뉴: 튀김\n",
    "```"
   ]
  },
  {
   "cell_type": "code",
   "execution_count": 11,
   "id": "760c1812",
   "metadata": {
    "ExecuteTime": {
     "end_time": "2023-12-04T02:22:37.548578Z",
     "start_time": "2023-12-04T02:22:37.540811Z"
    }
   },
   "outputs": [
    {
     "name": "stdout",
     "output_type": "stream",
     "text": [
      "오늘의 메뉴: 김밥\n",
      "오늘의 메뉴: 라면\n",
      "오늘의 메뉴: 튀김\n"
     ]
    }
   ],
   "source": [
    "리스트 = [\"김밥\", \"라면\", \"튀김\"]\n",
    "\n",
    "for i in 리스트:\n",
    "    print(\"오늘의 메뉴:\", i)"
   ]
  },
  {
   "cell_type": "markdown",
   "id": "753bd54a",
   "metadata": {},
   "source": [
    "### 143.\n",
    "리스트에 주식 종목이름이 저장돼 있다.\n",
    "```\n",
    "리스트 = [\"SK하이닉스\", \"삼성전자\", \"LG전자\"]\n",
    "```\n",
    "저장된 문자열의 길이를 다음과 같이 출력하라.\n",
    "```\n",
    "6\n",
    "4\n",
    "4\n",
    "```"
   ]
  },
  {
   "cell_type": "code",
   "execution_count": 12,
   "id": "c9864cb9",
   "metadata": {
    "ExecuteTime": {
     "end_time": "2023-12-04T02:23:29.429369Z",
     "start_time": "2023-12-04T02:23:29.423210Z"
    }
   },
   "outputs": [
    {
     "name": "stdout",
     "output_type": "stream",
     "text": [
      "6\n",
      "4\n",
      "4\n"
     ]
    }
   ],
   "source": [
    "리스트 = [\"SK하이닉스\", \"삼성전자\", \"LG전자\"]\n",
    "\n",
    "for i in 리스트:\n",
    "    print(len(i))"
   ]
  },
  {
   "cell_type": "markdown",
   "id": "4f677086",
   "metadata": {},
   "source": [
    "### 144.\n",
    "리스트에는 동물이름이 문자열로 저장돼 있다.\n",
    "```\n",
    "리스트 = ['dog', 'cat', 'parrot']\n",
    "```\n",
    "동물 이름과 글자수를 다음과 같이 출력하라.\n",
    "```\n",
    "dog 3\n",
    "cat 3\n",
    "parrot 6\n",
    "```"
   ]
  },
  {
   "cell_type": "code",
   "execution_count": 13,
   "id": "373a70be",
   "metadata": {
    "ExecuteTime": {
     "end_time": "2023-12-04T02:24:27.930252Z",
     "start_time": "2023-12-04T02:24:27.921445Z"
    }
   },
   "outputs": [
    {
     "name": "stdout",
     "output_type": "stream",
     "text": [
      "dog 3\n",
      "cat 3\n",
      "parrot 6\n"
     ]
    }
   ],
   "source": [
    "리스트 = ['dog', 'cat', 'parrot']\n",
    "\n",
    "for i in 리스트:\n",
    "    print(i, len(i))"
   ]
  },
  {
   "cell_type": "markdown",
   "id": "1849c4a9",
   "metadata": {},
   "source": [
    "### 145.\n",
    "리스트에 동물 이름 저장돼 있다.\n",
    "```\n",
    "리스트 = ['dog', 'cat', 'parrot']\n",
    "```\n",
    "for문을 사용해서 동물 이름의 첫 글자만 출력하라.\n",
    "```\n",
    "d\n",
    "c\n",
    "p\n",
    "```"
   ]
  },
  {
   "cell_type": "code",
   "execution_count": 14,
   "id": "9340d66b",
   "metadata": {
    "ExecuteTime": {
     "end_time": "2023-12-04T02:43:47.599256Z",
     "start_time": "2023-12-04T02:43:47.594772Z"
    }
   },
   "outputs": [
    {
     "name": "stdout",
     "output_type": "stream",
     "text": [
      "d\n",
      "c\n",
      "p\n"
     ]
    }
   ],
   "source": [
    "리스트 = ['dog', 'cat', 'parrot']\n",
    "\n",
    "for i in 리스트:\n",
    "    print(i[0])"
   ]
  },
  {
   "cell_type": "markdown",
   "id": "3085b23d",
   "metadata": {},
   "source": [
    "### 146.\n",
    "리스트에는 세 개의 숫자가 바인딩돼 있다.\n",
    "```\n",
    "리스트 = [1, 2, 3]\n",
    "```\n",
    "for문을 사용해서 다음과 같이 출력하라.\n",
    "```\n",
    "3 x 1\n",
    "3 x 2\n",
    "3 x 3\n",
    "```"
   ]
  },
  {
   "cell_type": "code",
   "execution_count": 15,
   "id": "159a94ce",
   "metadata": {
    "ExecuteTime": {
     "end_time": "2023-12-04T02:44:38.717147Z",
     "start_time": "2023-12-04T02:44:38.712447Z"
    }
   },
   "outputs": [
    {
     "name": "stdout",
     "output_type": "stream",
     "text": [
      "3 x 1\n",
      "3 x 2\n",
      "3 x 3\n"
     ]
    }
   ],
   "source": [
    "리스트 = [1, 2, 3]\n",
    "\n",
    "for i in 리스트:\n",
    "    print(\"3 x\", i)"
   ]
  },
  {
   "cell_type": "markdown",
   "id": "1b66409f",
   "metadata": {},
   "source": [
    "### 147.\n",
    "리스트에는 세 개의 숫자가 바인딩돼 있다.\n",
    "```\n",
    "리스트 = [1, 2, 3]\n",
    "```\n",
    "for문을 사용해서 다음과 같이 출력하라.\n",
    "```\n",
    "3 x 1 = 3\n",
    "3 x 2 = 6\n",
    "3 x 3 = 9\n",
    "```"
   ]
  },
  {
   "cell_type": "code",
   "execution_count": 16,
   "id": "36b6ece1",
   "metadata": {
    "ExecuteTime": {
     "end_time": "2023-12-04T02:45:30.031480Z",
     "start_time": "2023-12-04T02:45:30.023753Z"
    }
   },
   "outputs": [
    {
     "name": "stdout",
     "output_type": "stream",
     "text": [
      "3 x 1 = 3\n",
      "3 x 2 = 6\n",
      "3 x 3 = 9\n"
     ]
    }
   ],
   "source": [
    "리스트 = [1, 2, 3]\n",
    "\n",
    "for i in 리스트:\n",
    "    print(\"3 x\", i, \"=\", 3 * i)"
   ]
  },
  {
   "cell_type": "markdown",
   "id": "28e80e72",
   "metadata": {},
   "source": [
    "### 148.\n",
    "리스트에는 네 개의 문자열이 바인딩돼 있다.\n",
    "```\n",
    "리스트 = [\"가\", \"나\", \"다\", \"라\"]\n",
    "```\n",
    "for문을 사용해서 다음과 같이 출력하라.\n",
    "```\n",
    "나\n",
    "다\n",
    "라\n",
    "```"
   ]
  },
  {
   "cell_type": "code",
   "execution_count": 17,
   "id": "aea2329b",
   "metadata": {
    "ExecuteTime": {
     "end_time": "2023-12-04T02:47:19.602665Z",
     "start_time": "2023-12-04T02:47:19.595471Z"
    }
   },
   "outputs": [
    {
     "name": "stdout",
     "output_type": "stream",
     "text": [
      "나\n",
      "다\n",
      "라\n"
     ]
    }
   ],
   "source": [
    "리스트 = [\"가\", \"나\", \"다\", \"라\"]\n",
    "\n",
    "for i in 리스트[1:]:\n",
    "    print(i)"
   ]
  },
  {
   "cell_type": "markdown",
   "id": "944e7798",
   "metadata": {},
   "source": [
    "### 149.\n",
    "리스트에는 네 개의 문자열이 바인딩돼 있다.\n",
    "```\n",
    "리스트 = [\"가\", \"나\", \"다\", \"라\"]\n",
    "```\n",
    "for문을 사용해서 다음과 같이 출력하라.\n",
    "```\n",
    "가\n",
    "다\n",
    "```"
   ]
  },
  {
   "cell_type": "code",
   "execution_count": 20,
   "id": "451a1a7c",
   "metadata": {
    "ExecuteTime": {
     "end_time": "2023-12-04T02:48:22.353205Z",
     "start_time": "2023-12-04T02:48:22.345639Z"
    }
   },
   "outputs": [
    {
     "name": "stdout",
     "output_type": "stream",
     "text": [
      "가\n",
      "다\n"
     ]
    }
   ],
   "source": [
    "리스트 = [\"가\", \"나\", \"다\", \"라\"]\n",
    "\n",
    "for i in 리스트[::2]:\n",
    "    print(i)"
   ]
  },
  {
   "cell_type": "markdown",
   "id": "6b0afdef",
   "metadata": {},
   "source": [
    "### 150.\n",
    "리스트에는 네 개의 문자열이 바인딩돼 있다.\n",
    "```\n",
    "리스트 = [\"가\", \"나\", \"다\", \"라\"]\n",
    "```\n",
    "for문을 사용해서 다음과 같이 출력하라.\n",
    "```\n",
    "라\n",
    "다\n",
    "나\n",
    "가\n",
    "```"
   ]
  },
  {
   "cell_type": "code",
   "execution_count": 21,
   "id": "2d829695",
   "metadata": {
    "ExecuteTime": {
     "end_time": "2023-12-04T02:49:18.630722Z",
     "start_time": "2023-12-04T02:49:18.625391Z"
    }
   },
   "outputs": [
    {
     "name": "stdout",
     "output_type": "stream",
     "text": [
      "라\n",
      "다\n",
      "나\n",
      "가\n"
     ]
    }
   ],
   "source": [
    "리스트 = [\"가\", \"나\", \"다\", \"라\"]\n",
    "\n",
    "for i in 리스트[::-1]:\n",
    "    print(i)"
   ]
  },
  {
   "cell_type": "markdown",
   "id": "bbcca9a5",
   "metadata": {},
   "source": [
    "### 151.\n",
    "리스트에는 네 개의 정수가 저장돼 있다.\n",
    "```\n",
    "리스트 = [3, -20, -3, 44]\n",
    "```\n",
    "for문을 사용해서 리스트의 음수를 출력하라.\n",
    "```\n",
    "-20\n",
    "-3\n",
    "```"
   ]
  },
  {
   "cell_type": "code",
   "execution_count": 22,
   "id": "3309412e",
   "metadata": {
    "ExecuteTime": {
     "end_time": "2023-12-04T02:50:23.871396Z",
     "start_time": "2023-12-04T02:50:23.865441Z"
    }
   },
   "outputs": [
    {
     "name": "stdout",
     "output_type": "stream",
     "text": [
      "-20\n",
      "-3\n"
     ]
    }
   ],
   "source": [
    "리스트 = [3, -20, -3, 44]\n",
    "\n",
    "for i in 리스트:\n",
    "    if i < 0:\n",
    "        print(i)"
   ]
  },
  {
   "cell_type": "markdown",
   "id": "b6b5ddce",
   "metadata": {},
   "source": [
    "### 152.\n",
    "for문을 사용해서 3의 배수만을 출력하라.\n",
    "```\n",
    "리스트 = [3, 100, 23, 44]\n",
    "```\n",
    "```\n",
    "3\n",
    "```"
   ]
  },
  {
   "cell_type": "code",
   "execution_count": 23,
   "id": "b6498660",
   "metadata": {
    "ExecuteTime": {
     "end_time": "2023-12-04T02:51:19.318944Z",
     "start_time": "2023-12-04T02:51:19.311709Z"
    }
   },
   "outputs": [
    {
     "name": "stdout",
     "output_type": "stream",
     "text": [
      "3\n"
     ]
    }
   ],
   "source": [
    "리스트 = [3, 100, 23, 44]\n",
    "\n",
    "for i in 리스트:\n",
    "    if i % 3 == 0:\n",
    "        print(i)"
   ]
  },
  {
   "cell_type": "markdown",
   "id": "803a58e8",
   "metadata": {},
   "source": [
    "### 153.\n",
    "리스트에서 20 보다 작은 3의 배수를 출력하라\n",
    "```\n",
    "리스트 = [13, 21, 12, 14, 30, 18]\n",
    "```\n",
    "```\n",
    "12\n",
    "18\n",
    "```"
   ]
  },
  {
   "cell_type": "code",
   "execution_count": 24,
   "id": "98a1ae02",
   "metadata": {
    "ExecuteTime": {
     "end_time": "2023-12-04T02:53:44.862011Z",
     "start_time": "2023-12-04T02:53:44.853573Z"
    }
   },
   "outputs": [
    {
     "name": "stdout",
     "output_type": "stream",
     "text": [
      "12\n",
      "18\n"
     ]
    }
   ],
   "source": [
    "리스트 = [13, 21, 12, 14, 30, 18]\n",
    "\n",
    "for i in 리스트:\n",
    "    if i % 3 == 0 and i < 20:\n",
    "        print(i)"
   ]
  },
  {
   "cell_type": "markdown",
   "id": "a9990691",
   "metadata": {},
   "source": [
    "### 154.\n",
    "리스트에서 세 글자 이상의 문자를 화면에 출력하라\n",
    "```\n",
    "리스트 = [\"I\", \"study\", \"python\", \"language\", \"!\"]\n",
    "```\n",
    "```\n",
    "study\n",
    "python\n",
    "language\n",
    "```"
   ]
  },
  {
   "cell_type": "code",
   "execution_count": 25,
   "id": "a761b0b8",
   "metadata": {
    "ExecuteTime": {
     "end_time": "2023-12-04T02:54:33.911615Z",
     "start_time": "2023-12-04T02:54:33.904366Z"
    }
   },
   "outputs": [
    {
     "name": "stdout",
     "output_type": "stream",
     "text": [
      "study\n",
      "python\n",
      "language\n"
     ]
    }
   ],
   "source": [
    "리스트 = [\"I\", \"study\", \"python\", \"language\", \"!\"]\n",
    "\n",
    "for i in 리스트:\n",
    "    if len(i) >= 3:\n",
    "        print(i)"
   ]
  },
  {
   "cell_type": "markdown",
   "id": "ca2ea4e0",
   "metadata": {},
   "source": [
    "### 155.\n",
    "리스트에서 대문자만 화면에 출력하라.\n",
    "```\n",
    "리스트 = [\"A\", \"b\", \"c\", \"D\"]\n",
    "```\n",
    "```\n",
    "A\n",
    "D\n",
    "```\n",
    "(참고) isupper() 메서드는 대문자 여부를 판별합니다.\n",
    "```\n",
    ">> 변수 = \"A\"\n",
    ">> 변수.isupper()\n",
    "True\n",
    ">> 변수 = \"a\"\n",
    ">> 변수.isupper()\n",
    "False\n",
    "```"
   ]
  },
  {
   "cell_type": "code",
   "execution_count": 26,
   "id": "351a55a4",
   "metadata": {
    "ExecuteTime": {
     "end_time": "2023-12-04T02:55:48.182531Z",
     "start_time": "2023-12-04T02:55:48.174711Z"
    }
   },
   "outputs": [
    {
     "name": "stdout",
     "output_type": "stream",
     "text": [
      "A\n",
      "D\n"
     ]
    }
   ],
   "source": [
    "리스트 = [\"A\", \"b\", \"c\", \"D\"]\n",
    "\n",
    "for i in 리스트:\n",
    "    if i.isupper():\n",
    "        print(i)"
   ]
  },
  {
   "cell_type": "markdown",
   "id": "1c067dbb",
   "metadata": {},
   "source": [
    "### 156.\n",
    "리스트에서 소문자만 화면에 출력하라.\n",
    "```\n",
    "리스트 = [\"A\", \"b\", \"c\", \"D\"]\n",
    "```\n",
    "```\n",
    "b\n",
    "c\n",
    "```"
   ]
  },
  {
   "cell_type": "code",
   "execution_count": 27,
   "id": "8ae51620",
   "metadata": {
    "ExecuteTime": {
     "end_time": "2023-12-04T02:56:34.800430Z",
     "start_time": "2023-12-04T02:56:34.792231Z"
    }
   },
   "outputs": [
    {
     "name": "stdout",
     "output_type": "stream",
     "text": [
      "b\n",
      "c\n"
     ]
    }
   ],
   "source": [
    "리스트 = [\"A\", \"b\", \"c\", \"D\"]\n",
    "\n",
    "for i in 리스트:\n",
    "    if i.islower():\n",
    "        print(i)"
   ]
  },
  {
   "cell_type": "markdown",
   "id": "401c6549",
   "metadata": {},
   "source": [
    "### 157.\n",
    "이름의 첫 글자를 대문자로 변경해서 출력하라.\n",
    "```\n",
    "리스트 = ['dog', 'cat', 'parrot']\n",
    "```\n",
    "```\n",
    "Dog\n",
    "Cat\n",
    "Parrot\n",
    "```\n",
    "(참고) upper() 메서드는 문자열을 대문자로 변경합니다.\n",
    "```\n",
    ">> 변수 = \"a\"\n",
    ">> a.upper()\n",
    "A\n",
    ">> 변수 = \"abc\"\n",
    ">> 변수.upper()\n",
    "ABC\n",
    "```"
   ]
  },
  {
   "cell_type": "code",
   "execution_count": null,
   "id": "11ca48b0",
   "metadata": {},
   "outputs": [],
   "source": [
    "리스트 = ['dog', 'cat', 'parrot']\n",
    "\n",
    "for i in 리스트:"
   ]
  }
 ],
 "metadata": {
  "hide_input": false,
  "kernelspec": {
   "display_name": "Python 3 (ipykernel)",
   "language": "python",
   "name": "python3"
  },
  "language_info": {
   "codemirror_mode": {
    "name": "ipython",
    "version": 3
   },
   "file_extension": ".py",
   "mimetype": "text/x-python",
   "name": "python",
   "nbconvert_exporter": "python",
   "pygments_lexer": "ipython3",
   "version": "3.11.5"
  },
  "toc": {
   "base_numbering": 1,
   "nav_menu": {},
   "number_sections": true,
   "sideBar": true,
   "skip_h1_title": false,
   "title_cell": "Table of Contents",
   "title_sidebar": "Contents",
   "toc_cell": false,
   "toc_position": {},
   "toc_section_display": true,
   "toc_window_display": false
  },
  "varInspector": {
   "cols": {
    "lenName": 16,
    "lenType": 16,
    "lenVar": 40
   },
   "kernels_config": {
    "python": {
     "delete_cmd_postfix": "",
     "delete_cmd_prefix": "del ",
     "library": "var_list.py",
     "varRefreshCmd": "print(var_dic_list())"
    },
    "r": {
     "delete_cmd_postfix": ") ",
     "delete_cmd_prefix": "rm(",
     "library": "var_list.r",
     "varRefreshCmd": "cat(var_dic_list()) "
    }
   },
   "types_to_exclude": [
    "module",
    "function",
    "builtin_function_or_method",
    "instance",
    "_Feature"
   ],
   "window_display": false
  }
 },
 "nbformat": 4,
 "nbformat_minor": 5
}
