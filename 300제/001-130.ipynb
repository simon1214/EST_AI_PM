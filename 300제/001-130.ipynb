{
 "cells": [
  {
   "cell_type": "markdown",
   "id": "186a1907",
   "metadata": {},
   "source": [
    "# 📖 초보자를 위한 파이썬 300제\n",
    "---\n",
    "👉 [초보자를 위한 파이썬 300제](https://wikidocs.net/book/922)"
   ]
  },
  {
   "cell_type": "markdown",
   "id": "fde60ff6",
   "metadata": {},
   "source": [
    "## 01. 파이썬 시작하기"
   ]
  },
  {
   "cell_type": "markdown",
   "id": "bf21aa8a",
   "metadata": {},
   "source": [
    "### 001. print 기초   \n",
    "화면에 `Hello World` 문자열을 출력하세요."
   ]
  },
  {
   "cell_type": "code",
   "execution_count": 1,
   "id": "1ebc949d",
   "metadata": {
    "ExecuteTime": {
     "end_time": "2023-11-24T07:16:01.953582Z",
     "start_time": "2023-11-24T07:16:01.947615Z"
    },
    "hide_input": false
   },
   "outputs": [
    {
     "name": "stdout",
     "output_type": "stream",
     "text": [
      "Hello World\n"
     ]
    }
   ],
   "source": [
    "print('Hello World')"
   ]
  },
  {
   "cell_type": "markdown",
   "id": "c8276e0c",
   "metadata": {},
   "source": [
    "### 002. print 기초   \n",
    "화면에 `Mary's cosmetics`을 출력하세요. (중간에 '가 있음에 주의하세요)"
   ]
  },
  {
   "cell_type": "code",
   "execution_count": 2,
   "id": "ff4c80f7",
   "metadata": {
    "ExecuteTime": {
     "end_time": "2023-11-24T07:17:35.952769Z",
     "start_time": "2023-11-24T07:17:35.945793Z"
    }
   },
   "outputs": [
    {
     "name": "stdout",
     "output_type": "stream",
     "text": [
      "Mary's cosmetics\n"
     ]
    }
   ],
   "source": [
    "print(\"Mary's cosmetics\")"
   ]
  },
  {
   "cell_type": "markdown",
   "id": "d2ec07a6",
   "metadata": {},
   "source": [
    "### 003. print 기초   \n",
    "화면에 아래 문장을 출력하세요. (중간에 \"가 있음에 주의하세요.)\n",
    "\n",
    "`\n",
    "신씨가 소리질렀다. \"도둑이야\".\n",
    "`"
   ]
  },
  {
   "cell_type": "code",
   "execution_count": 3,
   "id": "fe44ba34",
   "metadata": {
    "ExecuteTime": {
     "end_time": "2023-11-24T07:19:36.465223Z",
     "start_time": "2023-11-24T07:19:36.458656Z"
    }
   },
   "outputs": [
    {
     "name": "stdout",
     "output_type": "stream",
     "text": [
      "신씨가 소리질렀다. \"도둑이야\"\n"
     ]
    }
   ],
   "source": [
    "print('신씨가 소리질렀다. \"도둑이야\"')"
   ]
  },
  {
   "cell_type": "markdown",
   "id": "489b1a98",
   "metadata": {},
   "source": [
    "### 004. print 기초   \n",
    "화면에 `C:\\Windows`를 출력하세요."
   ]
  },
  {
   "cell_type": "code",
   "execution_count": 4,
   "id": "74708581",
   "metadata": {
    "ExecuteTime": {
     "end_time": "2023-11-24T07:22:25.773874Z",
     "start_time": "2023-11-24T07:22:25.767144Z"
    }
   },
   "outputs": [
    {
     "name": "stdout",
     "output_type": "stream",
     "text": [
      "C:\\Windows\n"
     ]
    }
   ],
   "source": [
    "print(\"C:\\Windows\")"
   ]
  },
  {
   "cell_type": "markdown",
   "id": "07e1351d",
   "metadata": {},
   "source": [
    "### 005. print 탭과 줄바꿈   \n",
    "다음 코드를 실행해보고 \\t와 \\n의 역할을 설명해보세요.\n",
    "\n",
    "`print(\"안녕하세요.\\n만나서\\t\\t반갑습니다.\")`"
   ]
  },
  {
   "cell_type": "code",
   "execution_count": 10,
   "id": "d6bc26dd",
   "metadata": {
    "ExecuteTime": {
     "end_time": "2023-11-24T07:44:52.442781Z",
     "start_time": "2023-11-24T07:44:52.434214Z"
    }
   },
   "outputs": [
    {
     "name": "stdout",
     "output_type": "stream",
     "text": [
      "안녕하세요.\n",
      "만나서\t\t반갑습니다.\n"
     ]
    }
   ],
   "source": [
    "print(\"안녕하세요.\\n만나서\\t\\t반갑습니다.\")"
   ]
  },
  {
   "cell_type": "markdown",
   "id": "d6a7190a",
   "metadata": {
    "ExecuteTime": {
     "end_time": "2023-11-24T07:27:18.285310Z",
     "start_time": "2023-11-24T07:27:18.269315Z"
    },
    "hide_input": false
   },
   "source": [
    "\\n : 줄 바꿈   \n",
    "\\t : 탭"
   ]
  },
  {
   "cell_type": "markdown",
   "id": "802649c8",
   "metadata": {},
   "source": [
    "### 006. print 여러 데이터 출력   \n",
    "print 함수에 두 개의 단어를 입력한 예제입니다. 아래 코드의 출력 결과를 예상해봅시다.\n",
    "\n",
    "`print (\"오늘은\", \"일요일\")`"
   ]
  },
  {
   "cell_type": "markdown",
   "id": "068983e0",
   "metadata": {},
   "source": [
    "오늘은일요일"
   ]
  },
  {
   "cell_type": "code",
   "execution_count": 12,
   "id": "143533bb",
   "metadata": {
    "ExecuteTime": {
     "end_time": "2023-11-24T07:49:37.934397Z",
     "start_time": "2023-11-24T07:49:37.929116Z"
    }
   },
   "outputs": [
    {
     "name": "stdout",
     "output_type": "stream",
     "text": [
      "정답 : 오늘은 일요일\n"
     ]
    }
   ],
   "source": [
    "print(\"정답 : \"\"오늘은\",\"일요일\")"
   ]
  },
  {
   "cell_type": "markdown",
   "id": "4053c1ba",
   "metadata": {},
   "source": [
    "### 007. print 기초   \n",
    "print() 함수를 사용하여 다음과 같이 출력하세요.\n",
    "\n",
    "`naver;kakao;sk;samsung`"
   ]
  },
  {
   "cell_type": "code",
   "execution_count": 13,
   "id": "e6b34cbf",
   "metadata": {
    "ExecuteTime": {
     "end_time": "2023-11-24T07:50:49.419830Z",
     "start_time": "2023-11-24T07:50:49.412731Z"
    }
   },
   "outputs": [
    {
     "name": "stdout",
     "output_type": "stream",
     "text": [
      "naver;kakao;sk;samsung\n"
     ]
    }
   ],
   "source": [
    "print('naver;kakao;sk;samsung')"
   ]
  },
  {
   "cell_type": "code",
   "execution_count": 14,
   "id": "6341b678",
   "metadata": {
    "ExecuteTime": {
     "end_time": "2023-11-24T07:51:47.766524Z",
     "start_time": "2023-11-24T07:51:47.759237Z"
    }
   },
   "outputs": [
    {
     "name": "stdout",
     "output_type": "stream",
     "text": [
      "naver;kakao;sk;samsung\n"
     ]
    }
   ],
   "source": [
    "print('naver','kakao','sk','samsung',sep=';')"
   ]
  },
  {
   "cell_type": "markdown",
   "id": "af667aa8",
   "metadata": {},
   "source": [
    "### 008. print 기초\n",
    "print() 함수를 사용하여 다음과 같이 출력하세요.\n",
    "\n",
    "`naver/kakao/sk/samsung`"
   ]
  },
  {
   "cell_type": "code",
   "execution_count": 15,
   "id": "70fd7da3",
   "metadata": {
    "ExecuteTime": {
     "end_time": "2023-11-24T07:55:00.937946Z",
     "start_time": "2023-11-24T07:55:00.931386Z"
    },
    "scrolled": true
   },
   "outputs": [
    {
     "name": "stdout",
     "output_type": "stream",
     "text": [
      "naver/kakao/sk/samsung\n"
     ]
    }
   ],
   "source": [
    "print('naver','kakao','sk','samsung',sep='/')"
   ]
  },
  {
   "cell_type": "markdown",
   "id": "91b0bcd9",
   "metadata": {},
   "source": [
    "### 009. print 줄바꿈\n",
    "다음 코드를 수정하여 줄바꿈이 없이 출력하세요. (힌트: end='') print 함수는 두 번 사용합니다. 세미콜론 (;)은 한줄에 여러 개의 명령을 작성하기 위해 사용합니다.\n",
    "\n",
    "```print(\"first\");print(\"second\")```"
   ]
  },
  {
   "cell_type": "code",
   "execution_count": 17,
   "id": "cd73e9f1",
   "metadata": {
    "ExecuteTime": {
     "end_time": "2023-11-24T07:57:28.012897Z",
     "start_time": "2023-11-24T07:57:28.005726Z"
    }
   },
   "outputs": [
    {
     "name": "stdout",
     "output_type": "stream",
     "text": [
      "firstsecond\n"
     ]
    }
   ],
   "source": [
    "print(\"first\", end=\"\");print(\"second\")"
   ]
  },
  {
   "cell_type": "markdown",
   "id": "07b78bc3",
   "metadata": {},
   "source": [
    "### 010. 연산 결과 출력\n",
    "5/3의 결과를 화면에 출력하세요."
   ]
  },
  {
   "cell_type": "code",
   "execution_count": 18,
   "id": "ca828a51",
   "metadata": {
    "ExecuteTime": {
     "end_time": "2023-11-24T07:59:13.277957Z",
     "start_time": "2023-11-24T07:59:13.270417Z"
    }
   },
   "outputs": [
    {
     "name": "stdout",
     "output_type": "stream",
     "text": [
      "1.6666666666666667\n"
     ]
    }
   ],
   "source": [
    "print(5/3)"
   ]
  },
  {
   "cell_type": "markdown",
   "id": "3ace2275",
   "metadata": {},
   "source": [
    "## 02. 파이썬 변수"
   ]
  },
  {
   "cell_type": "markdown",
   "id": "2591fbfe",
   "metadata": {},
   "source": [
    "### 011. 변수 사용하기\n",
    "삼성전자라는 변수로 50,000원을 바인딩해보세요. 삼성전자 주식 10주를 보유하고 있을 때 총 평가금액을 출력하세요."
   ]
  },
  {
   "cell_type": "code",
   "execution_count": 23,
   "id": "57116fe0",
   "metadata": {
    "ExecuteTime": {
     "end_time": "2023-11-24T08:06:57.880565Z",
     "start_time": "2023-11-24T08:06:57.873851Z"
    }
   },
   "outputs": [
    {
     "name": "stdout",
     "output_type": "stream",
     "text": [
      "500000\n"
     ]
    }
   ],
   "source": [
    "삼성전자 = 50000\n",
    "총평가금액 = 삼성전자 * 10\n",
    "print(총평가금액)"
   ]
  },
  {
   "cell_type": "markdown",
   "id": "ab364780",
   "metadata": {},
   "source": [
    "### 012. 변수 사용하기\n",
    "다음 표는 삼성전자의 일부 투자정보입니다. 변수를 사용해서 시가총액, 현재가, PER 등을 바인딩해보세요.\n",
    "\n",
    "|항목|값|\n",
    "|---|---|\n",
    "|시가총액|298조|\n",
    "|현재가|50,000원|\n",
    "|PER|15.79|"
   ]
  },
  {
   "cell_type": "code",
   "execution_count": 25,
   "id": "e58d011e",
   "metadata": {
    "ExecuteTime": {
     "end_time": "2023-11-24T08:10:39.745207Z",
     "start_time": "2023-11-24T08:10:39.736408Z"
    }
   },
   "outputs": [
    {
     "name": "stdout",
     "output_type": "stream",
     "text": [
      "298조 50000 15.79\n"
     ]
    }
   ],
   "source": [
    "시가총액 = '298조'\n",
    "현재가 = 50000\n",
    "PER = 15.79\n",
    "print (시가총액, 현재가, PER)"
   ]
  },
  {
   "cell_type": "markdown",
   "id": "16e35c5f",
   "metadata": {},
   "source": [
    "### 013. 문자열 출력\n",
    "변수 s와 t에는 각각 문자열이 바인딩 되어있습니다.\n",
    "\n",
    "```\n",
    ">> s = \"hello\"\n",
    ">> t = \"python\"\n",
    "```\n",
    "\n",
    "두 변수를 이용하여 아래와 같이 출력해보세요.\n",
    "\n",
    "```\n",
    "실행 예:   \n",
    "hello! python\n",
    "```"
   ]
  },
  {
   "cell_type": "code",
   "execution_count": 31,
   "id": "6be961ba",
   "metadata": {
    "ExecuteTime": {
     "end_time": "2023-11-24T08:18:44.604101Z",
     "start_time": "2023-11-24T08:18:44.597501Z"
    }
   },
   "outputs": [
    {
     "name": "stdout",
     "output_type": "stream",
     "text": [
      "hello! python\n"
     ]
    }
   ],
   "source": [
    "s = \"hello\"\n",
    "t = \"python\"\n",
    "\n",
    "print(s+'!', t)"
   ]
  },
  {
   "cell_type": "markdown",
   "id": "93b520cb",
   "metadata": {},
   "source": [
    "### 014. 파이썬을 이용한 값 계산\n",
    "아래 코드의 실행 결과를 예상해보세요.\n",
    "\n",
    "`>> 2 + 2 * 3` "
   ]
  },
  {
   "cell_type": "markdown",
   "id": "1ea73f5d",
   "metadata": {},
   "source": [
    "8"
   ]
  },
  {
   "cell_type": "markdown",
   "id": "957d99d2",
   "metadata": {},
   "source": [
    "### 015. type 함수\n",
    "type() 함수는 데이터 타입을 판별합니다. 변수 a에는 128 숫자가 바인딩돼 있어 type 함수가 int (정수)형임을 알려줍니다.\n",
    "\n",
    "```\n",
    ">> a = 128\n",
    ">> print (type(a))\n",
    "<class 'int'>\n",
    "```\n",
    "\n",
    "아래 변수에 바인딩된 값의 타입을 판별해보세요.\n",
    "\n",
    "```\n",
    ">> a = \"132\"\n",
    "```"
   ]
  },
  {
   "cell_type": "code",
   "execution_count": 33,
   "id": "0b64edbb",
   "metadata": {
    "ExecuteTime": {
     "end_time": "2023-11-24T08:23:36.821637Z",
     "start_time": "2023-11-24T08:23:36.815489Z"
    }
   },
   "outputs": [
    {
     "name": "stdout",
     "output_type": "stream",
     "text": [
      "<class 'str'>\n"
     ]
    }
   ],
   "source": [
    "a = \"132\"\n",
    "print(type(a))"
   ]
  },
  {
   "cell_type": "markdown",
   "id": "123d8b8b",
   "metadata": {},
   "source": [
    "### 016. 문자열을 정수로 변환\n",
    "문자열 '720'를 정수형으로 변환해보세요.\n",
    "```\n",
    ">> num_str = \"720\"\n",
    "```"
   ]
  },
  {
   "cell_type": "code",
   "execution_count": 35,
   "id": "84daeba1",
   "metadata": {
    "ExecuteTime": {
     "end_time": "2023-11-24T08:33:21.062445Z",
     "start_time": "2023-11-24T08:33:21.054307Z"
    }
   },
   "outputs": [
    {
     "name": "stdout",
     "output_type": "stream",
     "text": [
      "720 <class 'int'>\n"
     ]
    }
   ],
   "source": [
    "num_str = \"720\"\n",
    "num_int = int(num_str)\n",
    "print(num_int, type(num_int))"
   ]
  },
  {
   "cell_type": "markdown",
   "id": "cd3834c6",
   "metadata": {},
   "source": [
    "### 017. 정수를 문자열 100으로 변환\n",
    "정수 100을 문자열 '100'으로 변환해보세요.\n",
    "\n",
    "`num = 100`"
   ]
  },
  {
   "cell_type": "code",
   "execution_count": 38,
   "id": "947b001a",
   "metadata": {
    "ExecuteTime": {
     "end_time": "2023-11-24T08:36:47.517076Z",
     "start_time": "2023-11-24T08:36:47.507099Z"
    }
   },
   "outputs": [
    {
     "name": "stdout",
     "output_type": "stream",
     "text": [
      "100 <class 'str'>\n"
     ]
    }
   ],
   "source": [
    "num = 100\n",
    "num_str = str(num)\n",
    "print(num_str, type(num_str))"
   ]
  },
  {
   "cell_type": "markdown",
   "id": "74fc7353",
   "metadata": {},
   "source": [
    "### 018. 문자열을 실수로 변환\n",
    "문자열 \"15.79\"를 실수(float) 타입으로 변환해보세요."
   ]
  },
  {
   "cell_type": "code",
   "execution_count": 39,
   "id": "8564d8b3",
   "metadata": {
    "ExecuteTime": {
     "end_time": "2023-11-24T08:38:35.057489Z",
     "start_time": "2023-11-24T08:38:35.048063Z"
    }
   },
   "outputs": [
    {
     "name": "stdout",
     "output_type": "stream",
     "text": [
      "15.79 <class 'float'>\n"
     ]
    }
   ],
   "source": [
    "a = \"15.79\"\n",
    "a_float = float(a)\n",
    "print(a_float, type(a_float))"
   ]
  },
  {
   "cell_type": "markdown",
   "id": "ad886d5d",
   "metadata": {
    "ExecuteTime": {
     "end_time": "2023-11-24T08:43:39.222276Z",
     "start_time": "2023-11-24T08:43:39.198544Z"
    }
   },
   "source": [
    "### 019. 문자열을 정수로 변환\n",
    "year라는 변수가 문자열 타입의 연도를 바인딩하고 있습니다. 이를 정수로 변환한 후 최근 3년의 연도를 화면에 출력해보세요.\n",
    "\n",
    "```\n",
    "year = \"2020\"\n",
    "```"
   ]
  },
  {
   "cell_type": "code",
   "execution_count": 43,
   "id": "7250d14f",
   "metadata": {
    "ExecuteTime": {
     "end_time": "2023-11-24T08:44:53.249374Z",
     "start_time": "2023-11-24T08:44:53.239675Z"
    }
   },
   "outputs": [
    {
     "name": "stdout",
     "output_type": "stream",
     "text": [
      "2018 2019 2020\n"
     ]
    }
   ],
   "source": [
    "year = \"2020\"\n",
    "year = int(year)\n",
    "print(year-2, year-1, year)"
   ]
  },
  {
   "cell_type": "markdown",
   "id": "229e975f",
   "metadata": {},
   "source": [
    "### 020. 파이썬 계산\n",
    "에어컨이 월 48,584원에 무이자 36개월의 조건으로 홈쇼핑에서 판매되고 있습니다. 총 금액은 계산한 후 이를 화면에 출력해보세요. (변수사용하기)"
   ]
  },
  {
   "cell_type": "code",
   "execution_count": 44,
   "id": "e51b45fa",
   "metadata": {
    "ExecuteTime": {
     "end_time": "2023-11-24T08:46:48.234859Z",
     "start_time": "2023-11-24T08:46:48.226542Z"
    }
   },
   "outputs": [
    {
     "name": "stdout",
     "output_type": "stream",
     "text": [
      "총 금액 :  1641024\n"
     ]
    }
   ],
   "source": [
    "월가격 = 45584\n",
    "할부기간 = 36\n",
    "print('총 금액 : ', 월가격 * 할부기간)"
   ]
  },
  {
   "cell_type": "markdown",
   "id": "1ee78912",
   "metadata": {},
   "source": [
    "## 파이썬 문자열"
   ]
  },
  {
   "cell_type": "markdown",
   "id": "53c4940a",
   "metadata": {},
   "source": [
    "### 021. 문자열 인덱싱\n",
    "letters가 바인딩하는 문자열에서 첫번째와 세번째 문자를 출력하세요.\n",
    "```\n",
    ">> letters = 'python'\n",
    "```\n",
    "```\n",
    "실행 예   \n",
    "p t\n",
    "```"
   ]
  },
  {
   "cell_type": "code",
   "execution_count": 49,
   "id": "41552b7b",
   "metadata": {
    "ExecuteTime": {
     "end_time": "2023-11-24T12:13:28.133879Z",
     "start_time": "2023-11-24T12:13:28.124721Z"
    }
   },
   "outputs": [
    {
     "name": "stdout",
     "output_type": "stream",
     "text": [
      "p t\n"
     ]
    }
   ],
   "source": [
    "letters = 'python'\n",
    "print(letters[0], letters[2])"
   ]
  },
  {
   "cell_type": "markdown",
   "id": "97b02ee3",
   "metadata": {},
   "source": [
    "### 022. 문자열 슬라이싱\n",
    "자동차 번호가 다음과 같을 때 뒤에 4자리만 출력하세요.\n",
    "```\n",
    ">> license_plate = \"24가 2210\"\n",
    "실행 예: 2210\n",
    "```"
   ]
  },
  {
   "cell_type": "code",
   "execution_count": 54,
   "id": "a038f9d2",
   "metadata": {
    "ExecuteTime": {
     "end_time": "2023-11-24T12:15:37.602951Z",
     "start_time": "2023-11-24T12:15:37.595464Z"
    }
   },
   "outputs": [
    {
     "name": "stdout",
     "output_type": "stream",
     "text": [
      "2210\n"
     ]
    }
   ],
   "source": [
    "license_plate = \"24가 2210\"\n",
    "print(license_plate[4:])"
   ]
  },
  {
   "cell_type": "markdown",
   "id": "bf20a0de",
   "metadata": {},
   "source": [
    "### 023. 문자열 인덱싱\n",
    "아래의 문자열에서 '홀' 만 출력하세요.\n",
    "```\n",
    ">> string = \"홀짝홀짝홀짝\"\n",
    "```\n",
    "```\n",
    "실행 예:\n",
    "홀홀홀\n",
    "```"
   ]
  },
  {
   "cell_type": "code",
   "execution_count": 56,
   "id": "65bedc34",
   "metadata": {
    "ExecuteTime": {
     "end_time": "2023-11-24T12:21:17.985136Z",
     "start_time": "2023-11-24T12:21:17.976695Z"
    }
   },
   "outputs": [
    {
     "name": "stdout",
     "output_type": "stream",
     "text": [
      "홀홀홀\n"
     ]
    }
   ],
   "source": [
    "string = \"홀짝홀짝홀짝\"\n",
    "print(string[::2])"
   ]
  },
  {
   "cell_type": "markdown",
   "id": "a8e7b0ff",
   "metadata": {},
   "source": [
    "### 024. 문자열 슬라이싱\n",
    "문자열을 거꾸로 뒤집어 출력하세요.\n",
    "```\n",
    ">> string = \"PYTHON\"\n",
    "```\n",
    "```\n",
    "실행 예:\n",
    "NOHTYP\n",
    "```"
   ]
  },
  {
   "cell_type": "code",
   "execution_count": 58,
   "id": "8ff102c1",
   "metadata": {
    "ExecuteTime": {
     "end_time": "2023-11-24T12:25:22.922714Z",
     "start_time": "2023-11-24T12:25:22.914779Z"
    }
   },
   "outputs": [
    {
     "name": "stdout",
     "output_type": "stream",
     "text": [
      "NOHTYP\n"
     ]
    }
   ],
   "source": [
    "string = \"PYTHON\"\n",
    "print(string[::-1])"
   ]
  },
  {
   "cell_type": "markdown",
   "id": "cfeaee14",
   "metadata": {},
   "source": [
    "### 025. 문자열 치환\n",
    "아래의 전화번호에서 하이푼 ('-')을 제거하고 출력하세요.\n",
    "```\n",
    ">> phone_number = \"010-1111-2222\"\n",
    "```\n",
    "```\n",
    "실행 예\n",
    "010 1111 2222\n",
    "```"
   ]
  },
  {
   "cell_type": "code",
   "execution_count": 59,
   "id": "96bb3e14",
   "metadata": {
    "ExecuteTime": {
     "end_time": "2023-11-24T12:26:45.599801Z",
     "start_time": "2023-11-24T12:26:45.590768Z"
    }
   },
   "outputs": [
    {
     "name": "stdout",
     "output_type": "stream",
     "text": [
      "010 1111 2222\n"
     ]
    }
   ],
   "source": [
    "phone_number = \"010-1111-2222\"\n",
    "print(phone_number.replace(\"-\", \" \"))"
   ]
  },
  {
   "cell_type": "markdown",
   "id": "21529ec0",
   "metadata": {},
   "source": [
    "### 026. 문자열 다루기\n",
    "25번 문제의 전화번호를 아래와 같이 모두 붙여 출력하세요.\n",
    "```\n",
    "실행 예\n",
    "01011112222\n",
    "```"
   ]
  },
  {
   "cell_type": "code",
   "execution_count": 60,
   "id": "4c71bda8",
   "metadata": {
    "ExecuteTime": {
     "end_time": "2023-11-24T12:27:55.078246Z",
     "start_time": "2023-11-24T12:27:55.070172Z"
    }
   },
   "outputs": [
    {
     "name": "stdout",
     "output_type": "stream",
     "text": [
      "01011112222\n"
     ]
    }
   ],
   "source": [
    "print(phone_number.replace(\"-\",\"\"))"
   ]
  },
  {
   "cell_type": "markdown",
   "id": "83365e6e",
   "metadata": {},
   "source": [
    "### 027. 문자열 다루기\n",
    "url 에 저장된 웹 페이지 주소에서 도메인을 출력하세요.\n",
    "```\n",
    ">> url = \"http://sharebook.kr\"\n",
    "```\n",
    "```\n",
    "실행 예:\n",
    "kr\n",
    "```"
   ]
  },
  {
   "cell_type": "code",
   "execution_count": 62,
   "id": "71cd32cb",
   "metadata": {
    "ExecuteTime": {
     "end_time": "2023-11-24T12:29:10.720302Z",
     "start_time": "2023-11-24T12:29:10.701585Z"
    }
   },
   "outputs": [
    {
     "data": {
      "text/plain": [
       "'kr'"
      ]
     },
     "execution_count": 62,
     "metadata": {},
     "output_type": "execute_result"
    }
   ],
   "source": [
    "url = \"http://sharebook.kr\"\n",
    "url[-2:]"
   ]
  },
  {
   "cell_type": "markdown",
   "id": "43594873",
   "metadata": {},
   "source": [
    "### 028. 문자열은 immutable\n",
    "아래 코드의 실행 결과를 예상해보세요.\n",
    "```\n",
    ">> lang = 'python'\n",
    ">> lang[0] = 'P'\n",
    ">> print(lang)\n",
    "```"
   ]
  },
  {
   "cell_type": "markdown",
   "id": "568ca21a",
   "metadata": {
    "ExecuteTime": {
     "end_time": "2023-11-24T12:34:15.738723Z",
     "start_time": "2023-11-24T12:34:15.727420Z"
    }
   },
   "source": [
    "python"
   ]
  },
  {
   "cell_type": "markdown",
   "id": "da7a3fa0",
   "metadata": {},
   "source": [
    "### 029. replace 메서드\n",
    "아래 문자열에서 소문자 'a'를 대문자 'A'로 변경하세요.\n",
    "\n",
    "```\n",
    ">> string = 'abcdfe2a354a32a'\n",
    "```\n",
    "```\n",
    "실행 예:\n",
    "Abcdfe2A354A32A\n",
    "```"
   ]
  },
  {
   "cell_type": "code",
   "execution_count": 66,
   "id": "3400a83e",
   "metadata": {
    "ExecuteTime": {
     "end_time": "2023-11-24T12:37:38.593271Z",
     "start_time": "2023-11-24T12:37:38.584878Z"
    }
   },
   "outputs": [
    {
     "name": "stdout",
     "output_type": "stream",
     "text": [
      "Abcdfe2A354A32A\n"
     ]
    }
   ],
   "source": [
    "string = 'abcdfe2a354a32a'\n",
    "a = string.replace(\"a\", \"A\")\n",
    "print(a)"
   ]
  },
  {
   "cell_type": "markdown",
   "id": "43d27fce",
   "metadata": {},
   "source": [
    "### 030. replace 메서드\n",
    "아래 코드의 실행 결과를 예상해보세요.\n",
    "```\n",
    ">> string = 'abcd'\n",
    ">> string.replace('b', 'B')\n",
    ">> print(string)\n",
    "```"
   ]
  },
  {
   "cell_type": "markdown",
   "id": "995769e6",
   "metadata": {},
   "source": [
    "abcd    \n",
    "aBcd가 되려면 replace를 사용한 구문을 다른 변수에 넣어줘야 함"
   ]
  },
  {
   "cell_type": "markdown",
   "id": "3051e7b1",
   "metadata": {},
   "source": [
    "### 031. 문자열 합치기\n",
    "아래 코드의 실행 결과를 예상해보세요.\n",
    "```\n",
    ">> a = \"3\"\n",
    ">> b = \"4\"\n",
    ">> print(a + b)\n",
    "```"
   ]
  },
  {
   "cell_type": "markdown",
   "id": "1a3fb714",
   "metadata": {},
   "source": [
    "34"
   ]
  },
  {
   "cell_type": "markdown",
   "id": "dc601f8d",
   "metadata": {},
   "source": [
    "### 032. 문자열 곱하기\n",
    "아래 코드의 실행 결과를 예상해보세요.\n",
    "```\n",
    ">> print(\"Hi\" * 3)\n",
    "```"
   ]
  },
  {
   "cell_type": "markdown",
   "id": "a368e568",
   "metadata": {},
   "source": [
    "HiHiHi"
   ]
  },
  {
   "cell_type": "markdown",
   "id": "a57947fd",
   "metadata": {},
   "source": [
    "### 033. 문자열 곱하기\n",
    "화면에 '-'를 80개 출력하세요.\n",
    "```\n",
    "실행 예:\n",
    "--------------------------------------------------------------------------------\n",
    "```"
   ]
  },
  {
   "cell_type": "code",
   "execution_count": 69,
   "id": "053c3d8a",
   "metadata": {
    "ExecuteTime": {
     "end_time": "2023-11-24T17:34:13.553420Z",
     "start_time": "2023-11-24T17:34:13.535650Z"
    }
   },
   "outputs": [
    {
     "name": "stdout",
     "output_type": "stream",
     "text": [
      "--------------------------------------------------------------------------------\n"
     ]
    }
   ],
   "source": [
    "print('-' * 80)"
   ]
  },
  {
   "cell_type": "markdown",
   "id": "20648825",
   "metadata": {},
   "source": [
    "### 034. 문자열 곱하기\n",
    "변수에 다음과 같은 문자열이 바인딩되어 있습니다.\n",
    "```\n",
    ">>> t1 = 'python'\n",
    ">>> t2 = 'java'\n",
    "```\n",
    "변수에 문자열 더하기와 문자열 곱하기를 사용해서 아래와 같이 출력해보세요.\n",
    "```\n",
    "실행 예:\n",
    "python java python java python java python java\n",
    "```"
   ]
  },
  {
   "cell_type": "code",
   "execution_count": 73,
   "id": "7fef9741",
   "metadata": {
    "ExecuteTime": {
     "end_time": "2023-11-24T17:36:35.651422Z",
     "start_time": "2023-11-24T17:36:35.644929Z"
    }
   },
   "outputs": [
    {
     "name": "stdout",
     "output_type": "stream",
     "text": [
      "python java python java python java python java \n"
     ]
    }
   ],
   "source": [
    "t1 = 'python'\n",
    "t2 = 'java'\n",
    "print((t1 + ' ' + t2 + ' ') * 4)"
   ]
  },
  {
   "cell_type": "markdown",
   "id": "ff4868ce",
   "metadata": {},
   "source": [
    "### 035. 문자열 출력\n",
    "변수에 다음과 같이 문자열과 정수가 바인딩되어 있을 때 % formatting을 사용해서 다음과 같이 출력해보세요.\n",
    "```\n",
    "name1 = \"김민수\" \n",
    "age1 = 10\n",
    "name2 = \"이철희\"\n",
    "age2 = 13\n",
    "```\n",
    "```\n",
    "이름: 김민수 나이: 10\n",
    "이름: 이철희 나이: 13\n",
    "```"
   ]
  },
  {
   "cell_type": "code",
   "execution_count": 4,
   "id": "0fafb208",
   "metadata": {
    "ExecuteTime": {
     "end_time": "2023-11-25T02:21:22.837159Z",
     "start_time": "2023-11-25T02:21:22.827886Z"
    }
   },
   "outputs": [
    {
     "name": "stdout",
     "output_type": "stream",
     "text": [
      "이름 : 김민수 나이 : 10\n",
      "이름 : 이철희 나이 : 13\n"
     ]
    }
   ],
   "source": [
    "name1 = \"김민수\" \n",
    "age1 = 10\n",
    "name2 = \"이철희\"\n",
    "age2 = 13\n",
    "print(\"이름 : %s 나이 : %d\" % (name1, age1))\n",
    "print(\"이름 : %s 나이 : %d\" % (name2, age2))"
   ]
  },
  {
   "cell_type": "markdown",
   "id": "92038d0f",
   "metadata": {},
   "source": [
    "### 036. 문자열 출력\n",
    "문자열의 format( ) 메서드를 사용해서 035번 문제를 다시 풀어보세요."
   ]
  },
  {
   "cell_type": "code",
   "execution_count": 5,
   "id": "5870213a",
   "metadata": {
    "ExecuteTime": {
     "end_time": "2023-11-25T02:21:24.389388Z",
     "start_time": "2023-11-25T02:21:24.379888Z"
    }
   },
   "outputs": [
    {
     "name": "stdout",
     "output_type": "stream",
     "text": [
      "이름 : 김민수 나이 : 10\n",
      "이름 : 이철희 나이 : 13\n"
     ]
    }
   ],
   "source": [
    "print(\"이름 : {} 나이 : {}\".format(name1, age1))\n",
    "print(\"이름 : {0} 나이 : {1}\".format(\"이철희\", 13))"
   ]
  },
  {
   "cell_type": "markdown",
   "id": "b2a3a8a2",
   "metadata": {},
   "source": [
    "### 037. 문자열 출력\n",
    "파이썬 3.6부터 지원하는 f-string을 사용해서 035번 문제를 다시 풀어보세요."
   ]
  },
  {
   "cell_type": "code",
   "execution_count": 8,
   "id": "04de8a06",
   "metadata": {
    "ExecuteTime": {
     "end_time": "2023-11-25T02:23:11.195290Z",
     "start_time": "2023-11-25T02:23:11.186831Z"
    }
   },
   "outputs": [
    {
     "name": "stdout",
     "output_type": "stream",
     "text": [
      "이름 : 김민수 나이 : 10\n",
      "이름 : 이철희 나이 : 13\n"
     ]
    }
   ],
   "source": [
    "print(f\"이름 : {name1} 나이 : {age1}\")\n",
    "print(f\"이름 : {name2} 나이 : {age2}\")"
   ]
  },
  {
   "cell_type": "markdown",
   "id": "ae2fe1ff",
   "metadata": {},
   "source": [
    "### 038. 컴마 제거하기\n",
    "삼성전자의 상장주식수가 다음과 같습니다. 컴마를 제거한 후 이를 정수 타입으로 변환해보세요.\n",
    "```\n",
    "상장주식수 = \"5,969,782,550\"\n",
    "```"
   ]
  },
  {
   "cell_type": "code",
   "execution_count": 15,
   "id": "d1ef6d5d",
   "metadata": {
    "ExecuteTime": {
     "end_time": "2023-11-25T09:15:20.743440Z",
     "start_time": "2023-11-25T09:15:20.730451Z"
    }
   },
   "outputs": [
    {
     "name": "stdout",
     "output_type": "stream",
     "text": [
      "5969782550 <class 'int'>\n"
     ]
    }
   ],
   "source": [
    "상장주식수 = \"5,969,782,550\"\n",
    "리스트 = 상장주식수.split(',')\n",
    "문자열 = ''.join(리스트)\n",
    "숫자 = int(문자열)\n",
    "print(숫자, type(숫자))"
   ]
  },
  {
   "cell_type": "code",
   "execution_count": 16,
   "id": "9830b674",
   "metadata": {
    "ExecuteTime": {
     "end_time": "2023-11-25T09:18:28.932076Z",
     "start_time": "2023-11-25T09:18:28.922792Z"
    }
   },
   "outputs": [
    {
     "name": "stdout",
     "output_type": "stream",
     "text": [
      "5969782550 <class 'int'>\n"
     ]
    }
   ],
   "source": [
    "# 정답 코드\n",
    "\n",
    "상장주식수 = \"5,969,782,550\"\n",
    "컴마제거 = 상장주식수.replace(\",\", \"\")\n",
    "타입변환 = int(컴마제거)\n",
    "print(타입변환, type(타입변환))"
   ]
  },
  {
   "cell_type": "markdown",
   "id": "445e6d37",
   "metadata": {},
   "source": [
    "### 039. 문자열 슬라이싱\n",
    "다음과 같은 문자열에서 '2020/03'만 출력하세요.\n",
    "```\n",
    "분기 = \"2020/03(E) (IFRS연결)\"\n",
    "```"
   ]
  },
  {
   "cell_type": "code",
   "execution_count": 24,
   "id": "28cd8fe0",
   "metadata": {
    "ExecuteTime": {
     "end_time": "2023-11-25T09:20:56.353471Z",
     "start_time": "2023-11-25T09:20:56.343311Z"
    }
   },
   "outputs": [
    {
     "name": "stdout",
     "output_type": "stream",
     "text": [
      "2020/03\n"
     ]
    }
   ],
   "source": [
    "분기 = \"2020/03(E) (IFRS연결)\"\n",
    "print(분기[:7])"
   ]
  },
  {
   "cell_type": "markdown",
   "id": "2638f2f1",
   "metadata": {},
   "source": [
    "### 040. strip 메서드\n",
    "문자열의 좌우의 공백이 있을 때 이를 제거해보세요.\n",
    "```\n",
    "data = \"   삼성전자    \"\n",
    "```"
   ]
  },
  {
   "cell_type": "code",
   "execution_count": 25,
   "id": "cf0988d9",
   "metadata": {
    "ExecuteTime": {
     "end_time": "2023-11-25T09:22:06.852106Z",
     "start_time": "2023-11-25T09:22:06.840056Z"
    }
   },
   "outputs": [
    {
     "name": "stdout",
     "output_type": "stream",
     "text": [
      "삼성전자\n"
     ]
    }
   ],
   "source": [
    "data = \"   삼성전자    \"\n",
    "print(data.strip())"
   ]
  },
  {
   "cell_type": "markdown",
   "id": "0526749f",
   "metadata": {},
   "source": [
    "### 041. upper 메서드\n",
    "다음과 같은 문자열이 있을 때 이를 대문자 BTC_KRW로 변경하세요.\n",
    "```\n",
    "ticker = \"btc_krw\"\n",
    "```"
   ]
  },
  {
   "cell_type": "code",
   "execution_count": 26,
   "id": "b734b5fd",
   "metadata": {
    "ExecuteTime": {
     "end_time": "2023-11-25T09:23:32.377849Z",
     "start_time": "2023-11-25T09:23:32.367914Z"
    }
   },
   "outputs": [
    {
     "name": "stdout",
     "output_type": "stream",
     "text": [
      "BTC_KRW\n"
     ]
    }
   ],
   "source": [
    "ticker = \"btc_krw\"\n",
    "print(ticker.upper())"
   ]
  },
  {
   "cell_type": "markdown",
   "id": "5908e8d6",
   "metadata": {},
   "source": [
    "### 042. lower 메서드\n",
    "다음과 같은 문자열이 있을 때 이를 소문자 btc_krw로 변경하세요.\n",
    "```\n",
    "ticker = \"BTC_KRW\"\n",
    "```"
   ]
  },
  {
   "cell_type": "code",
   "execution_count": 27,
   "id": "30c2c096",
   "metadata": {
    "ExecuteTime": {
     "end_time": "2023-11-25T09:25:38.170207Z",
     "start_time": "2023-11-25T09:25:38.160566Z"
    }
   },
   "outputs": [
    {
     "name": "stdout",
     "output_type": "stream",
     "text": [
      "btc_krw\n"
     ]
    }
   ],
   "source": [
    "ticker = \"BTC_KRW\"\n",
    "print(ticker.lower())"
   ]
  },
  {
   "cell_type": "markdown",
   "id": "75c890ef",
   "metadata": {},
   "source": [
    "### 043. capitalize 메서드\n",
    "문자열 'hello'가 있을 때 이를 'Hello'로 변경해보세요."
   ]
  },
  {
   "cell_type": "code",
   "execution_count": 29,
   "id": "3bf8d24e",
   "metadata": {
    "ExecuteTime": {
     "end_time": "2023-11-25T09:26:37.873980Z",
     "start_time": "2023-11-25T09:26:37.866443Z"
    }
   },
   "outputs": [
    {
     "name": "stdout",
     "output_type": "stream",
     "text": [
      "Hello\n"
     ]
    }
   ],
   "source": [
    "text = \"hello\"\n",
    "print(text.capitalize())"
   ]
  },
  {
   "cell_type": "markdown",
   "id": "4acc6d35",
   "metadata": {},
   "source": [
    "### 044. endswith 메서드\n",
    "파일 이름이 문자열로 저장되어 있을 때 endswith 메서드를 사용해서 파일 이름이 'xlsx'로 끝나는지 확인해보세요.\n",
    "```\n",
    "file_name = \"보고서.xlsx\"\n",
    "```"
   ]
  },
  {
   "cell_type": "code",
   "execution_count": 30,
   "id": "ee841026",
   "metadata": {
    "ExecuteTime": {
     "end_time": "2023-11-25T09:27:36.742485Z",
     "start_time": "2023-11-25T09:27:36.735088Z"
    }
   },
   "outputs": [
    {
     "name": "stdout",
     "output_type": "stream",
     "text": [
      "True\n"
     ]
    }
   ],
   "source": [
    "file_name = \"보고서.xlsx\"\n",
    "print(file_name.endswith('xlsx'))"
   ]
  },
  {
   "cell_type": "markdown",
   "id": "9db52f8a",
   "metadata": {},
   "source": [
    "### 045. endswith 메서드\n",
    "파일 이름이 문자열로 저장되어 있을 때 endswith 메서드를 사용해서 파일 이름이 'xlsx' 또는 'xls'로 끝나는지 확인해보세요.\n",
    "```\n",
    "file_name = \"보고서.xlsx\"\n",
    "```"
   ]
  },
  {
   "cell_type": "code",
   "execution_count": 35,
   "id": "155039ac",
   "metadata": {
    "ExecuteTime": {
     "end_time": "2023-11-25T09:42:26.716045Z",
     "start_time": "2023-11-25T09:42:26.707191Z"
    }
   },
   "outputs": [
    {
     "name": "stdout",
     "output_type": "stream",
     "text": [
      "True\n"
     ]
    }
   ],
   "source": [
    "file_name = \"보고서.xlsx\"\n",
    "print(file_name.endswith((\"xlsx\",\"xls\")))"
   ]
  },
  {
   "cell_type": "markdown",
   "id": "a09bf674",
   "metadata": {},
   "source": [
    "### 046. startswith 메서드\n",
    "파일 이름이 문자열로 저장되어 있을 때 startswith 메서드를 사용해서 파일 이름이 '2020'로 시작하는지 확인해보세요.\n",
    "```\n",
    "file_name = \"2020_보고서.xlsx\"\n",
    "```"
   ]
  },
  {
   "cell_type": "code",
   "execution_count": 36,
   "id": "b3b55f9f",
   "metadata": {
    "ExecuteTime": {
     "end_time": "2023-11-25T09:43:16.122245Z",
     "start_time": "2023-11-25T09:43:16.112552Z"
    }
   },
   "outputs": [
    {
     "name": "stdout",
     "output_type": "stream",
     "text": [
      "True\n"
     ]
    }
   ],
   "source": [
    "file_name = \"2020_보고서.xlsx\"\n",
    "print(file_name.startswith('2020'))"
   ]
  },
  {
   "cell_type": "markdown",
   "id": "6ddcec1e",
   "metadata": {},
   "source": [
    "### 047. split 메서드\n",
    "다음과 같은 문자열이 있을 때 공백을 기준으로 문자열을 나눠보세요.\n",
    "```\n",
    "a = \"hello world\"\n",
    "```"
   ]
  },
  {
   "cell_type": "code",
   "execution_count": 37,
   "id": "0dd1c59e",
   "metadata": {
    "ExecuteTime": {
     "end_time": "2023-11-25T09:44:16.590270Z",
     "start_time": "2023-11-25T09:44:16.579891Z"
    }
   },
   "outputs": [
    {
     "name": "stdout",
     "output_type": "stream",
     "text": [
      "['hello', 'world']\n"
     ]
    }
   ],
   "source": [
    "a = \"hello world\"\n",
    "print(a.split(' '))"
   ]
  },
  {
   "cell_type": "markdown",
   "id": "6ffa6e44",
   "metadata": {},
   "source": [
    "### 048. split 메서드\n",
    "다음과 같이 문자열이 있을 때 btc와 krw로 나눠보세요.\n",
    "```\n",
    "ticker = \"btc_krw\"\n",
    "```"
   ]
  },
  {
   "cell_type": "code",
   "execution_count": 38,
   "id": "fe57f201",
   "metadata": {
    "ExecuteTime": {
     "end_time": "2023-11-25T09:45:47.000856Z",
     "start_time": "2023-11-25T09:45:46.992454Z"
    }
   },
   "outputs": [
    {
     "name": "stdout",
     "output_type": "stream",
     "text": [
      "['btc', 'krw']\n"
     ]
    }
   ],
   "source": [
    "ticker = \"btc_krw\"\n",
    "print(ticker.split('_'))"
   ]
  },
  {
   "cell_type": "markdown",
   "id": "e3a66783",
   "metadata": {},
   "source": [
    "### 049. split 메서드\n",
    "다음과 같이 날짜를 표현하는 문자열이 있을 때 연도, 월, 일로 나눠보세요.\n",
    "```\n",
    "date = \"2020-05-01\"\n",
    "```"
   ]
  },
  {
   "cell_type": "code",
   "execution_count": 39,
   "id": "1860e57e",
   "metadata": {
    "ExecuteTime": {
     "end_time": "2023-11-25T09:46:24.095970Z",
     "start_time": "2023-11-25T09:46:24.087730Z"
    }
   },
   "outputs": [
    {
     "name": "stdout",
     "output_type": "stream",
     "text": [
      "['2020', '05', '01']\n"
     ]
    }
   ],
   "source": [
    "date = \"2020-05-01\"\n",
    "print(date.split('-'))"
   ]
  },
  {
   "cell_type": "markdown",
   "id": "cfc65d65",
   "metadata": {},
   "source": [
    "### 050. rstrip 메서드\n",
    "문자열의 오른쪽에 공백이 있을 때 이를 제거해보세요.\n",
    "```\n",
    "data = \"039490     \"\n",
    "```"
   ]
  },
  {
   "cell_type": "code",
   "execution_count": 40,
   "id": "cd911be0",
   "metadata": {
    "ExecuteTime": {
     "end_time": "2023-11-25T09:47:03.956834Z",
     "start_time": "2023-11-25T09:47:03.949696Z"
    }
   },
   "outputs": [
    {
     "name": "stdout",
     "output_type": "stream",
     "text": [
      "039490\n"
     ]
    }
   ],
   "source": [
    "data = \"039490     \"\n",
    "print(data.rstrip())"
   ]
  },
  {
   "cell_type": "markdown",
   "id": "577ab44f",
   "metadata": {},
   "source": [
    "## 파이썬 리스트"
   ]
  },
  {
   "cell_type": "markdown",
   "id": "50ee9134",
   "metadata": {},
   "source": [
    "### 051. 리스트 생성\n",
    "2016년 11월 영화 예매 순위 기준 top3는 다음과 같습니다. 영화 제목을 movie_rank 이름의 리스트에 저장해보세요. (순위 정보는 저장하지 않습니다.)\n",
    "\n",
    "|순위|영화|\n",
    "|---|---|\n",
    "|1|닥터 스트레인지|\n",
    "|2|스플릿|\n",
    "|3|럭키|"
   ]
  },
  {
   "cell_type": "code",
   "execution_count": 43,
   "id": "5508c4ca",
   "metadata": {
    "ExecuteTime": {
     "end_time": "2023-11-25T09:51:46.014160Z",
     "start_time": "2023-11-25T09:51:46.004011Z"
    }
   },
   "outputs": [
    {
     "name": "stdout",
     "output_type": "stream",
     "text": [
      "['닥터 스트레인지', '스플릿', '럭키'] <class 'list'>\n"
     ]
    }
   ],
   "source": [
    "movie_rank = ['닥터 스트레인지', '스플릿', '럭키']\n",
    "print(movie_rank, type(movie_rank))"
   ]
  },
  {
   "cell_type": "markdown",
   "id": "da622abb",
   "metadata": {},
   "source": [
    "### 052. 리스트에 원소 추가\n",
    "051의 movie_rank 리스트에 \"배트맨\"을 추가하라."
   ]
  },
  {
   "cell_type": "code",
   "execution_count": 48,
   "id": "27b7f811",
   "metadata": {
    "ExecuteTime": {
     "end_time": "2023-11-25T09:54:42.948460Z",
     "start_time": "2023-11-25T09:54:42.939732Z"
    }
   },
   "outputs": [
    {
     "name": "stdout",
     "output_type": "stream",
     "text": [
      "['닥터 스트레인지', '스플릿', '럭키', '배트맨']\n"
     ]
    }
   ],
   "source": [
    "movie_rank.append('배트맨')\n",
    "print(movie_rank)"
   ]
  },
  {
   "cell_type": "markdown",
   "id": "8e99440a",
   "metadata": {},
   "source": [
    "### 053. 리스트에 원소 추가\n",
    "movie_rank 리스트에는 아래와 같이 네 개의 영화 제목이 바인딩되어 있다. \"슈퍼맨\"을 \"닥터 스트레인지\"와 \"스플릿\" 사이에 추가하라.\n",
    "```\n",
    "movie_rank = ['닥터 스트레인지', '스플릿', '럭키', '배트맨']\n",
    "```"
   ]
  },
  {
   "cell_type": "code",
   "execution_count": 51,
   "id": "87ef20fc",
   "metadata": {
    "ExecuteTime": {
     "end_time": "2023-11-25T09:56:53.653775Z",
     "start_time": "2023-11-25T09:56:53.646232Z"
    }
   },
   "outputs": [
    {
     "name": "stdout",
     "output_type": "stream",
     "text": [
      "['닥터 스트레인지', '슈퍼맨', '스플릿', '럭키', '배트맨']\n"
     ]
    }
   ],
   "source": [
    "movie_rank.insert(1, '슈퍼맨')\n",
    "print(movie_rank)"
   ]
  },
  {
   "cell_type": "markdown",
   "id": "f2ab673c",
   "metadata": {},
   "source": [
    "### 054. 리스트에서 원소 제거\n",
    "movie_rank 리스트에서 '럭키'를 삭제하라.\n",
    "```\n",
    "movie_rank = ['닥터 스트레인지', '슈퍼맨', '스플릿', '럭키', '배트맨']\n",
    "```"
   ]
  },
  {
   "cell_type": "code",
   "execution_count": 54,
   "id": "bdec129b",
   "metadata": {
    "ExecuteTime": {
     "end_time": "2023-11-25T09:59:50.320811Z",
     "start_time": "2023-11-25T09:59:50.312481Z"
    }
   },
   "outputs": [
    {
     "name": "stdout",
     "output_type": "stream",
     "text": [
      "['닥터 스트레인지', '슈퍼맨', '스플릿', '배트맨']\n"
     ]
    }
   ],
   "source": [
    "movie_rank = ['닥터 스트레인지', '슈퍼맨', '스플릿', '럭키', '배트맨']\n",
    "movie_rank.remove('럭키')\n",
    "print(movie_rank)"
   ]
  },
  {
   "cell_type": "markdown",
   "id": "873bfb7d",
   "metadata": {},
   "source": [
    "### 055. 리스트에서 원소 제거\n",
    "movie_rank 리스트에서 '스플릿' 과 '배트맨'을 를 삭제하라.\n",
    "```\n",
    "movie_rank = ['닥터 스트레인지', '슈퍼맨', '스플릿', '배트맨']\n",
    "```"
   ]
  },
  {
   "cell_type": "code",
   "execution_count": 56,
   "id": "f0266fde",
   "metadata": {
    "ExecuteTime": {
     "end_time": "2023-11-25T10:01:53.637247Z",
     "start_time": "2023-11-25T10:01:53.628812Z"
    }
   },
   "outputs": [
    {
     "name": "stdout",
     "output_type": "stream",
     "text": [
      "['닥터 스트레인지', '슈퍼맨']\n"
     ]
    }
   ],
   "source": [
    "movie_rank = ['닥터 스트레인지', '슈퍼맨', '스플릿', '배트맨']\n",
    "del movie_rank[3]\n",
    "del movie_rank[2]\n",
    "print(movie_rank)"
   ]
  },
  {
   "cell_type": "markdown",
   "id": "675c9a9a",
   "metadata": {},
   "source": [
    "### 056. 두 개의 리스트 합집합 만들기\n",
    "lang1과 lang2 리스트가 있을 때 lang1과 lang2의 원소를 모두 갖고 있는 langs 리스트를 만들어라.\n",
    "```\n",
    ">> lang1 = [\"C\", \"C++\", \"JAVA\"]\n",
    ">> lang2 = [\"Python\", \"Go\", \"C#\"]\n",
    "```\n",
    "```\n",
    "실행 예:\n",
    ">> langs\n",
    "['C', 'C++', 'JAVA', 'Python', 'Go', 'C#']\n",
    "```"
   ]
  },
  {
   "cell_type": "code",
   "execution_count": 57,
   "id": "1d5c1819",
   "metadata": {
    "ExecuteTime": {
     "end_time": "2023-11-25T10:03:19.650233Z",
     "start_time": "2023-11-25T10:03:19.639312Z"
    }
   },
   "outputs": [
    {
     "name": "stdout",
     "output_type": "stream",
     "text": [
      "['C', 'C++', 'JAVA', 'Python', 'Go', 'C#']\n"
     ]
    }
   ],
   "source": [
    "lang1 = [\"C\", \"C++\", \"JAVA\"]\n",
    "lang2 = [\"Python\", \"Go\", \"C#\"]\n",
    "langs = lang1 + lang2\n",
    "print(langs)"
   ]
  },
  {
   "cell_type": "markdown",
   "id": "8a52a9cf",
   "metadata": {},
   "source": [
    "### 057. 최댓값, 최솟값 구하기\n",
    "다음 리스트에서 최댓값과 최솟값을 출력하라. (힌트: min(), max() 함수 사용)\n",
    "```\n",
    "nums = [1, 2, 3, 4, 5, 6, 7]\n",
    "```\n",
    "```\n",
    "실행 예:\n",
    "max:  7\n",
    "min:  1\n",
    "```"
   ]
  },
  {
   "cell_type": "code",
   "execution_count": 59,
   "id": "874fe1bc",
   "metadata": {
    "ExecuteTime": {
     "end_time": "2023-11-25T10:07:47.839486Z",
     "start_time": "2023-11-25T10:07:47.830769Z"
    }
   },
   "outputs": [
    {
     "name": "stdout",
     "output_type": "stream",
     "text": [
      "max:  7\n",
      "min:  1\n"
     ]
    }
   ],
   "source": [
    "nums = [1, 2, 3, 4, 5, 6, 7]\n",
    "print('max: ', max(nums))\n",
    "print('min: ', min(nums))"
   ]
  },
  {
   "cell_type": "markdown",
   "id": "6ad1dd05",
   "metadata": {},
   "source": [
    "### 058. 리스트의 합 구하기\n",
    "다음 리스트의 합을 출력하라.\n",
    "```\n",
    "nums = [1, 2, 3, 4, 5]\n",
    "```\n",
    "```\n",
    "실행 예:\n",
    "15\n",
    "```"
   ]
  },
  {
   "cell_type": "code",
   "execution_count": 60,
   "id": "c4c36f7e",
   "metadata": {
    "ExecuteTime": {
     "end_time": "2023-11-25T10:08:53.252170Z",
     "start_time": "2023-11-25T10:08:53.242062Z"
    }
   },
   "outputs": [
    {
     "name": "stdout",
     "output_type": "stream",
     "text": [
      "15\n"
     ]
    }
   ],
   "source": [
    "nums = [1, 2, 3, 4, 5]\n",
    "print(sum(nums))"
   ]
  },
  {
   "cell_type": "markdown",
   "id": "187b50d9",
   "metadata": {},
   "source": [
    "### 059. 리스트의 개수 구하기\n",
    "다음 리스트에 저장된 데이터의 개수를 화면에 구하하라.\n",
    "```\n",
    "cook = [\"피자\", \"김밥\", \"만두\", \"양념치킨\", \"족발\", \"피자\", \"김치만두\", \"쫄면\", \"소시지\", \"라면\", \"팥빙수\", \"김치전\"]\n",
    "```"
   ]
  },
  {
   "cell_type": "code",
   "execution_count": 62,
   "id": "8647bd1a",
   "metadata": {
    "ExecuteTime": {
     "end_time": "2023-11-25T10:10:16.160899Z",
     "start_time": "2023-11-25T10:10:16.149770Z"
    }
   },
   "outputs": [
    {
     "name": "stdout",
     "output_type": "stream",
     "text": [
      "12\n"
     ]
    }
   ],
   "source": [
    "cook = [\"피자\", \"김밥\", \"만두\", \"양념치킨\", \"족발\", \"피자\", \"김치만두\", \"쫄면\", \"소시지\", \"라면\", \"팥빙수\", \"김치전\"]\n",
    "print(len(cook))"
   ]
  },
  {
   "cell_type": "markdown",
   "id": "fc7bcc77",
   "metadata": {},
   "source": [
    "### 060. 리스트의 평균 구하기\n",
    "다음 리스트의 평균을 출력하라.\n",
    "```\n",
    "nums = [1, 2, 3, 4, 5]\n",
    "```\n",
    "```\n",
    "실행 예:\n",
    "3.0\n",
    "```"
   ]
  },
  {
   "cell_type": "code",
   "execution_count": 64,
   "id": "6182c1e2",
   "metadata": {
    "ExecuteTime": {
     "end_time": "2023-11-25T10:11:33.865489Z",
     "start_time": "2023-11-25T10:11:33.857941Z"
    }
   },
   "outputs": [
    {
     "name": "stdout",
     "output_type": "stream",
     "text": [
      "3.0\n"
     ]
    }
   ],
   "source": [
    "nums = [1, 2, 3, 4, 5]\n",
    "print(sum(nums) / len(nums))"
   ]
  },
  {
   "cell_type": "markdown",
   "id": "0e3bcfe5",
   "metadata": {},
   "source": [
    "### 061. 리스트 슬라이싱\n",
    "price 변수에는 날짜와 종가 정보가 저장돼 있다. 날짜 정보를 제외하고 가격 정보만을 출력하라. (힌트 : 슬라이싱)\n",
    "```\n",
    "price = ['20180728', 100, 130, 140, 150, 160, 170]\n",
    "```\n",
    "```\n",
    "출력 예시:\n",
    "[100, 130, 140, 150, 160, 170]\n",
    "```"
   ]
  },
  {
   "cell_type": "code",
   "execution_count": 66,
   "id": "02eea01b",
   "metadata": {
    "ExecuteTime": {
     "end_time": "2023-11-25T11:43:45.932557Z",
     "start_time": "2023-11-25T11:43:45.921429Z"
    }
   },
   "outputs": [
    {
     "name": "stdout",
     "output_type": "stream",
     "text": [
      "[100, 130, 140, 150, 160, 170]\n"
     ]
    }
   ],
   "source": [
    "price = ['20180728', 100, 130, 140, 150, 160, 170]\n",
    "print(price[1:])"
   ]
  },
  {
   "cell_type": "markdown",
   "id": "5037846b",
   "metadata": {},
   "source": [
    "### 062. 리스트 슬라이싱\n",
    "슬라이싱을 사용해서 홀수만 출력하라.\n",
    "```\n",
    "nums = [1, 2, 3, 4, 5, 6, 7, 8, 9, 10]\n",
    "```\n",
    "```\n",
    "실행 예:\n",
    "[1, 3, 5, 7, 9]\n",
    "```"
   ]
  },
  {
   "cell_type": "code",
   "execution_count": 68,
   "id": "e5927309",
   "metadata": {
    "ExecuteTime": {
     "end_time": "2023-11-25T11:45:50.972522Z",
     "start_time": "2023-11-25T11:45:50.960880Z"
    }
   },
   "outputs": [
    {
     "name": "stdout",
     "output_type": "stream",
     "text": [
      "[1, 3, 5, 7, 9]\n"
     ]
    }
   ],
   "source": [
    "nums = [1, 2, 3, 4, 5, 6, 7, 8, 9, 10]\n",
    "print(nums[::2])"
   ]
  },
  {
   "cell_type": "markdown",
   "id": "333a7326",
   "metadata": {},
   "source": [
    "### 063. 리스트 슬라이싱\n",
    "슬라이싱을 사용해서 짝수만 출력하라.\n",
    "```\n",
    "nums = [1, 2, 3, 4, 5, 6, 7, 8, 9, 10]\n",
    "```\n",
    "```\n",
    "실행 예:\n",
    "[2, 4, 6, 8, 10]\n",
    "```"
   ]
  },
  {
   "cell_type": "code",
   "execution_count": 70,
   "id": "9142f92b",
   "metadata": {
    "ExecuteTime": {
     "end_time": "2023-11-25T11:47:23.070889Z",
     "start_time": "2023-11-25T11:47:23.061680Z"
    }
   },
   "outputs": [
    {
     "name": "stdout",
     "output_type": "stream",
     "text": [
      "[2, 4, 6, 8, 10]\n"
     ]
    }
   ],
   "source": [
    "nums = [1, 2, 3, 4, 5, 6, 7, 8, 9, 10]\n",
    "print(nums[1::2])"
   ]
  },
  {
   "cell_type": "markdown",
   "id": "d941f181",
   "metadata": {},
   "source": [
    "### 064. 리스트 역 방향으로 출력하기\n",
    "슬라이싱을 사용해서 리스트의 숫자를 역 방향으로 출력하라.\n",
    "```\n",
    "nums = [1, 2, 3, 4, 5]\n",
    "```\n",
    "```\n",
    "실행 예:\n",
    "[5, 4, 3, 2, 1]\n",
    "```"
   ]
  },
  {
   "cell_type": "code",
   "execution_count": 73,
   "id": "a6a0b29d",
   "metadata": {
    "ExecuteTime": {
     "end_time": "2023-11-25T11:48:55.540285Z",
     "start_time": "2023-11-25T11:48:55.532213Z"
    }
   },
   "outputs": [
    {
     "name": "stdout",
     "output_type": "stream",
     "text": [
      "[5, 4, 3, 2, 1]\n"
     ]
    }
   ],
   "source": [
    "nums = [1, 2, 3, 4, 5]\n",
    "print(nums[::-1])"
   ]
  },
  {
   "cell_type": "markdown",
   "id": "761bf4fa",
   "metadata": {},
   "source": [
    "### 065. 원하는 값 출력하기\n",
    "interest 리스트에는 아래의 데이터가 바인딩되어 있다.\n",
    "```\n",
    "interest = ['삼성전자', 'LG전자', 'Naver']\n",
    "```\n",
    "interest 리스트를 사용하여 아래와 같이 화면에 출력하라.\n",
    "```\n",
    "출력 예시:\n",
    "삼성전자 Naver\n",
    "```"
   ]
  },
  {
   "cell_type": "code",
   "execution_count": 75,
   "id": "375795fa",
   "metadata": {
    "ExecuteTime": {
     "end_time": "2023-11-25T11:51:09.846529Z",
     "start_time": "2023-11-25T11:51:09.838146Z"
    }
   },
   "outputs": [
    {
     "name": "stdout",
     "output_type": "stream",
     "text": [
      "삼성전자 Naver\n"
     ]
    }
   ],
   "source": [
    "interest = ['삼성전자', 'LG전자', 'Naver']\n",
    "print(interest[0], interest[2])"
   ]
  },
  {
   "cell_type": "markdown",
   "id": "ccbdb7d7",
   "metadata": {},
   "source": [
    "### 066. join 메서드\n",
    "interest 리스트에는 아래의 데이터가 바인딩되어 있다.\n",
    "```\n",
    "interest = ['삼성전자', 'LG전자', 'Naver', 'SK하이닉스', '미래에셋대우']\n",
    "```\n",
    "interest 리스트를 사용하여 아래와 같이 화면에 출력하라.\n",
    "```\n",
    "출력 예시:\n",
    "삼성전자 LG전자 Naver SK하이닉스 미래에셋대우\n",
    "```"
   ]
  },
  {
   "cell_type": "code",
   "execution_count": 76,
   "id": "99fee81b",
   "metadata": {
    "ExecuteTime": {
     "end_time": "2023-11-25T11:53:56.457471Z",
     "start_time": "2023-11-25T11:53:56.444956Z"
    }
   },
   "outputs": [
    {
     "name": "stdout",
     "output_type": "stream",
     "text": [
      "삼성전자 LG전자 Naver SK하이닉스 미래에셋대우\n"
     ]
    }
   ],
   "source": [
    "interest = ['삼성전자', 'LG전자', 'Naver', 'SK하이닉스', '미래에셋대우']\n",
    "print(interest[0], interest[1], interest[2], interest[3], interest[4])"
   ]
  },
  {
   "cell_type": "code",
   "execution_count": 78,
   "id": "08c081d7",
   "metadata": {
    "ExecuteTime": {
     "end_time": "2023-11-25T11:54:36.836323Z",
     "start_time": "2023-11-25T11:54:36.829282Z"
    }
   },
   "outputs": [
    {
     "name": "stdout",
     "output_type": "stream",
     "text": [
      "삼성전자 LG전자 Naver SK하이닉스 미래에셋대우\n"
     ]
    }
   ],
   "source": [
    "# 정답\n",
    "print(\" \".join(interest))"
   ]
  },
  {
   "cell_type": "markdown",
   "id": "f46a75f5",
   "metadata": {},
   "source": [
    "### 067. join 메서드\n",
    "interest 리스트에는 아래의 데이터가 바인딩되어 있다.\n",
    "```\n",
    "interest = ['삼성전자', 'LG전자', 'Naver', 'SK하이닉스', '미래에셋대우']\n",
    "```\n",
    "interest 리스트를 사용하여 아래와 같이 화면에 출력하라.\n",
    "```\n",
    "출력 예시:\n",
    "삼성전자/LG전자/Naver/SK하이닉스/미래에셋대우\n",
    "```"
   ]
  },
  {
   "cell_type": "code",
   "execution_count": 79,
   "id": "42a32b28",
   "metadata": {
    "ExecuteTime": {
     "end_time": "2023-11-25T11:55:28.679724Z",
     "start_time": "2023-11-25T11:55:28.672180Z"
    }
   },
   "outputs": [
    {
     "name": "stdout",
     "output_type": "stream",
     "text": [
      "삼성전자/LG전자/Naver/SK하이닉스/미래에셋대우\n"
     ]
    }
   ],
   "source": [
    "interest = ['삼성전자', 'LG전자', 'Naver', 'SK하이닉스', '미래에셋대우']\n",
    "print(\"/\".join(interest))"
   ]
  },
  {
   "cell_type": "markdown",
   "id": "e42ac246",
   "metadata": {},
   "source": [
    "### 068. join 메서드\n",
    "interest 리스트에는 아래의 데이터가 바인딩되어 있다.\n",
    "```\n",
    "interest = ['삼성전자', 'LG전자', 'Naver', 'SK하이닉스', '미래에셋대우']\n",
    "```\n",
    "join() 메서드를 사용해서 interest 리스트를 아래와 같이 화면에 출력하라.\n",
    "```\n",
    "출력 예시:\n",
    "삼성전자\n",
    "LG전자\n",
    "Naver\n",
    "SK하이닉스\n",
    "미래에셋대우\n",
    "```"
   ]
  },
  {
   "cell_type": "code",
   "execution_count": 80,
   "id": "39dd4e49",
   "metadata": {
    "ExecuteTime": {
     "end_time": "2023-11-25T11:56:36.641802Z",
     "start_time": "2023-11-25T11:56:36.634338Z"
    }
   },
   "outputs": [
    {
     "name": "stdout",
     "output_type": "stream",
     "text": [
      "삼성전자\n",
      "LG전자\n",
      "Naver\n",
      "SK하이닉스\n",
      "미래에셋대우\n"
     ]
    }
   ],
   "source": [
    "interest = ['삼성전자', 'LG전자', 'Naver', 'SK하이닉스', '미래에셋대우']\n",
    "print(\"\\n\".join(interest))"
   ]
  },
  {
   "cell_type": "markdown",
   "id": "06ed9545",
   "metadata": {},
   "source": [
    "### 069. 문자열 split 메서드\n",
    "회사 이름이 슬래시 ('/')로 구분되어 하나의 문자열로 저장되어 있다.\n",
    "```\n",
    "string = \"삼성전자/LG전자/Naver\"\n",
    "```\n",
    "이를 interest 이름의 리스트로 분리 저장하라.\n",
    "```\n",
    "실행 예시\n",
    ">> print(interest)\n",
    "['삼성전자', 'LG전자', 'Naver']\n",
    "```"
   ]
  },
  {
   "cell_type": "code",
   "execution_count": 81,
   "id": "6b7cc497",
   "metadata": {
    "ExecuteTime": {
     "end_time": "2023-11-25T11:57:55.388750Z",
     "start_time": "2023-11-25T11:57:55.377755Z"
    }
   },
   "outputs": [
    {
     "name": "stdout",
     "output_type": "stream",
     "text": [
      "['삼성전자', 'LG전자', 'Naver']\n"
     ]
    }
   ],
   "source": [
    "string = \"삼성전자/LG전자/Naver\"\n",
    "interest = string.split(\"/\")\n",
    "print(interest)"
   ]
  },
  {
   "cell_type": "markdown",
   "id": "2f4a2325",
   "metadata": {},
   "source": [
    "### 070. 리스트 정렬\n",
    "리스트에 있는 값을 오름차순으로 정렬하세요.\n",
    "```\n",
    "data = [2, 4, 3, 1, 5, 10, 9]\n",
    "```"
   ]
  },
  {
   "cell_type": "code",
   "execution_count": 86,
   "id": "20e3047c",
   "metadata": {
    "ExecuteTime": {
     "end_time": "2023-11-25T11:59:39.882912Z",
     "start_time": "2023-11-25T11:59:39.874154Z"
    }
   },
   "outputs": [
    {
     "name": "stdout",
     "output_type": "stream",
     "text": [
      "[1, 2, 3, 4, 5, 9, 10]\n"
     ]
    }
   ],
   "source": [
    "data = [2, 4, 3, 1, 5, 10, 9]\n",
    "data.sort()\n",
    "print(data)"
   ]
  },
  {
   "cell_type": "code",
   "execution_count": 87,
   "id": "79d4b3e1",
   "metadata": {
    "ExecuteTime": {
     "end_time": "2023-11-25T12:00:10.066541Z",
     "start_time": "2023-11-25T12:00:10.058640Z"
    }
   },
   "outputs": [
    {
     "name": "stdout",
     "output_type": "stream",
     "text": [
      "[1, 2, 3, 4, 5, 9, 10]\n"
     ]
    }
   ],
   "source": [
    "# 추가 답안\n",
    "data = [2, 4, 3, 1, 5, 10, 9]\n",
    "data2 = sorted(data)\n",
    "print(data2)"
   ]
  },
  {
   "cell_type": "markdown",
   "id": "7500f6d9",
   "metadata": {
    "ExecuteTime": {
     "end_time": "2023-11-25T12:00:34.525581Z",
     "start_time": "2023-11-25T12:00:34.519618Z"
    }
   },
   "source": [
    "## 파이썬 튜플"
   ]
  },
  {
   "cell_type": "markdown",
   "id": "42249e46",
   "metadata": {},
   "source": [
    "### 071. 튜플 만들기\n",
    "my_variable 이름의 비어있는 튜플을 만들라."
   ]
  },
  {
   "cell_type": "code",
   "execution_count": 90,
   "id": "77491dd8",
   "metadata": {
    "ExecuteTime": {
     "end_time": "2023-11-25T12:01:29.020114Z",
     "start_time": "2023-11-25T12:01:29.012539Z"
    }
   },
   "outputs": [
    {
     "name": "stdout",
     "output_type": "stream",
     "text": [
      "() <class 'tuple'>\n"
     ]
    }
   ],
   "source": [
    "my_variable = ()\n",
    "print(my_variable, type(my_variable))"
   ]
  },
  {
   "cell_type": "markdown",
   "id": "3e1d88de",
   "metadata": {},
   "source": [
    "### 072. 튜플 만들기\n",
    "2016년 11월 영화 예매 순위 기준 top3는 다음과 같다. 영화 제목을 movie_rank 이름의 튜플에 저장하라. (순위 정보는 저장하지 않는다.)\n",
    "\n",
    "|순위|영화|\n",
    "|---|---|\n",
    "|1|닥터 스트레인지|\n",
    "|2|스플릿|\n",
    "|3|럭키|"
   ]
  },
  {
   "cell_type": "code",
   "execution_count": 92,
   "id": "ba161791",
   "metadata": {
    "ExecuteTime": {
     "end_time": "2023-11-25T12:03:34.294315Z",
     "start_time": "2023-11-25T12:03:34.287061Z"
    }
   },
   "outputs": [
    {
     "name": "stdout",
     "output_type": "stream",
     "text": [
      "('닥터 스트레인지', '스플릿', '럭키')\n"
     ]
    }
   ],
   "source": [
    "movie_rank = (\"닥터 스트레인지\", \"스플릿\", \"럭키\")\n",
    "print(movie_rank)"
   ]
  },
  {
   "cell_type": "markdown",
   "id": "f13ceaf2",
   "metadata": {},
   "source": [
    "### 073. 튜플 만들기\n",
    "숫자 1 이 저장된 튜플을 생성하라."
   ]
  },
  {
   "cell_type": "code",
   "execution_count": 94,
   "id": "c6cafb19",
   "metadata": {
    "ExecuteTime": {
     "end_time": "2023-11-25T12:04:37.723157Z",
     "start_time": "2023-11-25T12:04:37.714540Z"
    }
   },
   "outputs": [
    {
     "name": "stdout",
     "output_type": "stream",
     "text": [
      "(1,) <class 'tuple'>\n"
     ]
    }
   ],
   "source": [
    "a = (1, )\n",
    "print(a, type(a))"
   ]
  },
  {
   "cell_type": "markdown",
   "id": "df774885",
   "metadata": {},
   "source": [
    "### 074. immutable\n",
    "다음 코드를 실행해보고 오류가 발생하는 원인을 설명하라.\n",
    "```\n",
    ">> t = (1, 2, 3)\n",
    ">> t[0] = 'a'\n",
    "Traceback (most recent call last):\n",
    "  File \"<pyshell#46>\", line 1, in <module>\n",
    "    t[0] = 'a'\n",
    "TypeError: 'tuple' object does not support item assignment\n",
    "```"
   ]
  },
  {
   "cell_type": "code",
   "execution_count": 97,
   "id": "4dede04e",
   "metadata": {
    "ExecuteTime": {
     "end_time": "2023-11-25T12:06:23.674644Z",
     "start_time": "2023-11-25T12:06:23.630784Z"
    }
   },
   "outputs": [
    {
     "ename": "TypeError",
     "evalue": "'tuple' object does not support item assignment",
     "output_type": "error",
     "traceback": [
      "\u001b[1;31m---------------------------------------------------------------------------\u001b[0m",
      "\u001b[1;31mTypeError\u001b[0m                                 Traceback (most recent call last)",
      "Cell \u001b[1;32mIn[97], line 2\u001b[0m\n\u001b[0;32m      1\u001b[0m t \u001b[38;5;241m=\u001b[39m (\u001b[38;5;241m1\u001b[39m, \u001b[38;5;241m2\u001b[39m, \u001b[38;5;241m3\u001b[39m)\n\u001b[1;32m----> 2\u001b[0m t[\u001b[38;5;241m0\u001b[39m] \u001b[38;5;241m=\u001b[39m \u001b[38;5;124m'\u001b[39m\u001b[38;5;124ma\u001b[39m\u001b[38;5;124m'\u001b[39m\n",
      "\u001b[1;31mTypeError\u001b[0m: 'tuple' object does not support item assignment"
     ]
    }
   ],
   "source": [
    "t = (1, 2, 3)\n",
    "t[0] = 'a'\n",
    "\n",
    "# 튜플은 원소 값을 변경할 수 없기 때문에 오류가 발생함"
   ]
  },
  {
   "cell_type": "markdown",
   "id": "9df81db1",
   "metadata": {},
   "source": [
    "### 075. 데이터 타입 확인하기\n",
    "아래와 같이 t에는 1, 2, 3, 4 데이터가 바인딩되어 있다. t가 바인딩하는 데이터 타입은 무엇인가?\n",
    "```\n",
    "t = 1, 2, 3, 4\n",
    "```"
   ]
  },
  {
   "cell_type": "code",
   "execution_count": 99,
   "id": "fc67fb7e",
   "metadata": {
    "ExecuteTime": {
     "end_time": "2023-11-25T12:07:39.905562Z",
     "start_time": "2023-11-25T12:07:39.896975Z"
    }
   },
   "outputs": [
    {
     "name": "stdout",
     "output_type": "stream",
     "text": [
      "<class 'tuple'>\n"
     ]
    }
   ],
   "source": [
    "t = 1, 2, 3, 4\n",
    "print(type(t))\n",
    "\n",
    "# 튜플은 괄호가 없어도 동작함"
   ]
  },
  {
   "cell_type": "markdown",
   "id": "4f8d1d94",
   "metadata": {},
   "source": [
    "### 076. 튜플 원소 값 수정하기\n",
    "변수 t에는 아래와 같은 값이 저장되어 있다. 변수 t가 ('A', 'b', 'c') 튜플을 가리키도록 수정 하라.\n",
    "```\n",
    "t = ('a', 'b', 'c')\n",
    "```"
   ]
  },
  {
   "cell_type": "code",
   "execution_count": 100,
   "id": "9ee35782",
   "metadata": {
    "ExecuteTime": {
     "end_time": "2023-11-25T12:10:03.097223Z",
     "start_time": "2023-11-25T12:10:03.086337Z"
    }
   },
   "outputs": [
    {
     "name": "stdout",
     "output_type": "stream",
     "text": [
      "('A', 'b', 'c')\n"
     ]
    }
   ],
   "source": [
    "t = ('a', 'b', 'c')\n",
    "t = ('A', 'b', 'c')\n",
    "print(t)"
   ]
  },
  {
   "cell_type": "markdown",
   "id": "79d96c19",
   "metadata": {},
   "source": [
    "### 077. 튜플을 리스트로 변환하기\n",
    "다음 튜플을 리스트로 변환하라.\n",
    "```\n",
    "interest = ('삼성전자', 'LG전자', 'SK Hynix')\n",
    "```"
   ]
  },
  {
   "cell_type": "code",
   "execution_count": 103,
   "id": "e1583453",
   "metadata": {
    "ExecuteTime": {
     "end_time": "2023-11-25T12:12:51.858864Z",
     "start_time": "2023-11-25T12:12:51.849502Z"
    }
   },
   "outputs": [
    {
     "name": "stdout",
     "output_type": "stream",
     "text": [
      "['삼성전자', 'LG전자', 'SK Hynix'] <class 'list'>\n"
     ]
    }
   ],
   "source": [
    "interest = ('삼성전자', 'LG전자', 'SK Hynix')\n",
    "data = list(interest)\n",
    "print(data, type(data))"
   ]
  },
  {
   "cell_type": "markdown",
   "id": "f2b8554e",
   "metadata": {},
   "source": [
    "### 078. 리스트를 튜플로 변환하기\n",
    "다음 리스트를 튜플로 변경하라.\n",
    "```\n",
    "interest = ['삼성전자', 'LG전자', 'SK Hynix']\n",
    "```"
   ]
  },
  {
   "cell_type": "code",
   "execution_count": 104,
   "id": "0a5bd377",
   "metadata": {
    "ExecuteTime": {
     "end_time": "2023-11-25T12:13:31.614858Z",
     "start_time": "2023-11-25T12:13:31.604643Z"
    }
   },
   "outputs": [
    {
     "name": "stdout",
     "output_type": "stream",
     "text": [
      "('삼성전자', 'LG전자', 'SK Hynix') <class 'tuple'>\n"
     ]
    }
   ],
   "source": [
    "interest = ['삼성전자', 'LG전자', 'SK Hynix']\n",
    "data = tuple(interest)\n",
    "print(data, type(data))"
   ]
  },
  {
   "cell_type": "markdown",
   "id": "2001bed4",
   "metadata": {},
   "source": [
    "### 079. 튜플 언팩킹\n",
    "다음 코드의 실행 결과를 예상하라.\n",
    "```\n",
    "temp = ('apple', 'banana', 'cake')\n",
    "a, b, c = temp\n",
    "print(a, b, c)\n",
    "```"
   ]
  },
  {
   "cell_type": "code",
   "execution_count": 107,
   "id": "7d71deb8",
   "metadata": {
    "ExecuteTime": {
     "end_time": "2023-11-25T12:15:13.639486Z",
     "start_time": "2023-11-25T12:15:13.631257Z"
    }
   },
   "outputs": [
    {
     "name": "stdout",
     "output_type": "stream",
     "text": [
      "apple banana cake\n"
     ]
    }
   ],
   "source": [
    "# 모르겠어서 답 봄\n",
    "\n",
    "temp = ('apple', 'banana', 'cake')\n",
    "a, b, c = temp\n",
    "print(a, b, c)\n",
    "\n",
    "# apple, banana, cake"
   ]
  },
  {
   "cell_type": "markdown",
   "id": "2bfd4bed",
   "metadata": {},
   "source": [
    "### 080. range 함수\n",
    "1 부터 99까지의 정수 중 짝수만 저장된 튜플을 생성하라.\n",
    "```\n",
    "(2, 4, 6, 8 ... 98)\n",
    "```"
   ]
  },
  {
   "cell_type": "code",
   "execution_count": 108,
   "id": "2742da59",
   "metadata": {
    "ExecuteTime": {
     "end_time": "2023-11-25T12:17:59.646355Z",
     "start_time": "2023-11-25T12:17:59.636634Z"
    }
   },
   "outputs": [
    {
     "name": "stdout",
     "output_type": "stream",
     "text": [
      "(2, 4, 6, 8, 10, 12, 14, 16, 18, 20, 22, 24, 26, 28, 30, 32, 34, 36, 38, 40, 42, 44, 46, 48, 50, 52, 54, 56, 58, 60, 62, 64, 66, 68, 70, 72, 74, 76, 78, 80, 82, 84, 86, 88, 90, 92, 94, 96, 98) <class 'tuple'>\n"
     ]
    }
   ],
   "source": [
    "# range(값)\n",
    "# range(시작 값, 끝 값 + 1)\n",
    "# range(시작 값, 끝 값 + 1, 간격)\n",
    "\n",
    "a = tuple(range(2,100,2))\n",
    "print(a, type(a))"
   ]
  },
  {
   "cell_type": "markdown",
   "id": "8ec9eb11",
   "metadata": {},
   "source": [
    "## 파이썬 딕셔너리"
   ]
  },
  {
   "cell_type": "markdown",
   "id": "c6afc5e3",
   "metadata": {},
   "source": [
    "### 081. 별 표현식\n",
    "기본적으로 데이터 언패킹은 좌변의 변수와 우변 데이터 개수가 같아야 합니다. 하지만 star expression을 사용하면 변수의 개수가 달라도 데이터 언패킹을 할 수 있습니다. 튜플에 저장된 데이터 중에서 앞에 있는 두 개의 데이터만 필요할 경우 나머지 데이터의 언패킹 코드를 작성할 필요가 없습니다.\n",
    "```\n",
    ">> a, b, *c = (0, 1, 2, 3, 4, 5)\n",
    ">> a\n",
    "0\n",
    ">> b\n",
    "1\n",
    ">> c\n",
    "[2, 3, 4, 5]\n",
    "```\n",
    "다음과 같이 10개의 값이 저장된 scores 리스트가 있을 때, star expression을 사용하여 좌측 8개의 값을 valid_score 변수에 바인딩하여라.\n",
    "```\n",
    "scores = [8.8, 8.9, 8.7, 9.2, 9.3, 9.7, 9.9, 9.5, 7.8, 9.4]\n",
    "```"
   ]
  },
  {
   "cell_type": "code",
   "execution_count": 7,
   "id": "c9797ebc",
   "metadata": {
    "ExecuteTime": {
     "end_time": "2023-11-27T12:41:13.553757Z",
     "start_time": "2023-11-27T12:41:13.547093Z"
    }
   },
   "outputs": [
    {
     "name": "stdout",
     "output_type": "stream",
     "text": [
      "[8.8, 8.9, 8.7, 9.2, 9.3, 9.7, 9.9, 9.5]\n"
     ]
    }
   ],
   "source": [
    "scores = [8.8, 8.9, 8.7, 9.2, 9.3, 9.7, 9.9, 9.5, 7.8, 9.4]\n",
    "*valid_score, b, c = scores\n",
    "print(valid_score)"
   ]
  },
  {
   "cell_type": "markdown",
   "id": "f785e43f",
   "metadata": {},
   "source": [
    "### 082. 별 표현식\n",
    "다음과 같이 10개의 값이 저장된 scores 리스트가 있을 때, star expression을 사용하여 우측 8개의 값을 valid_score 변수에 바인딩하여라.\n",
    "```\n",
    "scores = [8.8, 8.9, 8.7, 9.2, 9.3, 9.7, 9.9, 9.5, 7.8, 9.4]\n",
    "```"
   ]
  },
  {
   "cell_type": "code",
   "execution_count": 10,
   "id": "ed30fb4f",
   "metadata": {
    "ExecuteTime": {
     "end_time": "2023-11-27T12:47:59.264728Z",
     "start_time": "2023-11-27T12:47:59.257831Z"
    }
   },
   "outputs": [
    {
     "name": "stdout",
     "output_type": "stream",
     "text": [
      "[8.7, 9.2, 9.3, 9.7, 9.9, 9.5, 7.8, 9.4]\n"
     ]
    }
   ],
   "source": [
    "scores = [8.8, 8.9, 8.7, 9.2, 9.3, 9.7, 9.9, 9.5, 7.8, 9.4]\n",
    "a, b, *valid_score = scores\n",
    "print(valid_score)"
   ]
  },
  {
   "cell_type": "markdown",
   "id": "4c8fe4dd",
   "metadata": {},
   "source": [
    "### 083. 별 표현식\n",
    "다음과 같이 10개의 값이 저장된 scores 리스트가 있을 때, start expression을 사용하여 가운데 있는 8개의 값을 valid_score 변수에 바인딩하여라.\n",
    "```\n",
    "scores = [8.8, 8.9, 8.7, 9.2, 9.3, 9.7, 9.9, 9.5, 7.8, 9.4]\n",
    "```"
   ]
  },
  {
   "cell_type": "code",
   "execution_count": 11,
   "id": "f45919f7",
   "metadata": {
    "ExecuteTime": {
     "end_time": "2023-11-27T12:48:14.926159Z",
     "start_time": "2023-11-27T12:48:14.918055Z"
    }
   },
   "outputs": [
    {
     "name": "stdout",
     "output_type": "stream",
     "text": [
      "[8.9, 8.7, 9.2, 9.3, 9.7, 9.9, 9.5, 7.8]\n"
     ]
    }
   ],
   "source": [
    "scores = [8.8, 8.9, 8.7, 9.2, 9.3, 9.7, 9.9, 9.5, 7.8, 9.4]\n",
    "a, *valid_score, b = scores\n",
    "print(valid_score)"
   ]
  },
  {
   "cell_type": "markdown",
   "id": "b0a2ff7b",
   "metadata": {},
   "source": [
    "### 084. 비어있는 딕셔너리\n",
    "temp 이름의 비어있는 딕셔너리를 만들라."
   ]
  },
  {
   "cell_type": "code",
   "execution_count": 13,
   "id": "e19dce1b",
   "metadata": {
    "ExecuteTime": {
     "end_time": "2023-11-27T12:50:29.122958Z",
     "start_time": "2023-11-27T12:50:29.115420Z"
    }
   },
   "outputs": [
    {
     "name": "stdout",
     "output_type": "stream",
     "text": [
      "{} <class 'dict'>\n"
     ]
    }
   ],
   "source": [
    "temp = {}\n",
    "print(temp, type(temp))"
   ]
  },
  {
   "cell_type": "markdown",
   "id": "8286f06d",
   "metadata": {},
   "source": [
    "### 085. 딕셔너리 활용\n",
    "다음 아이스크림 이름과 희망 가격을 딕셔너리로 구성하라.\n",
    "\n",
    "|이름|희망 가격|\n",
    "|---|---|\n",
    "|메로나|1000|\n",
    "|폴라포|1200|\n",
    "|빵빠레|1800|"
   ]
  },
  {
   "cell_type": "code",
   "execution_count": 17,
   "id": "057fafd3",
   "metadata": {
    "ExecuteTime": {
     "end_time": "2023-11-27T12:56:15.045829Z",
     "start_time": "2023-11-27T12:56:15.037154Z"
    }
   },
   "outputs": [
    {
     "name": "stdout",
     "output_type": "stream",
     "text": [
      "{'메로나': 1000, '폴라포': 1200, '빵빠레': 1800} <class 'dict'>\n"
     ]
    }
   ],
   "source": [
    "icecream = {\"메로나\": 1000, \"폴라포\": 1200, \"빵빠레\": 1800}\n",
    "print(icecream, type(icecream))"
   ]
  },
  {
   "cell_type": "markdown",
   "id": "f1c73ef5",
   "metadata": {},
   "source": [
    "### 086. 딕셔너리에 값 추가하기\n",
    "085 번의 딕셔너리에 아래 아이스크림 가격정보를 추가하라.\n",
    "\n",
    "|이름|희망 가격|\n",
    "|---|---|\n",
    "|죠스바|1200|\n",
    "|월드콘|1500|"
   ]
  },
  {
   "cell_type": "code",
   "execution_count": 20,
   "id": "a45b9562",
   "metadata": {
    "ExecuteTime": {
     "end_time": "2023-11-27T13:01:53.966906Z",
     "start_time": "2023-11-27T13:01:53.959121Z"
    }
   },
   "outputs": [
    {
     "name": "stdout",
     "output_type": "stream",
     "text": [
      "{'메로나': 1000, '폴라포': 1200, '빵빠레': 1800, '죠스바': 1200, '월드콘': 1500} <class 'dict'>\n"
     ]
    }
   ],
   "source": [
    "icecream[\"죠스바\"] = 1200\n",
    "icecream[\"월드콘\"] = 1500\n",
    "print(icecream, type(icecream))"
   ]
  },
  {
   "cell_type": "markdown",
   "id": "f13caeea",
   "metadata": {},
   "source": [
    "### 087. 딕셔너리 값 추출하기\n",
    "다음 딕셔너리를 사용하여 메로나 가격을 출력하라.\n",
    "```\n",
    "ice = {'메로나': 1000,\n",
    "       '폴로포': 1200,\n",
    "       '빵빠레': 1800,\n",
    "       '죠스바': 1200,\n",
    "       '월드콘': 1500}\n",
    "```\n",
    "```\n",
    "실행 예:\n",
    "메로나 가격: 1000\n",
    "```"
   ]
  },
  {
   "cell_type": "code",
   "execution_count": 27,
   "id": "ad15b3ad",
   "metadata": {
    "ExecuteTime": {
     "end_time": "2023-11-27T13:08:02.183180Z",
     "start_time": "2023-11-27T13:08:02.175089Z"
    }
   },
   "outputs": [
    {
     "name": "stdout",
     "output_type": "stream",
     "text": [
      "메로나 가격:  1000\n"
     ]
    }
   ],
   "source": [
    "ice = {'메로나': 1000,\n",
    "       '폴로포': 1200,\n",
    "       '빵빠레': 1800,\n",
    "       '죠스바': 1200,\n",
    "       '월드콘': 1500}\n",
    "print(\"메로나 가격: \", ice['메로나'])"
   ]
  },
  {
   "cell_type": "markdown",
   "id": "bdfa59c4",
   "metadata": {},
   "source": [
    "### 088. 딕셔너리 값 수정하기\n",
    "다음 딕셔너리에서 메로나의 가격을 1300으로 수정하라.\n",
    "```\n",
    "ice = {'메로나': 1000,\n",
    "       '폴로포': 1200,\n",
    "       '빵빠레': 1800,\n",
    "       '죠스바': 1200,\n",
    "       '월드콘': 1500}\n",
    "```"
   ]
  },
  {
   "cell_type": "code",
   "execution_count": 30,
   "id": "f145b8f9",
   "metadata": {
    "ExecuteTime": {
     "end_time": "2023-11-27T13:10:16.503129Z",
     "start_time": "2023-11-27T13:10:16.495052Z"
    }
   },
   "outputs": [
    {
     "name": "stdout",
     "output_type": "stream",
     "text": [
      "{'메로나': 1300, '폴로포': 1200, '빵빠레': 1800, '죠스바': 1200, '월드콘': 1500}\n"
     ]
    }
   ],
   "source": [
    "ice = {'메로나': 1000,\n",
    "       '폴로포': 1200,\n",
    "       '빵빠레': 1800,\n",
    "       '죠스바': 1200,\n",
    "       '월드콘': 1500}\n",
    "ice['메로나'] = 1300\n",
    "print(ice)"
   ]
  },
  {
   "cell_type": "markdown",
   "id": "087a5acd",
   "metadata": {},
   "source": [
    "### 089. 딕셔너리 값 삭제하기\n",
    "다음 딕셔너리에서 메로나를 삭제하라.\n",
    "```\n",
    "ice = {'메로나': 1000,\n",
    "       '폴로포': 1200,\n",
    "       '빵빠레': 1800,\n",
    "       '죠스바': 1200,\n",
    "       '월드콘': 1500}\n",
    "```"
   ]
  },
  {
   "cell_type": "code",
   "execution_count": 31,
   "id": "7b23b475",
   "metadata": {
    "ExecuteTime": {
     "end_time": "2023-11-27T13:10:45.092363Z",
     "start_time": "2023-11-27T13:10:45.084174Z"
    }
   },
   "outputs": [
    {
     "name": "stdout",
     "output_type": "stream",
     "text": [
      "{'폴로포': 1200, '빵빠레': 1800, '죠스바': 1200, '월드콘': 1500}\n"
     ]
    }
   ],
   "source": [
    "ice = {'메로나': 1000,\n",
    "       '폴로포': 1200,\n",
    "       '빵빠레': 1800,\n",
    "       '죠스바': 1200,\n",
    "       '월드콘': 1500}\n",
    "del ice['메로나']\n",
    "print(ice)"
   ]
  },
  {
   "cell_type": "markdown",
   "id": "6324e067",
   "metadata": {},
   "source": [
    "### 090\n",
    "다음 코드에서 에러가 발생한 원인을 설명하라.\n",
    "```\n",
    ">> icecream = {'폴라포': 1200, '빵빠레': 1800, '월드콘': 1500, '메로나': 1000}\n",
    ">> icecream['누가바']\n",
    "Traceback (most recent call last):\n",
    "  File \"<pyshell#69>\", line 1, in <module>\n",
    "    icecream['누가바']\n",
    "KeyError: '누가바'\n",
    "```"
   ]
  },
  {
   "cell_type": "markdown",
   "id": "16f6a28d",
   "metadata": {},
   "source": [
    "icecream 이라는 딕셔너리에 '누가바'라는 key가 존재하지 않기 때문에 에러가 발생함"
   ]
  },
  {
   "cell_type": "markdown",
   "id": "10608dc3",
   "metadata": {},
   "source": [
    "### 091. 딕셔너리 생성\n",
    "아래의 표에서, 아이스크림 이름을 키값으로, (가격, 재고) 리스트를 딕셔너리의 값으로 저장하라. 딕셔너리의 이름은 inventory로 한다.\n",
    "\n",
    "|이름|가격|재고|\n",
    "|---|---|---|\n",
    "|메로나|300|20|\n",
    "|비비빅|400|3|\n",
    "|죠스바|250|100|"
   ]
  },
  {
   "cell_type": "code",
   "execution_count": 32,
   "id": "7a47c939",
   "metadata": {
    "ExecuteTime": {
     "end_time": "2023-11-27T13:15:14.783624Z",
     "start_time": "2023-11-27T13:15:14.774939Z"
    }
   },
   "outputs": [
    {
     "name": "stdout",
     "output_type": "stream",
     "text": [
      "{'메로나': [300, 20], '비비빅': [400, 3], '죠스바': [250, 100]} <class 'dict'>\n"
     ]
    }
   ],
   "source": [
    "inventory = {'메로나': [300, 20], '비비빅': [400, 3], '죠스바': [250, 100]}\n",
    "print(inventory, type(inventory))"
   ]
  },
  {
   "cell_type": "markdown",
   "id": "65ab8a8f",
   "metadata": {},
   "source": [
    "### 092. 딕셔너리 인덱싱\n",
    "inventory 딕셔너리에서 메로나의 가격을 화면에 출력하라.\n",
    "```\n",
    "inventory = {\"메로나\": [300, 20],\n",
    "              \"비비빅\": [400, 3],\n",
    "              \"죠스바\": [250, 100]}\n",
    "```\n",
    "```\n",
    "실행 예시:\n",
    "300 원\n",
    "```"
   ]
  },
  {
   "cell_type": "code",
   "execution_count": 33,
   "id": "6577e160",
   "metadata": {
    "ExecuteTime": {
     "end_time": "2023-11-27T13:16:32.903576Z",
     "start_time": "2023-11-27T13:16:32.895068Z"
    }
   },
   "outputs": [
    {
     "name": "stdout",
     "output_type": "stream",
     "text": [
      "300 원\n"
     ]
    }
   ],
   "source": [
    "inventory = {\"메로나\": [300, 20],\n",
    "              \"비비빅\": [400, 3],\n",
    "              \"죠스바\": [250, 100]}\n",
    "print(inventory['메로나'][0], \"원\")"
   ]
  },
  {
   "cell_type": "markdown",
   "id": "da5a9d73",
   "metadata": {},
   "source": [
    "### 093. 딕셔너리 인덱싱\n",
    "inventory 딕셔너리에서 메로나의 재고를 화면에 출력하라.\n",
    "```\n",
    "inventory = {\"메로나\": [300, 20],\n",
    "              \"비비빅\": [400, 3],\n",
    "              \"죠스바\": [250, 100]}\n",
    "```\n",
    "```\n",
    "실행 예시:\n",
    "20 개\n",
    "```"
   ]
  },
  {
   "cell_type": "code",
   "execution_count": 35,
   "id": "4d22175a",
   "metadata": {
    "ExecuteTime": {
     "end_time": "2023-11-27T13:17:19.365735Z",
     "start_time": "2023-11-27T13:17:19.357494Z"
    }
   },
   "outputs": [
    {
     "name": "stdout",
     "output_type": "stream",
     "text": [
      "20 개\n"
     ]
    }
   ],
   "source": [
    "inventory = {\"메로나\": [300, 20],\n",
    "              \"비비빅\": [400, 3],\n",
    "              \"죠스바\": [250, 100]}\n",
    "print(inventory['메로나'][1], \"개\")"
   ]
  },
  {
   "cell_type": "markdown",
   "id": "1e804e00",
   "metadata": {},
   "source": [
    "### 094. 딕셔너리 추가\n",
    "inventory 딕셔너리에 아래 데이터를 추가하라.\n",
    "```\n",
    "inventory = {\"메로나\": [300, 20],\n",
    "              \"비비빅\": [400, 3],\n",
    "              \"죠스바\": [250, 100]}\n",
    "```\n",
    "|이름|가격|재고|\n",
    "|---|---|---|\n",
    "|월드콘|500|7|"
   ]
  },
  {
   "cell_type": "code",
   "execution_count": 36,
   "id": "d404509d",
   "metadata": {
    "ExecuteTime": {
     "end_time": "2023-11-27T13:18:55.007825Z",
     "start_time": "2023-11-27T13:18:55.001583Z"
    }
   },
   "outputs": [
    {
     "name": "stdout",
     "output_type": "stream",
     "text": [
      "{'메로나': [300, 20], '비비빅': [400, 3], '죠스바': [250, 100], '월드콘': [500, 7]} <class 'dict'>\n"
     ]
    }
   ],
   "source": [
    "inventory = {\"메로나\": [300, 20],\n",
    "              \"비비빅\": [400, 3],\n",
    "              \"죠스바\": [250, 100]}\n",
    "inventory['월드콘'] = [500, 7]\n",
    "print(inventory, type(inventory))"
   ]
  },
  {
   "cell_type": "markdown",
   "id": "d378d684",
   "metadata": {},
   "source": [
    "### 095. 딕셔너리 keys() 메서드\n",
    "다음의 딕셔너리로부터 key 값으로만 구성된 리스트를 생성하라.\n",
    "```\n",
    "icecream = {'탱크보이': 1200, '폴라포': 1200, '빵빠레': 1800, '월드콘': 1500, '메로나': 1000}\n",
    "```"
   ]
  },
  {
   "cell_type": "code",
   "execution_count": 41,
   "id": "67a6e32a",
   "metadata": {
    "ExecuteTime": {
     "end_time": "2023-11-27T13:20:58.397413Z",
     "start_time": "2023-11-27T13:20:58.388825Z"
    }
   },
   "outputs": [
    {
     "name": "stdout",
     "output_type": "stream",
     "text": [
      "['탱크보이', '폴라포', '빵빠레', '월드콘', '메로나'] <class 'list'>\n"
     ]
    }
   ],
   "source": [
    "icecream = {'탱크보이': 1200, '폴라포': 1200, '빵빠레': 1800, '월드콘': 1500, '메로나': 1000}\n",
    "keys = icecream.keys()\n",
    "print(list(keys), type(list(keys)))"
   ]
  },
  {
   "cell_type": "markdown",
   "id": "b8ca93df",
   "metadata": {},
   "source": [
    "### 096. 딕셔너리 values() 메서드\n",
    "다음의 딕셔너리에서 values 값으로만 구성된 리스트를 생성하라.\n",
    "```\n",
    "icecream = {'탱크보이': 1200, '폴라포': 1200, '빵빠레': 1800, '월드콘': 1500, '메로나': 1000}\n",
    "```"
   ]
  },
  {
   "cell_type": "code",
   "execution_count": 42,
   "id": "09c825f4",
   "metadata": {
    "ExecuteTime": {
     "end_time": "2023-11-27T13:21:53.752848Z",
     "start_time": "2023-11-27T13:21:53.743035Z"
    }
   },
   "outputs": [
    {
     "name": "stdout",
     "output_type": "stream",
     "text": [
      "[1200, 1200, 1800, 1500, 1000] <class 'list'>\n"
     ]
    }
   ],
   "source": [
    "icecream = {'탱크보이': 1200, '폴라포': 1200, '빵빠레': 1800, '월드콘': 1500, '메로나': 1000}\n",
    "values = icecream.values()\n",
    "print(list(values), type(list(values)))"
   ]
  },
  {
   "cell_type": "markdown",
   "id": "7ed4285d",
   "metadata": {},
   "source": [
    "### 097. 딕셔너리 values() 메서드\n",
    "icecream 딕셔너리에서 아이스크림 판매 금액의 총합을 출력하라.\n",
    "```\n",
    "icecream = {'탱크보이': 1200, '폴라포': 1200, '빵빠레': 1800, '월드콘': 1500, '메로나': 1000}\n",
    "```\n",
    "```\n",
    "출력 예시:\n",
    "6700\n",
    "```"
   ]
  },
  {
   "cell_type": "code",
   "execution_count": 44,
   "id": "0ece0e01",
   "metadata": {
    "ExecuteTime": {
     "end_time": "2023-11-27T13:23:21.296917Z",
     "start_time": "2023-11-27T13:23:21.291093Z"
    }
   },
   "outputs": [
    {
     "name": "stdout",
     "output_type": "stream",
     "text": [
      "6700\n"
     ]
    }
   ],
   "source": [
    "icecream = {'탱크보이': 1200, '폴라포': 1200, '빵빠레': 1800, '월드콘': 1500, '메로나': 1000}\n",
    "price = list(icecream.values())\n",
    "print(sum(price))"
   ]
  },
  {
   "cell_type": "markdown",
   "id": "27522eda",
   "metadata": {},
   "source": [
    "### 098. 딕셔너리 update 메서드\n",
    "아래의 new_product 딕셔너리를 다음 icecream 딕셔너리에 추가하라.\n",
    "```\n",
    "icecream = {'탱크보이': 1200, '폴라포': 1200, '빵빠레': 1800, '월드콘': 1500, '메로나': 1000}\n",
    "new_product = {'팥빙수':2700, '아맛나':1000}\n",
    "```\n",
    "```\n",
    "실행 예시:\n",
    ">> print(icecream)\n",
    "{'탱크보이': 1200,  '폴라포': 1200,  '빵빠레': 1800,  '월드콘': 1500,  '메로나': 1000,  '팥빙수':2700, '아맛나':1000}\n",
    "```"
   ]
  },
  {
   "cell_type": "code",
   "execution_count": 45,
   "id": "f6c72fbf",
   "metadata": {
    "ExecuteTime": {
     "end_time": "2023-11-27T13:24:39.574933Z",
     "start_time": "2023-11-27T13:24:39.566085Z"
    }
   },
   "outputs": [
    {
     "name": "stdout",
     "output_type": "stream",
     "text": [
      "{'탱크보이': 1200, '폴라포': 1200, '빵빠레': 1800, '월드콘': 1500, '메로나': 1000, '팥빙수': 2700, '아맛나': 1000}\n"
     ]
    }
   ],
   "source": [
    "icecream = {'탱크보이': 1200, '폴라포': 1200, '빵빠레': 1800, '월드콘': 1500, '메로나': 1000}\n",
    "new_product = {'팥빙수':2700, '아맛나':1000}\n",
    "icecream.update(new_product)\n",
    "print(icecream)"
   ]
  },
  {
   "cell_type": "markdown",
   "id": "628fd2ec",
   "metadata": {},
   "source": [
    "### 099. zip과 dict\n",
    "아래 두 개의 튜플을 하나의 딕셔너리로 변환하라. keys를 키로, vals를 값으로 result 이름의 딕셔너리로 저장한다.\n",
    "```\n",
    "keys = (\"apple\", \"pear\", \"peach\")\n",
    "vals = (300, 250, 400)\n",
    "```\n",
    "```\n",
    "실행 예시:\n",
    ">> print(result)\n",
    "{'apple': 300, 'pear': 250, 'peach': 400}\n",
    "```"
   ]
  },
  {
   "cell_type": "code",
   "execution_count": 51,
   "id": "5bcebe47",
   "metadata": {
    "ExecuteTime": {
     "end_time": "2023-11-27T13:29:16.974571Z",
     "start_time": "2023-11-27T13:29:16.967764Z"
    }
   },
   "outputs": [
    {
     "name": "stdout",
     "output_type": "stream",
     "text": [
      "{'apple': 300, 'pear': 250, 'peach': 400} <class 'dict'>\n"
     ]
    }
   ],
   "source": [
    "keys = (\"apple\", \"pear\", \"peach\")\n",
    "vals = (300, 250, 400)\n",
    "result = dict(zip(keys, vals))\n",
    "print(result, type(result))"
   ]
  },
  {
   "cell_type": "markdown",
   "id": "e3f7ec85",
   "metadata": {},
   "source": [
    "### 100. zip과 dict\n",
    "date와 close_price 두 개의 리스트를 close_table 이름의 딕셔너리로 생성하라.\n",
    "```\n",
    "date = ['09/05', '09/06', '09/07', '09/08', '09/09']\n",
    "close_price = [10500, 10300, 10100, 10800, 11000]\n",
    "```\n",
    "```\n",
    "실행 예시:\n",
    ">> print(close_table)\n",
    "{'09/05': 10500, '09/06': 10300, '09/07': 10100, '09/08': 10800, '09/09': 11000}\n",
    "```"
   ]
  },
  {
   "cell_type": "code",
   "execution_count": 52,
   "id": "42e24b00",
   "metadata": {
    "ExecuteTime": {
     "end_time": "2023-11-27T13:30:58.691072Z",
     "start_time": "2023-11-27T13:30:58.682604Z"
    }
   },
   "outputs": [
    {
     "name": "stdout",
     "output_type": "stream",
     "text": [
      "{'09/05': 10500, '09/06': 10300, '09/07': 10100, '09/08': 10800, '09/09': 11000} <class 'dict'>\n"
     ]
    }
   ],
   "source": [
    "date = ['09/05', '09/06', '09/07', '09/08', '09/09']\n",
    "close_price = [10500, 10300, 10100, 10800, 11000]\n",
    "close_table = dict(zip(date, close_price))\n",
    "print(close_table, type(close_table))"
   ]
  },
  {
   "cell_type": "markdown",
   "id": "68e7907c",
   "metadata": {},
   "source": [
    "### 101. boolean\n",
    "파이썬에서 True 혹은 False를 갖는 데이터 타입은 무엇인가?"
   ]
  },
  {
   "cell_type": "markdown",
   "id": "f8d028c4",
   "metadata": {},
   "source": [
    "boolean, 'bool' 타입"
   ]
  },
  {
   "cell_type": "markdown",
   "id": "43dfc449",
   "metadata": {},
   "source": [
    "### 102. 비교연산자\n",
    "아래 코드의 출력 결과를 예상하라\n",
    "```\n",
    "print(3 == 5)\n",
    "```"
   ]
  },
  {
   "cell_type": "markdown",
   "id": "ec897c34",
   "metadata": {},
   "source": [
    "False"
   ]
  },
  {
   "cell_type": "markdown",
   "id": "96bb4e29",
   "metadata": {},
   "source": [
    "### 103. 비교연산자\n",
    "아래 코드의 출력 결과를 예상하라\n",
    "```\n",
    "print(3 < 5)\n",
    "```"
   ]
  },
  {
   "cell_type": "markdown",
   "id": "8ce731d7",
   "metadata": {},
   "source": [
    "True"
   ]
  },
  {
   "cell_type": "markdown",
   "id": "7a42a975",
   "metadata": {},
   "source": [
    "### 104. 비교연산자\n",
    "아래 코드의 결과를 예상하라.\n",
    "```\n",
    "x = 4\n",
    "print(1 < x < 5)\n",
    "```"
   ]
  },
  {
   "cell_type": "markdown",
   "id": "e6a9c1ab",
   "metadata": {},
   "source": [
    "True"
   ]
  },
  {
   "cell_type": "markdown",
   "id": "bd2c86b6",
   "metadata": {},
   "source": [
    "### 105. 비교연산자\n",
    "아래 코드의 결과를 예상하라.\n",
    "```\n",
    "print ((3 == 3) and (4 != 3))\n",
    "```"
   ]
  },
  {
   "cell_type": "markdown",
   "id": "b507df26",
   "metadata": {
    "ExecuteTime": {
     "end_time": "2023-11-28T09:08:30.557551Z",
     "start_time": "2023-11-28T09:08:30.538263Z"
    }
   },
   "source": [
    "True"
   ]
  },
  {
   "cell_type": "markdown",
   "id": "ab83715a",
   "metadata": {},
   "source": [
    "### 106. 비교연산자\n",
    "아래 코드에서 에러가 발생하는 원인에 대해 설명하라.\n",
    "```\n",
    "print(3 => 4)\n",
    "```"
   ]
  },
  {
   "cell_type": "markdown",
   "id": "f4810f65",
   "metadata": {},
   "source": [
    "비교연산자를 입력할 때에는 '='은 '>', '<' 뒤에 위치해야 한다."
   ]
  },
  {
   "cell_type": "markdown",
   "id": "6c7c0981",
   "metadata": {},
   "source": [
    "### 107. if문\n",
    "아래 코드의 출력 결과를 예상하라\n",
    "```\n",
    "if 4 < 3:\n",
    "    print(\"Hello World\")\n",
    "```"
   ]
  },
  {
   "cell_type": "markdown",
   "id": "89c397a3",
   "metadata": {},
   "source": [
    "조건절이 False이므로 아무 값도 출력되지 않는다."
   ]
  },
  {
   "cell_type": "markdown",
   "id": "25d8598b",
   "metadata": {},
   "source": [
    "### 108. if문\n",
    "아래 코드의 출력 결과를 예상하라\n",
    "```\n",
    "if 4 < 3:\n",
    "    print(\"Hello World.\")\n",
    "else:\n",
    "    print(\"Hi, there.\")\n",
    "```"
   ]
  },
  {
   "cell_type": "markdown",
   "id": "bda32100",
   "metadata": {},
   "source": [
    "조건절이 False이므로 else에 적힌 \"Hi, there.\" 이라는 문자열이 출력된다."
   ]
  },
  {
   "cell_type": "markdown",
   "id": "34ffc366",
   "metadata": {},
   "source": [
    "### 109. if문\n",
    "아래 코드의 출력 결과를 예상하라\n",
    "```\n",
    "if True :\n",
    "    print (\"1\")\n",
    "    print (\"2\")\n",
    "else :\n",
    "    print(\"3\")\n",
    "print(\"4\")\n",
    "```"
   ]
  },
  {
   "cell_type": "markdown",
   "id": "b040572b",
   "metadata": {
    "ExecuteTime": {
     "end_time": "2023-11-28T09:04:16.899327Z",
     "start_time": "2023-11-28T09:04:16.884729Z"
    }
   },
   "source": [
    "조건절이 True이므로, 1과 2가 출력되고, 조건문 밖의 `print(\"4\")`가 실행되어 4도 출력된다.\n",
    "따라서 1, 2, 4가 출력된다."
   ]
  },
  {
   "cell_type": "markdown",
   "id": "d2ffc22f",
   "metadata": {},
   "source": [
    "### 110. if문\n",
    "아래 코드의 출력 결과를 예상하라\n",
    "```\n",
    "if True :\n",
    "    if False:\n",
    "        print(\"1\")\n",
    "        print(\"2\")\n",
    "    else:\n",
    "        print(\"3\")\n",
    "else :\n",
    "    print(\"4\")\n",
    "print(\"5\")\n",
    "```"
   ]
  },
  {
   "cell_type": "markdown",
   "id": "a7be2cee",
   "metadata": {
    "ExecuteTime": {
     "end_time": "2023-11-28T09:05:23.967281Z",
     "start_time": "2023-11-28T09:05:23.957592Z"
    }
   },
   "source": [
    "첫번째 if문의 조건절이 True이므로   \n",
    "```\n",
    "if False:\n",
    "        print(\"1\")\n",
    "        print(\"2\")\n",
    "    else:\n",
    "        print(\"3\")\n",
    "```\n",
    "이 실행된다.   \n",
    "두번째 if문의 조건절이 False이므로   \n",
    "else에 적힌 `print(\"3\")`이 실행된다.   \n",
    "마지막으로 if문 바깥의 `print(\"5\")`가 실행된다.   \n",
    "   \n",
    "따라서 3, 5가 출력된다."
   ]
  },
  {
   "cell_type": "markdown",
   "id": "c9e43617",
   "metadata": {},
   "source": [
    "### 111. input\n",
    "사용자로부터 입력받은 문자열을 두 번 출력하라. 아래는 사용자가 \"안녕하세요\"를 입력한 경우의 출력 결과이다.\n",
    "```\n",
    ">> 안녕하세요\n",
    "안녕하세요안녕하세요\n",
    "```"
   ]
  },
  {
   "cell_type": "code",
   "execution_count": 1,
   "id": "cdac29e9",
   "metadata": {
    "ExecuteTime": {
     "end_time": "2023-11-28T10:48:43.640334Z",
     "start_time": "2023-11-28T10:48:35.150761Z"
    }
   },
   "outputs": [
    {
     "name": "stdout",
     "output_type": "stream",
     "text": [
      "입력란: 안녕하세요\n",
      "안녕하세요안녕하세요\n"
     ]
    }
   ],
   "source": [
    "text = input(\"입력란: \")\n",
    "print(text * 2)"
   ]
  },
  {
   "cell_type": "markdown",
   "id": "b9140f10",
   "metadata": {},
   "source": [
    "### 112. input\n",
    "사용자로부터 하나의 숫자를 입력받고, 입력 받은 숫자에 10을 더해 출력하라.\n",
    "```\n",
    ">> 숫자를 입력하세요: 30\n",
    "40\n",
    "```"
   ]
  },
  {
   "cell_type": "code",
   "execution_count": 2,
   "id": "18a74607",
   "metadata": {
    "ExecuteTime": {
     "end_time": "2023-11-28T10:48:50.748882Z",
     "start_time": "2023-11-28T10:48:46.232080Z"
    }
   },
   "outputs": [
    {
     "name": "stdout",
     "output_type": "stream",
     "text": [
      "숫자를 입력해주세요: 30\n",
      "40\n"
     ]
    }
   ],
   "source": [
    "number = input(\"숫자를 입력해주세요: \")\n",
    "print(int(number) + 10)"
   ]
  },
  {
   "cell_type": "markdown",
   "id": "07baf8e6",
   "metadata": {},
   "source": [
    "### 113. if문\n",
    "사용자로부터 하나의 숫자를 입력 받고 짝수/홀수를 판별하라.\n",
    "```\n",
    ">> 30\n",
    "짝수\n",
    "```"
   ]
  },
  {
   "cell_type": "code",
   "execution_count": 4,
   "id": "eb3f3623",
   "metadata": {
    "ExecuteTime": {
     "end_time": "2023-11-28T10:52:42.997615Z",
     "start_time": "2023-11-28T10:52:37.388960Z"
    }
   },
   "outputs": [
    {
     "name": "stdout",
     "output_type": "stream",
     "text": [
      "숫자를 입력해주세요: 33\n",
      "홀수\n"
     ]
    }
   ],
   "source": [
    "number = int(input(\"숫자를 입력해주세요: \"))\n",
    "if number % 2 == 1:\n",
    "    print(\"홀수\")\n",
    "else:\n",
    "    print(\"짝수\")"
   ]
  },
  {
   "cell_type": "markdown",
   "id": "cf8d208b",
   "metadata": {},
   "source": [
    "### 114. if문\n",
    "사용자로부터 값을 입력받은 후 해당 값에 20을 더한 값을 출력하라. 단 사용자가 입력한 값과 20을 더한 계산 값이 255를 초과하는 경우 255를 출력해야 한다.\n",
    "```\n",
    ">> 입력값: 200\n",
    "출력값: 220\n",
    "```\n",
    "```\n",
    ">> 입력값: 240\n",
    "출력값: 255\n",
    "```"
   ]
  },
  {
   "cell_type": "code",
   "execution_count": 5,
   "id": "dd09ff58",
   "metadata": {
    "ExecuteTime": {
     "end_time": "2023-11-28T10:56:35.606916Z",
     "start_time": "2023-11-28T10:56:30.152137Z"
    }
   },
   "outputs": [
    {
     "name": "stdout",
     "output_type": "stream",
     "text": [
      "숫자를 입력해주세요: 240\n",
      "255\n"
     ]
    }
   ],
   "source": [
    "number = int(input(\"숫자를 입력해주세요: \"))\n",
    "if number + 20 > 255:\n",
    "    print(255)\n",
    "else:\n",
    "    pirnt(number + 20)"
   ]
  },
  {
   "cell_type": "markdown",
   "id": "c5f1f195",
   "metadata": {},
   "source": [
    "### 115. elif문\n",
    "사용자로부터 하나의 값을 입력받은 후 해당 값에 20을 뺀 값을 출력하라. 단 출력 값의 범위는 0~255이다. 예를 들어 결괏값이 0보다 작은 값이되는 경우 0을 출력하고 255보다 큰 값이 되는 경우 255를 출력해야 한다.\n",
    "```\n",
    ">> 입력값: 200\n",
    "출력값: 180\n",
    "```\n",
    "```\n",
    ">> 입력값: 15\n",
    "출력값: 0\n",
    "```"
   ]
  },
  {
   "cell_type": "code",
   "execution_count": 6,
   "id": "86468ef6",
   "metadata": {
    "ExecuteTime": {
     "end_time": "2023-11-28T11:01:33.657774Z",
     "start_time": "2023-11-28T11:01:29.833018Z"
    }
   },
   "outputs": [
    {
     "name": "stdout",
     "output_type": "stream",
     "text": [
      "숫자를 입력해주세요: 21\n",
      "1\n"
     ]
    }
   ],
   "source": [
    "number = int(input(\"숫자를 입력해주세요: \"))\n",
    "if number - 20 > 255:\n",
    "    print(255)\n",
    "elif number - 20 > 0:\n",
    "    print(number - 20)\n",
    "else:\n",
    "    print(0)"
   ]
  },
  {
   "cell_type": "markdown",
   "id": "6317cd8d",
   "metadata": {},
   "source": [
    "### 116. if문\n",
    "사용자로부터 입력 받은 시간이 정각인지 판별하라.\n",
    "```\n",
    ">> 현재시간:02:00\n",
    "정각 입니다.\n",
    "```\n",
    "```\n",
    ">> 현재시간:03:10\n",
    "정각이 아닙니다.\n",
    "```"
   ]
  },
  {
   "cell_type": "code",
   "execution_count": 15,
   "id": "08d62cb6",
   "metadata": {
    "ExecuteTime": {
     "end_time": "2023-11-28T11:36:46.141979Z",
     "start_time": "2023-11-28T11:36:39.915539Z"
    }
   },
   "outputs": [
    {
     "name": "stdout",
     "output_type": "stream",
     "text": [
      "시간을 입력해주세요: 10:00\n",
      "정각 입니다.\n"
     ]
    }
   ],
   "source": [
    "time = input('시간을 입력해주세요: ')\n",
    "if time[-2:] == \"00\":\n",
    "    print(\"정각 입니다.\")\n",
    "else:\n",
    "    print(\"정각이 아닙니다.\")"
   ]
  },
  {
   "cell_type": "markdown",
   "id": "70792244",
   "metadata": {},
   "source": [
    "### 117. in/not in\n",
    "사용자로 입력받은 단어가 아래 fruit 리스트에 포함되어 있는지를 확인하라. 포함되었다면 \"정답입니다\"를 아닐 경우 \"오답입니다\" 출력하라.\n",
    "```\n",
    "fruit = [\"사과\", \"포도\", \"홍시\"]\n",
    "```\n",
    "```\n",
    ">> 좋아하는 과일은? 사과\n",
    "정답입니다.\n",
    "```"
   ]
  },
  {
   "cell_type": "code",
   "execution_count": 7,
   "id": "0be19b5a",
   "metadata": {
    "ExecuteTime": {
     "end_time": "2023-11-28T11:19:21.822835Z",
     "start_time": "2023-11-28T11:19:18.266454Z"
    }
   },
   "outputs": [
    {
     "name": "stdout",
     "output_type": "stream",
     "text": [
      "과일 이름을 입력해주세요: 포도\n",
      "정답입니다\n"
     ]
    }
   ],
   "source": [
    "text = input(\"과일 이름을 입력해주세요: \")\n",
    "fruit = [\"사과\", \"포도\", \"홍시\"]\n",
    "if text in fruit:\n",
    "    print(\"정답입니다\")\n",
    "else:\n",
    "    print(\"오답입니다\")"
   ]
  },
  {
   "cell_type": "markdown",
   "id": "2df973b0",
   "metadata": {},
   "source": [
    "### 118. in/not in\n",
    "투자 경고 종목 리스트가 있을 때 사용자로부터 종목명을 입력 받은 후 해당 종목이 투자 경고 종목이라면 '투자 경고 종목입니다'를 아니면 \"투자 경고 종목이 아닙니다.\"를 출력하는 프로그램을 작성하라.\n",
    "```\n",
    "warn_investment_list = [\"Microsoft\", \"Google\", \"Naver\", \"Kakao\", \"SAMSUNG\", \"LG\"]\n",
    "```"
   ]
  },
  {
   "cell_type": "code",
   "execution_count": 8,
   "id": "90919181",
   "metadata": {
    "ExecuteTime": {
     "end_time": "2023-11-28T11:21:04.695089Z",
     "start_time": "2023-11-28T11:20:57.556636Z"
    }
   },
   "outputs": [
    {
     "name": "stdout",
     "output_type": "stream",
     "text": [
      "투자 종목명을 입력해주세요: google\n",
      "투자 경고 종목이 아닙니다\n"
     ]
    }
   ],
   "source": [
    "text = input(\"투자 종목명을 입력해주세요: \")\n",
    "warn_investment_list = [\"Microsoft\", \"Google\", \"Naver\", \"Kakao\", \"SAMSUNG\", \"LG\"]\n",
    "if text in warn_investment_list:\n",
    "    print(\"투자 경고 종목입니다\")\n",
    "else:\n",
    "    print(\"투자 경고 종목이 아닙니다\")"
   ]
  },
  {
   "cell_type": "markdown",
   "id": "cb131e0f",
   "metadata": {},
   "source": [
    "### 119. in/not in\n",
    "아래와 같이 fruit 딕셔너리가 정의되어 있다. 사용자가 입력한 값이 딕셔너리 키 (key) 값에 포함되었다면 \"정답입니다\"를 아닐 경우 \"오답입니다\" 출력하라.\n",
    "```\n",
    "fruit = {\"봄\" : \"딸기\", \"여름\" : \"토마토\", \"가을\" : \"사과\"}\n",
    "```\n",
    "```\n",
    ">> 제가 좋아하는 계절은: 봄\n",
    "정답입니다.\n",
    "```"
   ]
  },
  {
   "cell_type": "code",
   "execution_count": 12,
   "id": "69b3c1af",
   "metadata": {
    "ExecuteTime": {
     "end_time": "2023-11-28T11:28:09.860792Z",
     "start_time": "2023-11-28T11:28:03.707092Z"
    }
   },
   "outputs": [
    {
     "name": "stdout",
     "output_type": "stream",
     "text": [
      "제가 좋아하는 계절은: 봄\n",
      "정답입니다\n"
     ]
    }
   ],
   "source": [
    "text = input(\"제가 좋아하는 계절은: \")\n",
    "season = {\"봄\" : \"딸기\", \"여름\" : \"토마토\", \"가을\" : \"사과\"}\n",
    "if text in season.keys():\n",
    "    print(\"정답입니다\")\n",
    "else:\n",
    "    print(\"오답입니다\")\n",
    "    \n",
    "# key의 경우, keys()를 사용하지 않아도 비교할 수 있음. value는 아님"
   ]
  },
  {
   "cell_type": "markdown",
   "id": "144cf8fd",
   "metadata": {},
   "source": [
    "### 120. in/not in\n",
    "아래와 같이 fruit 딕셔너리가 정의되어 있다. 사용자가 입력한 값이 딕셔너리 값 (value)에 포함되었다면 \"정답입니다\"를 아닐 경우 \"오답입니다\" 출력하라.\n",
    "```\n",
    "fruit = {\"봄\" : \"딸기\", \"여름\" : \"토마토\", \"가을\" : \"사과\"}\n",
    "```\n",
    "```\n",
    ">> 좋아하는과일은? 한라봉\n",
    "오답입니다.\n",
    "```"
   ]
  },
  {
   "cell_type": "code",
   "execution_count": 11,
   "id": "c3a3c17e",
   "metadata": {
    "ExecuteTime": {
     "end_time": "2023-11-28T11:27:10.599393Z",
     "start_time": "2023-11-28T11:27:04.373750Z"
    }
   },
   "outputs": [
    {
     "name": "stdout",
     "output_type": "stream",
     "text": [
      "제가 좋아하는 계절은: 오이\n",
      "오답입니다\n"
     ]
    }
   ],
   "source": [
    "text = input(\"제가 좋아하는 계절은: \")\n",
    "fruit = {\"봄\" : \"딸기\", \"여름\" : \"토마토\", \"가을\" : \"사과\"}\n",
    "if text in fruit.values():\n",
    "    print(\"정답입니다\")\n",
    "else:\n",
    "    print(\"오답입니다\")"
   ]
  },
  {
   "cell_type": "markdown",
   "id": "d0f3db5d",
   "metadata": {},
   "source": [
    "### 121. \n",
    "사용자로부터 문자 한 개를 입력 받고, 소문자일 경우 대문자로, 대문자 일 경우, 소문자로 변경해서 출력하라.\n",
    "```\n",
    ">> a\n",
    "A\n",
    "```\n",
    "힌트-1 : islower() 함수는 문자의 소문자 여부를 판별합니다. 만약 소문자일 경우 True, 대문자일 경우 False를 반환합니다.   \n",
    "힌트-2 : upper() 함수는 대문자로, lower() 함수는 소문자로 변경합니다."
   ]
  },
  {
   "cell_type": "code",
   "execution_count": 18,
   "id": "da644bc4",
   "metadata": {
    "ExecuteTime": {
     "end_time": "2023-11-28T11:47:12.649396Z",
     "start_time": "2023-11-28T11:47:06.069615Z"
    }
   },
   "outputs": [
    {
     "name": "stdout",
     "output_type": "stream",
     "text": [
      "한개의 알파벳을 입력해주세요: B\n",
      "b\n"
     ]
    }
   ],
   "source": [
    "alphabet = input('한개의 알파벳을 입력해주세요: ')\n",
    "if alphabet.islower():\n",
    "    print(alphabet.upper())\n",
    "else:\n",
    "    print(alphabet.lower())"
   ]
  },
  {
   "cell_type": "markdown",
   "id": "c1894c36",
   "metadata": {},
   "source": [
    "### 122. \n",
    "점수 구간에 해당하는 학점이 아래와 같이 정의되어 있다. 사용자로부터 score를 입력받아 학점을 출력하라.\n",
    "\n",
    "점수|학점\n",
    "---|---\n",
    "81~100|A\n",
    "61~80|B\n",
    "41~60|C\n",
    "21~40|D\n",
    "0~20|E\n",
    "```\n",
    ">> score: 83\n",
    "grade is A\n",
    "```"
   ]
  },
  {
   "cell_type": "code",
   "execution_count": 23,
   "id": "324a2afa",
   "metadata": {
    "ExecuteTime": {
     "end_time": "2023-11-28T12:21:33.701543Z",
     "start_time": "2023-11-28T12:21:31.591380Z"
    }
   },
   "outputs": [
    {
     "name": "stdout",
     "output_type": "stream",
     "text": [
      "점수를 입력해주세요: 88\n",
      "A\n"
     ]
    }
   ],
   "source": [
    "score = int(input('점수를 입력해주세요: '))\n",
    "if score >= 81:\n",
    "    print('A')\n",
    "elif score >= 61:\n",
    "    print('B')\n",
    "elif score >= 41:\n",
    "    print('C')\n",
    "elif score >= 21:\n",
    "    print('D')\n",
    "else:\n",
    "    print('E')"
   ]
  },
  {
   "cell_type": "markdown",
   "id": "1d1d7648",
   "metadata": {},
   "source": [
    "### 123.\n",
    "사용자로부터 달러, 엔, 유로, 또는 위안 금액을 입력받은 후 이를 원으로 변환하는 프로그램을 작성하라. 각 통화별 환율은 다음과 같다. 사용자는 100 달러, 1000 엔, 13 유로, 100 위안과 같이 금액과 통화명 사이에 공백을 넣어 입력한다고 가정한다.\n",
    "\n",
    "통화명|환율\n",
    "---|---\n",
    "달러|1167\n",
    "엔|1.096\n",
    "유로|1268\n",
    "위안|171\n",
    "```\n",
    ">> 입력: 100 달러\n",
    "116700.00 원\n",
    "```"
   ]
  },
  {
   "cell_type": "code",
   "execution_count": 25,
   "id": "27825cc4",
   "metadata": {
    "ExecuteTime": {
     "end_time": "2023-11-28T12:43:30.579514Z",
     "start_time": "2023-11-28T12:43:25.246606Z"
    }
   },
   "outputs": [
    {
     "name": "stdout",
     "output_type": "stream",
     "text": [
      "금액을 입력해주세요: 100 유로\n",
      "126800 원\n"
     ]
    }
   ],
   "source": [
    "money = input(\"금액을 입력해주세요: \")\n",
    "splited = money.split(' ') \n",
    "if splited[1] == '달러':\n",
    "    print(int(splited[0]) * 1167, '원')\n",
    "elif splited[1] == '엔':\n",
    "    print(int(splited[0]) * 1.096, '원')\n",
    "elif splited[1] == '유로':\n",
    "    print(int(splited[0]) * 1268, '원')\n",
    "elif splited[1] == '위안':\n",
    "    print(int(splited[0]) * 171, '원')\n",
    "else:\n",
    "    print('환율 계산이 불가한 입력값입니다.')"
   ]
  },
  {
   "cell_type": "markdown",
   "id": "7b534eae",
   "metadata": {},
   "source": [
    "### 124.\n",
    "사용자로부터 세 개의 숫자를 입력 받은 후 가장 큰 숫자를 출력하라.\n",
    "```\n",
    ">> input number1: 10\n",
    ">> input number2: 9\n",
    ">> input number3: 20\n",
    "20\n",
    "```"
   ]
  },
  {
   "cell_type": "code",
   "execution_count": 26,
   "id": "9142ab14",
   "metadata": {
    "ExecuteTime": {
     "end_time": "2023-11-28T12:51:06.805596Z",
     "start_time": "2023-11-28T12:51:03.009266Z"
    }
   },
   "outputs": [
    {
     "name": "stdout",
     "output_type": "stream",
     "text": [
      "input number1: 5\n",
      "input number2: 1\n",
      "input number3: 8\n",
      "8\n"
     ]
    }
   ],
   "source": [
    "num1 = int(input(\"input number1: \"))\n",
    "num2 = int(input(\"input number2: \"))\n",
    "num3 = int(input(\"input number3: \"))\n",
    "\n",
    "print(max(num1, num2, num3))"
   ]
  },
  {
   "cell_type": "code",
   "execution_count": null,
   "id": "3508a6bd",
   "metadata": {},
   "outputs": [],
   "source": []
  },
  {
   "cell_type": "markdown",
   "id": "b5fa4519",
   "metadata": {},
   "source": [
    "### 125.\n",
    "휴대폰 번호 앞자리에 따라 통신사는 아래와 같이 구분된다. 사용자로부터 휴대전화 번호를 입력 받고, 통신사를 출력하는 프로그램을 작성하라.\n",
    "\n",
    "번호|통신사\n",
    "---|---\n",
    "011|SKT\n",
    "016|KT\n",
    "019|LGU\n",
    "010|알수없음\n",
    "```\n",
    ">> 휴대전화 번호 입력: 011-345-1922\n",
    "당신은 SKT 사용자입니다.\n",
    "```"
   ]
  },
  {
   "cell_type": "code",
   "execution_count": 2,
   "id": "1d998acf",
   "metadata": {
    "ExecuteTime": {
     "end_time": "2023-11-28T13:25:20.396183Z",
     "start_time": "2023-11-28T13:25:16.512073Z"
    }
   },
   "outputs": [
    {
     "name": "stdout",
     "output_type": "stream",
     "text": [
      "휴대전화 번호를 입력해주세요: 010-111-1111\n",
      "알수없음\n"
     ]
    }
   ],
   "source": [
    "phone = input('휴대전화 번호를 입력해주세요: ').split('-')\n",
    "if phone[0] == '011':\n",
    "    print('당신은 SKT 사용자입니다.')\n",
    "elif phone[0] == '016':\n",
    "    print('당신은 KT 사용자입니다.')\n",
    "elif phone[0] == '019':\n",
    "    print('당신은 LGU 사용자입니다.')\n",
    "elif phone[0] == '010':\n",
    "    print('알수없음')"
   ]
  },
  {
   "cell_type": "markdown",
   "id": "3d1fda67",
   "metadata": {},
   "source": [
    "### 126.\n",
    "우편번호는 5자리로 구성되는데, 앞의 세자리는 구를 나타낸다. 예를들어, 강북구의 경우 010, 011, 012 세 자리로 시작한다.\n",
    "\n",
    "-|0|1|2|3|4|5|6|7|8|9\n",
    "---|---|---|---|---|---|---|---|---|---|---\n",
    "01|강북구|강북구|강북구|도봉구|도봉구|도봉구|노원구|노원구|노원구|노원구\n",
    "\n",
    "사용자로 부터 5자리 우편번호를 입력받고 구를 판별하라\n",
    "```\n",
    ">> 우편번호: 01400\n",
    "도봉구\n",
    "```"
   ]
  },
  {
   "cell_type": "code",
   "execution_count": 6,
   "id": "b437192a",
   "metadata": {
    "ExecuteTime": {
     "end_time": "2023-11-29T00:16:53.339028Z",
     "start_time": "2023-11-29T00:16:51.043658Z"
    }
   },
   "outputs": [
    {
     "name": "stdout",
     "output_type": "stream",
     "text": [
      "우편번호: 01234\n",
      "강북구\n"
     ]
    }
   ],
   "source": [
    "post = input('우편번호: ')\n",
    "third = int(post[2:3])\n",
    "if third in [0, 1, 2]:\n",
    "    print('강북구')\n",
    "elif third in [3, 4, 5]:\n",
    "    print('도봉구')\n",
    "else:\n",
    "    print('노원구')"
   ]
  },
  {
   "cell_type": "markdown",
   "id": "37d7481e",
   "metadata": {},
   "source": [
    "### 127.\n",
    "주민등록번호 뒷 자리 7자리 중 첫째 자리는 성별을 나타내는데, 1, 3은 남자 2, 4는 여자를 의미한다. 사용자로부터 13자리의 주민등록번호를 입력 받은 후 성별 (남자, 여자)를 출력하는 프로그램을 작성하라.\n",
    "```\n",
    ">> 주민등록번호: 821010-1635210\n",
    "남자\n",
    "```"
   ]
  },
  {
   "cell_type": "code",
   "execution_count": 7,
   "id": "cc5fc69b",
   "metadata": {
    "ExecuteTime": {
     "end_time": "2023-11-29T00:19:02.904707Z",
     "start_time": "2023-11-29T00:18:53.917364Z"
    }
   },
   "outputs": [
    {
     "name": "stdout",
     "output_type": "stream",
     "text": [
      "주민번호: 111111-34444444\n",
      "남자\n"
     ]
    }
   ],
   "source": [
    "id = input('주민번호: ')\n",
    "sex = int(id[7:8])\n",
    "if sex in [1, 3]:\n",
    "    print('남자')\n",
    "elif sex in [2, 4]:\n",
    "    print('여자')"
   ]
  },
  {
   "cell_type": "markdown",
   "id": "399d6eae",
   "metadata": {},
   "source": [
    "### 128.\n",
    "주민등록번호의 뒷 자리 7자리 중 두번째와 세번째는 지역코드를 의미한다. 주민 등록 번호를 입력 받은 후 출생지가 서울인지 아닌지 판단하는 코드를 작성하라\n",
    "\n",
    "지역코드|출생지\n",
    "---|---\n",
    "00 ~ 08|서울\n",
    "09 ~ 12|부산\n",
    "```\n",
    ">> 주민등록번호: 821010-1635210\n",
    "서울이 아닙니다.\n",
    "```\n",
    "```\n",
    ">> 주민등록번호: 861010-1015210\n",
    "서울 입니다.\n",
    "```"
   ]
  },
  {
   "cell_type": "code",
   "execution_count": 8,
   "id": "5793e007",
   "metadata": {
    "ExecuteTime": {
     "end_time": "2023-11-29T00:22:17.213329Z",
     "start_time": "2023-11-29T00:22:10.600383Z"
    }
   },
   "outputs": [
    {
     "name": "stdout",
     "output_type": "stream",
     "text": [
      "주민번호: 111111-111111\n",
      "서울이 아닙니다.\n"
     ]
    }
   ],
   "source": [
    "id = input('주민번호: ')\n",
    "region = int(id[8:10])\n",
    "if region <=8:\n",
    "    print('서울 입니다.')\n",
    "else:\n",
    "    print('서울이 아닙니다.')"
   ]
  },
  {
   "cell_type": "markdown",
   "id": "cce7859f",
   "metadata": {},
   "source": [
    "### 129.\n",
    "주민등록번호는 13자리로 구성되는데 마지막 자리수는 주민등록번호의 유효성을 체크하는데 사용된다. 먼저 앞에서부터 12자리의 숫자에 2, 3, 4, 5, 6, 7, 8, 9, 2, 3, 4, 5를 차례로 곱한 뒤 그 값을 전부 더한다. 연산 결과 값을 11로 나누면 나머지가 나오는데 11에서 나머지를 뺀 값이 주민등록번호의 마지막 번호가 된다.\n",
    "```\n",
    "  8 2 1 0 1 0 - 1 6 3 5 2 1 0\n",
    "x 2 3 4 5 6 7   8 9 2 3 4 5 \n",
    "-----------------------------\n",
    "1차 계산: (8*2 + 2*3 + 1*4 + 0*5 + 1*6 + 0*7 + 1*8 + 6*9 + 3*2 + 5*3 + 2*4 + 1*5) = (128 % 11) = 7\n",
    "2차 계산: 11 -7 = 4\n",
    "```\n",
    "위와 같이 821010-1635210에 대해서 계산을 해보면 마지막 자리는 4가 되어야 함을 알 수 있다. 즉, 821010-1635210은 유효하지 않은 주민등록번호임을 알 수 있다.\n",
    "\n",
    "다음과 같이 사용자로부터 주민등록번호를 입력받은 후 주민등록번호가 유효한지를 출력하는 프로그램을 작성하라.\n",
    "```\n",
    ">> 주민등록번호: 821010-1635210\n",
    "유효하지 않은 주민등록번호입니다.\n",
    "```"
   ]
  },
  {
   "cell_type": "code",
   "execution_count": 10,
   "id": "e3972d74",
   "metadata": {
    "ExecuteTime": {
     "end_time": "2023-11-29T00:29:33.337361Z",
     "start_time": "2023-11-29T00:29:27.457884Z"
    }
   },
   "outputs": [
    {
     "name": "stdout",
     "output_type": "stream",
     "text": [
      "주민번호: 111111-1111111\n",
      "유효하지 않은 주민등록번호입니다.\n"
     ]
    }
   ],
   "source": [
    "id = input('주민번호: ')\n",
    "check_id = int(id[0])*2 + int(id[1])*3 + int(id[2])*4 + int(id[3])*5 + int(id[4])*6 + int(id[5])*7 + int(id[7])*8 + int(id[8])*9 + int(id[9])*2 + int(id[10])*3 + int(id[11])*4 + int(id[12])*5\n",
    "if 11 - (check_id % 11) == int(id[13]):\n",
    "    print('유효한 주민등록번호입니다.')\n",
    "else:\n",
    "    print('유효하지 않은 주민등록번호입니다.')"
   ]
  },
  {
   "cell_type": "markdown",
   "id": "d206e3a7",
   "metadata": {},
   "source": [
    "### 130.\n",
    "아래 코드는 비트코인의 가격 정보를 딕셔너리로 가져오는 코드이다.\n",
    "```\n",
    "import requests\n",
    "btc = requests.get(\"https://api.bithumb.com/public/ticker/\").json()['data']\n",
    "```\n",
    "btc 딕셔너리 안에는 시가, 종가, 최고가, 최저가 등이 저장되어 있다. 최고가와 최저가의 차이를 변동폭으로 정의할 때 (시가 + 변동폭)이 최고가 보다 높을 경우 \"상승장\", 그렇지 않은 경우 \"하락장\" 문자열을 출력하라.\n",
    "\n",
    "Key Name|Description\n",
    "---|---\n",
    "opening_price|최근 24시간 내 시작 거래금액\n",
    "closing_price|최근 24시간 내 마지막 거래금액\n",
    "min_price|최근 24시간 내 최저 거래금액\n",
    "max_price|최근 24시간 내 최고 거래금액"
   ]
  },
  {
   "cell_type": "code",
   "execution_count": 11,
   "id": "25ffcbdf",
   "metadata": {
    "ExecuteTime": {
     "end_time": "2023-11-29T00:35:03.774467Z",
     "start_time": "2023-11-29T00:35:02.062436Z"
    }
   },
   "outputs": [
    {
     "name": "stdout",
     "output_type": "stream",
     "text": [
      "상승장\n"
     ]
    }
   ],
   "source": [
    "import requests\n",
    "btc = requests.get(\"https://api.bithumb.com/public/ticker/\").json()['data']\n",
    "\n",
    "high_low = float(btc['opening_price']) + (float(btc['max_price']) - float(btc['min_price']))\n",
    "if high_low > float(btc['max_price']):\n",
    "    print('상승장')\n",
    "else:\n",
    "    print('하락장')"
   ]
  },
  {
   "cell_type": "markdown",
   "id": "17267d8b",
   "metadata": {},
   "source": [
    "### 131.\n",
    "for문의 실행결과를 예측하라.\n",
    "```\n",
    "과일 = [\"사과\", \"귤\", \"수박\"]\n",
    "for 변수 in 과일:\n",
    "    print(변수)\n",
    "```"
   ]
  },
  {
   "cell_type": "markdown",
   "id": "d12a60b2",
   "metadata": {
    "ExecuteTime": {
     "end_time": "2023-11-29T12:00:14.324245Z",
     "start_time": "2023-11-29T12:00:14.315183Z"
    }
   },
   "source": [
    "사과, 귤, 수박이 순서대로 출력된다."
   ]
  },
  {
   "cell_type": "markdown",
   "id": "4f137217",
   "metadata": {},
   "source": [
    "### 132.\n",
    "for문의 실행결과를 예측하라.\n",
    "```\n",
    "과일 = [\"사과\", \"귤\", \"수박\"]\n",
    "for 변수 in 과일:\n",
    "  print(\"#####\")\n",
    "```"
   ]
  },
  {
   "cell_type": "markdown",
   "id": "48a05952",
   "metadata": {
    "ExecuteTime": {
     "end_time": "2023-11-29T12:01:15.568190Z",
     "start_time": "2023-11-29T12:01:15.562306Z"
    }
   },
   "source": [
    "print 안의 #####가 세번 출력된다."
   ]
  },
  {
   "cell_type": "markdown",
   "id": "b0c3e786",
   "metadata": {},
   "source": [
    "### 133.\n",
    "다음 for 문과 동일한 기능을 수행하는 코드를 작성하세요.\n",
    "```\n",
    "for 변수 in [\"A\", \"B\", \"C\"]:\n",
    "  print(변수)\n",
    "```"
   ]
  },
  {
   "cell_type": "markdown",
   "id": "7ac34056",
   "metadata": {
    "ExecuteTime": {
     "end_time": "2023-11-29T12:02:33.306365Z",
     "start_time": "2023-11-29T12:02:33.299405Z"
    }
   },
   "source": [
    "```\n",
    "print('A')\n",
    "print('B')\n",
    "print('C')\n",
    "```"
   ]
  },
  {
   "cell_type": "code",
   "execution_count": null,
   "id": "ee1619c4",
   "metadata": {},
   "outputs": [],
   "source": []
  }
 ],
 "metadata": {
  "hide_input": false,
  "kernelspec": {
   "display_name": "Python 3 (ipykernel)",
   "language": "python",
   "name": "python3"
  },
  "language_info": {
   "codemirror_mode": {
    "name": "ipython",
    "version": 3
   },
   "file_extension": ".py",
   "mimetype": "text/x-python",
   "name": "python",
   "nbconvert_exporter": "python",
   "pygments_lexer": "ipython3",
   "version": "3.11.5"
  },
  "toc": {
   "base_numbering": 1,
   "nav_menu": {},
   "number_sections": true,
   "sideBar": true,
   "skip_h1_title": false,
   "title_cell": "Table of Contents",
   "title_sidebar": "Contents",
   "toc_cell": false,
   "toc_position": {},
   "toc_section_display": true,
   "toc_window_display": false
  },
  "varInspector": {
   "cols": {
    "lenName": 16,
    "lenType": 16,
    "lenVar": 40
   },
   "kernels_config": {
    "python": {
     "delete_cmd_postfix": "",
     "delete_cmd_prefix": "del ",
     "library": "var_list.py",
     "varRefreshCmd": "print(var_dic_list())"
    },
    "r": {
     "delete_cmd_postfix": ") ",
     "delete_cmd_prefix": "rm(",
     "library": "var_list.r",
     "varRefreshCmd": "cat(var_dic_list()) "
    }
   },
   "types_to_exclude": [
    "module",
    "function",
    "builtin_function_or_method",
    "instance",
    "_Feature"
   ],
   "window_display": false
  }
 },
 "nbformat": 4,
 "nbformat_minor": 5
}
